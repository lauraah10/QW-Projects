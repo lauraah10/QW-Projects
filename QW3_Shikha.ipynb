{
 "cells": [
  {
   "cell_type": "code",
   "execution_count": 1,
   "id": "157471e1",
   "metadata": {},
   "outputs": [],
   "source": [
    "# Load libraries\n",
    "import os\n",
    "import email\n",
    "import pandas as pd\n"
   ]
  },
  {
   "cell_type": "code",
   "execution_count": 2,
   "id": "ad9ccb12",
   "metadata": {},
   "outputs": [
    {
     "data": {
      "text/plain": [
       "['easy_ham', 'easy_ham_2', 'hard_ham', 'spam', 'spam_2']"
      ]
     },
     "execution_count": 2,
     "metadata": {},
     "output_type": "execute_result"
    }
   ],
   "source": [
    "# List of all folders\n",
    "all_folders=os.listdir(\"./SpamAssassinMessages\")\n",
    "all_folders.remove(\".DS_Store\")\n",
    "all_folders.remove(\".ipynb_checkpoints\")\n",
    "all_folders.sort()\n",
    "all_folders"
   ]
  },
  {
   "cell_type": "code",
   "execution_count": 3,
   "id": "9fba952c",
   "metadata": {},
   "outputs": [
    {
     "name": "stdout",
     "output_type": "stream",
     "text": [
      "Print total emails:  9353\n"
     ]
    }
   ],
   "source": [
    "# Count emails\n",
    "main_=\"./SpamAssassinMessages/\"\n",
    "count=0\n",
    "for i in all_folders:\n",
    "    count+=len(os.listdir(main_+i))\n",
    "print(\"Print total emails: \",count)\n"
   ]
  },
  {
   "cell_type": "markdown",
   "id": "0aaaf5e3",
   "metadata": {},
   "source": [
    "+ interesting file ***0352.f7adb4aa267e50a8db1e4bcacfe863f3*** and file ***00341.99b463b92346291f5848137f4a253966*** are the same email"
   ]
  },
  {
   "cell_type": "markdown",
   "id": "445c9abc",
   "metadata": {},
   "source": [
    "# Parse Data"
   ]
  },
  {
   "cell_type": "code",
   "execution_count": 4,
   "id": "97f5b03a",
   "metadata": {},
   "outputs": [],
   "source": [
    "def parse_html(text_,t):\n",
    "    if \"html\" in t:\n",
    "        soup = BeautifulSoup(text_, \"html.parser\")\n",
    "        return(soup.get_text())\n",
    "    else:\n",
    "        return(text_)\n",
    "    "
   ]
  },
  {
   "cell_type": "code",
   "execution_count": 5,
   "id": "2b4566dd",
   "metadata": {},
   "outputs": [
    {
     "name": "stdout",
     "output_type": "stream",
     "text": [
      "Counter({'text/plain': 7413, 'text/html': 1193, 'multipart/alternative': 326, 'multipart/signed': 180, 'multipart/mixed': 179, 'multipart/related': 56, 'multipart/report': 5, 'text/plain charset=us-ascii': 1})\n"
     ]
    }
   ],
   "source": [
    "from collections import Counter\n",
    "from bs4 import BeautifulSoup\n",
    "\n",
    "types=Counter()\n",
    "# missed_=[]\n",
    "msjs=[]\n",
    "labels=[]\n",
    "file_names=[]\n",
    "all_list=Counter()\n",
    "count=0\n",
    "notMiss_=0\n",
    "\n",
    "for root, dirs, files in os.walk(\"SpamAssassinMessages\"):\n",
    "    for f in files:\n",
    "        if f != \".DS_Store\":\n",
    "            labels.append(int(\"spam\" in root))\n",
    "            file_names.append(os.path.join(root,f))\n",
    "            \n",
    "            notMiss_=0\n",
    "            with open(os.path.join(root,f),'r',encoding='latin-1') as file_point:\n",
    "                count+=1\n",
    "                msg=email.message_from_file(file_point, )\n",
    "                type_=msg.get_content_type()\n",
    "                types[type_]+=1\n",
    "                # Multipart/report\n",
    "                if  (type(msg.get_payload())==list) and (\"text\" in msg.get_payload()[0].get_content_type()):\n",
    "                    type_=msg.get_payload()[0].get_content_type()\n",
    "                    msg=msg.get_payload()[0].get_payload()\n",
    "                    msjs.append(parse_html(msg,type_))\n",
    "                    notMiss_+=1\n",
    "                    continue\n",
    "                if type_=='multipart/signed' or type_=='multipart/mixed' or type_=='multipart/related':\n",
    "                    # first file is Multi/mixm and within the first file is txt\n",
    "                    if (msg.get_payload()[0].get_content_type()==\"multipart/mixed\") or (msg.get_payload()[0].get_content_type()==\"multipart/alternative\"):\n",
    "                        type_=msg.get_payload()[0].get_payload()[0].get_content_type()\n",
    "                        msg=msg.get_payload()[0].get_payload()[0].get_payload()\n",
    "                        msjs.append(parse_html(msg,type_))\n",
    "                        notMiss_+=1\n",
    "                        continue\n",
    "                if \"text\" in type_ or type(msg.get_payload())==str:\n",
    "                    msg=msg.get_payload()\n",
    "                    msjs.append(parse_html(msg,type_))\n",
    "                    notMiss_+=1\n",
    "                if notMiss_==0:\n",
    "                    all_list[type_]+=1\n",
    "                    msjs.append(msg)\n",
    "                    print(file_point)\n",
    "\n",
    "print(types)\n"
   ]
  },
  {
   "cell_type": "code",
   "execution_count": 6,
   "id": "ad301f7e",
   "metadata": {},
   "outputs": [
    {
     "name": "stdout",
     "output_type": "stream",
     "text": [
      "Total Emails retrieved:  9353 \n",
      " Total Emails: 9353\n"
     ]
    }
   ],
   "source": [
    "#Check q\n",
    "print(\"Total Emails retrieved: \", len(msjs),'\\n Total Emails:',count)\n"
   ]
  },
  {
   "cell_type": "code",
   "execution_count": 7,
   "id": "18f0aff7",
   "metadata": {},
   "outputs": [
    {
     "data": {
      "text/plain": [
       "Counter()"
      ]
     },
     "execution_count": 7,
     "metadata": {},
     "output_type": "execute_result"
    }
   ],
   "source": [
    "#Captures all missed emails\n",
    "all_list\n"
   ]
  },
  {
   "cell_type": "markdown",
   "id": "33b16edb",
   "metadata": {},
   "source": [
    "+ Create Data Frame"
   ]
  },
  {
   "cell_type": "code",
   "execution_count": 8,
   "id": "da60e23e",
   "metadata": {},
   "outputs": [
    {
     "data": {
      "text/html": [
       "<div>\n",
       "<style scoped>\n",
       "    .dataframe tbody tr th:only-of-type {\n",
       "        vertical-align: middle;\n",
       "    }\n",
       "\n",
       "    .dataframe tbody tr th {\n",
       "        vertical-align: top;\n",
       "    }\n",
       "\n",
       "    .dataframe thead th {\n",
       "        text-align: right;\n",
       "    }\n",
       "</style>\n",
       "<table border=\"1\" class=\"dataframe\">\n",
       "  <thead>\n",
       "    <tr style=\"text-align: right;\">\n",
       "      <th></th>\n",
       "      <th>MessageFile</th>\n",
       "      <th>Target</th>\n",
       "      <th>Emails</th>\n",
       "    </tr>\n",
       "  </thead>\n",
       "  <tbody>\n",
       "    <tr>\n",
       "      <th>0</th>\n",
       "      <td>SpamAssassinMessages/spam/00249.5f45607c1bffe8...</td>\n",
       "      <td>1</td>\n",
       "      <td>Dear Homeowner,\\n \\nInterest Rates are at thei...</td>\n",
       "    </tr>\n",
       "    <tr>\n",
       "      <th>1</th>\n",
       "      <td>SpamAssassinMessages/spam/0355.94ebf637e4bd3db...</td>\n",
       "      <td>1</td>\n",
       "      <td>Friend,Now you can copy DVD's and Games\\nhttp:...</td>\n",
       "    </tr>\n",
       "    <tr>\n",
       "      <th>2</th>\n",
       "      <td>SpamAssassinMessages/spam/0395.bb934e8b4c39d5e...</td>\n",
       "      <td>1</td>\n",
       "      <td>Pocket the newest 8 year annuity!\\t Pocket th...</td>\n",
       "    </tr>\n",
       "    <tr>\n",
       "      <th>3</th>\n",
       "      <td>SpamAssassinMessages/spam/0485.902136727883317...</td>\n",
       "      <td>1</td>\n",
       "      <td>\\nCongratulations! You Get a Free Handheld Org...</td>\n",
       "    </tr>\n",
       "    <tr>\n",
       "      <th>4</th>\n",
       "      <td>SpamAssassinMessages/spam/00373.ebe8670ac56b04...</td>\n",
       "      <td>1</td>\n",
       "      <td>ATTENTION: This is a MUST for ALL Computer Use...</td>\n",
       "    </tr>\n",
       "  </tbody>\n",
       "</table>\n",
       "</div>"
      ],
      "text/plain": [
       "                                         MessageFile  Target  \\\n",
       "0  SpamAssassinMessages/spam/00249.5f45607c1bffe8...       1   \n",
       "1  SpamAssassinMessages/spam/0355.94ebf637e4bd3db...       1   \n",
       "2  SpamAssassinMessages/spam/0395.bb934e8b4c39d5e...       1   \n",
       "3  SpamAssassinMessages/spam/0485.902136727883317...       1   \n",
       "4  SpamAssassinMessages/spam/00373.ebe8670ac56b04...       1   \n",
       "\n",
       "                                              Emails  \n",
       "0  Dear Homeowner,\\n \\nInterest Rates are at thei...  \n",
       "1  Friend,Now you can copy DVD's and Games\\nhttp:...  \n",
       "2   Pocket the newest 8 year annuity!\\t Pocket th...  \n",
       "3  \\nCongratulations! You Get a Free Handheld Org...  \n",
       "4  ATTENTION: This is a MUST for ALL Computer Use...  "
      ]
     },
     "execution_count": 8,
     "metadata": {},
     "output_type": "execute_result"
    }
   ],
   "source": [
    "data=pd.DataFrame({'MessageFile':file_names,\"Target\":labels, \"Emails\":msjs})\n",
    "data.head()"
   ]
  },
  {
   "cell_type": "markdown",
   "id": "46909f2b",
   "metadata": {},
   "source": [
    "# Cleaning the data"
   ]
  },
  {
   "cell_type": "code",
   "execution_count": 9,
   "id": "90c95002",
   "metadata": {},
   "outputs": [],
   "source": [
    "# # English stop words\n",
    "# nlp = spacy.load('en_core_web_sm')\n",
    "# stop_words = nlp.Defaults.stop_words"
   ]
  },
  {
   "cell_type": "code",
   "execution_count": 10,
   "id": "9529234b",
   "metadata": {},
   "outputs": [],
   "source": [
    "# Clean up text\n",
    "import nltk\n",
    "import numpy as np\n",
    "import contractions\n",
    "import re\n",
    "\n",
    "#Lemmatization - stemming based on POS\n",
    "\n",
    "stop_words= nltk.corpus.stopwords.words('english')\n",
    "def normalize_document(doc):\n",
    "    \"\"\"Function from our class python files to normalize text\"\"\" \n",
    "    # Expand contractions\n",
    "    doc=contractions.fix(doc.lower()) \n",
    "    # Remove HTLM section\n",
    "    doc = re.sub(r'https?://\\S+|www\\.\\S+', \" \", doc, re.I|re.A)\n",
    "    # remove special characters\\whitespaces\n",
    "    doc = re.sub(r'[^a-z]', ' ', doc)\n",
    "#     doc = re.sub(r'[^a-zA-Z]', ' ', doc, re.I|re.A)\n",
    "    # Remove tags \\n \\t\n",
    "    re.sub(r'<[^>]*>|[\\n\\t]', ' ', doc)\n",
    "#     doc = doc.lower()\n",
    "    doc = doc.strip()\n",
    "    # tokenize document\n",
    "    tokens = nltk.word_tokenize(doc)\n",
    "    # filter stopwords out of document\n",
    "    filtered_tokens = [token for token in tokens if token not in stop_words]\n",
    "    # re-create document from filtered tokens\n",
    "    doc = ' '.join(filtered_tokens)\n",
    "    return doc\n",
    "\n",
    "normalize_corpus = np.vectorize(normalize_document)\n",
    "\n",
    "#Normalize text\n",
    "cleanedEmails = normalize_corpus(data[\"Emails\"])\n"
   ]
  },
  {
   "cell_type": "code",
   "execution_count": 11,
   "id": "b5c37255",
   "metadata": {},
   "outputs": [],
   "source": [
    "data[\"Emails\"]=cleanedEmails\n"
   ]
  },
  {
   "cell_type": "code",
   "execution_count": 12,
   "id": "49e78dbf",
   "metadata": {},
   "outputs": [
    {
     "data": {
      "text/html": [
       "<div>\n",
       "<style scoped>\n",
       "    .dataframe tbody tr th:only-of-type {\n",
       "        vertical-align: middle;\n",
       "    }\n",
       "\n",
       "    .dataframe tbody tr th {\n",
       "        vertical-align: top;\n",
       "    }\n",
       "\n",
       "    .dataframe thead th {\n",
       "        text-align: right;\n",
       "    }\n",
       "</style>\n",
       "<table border=\"1\" class=\"dataframe\">\n",
       "  <thead>\n",
       "    <tr style=\"text-align: right;\">\n",
       "      <th></th>\n",
       "      <th>MessageFile</th>\n",
       "      <th>Target</th>\n",
       "      <th>Emails</th>\n",
       "    </tr>\n",
       "  </thead>\n",
       "  <tbody>\n",
       "    <tr>\n",
       "      <th>0</th>\n",
       "      <td>SpamAssassinMessages/spam/00249.5f45607c1bffe8...</td>\n",
       "      <td>1</td>\n",
       "      <td>dear homeowner interest rates lowest point yea...</td>\n",
       "    </tr>\n",
       "    <tr>\n",
       "      <th>1</th>\n",
       "      <td>SpamAssassinMessages/spam/0355.94ebf637e4bd3db...</td>\n",
       "      <td>1</td>\n",
       "      <td>friend copy dvd games backup dvd video cd r bu...</td>\n",
       "    </tr>\n",
       "    <tr>\n",
       "      <th>2</th>\n",
       "      <td>SpamAssassinMessages/spam/0395.bb934e8b4c39d5e...</td>\n",
       "      <td>1</td>\n",
       "      <td>pocket newest year annuity pocket newest year ...</td>\n",
       "    </tr>\n",
       "    <tr>\n",
       "      <th>3</th>\n",
       "      <td>SpamAssassinMessages/spam/0485.902136727883317...</td>\n",
       "      <td>1</td>\n",
       "      <td>congratulations get free handheld organizer de...</td>\n",
       "    </tr>\n",
       "    <tr>\n",
       "      <th>4</th>\n",
       "      <td>SpamAssassinMessages/spam/00373.ebe8670ac56b04...</td>\n",
       "      <td>1</td>\n",
       "      <td>attention must computer users new special pack...</td>\n",
       "    </tr>\n",
       "  </tbody>\n",
       "</table>\n",
       "</div>"
      ],
      "text/plain": [
       "                                         MessageFile  Target  \\\n",
       "0  SpamAssassinMessages/spam/00249.5f45607c1bffe8...       1   \n",
       "1  SpamAssassinMessages/spam/0355.94ebf637e4bd3db...       1   \n",
       "2  SpamAssassinMessages/spam/0395.bb934e8b4c39d5e...       1   \n",
       "3  SpamAssassinMessages/spam/0485.902136727883317...       1   \n",
       "4  SpamAssassinMessages/spam/00373.ebe8670ac56b04...       1   \n",
       "\n",
       "                                              Emails  \n",
       "0  dear homeowner interest rates lowest point yea...  \n",
       "1  friend copy dvd games backup dvd video cd r bu...  \n",
       "2  pocket newest year annuity pocket newest year ...  \n",
       "3  congratulations get free handheld organizer de...  \n",
       "4  attention must computer users new special pack...  "
      ]
     },
     "execution_count": 12,
     "metadata": {},
     "output_type": "execute_result"
    }
   ],
   "source": [
    "data.head()\n"
   ]
  },
  {
   "cell_type": "code",
   "execution_count": 13,
   "id": "c222a77e",
   "metadata": {},
   "outputs": [
    {
     "data": {
      "text/plain": [
       "'diversified underwriters services inc impaired risk case month july male non smoker face amount lbs crohn disease years major intestinal surgeries steroid therapy years diabetes hypertension diversified answer standard broker commission let us turn clients declined rated current health problems placeable life cases inst quote tm impaired risk life quotes call inst quote client get back within hours ext please fill form information name e mail phone city state broker use public dissemination want anyone receive mailings wish professional communication sent insurance professionals removed mailing list reply message instead go legal notice'"
      ]
     },
     "execution_count": 13,
     "metadata": {},
     "output_type": "execute_result"
    }
   ],
   "source": [
    "# Testing WWW. reg\n",
    "# re.sub(r'https?://\\S+|www\\.\\S+', \" \", data[\"Emails\"][30], re.I|re.A)\n",
    "data[\"Emails\"][30]"
   ]
  },
  {
   "cell_type": "code",
   "execution_count": 14,
   "id": "2ce482ce",
   "metadata": {},
   "outputs": [
    {
     "name": "stderr",
     "output_type": "stream",
     "text": [
      "/Users/lauraahumada/opt/anaconda3/envs/smuenv/lib/python3.7/site-packages/sklearn/utils/deprecation.py:87: FutureWarning: Function get_feature_names is deprecated; get_feature_names is deprecated in 1.0 and will be removed in 1.2. Please use get_feature_names_out instead.\n",
      "  warnings.warn(msg, category=FutureWarning)\n"
     ]
    }
   ],
   "source": [
    "from sklearn.feature_extraction.text import TfidfVectorizer\n",
    "\n",
    "tfidf = TfidfVectorizer()\n",
    "tfidf_matrix = tfidf.fit_transform(data[\"Emails\"])\n",
    "# Convert the matrix to a Pandas DataFrame\n",
    "df_tfidf = pd.DataFrame(tfidf_matrix.toarray(), columns=tfidf.get_feature_names())\n",
    "\n"
   ]
  },
  {
   "cell_type": "code",
   "execution_count": 15,
   "id": "af68aa8f",
   "metadata": {},
   "outputs": [
    {
     "name": "stdout",
     "output_type": "stream",
     "text": [
      "Original data shape: (9353, 3)\n",
      "Dense array shape: (9353, 79992)\n"
     ]
    }
   ],
   "source": [
    "# Compara size\n",
    "dense_array = tfidf_matrix.toarray()\n",
    "\n",
    "# Check the shapes\n",
    "print(\"Original data shape:\", np.array(data).shape)\n",
    "print(\"Dense array shape:\", dense_array.shape)"
   ]
  },
  {
   "cell_type": "code",
   "execution_count": 16,
   "id": "134b63a5",
   "metadata": {
    "scrolled": true
   },
   "outputs": [
    {
     "data": {
      "text/plain": [
       "(9353, 16526)"
      ]
     },
     "execution_count": 16,
     "metadata": {},
     "output_type": "execute_result"
    }
   ],
   "source": [
    "from nltk.corpus import words\n",
    "\n",
    "# Create a set of English words\n",
    "english_words = set(words.words())\n",
    "\n",
    "# Columns\n",
    "word_list = df_tfidf.columns\n",
    "\n",
    "# Filter non-English words\n",
    "english_word_list = [word for word in word_list if word.lower() in english_words]\n",
    "\n",
    "# print(english_word_list)\n",
    "\n",
    "df_tfidf=df_tfidf[english_word_list]\n",
    "df_tfidf.shape"
   ]
  },
  {
   "cell_type": "code",
   "execution_count": 17,
   "id": "c73ae7e8",
   "metadata": {},
   "outputs": [
    {
     "data": {
      "text/plain": [
       "16526"
      ]
     },
     "execution_count": 17,
     "metadata": {},
     "output_type": "execute_result"
    }
   ],
   "source": [
    "len(df_tfidf.columns)"
   ]
  },
  {
   "cell_type": "markdown",
   "id": "cf7f3b69",
   "metadata": {},
   "source": [
    "# Run cluster"
   ]
  },
  {
   "cell_type": "markdown",
   "id": "ac2e5fe0",
   "metadata": {},
   "source": [
    "+ We tried different parameters for DBSCAN and it did not do as good job at all unlike Agglomerative Clustering"
   ]
  },
  {
   "cell_type": "code",
   "execution_count": 25,
   "id": "37775ee2",
   "metadata": {},
   "outputs": [
    {
     "data": {
      "text/plain": [
       "DBSCAN(eps=3, min_samples=2)"
      ]
     },
     "execution_count": 25,
     "metadata": {},
     "output_type": "execute_result"
    }
   ],
   "source": [
    "from sklearn.cluster import DBSCAN\n",
    "\n",
    "clustering = DBSCAN(eps=3, min_samples=2).fit(df_tfidf)\n",
    "clustering.labels_\n",
    "clustering"
   ]
  },
  {
   "cell_type": "code",
   "execution_count": 26,
   "id": "39d4dfbb",
   "metadata": {},
   "outputs": [
    {
     "data": {
      "text/plain": [
       "Counter({0: 9353})"
      ]
     },
     "execution_count": 26,
     "metadata": {},
     "output_type": "execute_result"
    }
   ],
   "source": [
    "Counter(clustering.labels_)"
   ]
  },
  {
   "cell_type": "code",
   "execution_count": 18,
   "id": "15665f4c",
   "metadata": {},
   "outputs": [
    {
     "data": {
      "text/plain": [
       "array([0, 0, 0, ..., 0, 0, 0])"
      ]
     },
     "execution_count": 18,
     "metadata": {},
     "output_type": "execute_result"
    }
   ],
   "source": [
    "from sklearn.cluster import AgglomerativeClustering\n",
    "\n",
    "clustering = AgglomerativeClustering().fit(df_tfidf)\n",
    "clustering\n",
    "clustering.labels_"
   ]
  },
  {
   "cell_type": "code",
   "execution_count": 19,
   "id": "b2292d9a",
   "metadata": {},
   "outputs": [
    {
     "data": {
      "text/plain": [
       "Counter({0: 9043, 1: 310})"
      ]
     },
     "execution_count": 19,
     "metadata": {},
     "output_type": "execute_result"
    }
   ],
   "source": [
    "Counter(clustering.labels_)"
   ]
  },
  {
   "cell_type": "code",
   "execution_count": 20,
   "id": "04f1a3f7",
   "metadata": {},
   "outputs": [],
   "source": [
    "df_tfidf[\"ClusterLabels\"]=clustering.labels_"
   ]
  },
  {
   "cell_type": "markdown",
   "id": "73d5a3c7",
   "metadata": {},
   "source": [
    "# Classify"
   ]
  },
  {
   "cell_type": "code",
   "execution_count": 21,
   "id": "022b1cd2",
   "metadata": {},
   "outputs": [],
   "source": [
    "import numpy as np\n",
    "from sklearn.naive_bayes import CategoricalNB\n",
    "from sklearn.model_selection import train_test_split, cross_val_score\n",
    "from sklearn.metrics import accuracy_score, classification_report, confusion_matrix\n"
   ]
  },
  {
   "cell_type": "code",
   "execution_count": 22,
   "id": "5c649f3d",
   "metadata": {},
   "outputs": [],
   "source": [
    "import seaborn as sns\n",
    "target_dt=data[\"Target\"].value_counts(normalize=True)"
   ]
  },
  {
   "cell_type": "code",
   "execution_count": 23,
   "id": "a1f453c6",
   "metadata": {},
   "outputs": [
    {
     "data": {
      "image/png": "[encoded data removed]",
      "text/plain": [
       "<Figure size 432x288 with 1 Axes>"
      ]
     },
     "metadata": {
      "needs_background": "light"
     },
     "output_type": "display_data"
    }
   ],
   "source": [
    "import matplotlib.pyplot as plt\n",
    "# Create a bar plot using Seaborn\n",
    "plt.figure(figsize=(6, 4))\n",
    "ax = sns.barplot(x=target_dt.index, y=target_dt.values, palette=\"viridis\")\n",
    "plt.xlabel(\"Target Categories\")\n",
    "plt.ylabel(\"Normalized Counts\")\n",
    "plt.title(\"Normalized Value Counts of Target Categories\")\n",
    "\n",
    "# Add percentage labels on top of each bar\n",
    "for p in ax.patches:\n",
    "    height = p.get_height()\n",
    "    ax.annotate(f'{height:.1%}', (p.get_x() + p.get_width() / 2., height), ha='center', va='bottom')\n",
    "\n",
    "plt.tight_layout()\n",
    "plt.show()"
   ]
  },
  {
   "cell_type": "markdown",
   "id": "a55885a8",
   "metadata": {},
   "source": [
    "# Naive Bayes"
   ]
  },
  {
   "cell_type": "code",
   "execution_count": 24,
   "id": "767bfa9f",
   "metadata": {},
   "outputs": [],
   "source": [
    "# Simple Categorical NB\n",
    "X_train, X_test, y_train, y_test = train_test_split(df_tfidf, data[\"Target\"], test_size=0.3, shuffle=True, stratify=data[\"Target\"])"
   ]
  },
  {
   "cell_type": "code",
   "execution_count": 25,
   "id": "969be416",
   "metadata": {},
   "outputs": [],
   "source": [
    "from sklearn import metrics as mt\n",
    "\n",
    "# Function to get the metrics\n",
    "# Spam positive class\n",
    "def score_rep(model, svm=\"No\", threshold=0.25):\n",
    "    if svm==\"Yes\":\n",
    "        preds=svm_c.decision_function(X_test)>threashHold\n",
    "        prob_df=pd.DataFrame({\"prediProb\":svm_clf.decision_function(X_test_scaled), \"pred\": preds, \"actual\":y_test})\n",
    "    else:\n",
    "        preds = np.where(model.predict_proba(X_test)[:, 1] > threshold, 1, 0)\n",
    "        prob_df = pd.DataFrame({\"prediProb\": model.predict_proba(X_test)[:, 1], \"pred\": preds, \"actual\": y_test})\n",
    "        fp = prob_df[(prob_df[\"actual\"] == 0) & (prob_df[\"pred\"] == 1)].shape[0]\n",
    "        tp = prob_df[(prob_df[\"actual\"] == 1) & (prob_df[\"pred\"] == 1)].shape[0]\n",
    "        fn = prob_df[(prob_df[\"actual\"] == 1) & (prob_df[\"pred\"] == 0)].shape[0]\n",
    "        tn = prob_df[(prob_df[\"actual\"] == 0) & (prob_df[\"pred\"] == 0)].shape[0]\n",
    "\n",
    "    prec = round((tp / (fp + tp)), 3)\n",
    "    rec = round((tp / (tp + fn)), 3)\n",
    "    acc = round(((tp + tn) / (tp + fp + fn + tn)), 3)\n",
    "    f1 = round((mt.f1_score(y_test, preds)), 3)\n",
    "    auc = round((mt.roc_auc_score(y_test, model.predict_proba(X_test)[:, 1])), 3)\n",
    "\n",
    "    print('Accuracy is: %.2f, \\n Recall is: %.2f, \\n Precision is: %.2f, \\n F1 is %.2f and \\n AUC is %.2f' % (acc, rec, prec, f1, auc))\n",
    "    return preds, acc, rec, prec, f1, auc\n"
   ]
  },
  {
   "cell_type": "markdown",
   "id": "ce1e5fe3",
   "metadata": {},
   "source": [
    "### Categorical NB Does not work because we don't have categorical features\n",
    "+ CategoricalNB is designed for data with categorical features, where each feature represents a category or label. Text data represented using TF-IDF is not categorical; it is a form of continuous data where each feature represents the importance of a word or term within a document."
   ]
  },
  {
   "cell_type": "code",
   "execution_count": 28,
   "id": "9d7941b4",
   "metadata": {},
   "outputs": [],
   "source": [
    "# # Categorical NB\n",
    "# clf = CategoricalNB()\n",
    "# clf.fit(X_train, y_train)\n",
    "# pred=clf.predict(X_test)\n",
    "\n",
    "# acc, rec,prec,f1,auc=score_rep(clf,pred)\n",
    "# model_results.append([\"CategoricalNB\",acc, rec,prec,f1,auc])   \n"
   ]
  },
  {
   "cell_type": "markdown",
   "id": "32d3d6c4",
   "metadata": {},
   "source": [
    "### Bernoulli Naive Bayes is not a good model for our data\n",
    "+ Bernoulli Naive Bayes (BernoulliNB)\n",
    "\n",
    "Use Case: Appropriate for binary data where features are binary (0 or 1), representing the presence or absence of attributes.\n",
    "Data Type: Binary or Boolean data, often used in text classification where features represent the presence or absence of words.\n",
    "Assumption: Assumes that features are generated from a Bernoulli distribution."
   ]
  },
  {
   "cell_type": "code",
   "execution_count": 29,
   "id": "675109a8",
   "metadata": {},
   "outputs": [],
   "source": [
    "# from sklearn.naive_bayes import BernoulliNB\n",
    "# bernCF = BernoulliNB()\n",
    "\n",
    "# bernCF.fit(X_train, y_train)\n",
    "# pred=bernCF.predict(X_test)\n",
    "\n",
    "# acc, rec,prec,f1,auc=score_rep(bernCF,pred)\n",
    "# model_results.append([\"Bernouli Naive Bayes \",acc, rec,prec,f1,auc])\n"
   ]
  },
  {
   "cell_type": "markdown",
   "id": "2c0c6ea1",
   "metadata": {},
   "source": [
    "### The model that works for the data and shows better results\n",
    "+ Multinomial Naive Bayes (MultinomialNB)\n",
    "\n",
    "Use Case: Typically used for discrete data, such as text data represented as counts or frequencies (e.g., bag-of-words, TF-IDF).\n",
    "Data Type: Data with counts or frequencies of discrete items (e.g., word counts).\n",
    "Assumption: Assumes that features are generated from a multinomial distribution\n",
    "\n",
    "Probability Estimation: MultinomialNB estimates the conditional probability of a particular feature (term) given a class (category or label). It does this for each term and each class in the training data. The probability estimation is done using the following formula:\n",
    "\n",
    "P(x_i | y) = (N_i + alpha) / (N_y + alpha * N_features)\n",
    "\n",
    "P(x_i | y) is the conditional probability of feature x_i given class y.\n",
    "N_i is the number of times feature x_i appears in class y.\n",
    "N_y is the total count of features in class y.\n",
    "N_features is the total number of features.\n",
    "alpha is a smoothing parameter (Laplace smoothing or additive smoothing) to handle the issue of zero probabilities.\n",
    "\n",
    "Class Probability: To classify a new sample, MultinomialNB calculates the probability of the sample belonging to each class based on the conditional probabilities estimated in step 2. It uses Bayes' theorem to calculate the class probability:\n",
    "\n",
    "P(y | x) ∝ P(y) * ∏[P(x_i | y)]\n",
    "\n",
    "P(y | x) is the probability of class y given the sample x.\n",
    "P(y) is the prior probability of class y (estimated from the training data).\n",
    "P(x_i | y) is the conditional probability of feature x_i given class y.\n",
    "Classification: Finally, MultinomialNB assigns the class label that maximizes the posterior probability P(y | x). In other words, it selects the class with the highest estimated probability.\n",
    "\n",
    "Key Points:\n",
    "\n",
    "MultinomialNB assumes that features are generated from a multinomial distribution, which is suitable for count or frequency data.\n",
    "Laplace smoothing (or additive smoothing) is used to avoid zero probabilities, especially when dealing with rare events.\n",
    "It's a simple and efficient algorithm, making it suitable for large text datasets.\n",
    "MultinomialNB is a \"naive\" algorithm because it assumes that features are conditionally independent given the class, which is a simplifying assumption that may not hold in all cases.\n",
    "Overall, MultinomialNB is a powerful and widely used algorithm for text classification tasks, and it often provides good results, especially when working with text data and feature representations like TF-IDF.\n",
    "\n",
    "\n",
    "\n",
    "\n",
    "\n"
   ]
  },
  {
   "cell_type": "code",
   "execution_count": 26,
   "id": "91de90d1",
   "metadata": {},
   "outputs": [
    {
     "name": "stdout",
     "output_type": "stream",
     "text": [
      "Accuracy is: 0.97, \n",
      " Recall is: 0.93, \n",
      " Precision is: 0.97, \n",
      " F1 is 0.95 and \n",
      " AUC is 0.99\n"
     ]
    }
   ],
   "source": [
    "from sklearn.naive_bayes import MultinomialNB\n",
    "mn_NB = MultinomialNB()\n",
    "\n",
    "mn_NB.fit(X_train, y_train)\n",
    "# pred=mn_NB.predict(X_test)\n",
    "\n",
    "pred,acc, rec,prec,f1,auc=score_rep(mn_NB)\n",
    "model_results=[[\"Multinomial Naive Bayes alpha=\",acc, rec,prec,f1,auc]]\n"
   ]
  },
  {
   "cell_type": "code",
   "execution_count": 27,
   "id": "84ab7975",
   "metadata": {},
   "outputs": [
    {
     "data": {
      "text/plain": [
       "Text(0.5, 1.0, 'Confusion Matrix')"
      ]
     },
     "execution_count": 27,
     "metadata": {},
     "output_type": "execute_result"
    },
    {
     "data": {
      "image/png": "[encoded data removed]",
      "text/plain": [
       "<Figure size 432x288 with 2 Axes>"
      ]
     },
     "metadata": {
      "needs_background": "light"
     },
     "output_type": "display_data"
    }
   ],
   "source": [
    "from sklearn.metrics import ConfusionMatrixDisplay\n",
    "ConfusionMatrixDisplay.from_predictions(y_test,pred, cmap='Blues')\n",
    "plt.title('Confusion Matrix')\n"
   ]
  },
  {
   "cell_type": "code",
   "execution_count": 28,
   "id": "b26e1e0a",
   "metadata": {},
   "outputs": [
    {
     "name": "stdout",
     "output_type": "stream",
     "text": [
      "Classification Report:\n",
      "              precision    recall  f1-score   support\n",
      "\n",
      "           0       0.97      0.99      0.98      2086\n",
      "           1       0.97      0.93      0.95       720\n",
      "\n",
      "    accuracy                           0.97      2806\n",
      "   macro avg       0.97      0.96      0.97      2806\n",
      "weighted avg       0.97      0.97      0.97      2806\n",
      "\n"
     ]
    }
   ],
   "source": [
    "class_report = classification_report(y_test, pred)\n",
    "print(f'Classification Report:\\n{class_report}')\n"
   ]
  },
  {
   "cell_type": "markdown",
   "id": "5efc92bc",
   "metadata": {},
   "source": [
    "##  SVM"
   ]
  },
  {
   "cell_type": "code",
   "execution_count": 33,
   "id": "ea6a8e21",
   "metadata": {},
   "outputs": [],
   "source": [
    "from sklearn import svm\n",
    "svm_c = svm.SVC(probability=True)\n",
    "svm_c.fit(X_train, y_train)\n",
    "# pred=svm_c.predict(X_test)\n",
    "\n",
    "\n",
    "pred,acc, rec,prec,f1,auc=score_rep(svm_c,svm=\"Yes\")\n",
    "model_results.append([\"SVM Classifier \",acc, rec,prec,f1,auc])"
   ]
  },
  {
   "cell_type": "code",
   "execution_count": 34,
   "id": "b7ec83c1",
   "metadata": {},
   "outputs": [
    {
     "name": "stdout",
     "output_type": "stream",
     "text": [
      "Classification Report:\n",
      "              precision    recall  f1-score   support\n",
      "\n",
      "           0       0.98      1.00      0.99      2086\n",
      "           1       0.99      0.95      0.97       720\n",
      "\n",
      "    accuracy                           0.99      2806\n",
      "   macro avg       0.99      0.98      0.98      2806\n",
      "weighted avg       0.99      0.99      0.99      2806\n",
      "\n"
     ]
    }
   ],
   "source": [
    "class_report = classification_report(y_test, pred)\n",
    "print(f'Classification Report:\\n{class_report}')\n"
   ]
  },
  {
   "cell_type": "code",
   "execution_count": 32,
   "id": "548aa145",
   "metadata": {},
   "outputs": [
    {
     "name": "stdout",
     "output_type": "stream",
     "text": [
      "Precision: 0.94\n",
      "Recall: 0.94\n",
      "F1 Score: 0.94\n",
      "Accuracy: 0.97\n"
     ]
    }
   ],
   "source": [
    "from sklearn.datasets import make_classification\n",
    "from sklearn.model_selection import StratifiedKFold, cross_val_predict\n",
    "from sklearn.metrics import precision_score, recall_score, f1_score, accuracy_score\n",
    "classifier = MultinomialNB()\n",
    "\n",
    "threshold = 0.25\n",
    "sk_folds = StratifiedKFold(n_splits = 10)\n",
    "\n",
    "# Use cross_val_predict to get predicted probabilities\n",
    "predicted_probabilities = cross_val_predict(classifier,df_tfidf , data[\"Target\"], cv=sk_folds, method='predict_proba')\n",
    "\n",
    "# Apply the threshold to get binary predictions\n",
    "predicted_labels = (predicted_probabilities[:, 1] > threshold).astype(int)\n",
    "\n",
    "# Evaluate the model's performance with custom threshold\n",
    "precision = precision_score(data[\"Target\"], predicted_labels)\n",
    "recall = recall_score(data[\"Target\"], predicted_labels)\n",
    "f1 = f1_score(data[\"Target\"], predicted_labels)\n",
    "accuracy = accuracy_score(data[\"Target\"], predicted_labels)\n",
    "\n",
    "print(f'Precision: {precision:.2f}')\n",
    "print(f'Recall: {recall:.2f}')\n",
    "print(f'F1 Score: {f1:.2f}')\n",
    "print(f'Accuracy: {accuracy:.2f}')\n"
   ]
  },
  {
   "cell_type": "code",
   "execution_count": null,
   "id": "aaffdcd2",
   "metadata": {},
   "outputs": [],
   "source": [
    "from sklearn import svm\n",
    "from sklearn.model_selection import cross_val_predict\n",
    "from sklearn.metrics import precision_score, recall_score, f1_score, accuracy_score\n",
    "from sklearn.model_selection import StratifiedKFold\n",
    "\n",
    "\n",
    "classifier = svm.SVC(probability=True)\n",
    "\n",
    "threshold = 0.25\n",
    "sk_folds = StratifiedKFold(n_splits = 10)\n",
    "\n",
    "# Use cross_val_predict to get predicted probabilities\n",
    "predicted_probabilities = cross_val_predict(classifier,df_tfidf , data[\"Target\"], cv=sk_folds, method='predict_proba')\n",
    "\n",
    "# Apply the threshold to get binary predictions\n",
    "predicted_labels = (predicted_probabilities[:, 1] > threshold).astype(int)\n",
    "\n",
    "# Evaluate the model's performance with custom threshold\n",
    "precision = precision_score(data[\"Target\"], predicted_labels)\n",
    "recall = recall_score(data[\"Target\"], predicted_labels)\n",
    "f1 = f1_score(data[\"Target\"], predicted_labels)\n",
    "accuracy = accuracy_score(data[\"Target\"], predicted_labels)\n",
    "\n",
    "print(f'Precision: {precision:.2f}')\n",
    "print(f'Recall: {recall:.2f}')\n",
    "print(f'F1 Score: {f1:.2f}')\n",
    "print(f'Accuracy: {accuracy:.2f}')\n"
   ]
  },
  {
   "cell_type": "code",
   "execution_count": 35,
   "id": "f9ddc9d2",
   "metadata": {},
   "outputs": [
    {
     "name": "stdout",
     "output_type": "stream",
     "text": [
      "Precision: 0.95\n",
      "Recall: 0.95\n",
      "F1 Score: 0.95\n",
      "Accuracy: 0.97\n"
     ]
    }
   ],
   "source": [
    "from sklearn.model_selection import cross_val_predict\n",
    "from sklearn.metrics import precision_score, recall_score, f1_score, accuracy_score\n",
    "from sklearn.model_selection import StratifiedKFold\n",
    "\n",
    "\n",
    "classifier = svm.SVC(probability=True)\n",
    "\n",
    "threshold = 0.25\n",
    "sk_folds = StratifiedKFold(n_splits = 10)\n",
    "\n",
    "# Use cross_val_predict to get predicted probabilities\n",
    "predicted_probabilities = cross_val_predict(classifier,df_tfidf , data[\"Target\"], cv=sk_folds, method='predict_proba')\n",
    "\n",
    "# Apply the threshold to get binary predictions\n",
    "predicted_labels = (predicted_probabilities[:, 1] > threshold).astype(int)\n",
    "\n",
    "# Evaluate the model's performance with custom threshold\n",
    "precision = precision_score(data[\"Target\"], predicted_labels)\n",
    "recall = recall_score(data[\"Target\"], predicted_labels)\n",
    "f1 = f1_score(data[\"Target\"], predicted_labels)\n",
    "accuracy = accuracy_score(data[\"Target\"], predicted_labels)\n",
    "\n",
    "print(f'Precision: {precision:.2f}')\n",
    "print(f'Recall: {recall:.2f}')\n",
    "print(f'F1 Score: {f1:.2f}')\n",
    "print(f'Accuracy: {accuracy:.2f}')\n"
   ]
  },
  {
   "cell_type": "code",
   "execution_count": 37,
   "id": "9fd86b5a",
   "metadata": {},
   "outputs": [
    {
     "data": {
      "image/png": "[encoded data removed]",
      "text/plain": [
       "<Figure size 800x600 with 1 Axes>"
      ]
     },
     "metadata": {},
     "output_type": "display_data"
    }
   ],
   "source": [
    "import numpy as np\n",
    "import matplotlib.pyplot as plt\n",
    "from sklearn.metrics import roc_curve, auc\n",
    "\n",
    "# Get the predicted probabilities for the positive class (class 1)\n",
    "y_prob = svm_c.predict_proba(X_test)[:, 1]\n",
    "\n",
    "# Get different threshold values to plot ROC curves\n",
    "thresholds = [0.3, 0.5, 0.7]  # Adjust these values as needed\n",
    "\n",
    "plt.figure(figsize=(8, 6))\n",
    "\n",
    "for threshold in thresholds:\n",
    "    y_pred_adjusted = (y_prob > threshold).astype(int)\n",
    "    fpr, tpr, _ = roc_curve(y_test, y_pred_adjusted)\n",
    "    roc_auc = auc(fpr, tpr)\n",
    "    \n",
    "    plt.plot(fpr, tpr, lw=2, label=f'Threshold = {threshold:.2f} (AUC = {roc_auc:.2f})')\n",
    "\n",
    "plt.plot([0, 1], [0, 1], color='navy', lw=2, linestyle='--')\n",
    "plt.xlim([0.0, 1.0])\n",
    "plt.ylim([0.0, 1.05])\n",
    "plt.xlabel('False Positive Rate')\n",
    "plt.ylabel('True Positive Rate')\n",
    "plt.title('Receiver Operating Characteristic (ROC) Curve')\n",
    "plt.legend(loc='lower right')\n",
    "plt.show()\n"
   ]
  },
  {
   "cell_type": "code",
   "execution_count": 38,
   "id": "0053e0db",
   "metadata": {},
   "outputs": [
    {
     "data": {
      "image/png": "[encoded data removed]",
      "text/plain": [
       "<Figure size 800x600 with 1 Axes>"
      ]
     },
     "metadata": {},
     "output_type": "display_data"
    }
   ],
   "source": [
    "from sklearn.metrics import roc_curve, auc\n",
    "\n",
    "# Get the predicted probabilities for the positive class (class 1) for both classifiers\n",
    "y_prob_nb = mn_NB.predict_proba(X_test)[:, 1]\n",
    "y_prob_svm = svm_c.predict_proba(X_test)[:, 1]\n",
    "\n",
    "# Calculate the ROC curve and AUC for both classifiers\n",
    "fpr_nb, tpr_nb, _ = roc_curve(y_test, y_prob_nb)\n",
    "roc_auc_nb = auc(fpr_nb, tpr_nb)\n",
    "\n",
    "fpr_svm, tpr_svm, _ = roc_curve(y_test, y_prob_svm)\n",
    "roc_auc_svm = auc(fpr_svm, tpr_svm)\n",
    "\n",
    "plt.figure(figsize=(8, 6))\n",
    "\n",
    "# Plot ROC curves for both classifiers\n",
    "plt.plot(fpr_nb, tpr_nb, lw=2, label=f'Multinomial NB ROC Curve (AUC = {roc_auc_nb:.2f})')\n",
    "plt.plot(fpr_svm, tpr_svm, lw=2, label=f'SVM ROC Curve (AUC = {roc_auc_svm:.2f})')\n",
    "\n",
    "plt.plot([0, 1], [0, 1], color='navy', lw=2, linestyle='--')\n",
    "plt.xlim([0.0, 1.0])\n",
    "plt.ylim([0.0, 1.05])\n",
    "plt.xlabel('False Positive Rate')\n",
    "plt.ylabel('True Positive Rate')\n",
    "plt.title('Receiver Operating Characteristic (ROC) Curves')\n",
    "plt.legend(loc='lower right')\n",
    "plt.show()\n"
   ]
  },
  {
   "cell_type": "code",
   "execution_count": 39,
   "id": "acd96617",
   "metadata": {},
   "outputs": [
    {
     "data": {
      "image/png": "[encoded data removed]",
      "text/plain": [
       "<Figure size 800x600 with 1 Axes>"
      ]
     },
     "metadata": {},
     "output_type": "display_data"
    }
   ],
   "source": [
    "from sklearn.metrics import roc_curve, auc\n",
    "\n",
    "# Get the predicted probabilities for the positive class (class 1) for both classifiers\n",
    "y_prob_nb = mn_NB.predict_proba(X_test)[:, 1]\n",
    "y_prob_svm = svm_c.predict_proba(X_test)[:, 1]\n",
    "\n",
    "# Calculate the ROC curve and AUC for both classifiers\n",
    "fpr_nb, tpr_nb, _ = roc_curve(y_test, y_prob_nb)\n",
    "roc_auc_nb = auc(fpr_nb, tpr_nb)\n",
    "\n",
    "fpr_svm, tpr_svm, _ = roc_curve(y_test, y_prob_svm)\n",
    "roc_auc_svm = auc(fpr_svm, tpr_svm)\n",
    "\n",
    "plt.figure(figsize=(8, 6))\n",
    "\n",
    "# Plot ROC curves for both classifiers\n",
    "plt.plot(fpr_nb, tpr_nb, lw=2, label=f'Multinomial NB ROC Curve (AUC = {roc_auc_nb:.2f})')\n",
    "plt.plot(fpr_svm, tpr_svm, lw=2, label=f'SVM ROC Curve (AUC = {roc_auc_svm:.2f})')\n",
    "\n",
    "plt.plot([0, 1], [0, 1], color='navy', lw=2, linestyle='--')\n",
    "\n",
    "# Adjust the limits to zoom in on the top-left corner\n",
    "plt.xlim([0.0, 0.2])  # Adjust these values as needed\n",
    "plt.ylim([0.8, 1.0])  # Adjust these values as needed\n",
    "\n",
    "plt.xlabel('False Positive Rate')\n",
    "plt.ylabel('True Positive Rate')\n",
    "plt.title('Receiver Operating Characteristic (ROC) Curves (Zoomed In)')\n",
    "plt.legend(loc='lower right')\n",
    "plt.show()\n"
   ]
  },
  {
   "cell_type": "code",
   "execution_count": 40,
   "id": "578f6611",
   "metadata": {},
   "outputs": [
    {
     "name": "stdout",
     "output_type": "stream",
     "text": [
      "Average recall CV Score:  0.8442529103250369\n",
      "Average precision CV Score:  0.9465530283832461\n",
      "Average accuracy CV Score:  0.9186325928972987\n"
     ]
    }
   ],
   "source": [
    "from sklearn.model_selection import cross_validate\n",
    "\n",
    "classifier = MultinomialNB()\n",
    "\n",
    "# Running stratified kfold  cross validation with a threshold of 0.5\n",
    "scoring = ['accuracy', 'precision_macro', 'recall_macro']\n",
    "sk_folds = StratifiedKFold(n_splits = 10)\n",
    "scores = cross_validate(classifier,df_tfidf , data[\"Target\"], scoring=scoring, cv = sk_folds)\n",
    "\n",
    "print(\"Average recall CV Score: \", np.mean(scores['test_recall_macro']))\n",
    "print(\"Average precision CV Score: \", np.mean(scores['test_precision_macro']))\n",
    "print(\"Average accuracy CV Score: \", np.mean(scores['test_accuracy']))"
   ]
  },
  {
   "cell_type": "code",
   "execution_count": null,
   "id": "b2128710",
   "metadata": {},
   "outputs": [],
   "source": []
  },
  {
   "cell_type": "code",
   "execution_count": 41,
   "id": "b8dcb650",
   "metadata": {},
   "outputs": [
    {
     "ename": "NameError",
     "evalue": "name 'norm_corpus' is not defined",
     "output_type": "error",
     "traceback": [
      "\u001b[1;31m---------------------------------------------------------------------------\u001b[0m",
      "\u001b[1;31mNameError\u001b[0m                                 Traceback (most recent call last)",
      "Cell \u001b[1;32mIn[41], line 5\u001b[0m\n\u001b[0;32m      2\u001b[0m \u001b[38;5;28;01mfrom\u001b[39;00m \u001b[38;5;21;01msklearn\u001b[39;00m\u001b[38;5;21;01m.\u001b[39;00m\u001b[38;5;21;01mfeature_extraction\u001b[39;00m\u001b[38;5;21;01m.\u001b[39;00m\u001b[38;5;21;01mtext\u001b[39;00m \u001b[38;5;28;01mimport\u001b[39;00m TfidfVectorizer\n\u001b[0;32m      4\u001b[0m tf \u001b[38;5;241m=\u001b[39m TfidfVectorizer(ngram_range\u001b[38;5;241m=\u001b[39m(\u001b[38;5;241m1\u001b[39m, \u001b[38;5;241m2\u001b[39m), min_df\u001b[38;5;241m=\u001b[39m\u001b[38;5;241m2\u001b[39m)\n\u001b[1;32m----> 5\u001b[0m tfidf_matrix \u001b[38;5;241m=\u001b[39m tf\u001b[38;5;241m.\u001b[39mfit_transform(\u001b[43mnorm_corpus\u001b[49m)\n\u001b[0;32m      6\u001b[0m tfidf_matrix\u001b[38;5;241m.\u001b[39mshape\n",
      "\u001b[1;31mNameError\u001b[0m: name 'norm_corpus' is not defined"
     ]
    }
   ],
   "source": [
    "##### Vectorize the text with TFIDF vectorizer Biagram\n",
    "from sklearn.feature_extraction.text import TfidfVectorizer\n",
    "\n",
    "tf = TfidfVectorizer(ngram_range=(1, 2), min_df=2)\n",
    "tfidf_matrix = tf.fit_transform(norm_corpus)\n",
    "tfidf_matrix.shape"
   ]
  },
  {
   "cell_type": "code",
   "execution_count": null,
   "id": "5dcf3dde",
   "metadata": {},
   "outputs": [],
   "source": [
    "from sklearn.model_selection import cross_validate\n",
    "from sklearn.model_selection import StratifiedKFold, cross_validate\n",
    "from sklearn.naive_bayes import CategoricalNB\n",
    "from sklearn.metrics import accuracy_score, classification_report, confusion_matrix\n",
    "import warnings\n",
    "\n",
    "warnings.filterwarnings(\"ignore\")\n",
    "warnings.filterwarnings(\"default\")\n",
    "\n",
    "scoring = ['precision_macro', 'recall_macro']\n",
    "sk_folds = StratifiedKFold(n_splits = 10)\n",
    "\n",
    "\n",
    "clf = CategoricalNB()\n",
    "cl1 = cross_validate(clf, df_tfidf, data[\"Target\"],  scoring=scoring, cv = sk_folds)\n",
    "\n",
    "print(np.mean(cl1['test_recall_macro']))\n",
    "print(np.mean(cl1['test_precision_macro']))\n",
    "    "
   ]
  },
  {
   "cell_type": "code",
   "execution_count": null,
   "id": "13934dcd",
   "metadata": {},
   "outputs": [],
   "source": [
    "\n"
   ]
  }
 ],
 "metadata": {
  "kernelspec": {
   "display_name": "smuenv",
   "language": "python",
   "name": "smuenv"
  },
  "language_info": {
   "codemirror_mode": {
    "name": "ipython",
    "version": 3
   },
   "file_extension": ".py",
   "mimetype": "text/x-python",
   "name": "python",
   "nbconvert_exporter": "python",
   "pygments_lexer": "ipython3",
   "version": "3.7.13"
  }
 },
 "nbformat": 4,
 "nbformat_minor": 5
}
