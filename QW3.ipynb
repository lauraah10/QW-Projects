{
 "cells": [
  {
   "cell_type": "code",
   "execution_count": 2,
   "id": "157471e1",
   "metadata": {},
   "outputs": [],
   "source": [
    "# Load libraries\n",
    "import os\n",
    "import email\n",
    "import pandas as pd\n"
   ]
  },
  {
   "cell_type": "code",
   "execution_count": 3,
   "id": "ad9ccb12",
   "metadata": {},
   "outputs": [
    {
     "data": {
      "text/plain": [
       "['easy_ham', 'easy_ham_2', 'hard_ham', 'spam', 'spam_2']"
      ]
     },
     "execution_count": 3,
     "metadata": {},
     "output_type": "execute_result"
    }
   ],
   "source": [
    "# List of all folders\n",
    "all_folders=os.listdir(\"./SpamAssassinMessages\")\n",
    "all_folders.remove(\".DS_Store\")\n",
    "all_folders.remove(\".ipynb_checkpoints\")\n",
    "all_folders.sort()\n",
    "all_folders"
   ]
  },
  {
   "cell_type": "code",
   "execution_count": 4,
   "id": "9fba952c",
   "metadata": {},
   "outputs": [
    {
     "name": "stdout",
     "output_type": "stream",
     "text": [
      "Print total emails:  9353\n"
     ]
    }
   ],
   "source": [
    "# Count emails\n",
    "main_=\"./SpamAssassinMessages/\"\n",
    "count=0\n",
    "for i in all_folders:\n",
    "    count+=len(os.listdir(main_+i))\n",
    "print(\"Print total emails: \",count)\n"
   ]
  },
  {
   "cell_type": "markdown",
   "id": "0aaaf5e3",
   "metadata": {},
   "source": [
    "+ interesting file ***0352.f7adb4aa267e50a8db1e4bcacfe863f3*** and file ***00341.99b463b92346291f5848137f4a253966*** are the same email"
   ]
  },
  {
   "cell_type": "markdown",
   "id": "445c9abc",
   "metadata": {},
   "source": [
    "# Parse Data"
   ]
  },
  {
   "cell_type": "code",
   "execution_count": 5,
   "id": "97f5b03a",
   "metadata": {},
   "outputs": [],
   "source": [
    "def parse_html(text_,t):\n",
    "    if \"html\" in t:\n",
    "        soup = BeautifulSoup(text_, \"html.parser\")\n",
    "        return(soup.get_text())\n",
    "    else:\n",
    "        return(text_)\n",
    "    "
   ]
  },
  {
   "cell_type": "code",
   "execution_count": 6,
   "id": "2b4566dd",
   "metadata": {},
   "outputs": [
    {
     "name": "stdout",
     "output_type": "stream",
     "text": [
      "Counter({'text/plain': 7413, 'text/html': 1193, 'multipart/alternative': 326, 'multipart/signed': 180, 'multipart/mixed': 179, 'multipart/related': 56, 'multipart/report': 5, 'text/plain charset=us-ascii': 1})\n"
     ]
    }
   ],
   "source": [
    "from collections import Counter\n",
    "from bs4 import BeautifulSoup\n",
    "\n",
    "types=Counter()\n",
    "# missed_=[]\n",
    "msjs=[]\n",
    "labels=[]\n",
    "file_names=[]\n",
    "all_list=Counter()\n",
    "count=0\n",
    "notMiss_=0\n",
    "\n",
    "for root, dirs, files in os.walk(\"SpamAssassinMessages\"):\n",
    "    for f in files:\n",
    "        if f != \".DS_Store\":\n",
    "            labels.append(int(\"spam\" in root))\n",
    "            file_names.append(os.path.join(root,f))\n",
    "            \n",
    "            notMiss_=0\n",
    "            with open(os.path.join(root,f),'r',encoding='latin-1') as file_point:\n",
    "                count+=1\n",
    "                msg=email.message_from_file(file_point, )\n",
    "                type_=msg.get_content_type()\n",
    "                types[type_]+=1\n",
    "                # Multipart/report\n",
    "                if  (type(msg.get_payload())==list) and (\"text\" in msg.get_payload()[0].get_content_type()):\n",
    "                    type_=msg.get_payload()[0].get_content_type()\n",
    "                    msg=msg.get_payload()[0].get_payload()\n",
    "                    msjs.append(parse_html(msg,type_))\n",
    "                    notMiss_+=1\n",
    "                    continue\n",
    "                if type_=='multipart/signed' or type_=='multipart/mixed' or type_=='multipart/related':\n",
    "                    # first file is Multi/mixm and within the first file is txt\n",
    "                    if (msg.get_payload()[0].get_content_type()==\"multipart/mixed\") or (msg.get_payload()[0].get_content_type()==\"multipart/alternative\"):\n",
    "                        type_=msg.get_payload()[0].get_payload()[0].get_content_type()\n",
    "                        msg=msg.get_payload()[0].get_payload()[0].get_payload()\n",
    "                        msjs.append(parse_html(msg,type_))\n",
    "                        notMiss_+=1\n",
    "                        continue\n",
    "                if \"text\" in type_ or type(msg.get_payload())==str:\n",
    "                    msg=msg.get_payload()\n",
    "                    msjs.append(parse_html(msg,type_))\n",
    "                    notMiss_+=1\n",
    "                if notMiss_==0:\n",
    "                    all_list[type_]+=1\n",
    "                    msjs.append(msg)\n",
    "                    print(file_point)\n",
    "\n",
    "print(types)\n"
   ]
  },
  {
   "cell_type": "code",
   "execution_count": 7,
   "id": "ad301f7e",
   "metadata": {},
   "outputs": [
    {
     "name": "stdout",
     "output_type": "stream",
     "text": [
      "Total Emails retrieved:  9353 \n",
      " Total Emails: 9353\n"
     ]
    }
   ],
   "source": [
    "#Check q\n",
    "print(\"Total Emails retrieved: \", len(msjs),'\\n Total Emails:',count)\n"
   ]
  },
  {
   "cell_type": "code",
   "execution_count": 8,
   "id": "18f0aff7",
   "metadata": {},
   "outputs": [
    {
     "data": {
      "text/plain": [
       "Counter()"
      ]
     },
     "execution_count": 8,
     "metadata": {},
     "output_type": "execute_result"
    }
   ],
   "source": [
    "#Captures all missed emails\n",
    "all_list\n"
   ]
  },
  {
   "cell_type": "markdown",
   "id": "33b16edb",
   "metadata": {},
   "source": [
    "+ Create Data Frame"
   ]
  },
  {
   "cell_type": "code",
   "execution_count": 9,
   "id": "da60e23e",
   "metadata": {},
   "outputs": [
    {
     "data": {
      "text/html": [
       "<div>\n",
       "<style scoped>\n",
       "    .dataframe tbody tr th:only-of-type {\n",
       "        vertical-align: middle;\n",
       "    }\n",
       "\n",
       "    .dataframe tbody tr th {\n",
       "        vertical-align: top;\n",
       "    }\n",
       "\n",
       "    .dataframe thead th {\n",
       "        text-align: right;\n",
       "    }\n",
       "</style>\n",
       "<table border=\"1\" class=\"dataframe\">\n",
       "  <thead>\n",
       "    <tr style=\"text-align: right;\">\n",
       "      <th></th>\n",
       "      <th>MessageFile</th>\n",
       "      <th>Target</th>\n",
       "      <th>Emails</th>\n",
       "    </tr>\n",
       "  </thead>\n",
       "  <tbody>\n",
       "    <tr>\n",
       "      <th>0</th>\n",
       "      <td>SpamAssassinMessages/spam/00249.5f45607c1bffe8...</td>\n",
       "      <td>1</td>\n",
       "      <td>Dear Homeowner,\\n \\nInterest Rates are at thei...</td>\n",
       "    </tr>\n",
       "    <tr>\n",
       "      <th>1</th>\n",
       "      <td>SpamAssassinMessages/spam/0355.94ebf637e4bd3db...</td>\n",
       "      <td>1</td>\n",
       "      <td>Friend,Now you can copy DVD's and Games\\nhttp:...</td>\n",
       "    </tr>\n",
       "    <tr>\n",
       "      <th>2</th>\n",
       "      <td>SpamAssassinMessages/spam/0395.bb934e8b4c39d5e...</td>\n",
       "      <td>1</td>\n",
       "      <td>Pocket the newest 8 year annuity!\\t Pocket th...</td>\n",
       "    </tr>\n",
       "    <tr>\n",
       "      <th>3</th>\n",
       "      <td>SpamAssassinMessages/spam/0485.902136727883317...</td>\n",
       "      <td>1</td>\n",
       "      <td>\\nCongratulations! You Get a Free Handheld Org...</td>\n",
       "    </tr>\n",
       "    <tr>\n",
       "      <th>4</th>\n",
       "      <td>SpamAssassinMessages/spam/00373.ebe8670ac56b04...</td>\n",
       "      <td>1</td>\n",
       "      <td>ATTENTION: This is a MUST for ALL Computer Use...</td>\n",
       "    </tr>\n",
       "  </tbody>\n",
       "</table>\n",
       "</div>"
      ],
      "text/plain": [
       "                                         MessageFile  Target  \\\n",
       "0  SpamAssassinMessages/spam/00249.5f45607c1bffe8...       1   \n",
       "1  SpamAssassinMessages/spam/0355.94ebf637e4bd3db...       1   \n",
       "2  SpamAssassinMessages/spam/0395.bb934e8b4c39d5e...       1   \n",
       "3  SpamAssassinMessages/spam/0485.902136727883317...       1   \n",
       "4  SpamAssassinMessages/spam/00373.ebe8670ac56b04...       1   \n",
       "\n",
       "                                              Emails  \n",
       "0  Dear Homeowner,\\n \\nInterest Rates are at thei...  \n",
       "1  Friend,Now you can copy DVD's and Games\\nhttp:...  \n",
       "2   Pocket the newest 8 year annuity!\\t Pocket th...  \n",
       "3  \\nCongratulations! You Get a Free Handheld Org...  \n",
       "4  ATTENTION: This is a MUST for ALL Computer Use...  "
      ]
     },
     "execution_count": 9,
     "metadata": {},
     "output_type": "execute_result"
    }
   ],
   "source": [
    "data=pd.DataFrame({'MessageFile':file_names,\"Target\":labels, \"Emails\":msjs})\n",
    "data.head()"
   ]
  },
  {
   "cell_type": "markdown",
   "id": "46909f2b",
   "metadata": {},
   "source": [
    "# Cleaning the data"
   ]
  },
  {
   "cell_type": "code",
   "execution_count": 10,
   "id": "90c95002",
   "metadata": {},
   "outputs": [],
   "source": [
    "# # English stop words\n",
    "# nlp = spacy.load('en_core_web_sm')\n",
    "# stop_words = nlp.Defaults.stop_words"
   ]
  },
  {
   "cell_type": "code",
   "execution_count": 11,
   "id": "9529234b",
   "metadata": {},
   "outputs": [],
   "source": [
    "# Clean up text\n",
    "import nltk\n",
    "import numpy as np\n",
    "import contractions\n",
    "import re\n",
    "\n",
    "#Lemmatization - stemming based on POS\n",
    "\n",
    "stop_words= nltk.corpus.stopwords.words('english')\n",
    "def normalize_document(doc):\n",
    "    \"\"\"Function from our class python files to normalize text\"\"\" \n",
    "    # Expand contractions\n",
    "    doc=contractions.fix(doc.lower()) \n",
    "    # Remove HTLM section\n",
    "    doc = re.sub(r'https?://\\S+|www\\.\\S+', \" \", doc, re.I|re.A)\n",
    "    # remove special characters\\whitespaces\n",
    "    doc = re.sub(r'[^a-z]', ' ', doc)\n",
    "#     doc = re.sub(r'[^a-zA-Z]', ' ', doc, re.I|re.A)\n",
    "    # Remove tags \\n \\t\n",
    "    re.sub(r'<[^>]*>|[\\n\\t]', ' ', doc)\n",
    "#     doc = doc.lower()\n",
    "    doc = doc.strip()\n",
    "    # tokenize document\n",
    "    tokens = nltk.word_tokenize(doc)\n",
    "    # filter stopwords out of document\n",
    "    filtered_tokens = [token for token in tokens if token not in stop_words]\n",
    "    # re-create document from filtered tokens\n",
    "    doc = ' '.join(filtered_tokens)\n",
    "    return doc\n",
    "\n",
    "normalize_corpus = np.vectorize(normalize_document)\n",
    "\n",
    "#Normalize text\n",
    "cleanedEmails = normalize_corpus(data[\"Emails\"])\n"
   ]
  },
  {
   "cell_type": "code",
   "execution_count": 12,
   "id": "b5c37255",
   "metadata": {},
   "outputs": [],
   "source": [
    "data[\"Emails\"]=cleanedEmails\n"
   ]
  },
  {
   "cell_type": "code",
   "execution_count": 13,
   "id": "49e78dbf",
   "metadata": {},
   "outputs": [
    {
     "data": {
      "text/html": [
       "<div>\n",
       "<style scoped>\n",
       "    .dataframe tbody tr th:only-of-type {\n",
       "        vertical-align: middle;\n",
       "    }\n",
       "\n",
       "    .dataframe tbody tr th {\n",
       "        vertical-align: top;\n",
       "    }\n",
       "\n",
       "    .dataframe thead th {\n",
       "        text-align: right;\n",
       "    }\n",
       "</style>\n",
       "<table border=\"1\" class=\"dataframe\">\n",
       "  <thead>\n",
       "    <tr style=\"text-align: right;\">\n",
       "      <th></th>\n",
       "      <th>MessageFile</th>\n",
       "      <th>Target</th>\n",
       "      <th>Emails</th>\n",
       "    </tr>\n",
       "  </thead>\n",
       "  <tbody>\n",
       "    <tr>\n",
       "      <th>0</th>\n",
       "      <td>SpamAssassinMessages/spam/00249.5f45607c1bffe8...</td>\n",
       "      <td>1</td>\n",
       "      <td>dear homeowner interest rates lowest point yea...</td>\n",
       "    </tr>\n",
       "    <tr>\n",
       "      <th>1</th>\n",
       "      <td>SpamAssassinMessages/spam/0355.94ebf637e4bd3db...</td>\n",
       "      <td>1</td>\n",
       "      <td>friend copy dvd games backup dvd video cd r bu...</td>\n",
       "    </tr>\n",
       "    <tr>\n",
       "      <th>2</th>\n",
       "      <td>SpamAssassinMessages/spam/0395.bb934e8b4c39d5e...</td>\n",
       "      <td>1</td>\n",
       "      <td>pocket newest year annuity pocket newest year ...</td>\n",
       "    </tr>\n",
       "    <tr>\n",
       "      <th>3</th>\n",
       "      <td>SpamAssassinMessages/spam/0485.902136727883317...</td>\n",
       "      <td>1</td>\n",
       "      <td>congratulations get free handheld organizer de...</td>\n",
       "    </tr>\n",
       "    <tr>\n",
       "      <th>4</th>\n",
       "      <td>SpamAssassinMessages/spam/00373.ebe8670ac56b04...</td>\n",
       "      <td>1</td>\n",
       "      <td>attention must computer users new special pack...</td>\n",
       "    </tr>\n",
       "  </tbody>\n",
       "</table>\n",
       "</div>"
      ],
      "text/plain": [
       "                                         MessageFile  Target  \\\n",
       "0  SpamAssassinMessages/spam/00249.5f45607c1bffe8...       1   \n",
       "1  SpamAssassinMessages/spam/0355.94ebf637e4bd3db...       1   \n",
       "2  SpamAssassinMessages/spam/0395.bb934e8b4c39d5e...       1   \n",
       "3  SpamAssassinMessages/spam/0485.902136727883317...       1   \n",
       "4  SpamAssassinMessages/spam/00373.ebe8670ac56b04...       1   \n",
       "\n",
       "                                              Emails  \n",
       "0  dear homeowner interest rates lowest point yea...  \n",
       "1  friend copy dvd games backup dvd video cd r bu...  \n",
       "2  pocket newest year annuity pocket newest year ...  \n",
       "3  congratulations get free handheld organizer de...  \n",
       "4  attention must computer users new special pack...  "
      ]
     },
     "execution_count": 13,
     "metadata": {},
     "output_type": "execute_result"
    }
   ],
   "source": [
    "data.head()\n"
   ]
  },
  {
   "cell_type": "code",
   "execution_count": 14,
   "id": "c222a77e",
   "metadata": {},
   "outputs": [
    {
     "data": {
      "text/plain": [
       "'diversified underwriters services inc impaired risk case month july male non smoker face amount lbs crohn disease years major intestinal surgeries steroid therapy years diabetes hypertension diversified answer standard broker commission let us turn clients declined rated current health problems placeable life cases inst quote tm impaired risk life quotes call inst quote client get back within hours ext please fill form information name e mail phone city state broker use public dissemination want anyone receive mailings wish professional communication sent insurance professionals removed mailing list reply message instead go legal notice'"
      ]
     },
     "execution_count": 14,
     "metadata": {},
     "output_type": "execute_result"
    }
   ],
   "source": [
    "# Testing WWW. reg\n",
    "# re.sub(r'https?://\\S+|www\\.\\S+', \" \", data[\"Emails\"][30], re.I|re.A)\n",
    "data[\"Emails\"][30]"
   ]
  },
  {
   "cell_type": "code",
   "execution_count": 15,
   "id": "2ce482ce",
   "metadata": {},
   "outputs": [],
   "source": [
    "from sklearn.feature_extraction.text import TfidfVectorizer\n",
    "\n",
    "tfidf = TfidfVectorizer()\n",
    "tfidf_matrix = tfidf.fit_transform(data[\"Emails\"])\n",
    "# Convert the matrix to a Pandas DataFrame\n",
    "df_tfidf = pd.DataFrame(tfidf_matrix.toarray(), columns=tfidf.get_feature_names_out())\n",
    "\n",
    "# Add the IDF scores for each token as a new row\n",
    "df_tfidf.loc['IDF'] = tfidf.idf_\n"
   ]
  },
  {
   "cell_type": "code",
   "execution_count": 16,
   "id": "af68aa8f",
   "metadata": {},
   "outputs": [
    {
     "name": "stdout",
     "output_type": "stream",
     "text": [
      "Original data shape: (9353, 3)\n",
      "Dense array shape: (9353, 79992)\n"
     ]
    }
   ],
   "source": [
    "# Compara size\n",
    "dense_array = tfidf_matrix.toarray()\n",
    "\n",
    "# Check the shapes\n",
    "print(\"Original data shape:\", np.array(data).shape)\n",
    "print(\"Dense array shape:\", dense_array.shape)"
   ]
  },
  {
   "cell_type": "code",
   "execution_count": 17,
   "id": "134b63a5",
   "metadata": {
    "scrolled": true
   },
   "outputs": [
    {
     "name": "stdout",
     "output_type": "stream",
     "text": [
      "['aa', 'aardvark', 'aba', 'abac', 'abandon', 'abandoned', 'abandonment', 'abatement', 'abb', 'abbas', 'abbey', 'abbreviation', 'abdominal', 'abduction', 'abed', 'aberrant', 'aberration', 'abhorrent', 'abide', 'ability', 'abject', 'able', 'ably', 'abnegate', 'abnormal', 'abnormality', 'abnormally', 'aboard', 'abode', 'abolish', 'abolition', 'aboriginal', 'abort', 'aborted', 'abortion', 'abortive', 'abound', 'abreast', 'abridged', 'abroad', 'abruptly', 'absconded', 'absence', 'absent', 'absinthe', 'absinthium', 'absolute', 'absolutely', 'absorb', 'absorbed', 'absorber', 'absorbing', 'absorption', 'absquatulate', 'abstract', 'abstracted', 'abstraction', 'absurd', 'absurdity', 'absurdly', 'abu', 'abundance', 'abundant', 'abundantly', 'abusable', 'abuse', 'abusive', 'abysmal', 'abyss', 'academic', 'academical', 'academy', 'acca', 'accelerate', 'accelerated', 'acceleration', 'accelerator', 'accent', 'accentuate', 'accept', 'acceptability', 'acceptable', 'acceptance', 'accepted', 'access', 'accessibility', 'accessible', 'accession', 'accessory', 'accident', 'accidental', 'accidentally', 'accidently', 'acclamation', 'accolade', 'accommodate', 'accommodating', 'accommodation', 'accompany', 'accomplish', 'accomplished', 'accord', 'accordance', 'according', 'accordingly', 'account', 'accountability', 'accountable', 'accountant', 'accounting', 'accreditation', 'accredited', 'accrue', 'accumulate', 'accumulation', 'accumulative', 'accumulator', 'accuracy', 'accurate', 'accurately', 'accusation', 'accuse', 'accused', 'accustomed', 'ace', 'acerbic', 'acetate', 'ach', 'achievable', 'achieve', 'achievement', 'achy', 'acid', 'acidic', 'acker', 'acknowledge', 'acknowledged', 'acme', 'acne', 'aconite', 'acorn', 'acoustic', 'acquaintance', 'acquainted', 'acquire', 'acquired', 'acquisition', 'acre', 'acrobat', 'acronym', 'across', 'acrylic', 'act', 'acting', 'action', 'actionable', 'activate', 'activation', 'activator', 'active', 'actively', 'activism', 'activist', 'activity', 'acton', 'actor', 'actress', 'actual', 'actualization', 'actually', 'acute', 'ad', 'adad', 'adage', 'adamant', 'adapt', 'adaptation', 'adapter', 'adaptive', 'adays', 'add', 'adda', 'added', 'addendum', 'addict', 'addicted', 'addiction', 'addition', 'additional', 'additionally', 'additive', 'address', 'addressee', 'ade', 'adequate', 'adequately', 'adet', 'adhere', 'adherence', 'adhesion', 'adhesive', 'adjacent', 'adjective', 'adjoining', 'adjournment', 'adjust', 'adjustable', 'adjustment', 'administer', 'administrate', 'administration', 'administrative', 'administrator', 'admirable', 'admirably', 'admiral', 'admiration', 'admire', 'admired', 'admirer', 'admiring', 'admission', 'admit', 'admitted', 'admittedly', 'admonish', 'admonishment', 'ado', 'adobe', 'adolescence', 'adolescent', 'adopt', 'adopted', 'adoptee', 'adopter', 'adoption', 'adore', 'adrenal', 'adroit', 'adroitly', 'adult', 'adultery', 'adulthood', 'advance', 'advanced', 'advancement', 'advancing', 'advantage', 'advantageous', 'adventure', 'adventurous', 'adversary', 'adverse', 'adversely', 'adversity', 'advert', 'advertise', 'advertisement', 'advertiser', 'advertising', 'advice', 'advisability', 'advisable', 'advise', 'advised', 'advisement', 'adviser', 'advisor', 'advisory', 'advocacy', 'advocate', 'ae', 'aer', 'aerial', 'aerobatics', 'aerodynamical', 'aerodynamics', 'aeronautic', 'aeronautical', 'aerosol', 'aesthetic', 'aesthetics', 'affa', 'affair', 'affect', 'affectation', 'affected', 'affecting', 'affection', 'affectional', 'affectionately', 'affective', 'affidavit', 'affiliate', 'affiliation', 'affinity', 'affirm', 'affirmation', 'affix', 'afflicted', 'affliction', 'affluent', 'afford', 'affordable', 'afield', 'aflame', 'afoot', 'afoul', 'afraid', 'afterglow', 'afterhours', 'afterlife', 'aftermath', 'afternoon', 'afterthought', 'afterward', 'afterwards', 'aga', 'age', 'aged', 'ageless', 'agency', 'agenda', 'agent', 'ager', 'aggrandize', 'aggrandizement', 'aggregate', 'aggregation', 'aggregator', 'aggression', 'aggressive', 'aggressively', 'aggressor', 'aghast', 'agile', 'aging', 'agitation', 'agnostic', 'ago', 'agonist', 'agony', 'agora', 'agraphic', 'agree', 'agreeable', 'agreed', 'agreeing', 'agreement', 'agricultural', 'agriculture', 'aground', 'agy', 'ah', 'aha', 'ahead', 'ahem', 'ahu', 'ai', 'aid', 'aide', 'aider', 'ail', 'aim', 'aiming', 'air', 'aircraft', 'airfield', 'airframe', 'airing', 'airliner', 'airplane', 'airport', 'airsick', 'airstrip', 'airway', 'airy', 'aisle', 'ait', 'ak', 'aka', 'akimbo', 'akin', 'ako', 'al', 'ala', 'alan', 'alarm', 'alarmed', 'alarming', 'alas', 'alb', 'albacore', 'albedo', 'albee', 'albeit', 'albino', 'album', 'alchemy', 'alcohol', 'alcoholic', 'alcoholism', 'alec', 'alert', 'algebra', 'algorithm', 'alias', 'alibi', 'alien', 'alight', 'align', 'alignment', 'alike', 'alimony', 'alin', 'alison', 'alive', 'alk', 'alkaloid', 'allan', 'allay', 'allegedly', 'allegretto', 'allegro', 'aller', 'allergy', 'alleviate', 'alley', 'alliance', 'allied', 'allies', 'allocate', 'allocation', 'allow', 'allowable', 'allowance', 'alloy', 'allude', 'allure', 'alluring', 'ally', 'alma', 'almighty', 'almost', 'alms', 'aloft', 'alone', 'along', 'alongside', 'aloud', 'alpha', 'alphabet', 'alphabetic', 'alphabetical', 'alphabetically', 'already', 'alright', 'also', 'alt', 'alter', 'alteration', 'alternance', 'alternate', 'alternately', 'alternative', 'alternatively', 'although', 'altitude', 'alto', 'altogether', 'altruism', 'altruistic', 'alum', 'aluminum', 'alumni', 'alumnus', 'always', 'ama', 'amalgamation', 'amateur', 'amateurish', 'amaze', 'amazed', 'amazement', 'amazing', 'amazingly', 'amber', 'ambience', 'ambient', 'ambiguity', 'ambiguous', 'ambition', 'ambitious', 'ambivalence', 'ambivalent', 'ambler', 'ambrose', 'ambulance', 'ame', 'amen', 'amend', 'amendment', 'amethyst', 'ami', 'amiable', 'amicable', 'amid', 'amidst', 'amino', 'amla', 'amman', 'ammo', 'ammunition', 'amnesia', 'amnesty', 'among', 'amongst', 'amoral', 'amorality', 'amorous', 'amount', 'ampersand', 'ample', 'amplification', 'amplifier', 'amplitude', 'amply', 'amputation', 'amt', 'amused', 'amusement', 'amusing', 'amy', 'ana', 'anabolic', 'anaconda', 'anagrams', 'anal', 'analogous', 'analogue', 'analogy', 'analyse', 'analyser', 'analyses', 'analysis', 'analyst', 'analytic', 'analytical', 'analyze', 'analyzer', 'anam', 'anamorphic', 'anarchist', 'anarchy', 'anathema', 'anatomy', 'ancestor', 'ancestral', 'ancestry', 'anchor', 'anchored', 'ancient', 'ancillary', 'anda', 'anecdotage', 'anecdotal', 'anecdote', 'anemia', 'aneurysm', 'anew', 'angel', 'angelica', 'anger', 'angioplasty', 'anglaise', 'angle', 'angry', 'angst', 'angstrom', 'anguish', 'anil', 'animal', 'animated', 'animation', 'anime', 'animosity', 'aniseed', 'anisotropy', 'ankle', 'ann', 'anna', 'anneal', 'annexation', 'annexure', 'anniversary', 'annotate', 'announce', 'announcement', 'annoy', 'annoyance', 'annoying', 'annoyingly', 'annual', 'annually', 'annuity', 'anodyne', 'anomalous', 'anomaly', 'anon', 'anonym', 'anonymity', 'anonymous', 'anonymously', 'anorexia', 'another', 'answer', 'ant', 'antarctic', 'antarctica', 'ante', 'antediluvian', 'antelope', 'antenna', 'anterior', 'anteroventral', 'anthem', 'anthrax', 'anthropogenic', 'anthropologist', 'anthropology', 'anthropometric', 'anthropomorphic', 'anti', 'antibiotic', 'anticipate', 'anticipation', 'anticipatory', 'antidemocratic', 'antidote', 'antigen', 'antihistamine', 'antioxidant', 'antipodean', 'antiqua', 'antiquated', 'antique', 'antiquity', 'antisocial', 'antithesis', 'antithetical', 'antitrust', 'antiviral', 'antivirus', 'antonym', 'anus', 'anvil', 'anxiety', 'anxious', 'anxiously', 'anybody', 'anyhow', 'anyone', 'anyplace', 'anything', 'anyway', 'anyways', 'anywhere', 'apache', 'apart', 'apartment', 'apathy', 'aperture', 'aphid', 'aphrodisia', 'aphrodisiac', 'apnea', 'apocalypse', 'apocalyptic', 'apologia', 'apologist', 'apologize', 'apology', 'apoplectically', 'apotheosis', 'appalling', 'apparatus', 'apparel', 'apparent', 'apparently', 'appeal', 'appealing', 'appear', 'appearance', 'appease', 'appeasing', 'appellate', 'appellation', 'append', 'appendix', 'appetite', 'applaud', 'applause', 'apple', 'appliance', 'applicable', 'applicant', 'application', 'applied', 'apply', 'appoint', 'appointee', 'appointment', 'appraisal', 'appraise', 'appreciable', 'appreciate', 'appreciation', 'appreciative', 'apprehension', 'apprehensive', 'apprentice', 'approach', 'approachable', 'approaching', 'appropriate', 'appropriately', 'appropriation', 'approval', 'approve', 'approver', 'approvingly', 'approximate', 'approximately', 'approximation', 'apriori', 'apropos', 'apt', 'aptly', 'aqua', 'aquarium', 'aqueous', 'ar', 'ara', 'arable', 'arad', 'arbitrarily', 'arbitrary', 'arbitration', 'arbitrator', 'arbor', 'arc', 'arcade', 'arcana', 'arcane', 'arch', 'archaeological', 'archaeologist', 'archaeology', 'archaic', 'archbishop', 'archer', 'archetype', 'archipelago', 'architect', 'architectural', 'architecture', 'archival', 'archive', 'arctic', 'area', 'arena', 'argent', 'arginine', 'argon', 'argue', 'argument', 'argumentation', 'argumentativeness', 'arid', 'ariel', 'arillus', 'arise', 'aristocracy', 'aristocrat', 'aristocratic', 'arithmetic', 'ark', 'arles', 'arm', 'armadillo', 'armature', 'armchair', 'armed', 'armpit', 'arms', 'army', 'arn', 'aromatic', 'arose', 'around', 'arrange', 'arrangement', 'array', 'arrest', 'arresting', 'arrival', 'arrive', 'arrogance', 'arrow', 'arse', 'arsenal', 'arsenic', 'art', 'artefact', 'arterial', 'artery', 'artfully', 'arthritis', 'article', 'articulate', 'articulated', 'artifact', 'artificial', 'artificially', 'artist', 'artistic', 'artistically', 'artistry', 'ary', 'ascendant', 'ascending', 'ascension', 'ascertain', 'asceticism', 'ascii', 'ascribe', 'ase', 'ash', 'ashamed', 'ashes', 'ashman', 'ashore', 'aside', 'ask', 'asleep', 'asoka', 'asp', 'aspect', 'aspen', 'asphalt', 'aspire', 'aspirin', 'aspiring', 'ass', 'assailant', 'assassin', 'assassinate', 'assassination', 'assault', 'asse', 'assemble', 'assembler', 'assembly', 'assert', 'assertion', 'assertive', 'assess', 'assessed', 'assessment', 'asset', 'assets', 'assiduously', 'assign', 'assignable', 'assigned', 'assignee', 'assignment', 'assimilation', 'assist', 'assistance', 'assistant', 'assistive', 'associate', 'associated', 'association', 'associative', 'assortment', 'assuage', 'assume', 'assumed', 'assuming', 'assumption', 'assurance', 'assure', 'assured', 'assuredly', 'assuring', 'ast', 'aster', 'asterisk', 'asteroid', 'asthenic', 'asthma', 'astonishing', 'astonishingly', 'astonishment', 'astor', 'astound', 'astounding', 'astoundingly', 'astragali', 'astragalus', 'astrologer', 'astrology', 'astronaut', 'astronomer', 'astronomical', 'astronomy', 'astrophysics', 'astute', 'astutely', 'aswell', 'asylum', 'asymmetric', 'asymmetrical', 'asymmetry', 'asymptotically', 'asynchronous', 'atavistic', 'ataxia', 'ate', 'ates', 'atheism', 'atheist', 'athlete', 'athletic', 'atlantic', 'atlas', 'atlatl', 'atmos', 'atmosphere', 'atmospheric', 'atoll', 'atom', 'atomic', 'atomically', 'atop', 'atrium', 'atrocity', 'atta', 'attach', 'attachable', 'attached', 'attachment', 'attack', 'attackable', 'attacker', 'attain', 'attainment', 'attempt', 'attend', 'attendance', 'attendant', 'attention', 'attentive', 'attentively', 'attenuation', 'attest', 'attic', 'attire', 'attitude', 'attorney', 'attract', 'attraction', 'attractive', 'attractively', 'attractiveness', 'attribute', 'attribution', 'atypical', 'aube', 'auburn', 'auction', 'audacious', 'audacity', 'audibility', 'audible', 'audience', 'audio', 'audion', 'audit', 'audition', 'auditor', 'augen', 'augh', 'augment', 'augmentation', 'augmented', 'august', 'aunt', 'aural', 'aurora', 'auspices', 'authentic', 'authenticate', 'authentication', 'authenticity', 'author', 'authoritarian', 'authoritative', 'authoritatively', 'authority', 'authorization', 'authorize', 'authorized', 'authorship', 'autistic', 'auto', 'autobiographical', 'autobiography', 'autocatalytic', 'autocracy', 'autograph', 'automat', 'automatic', 'automatically', 'automobile', 'automotive', 'autonomous', 'autopsy', 'autosign', 'autumn', 'ava', 'avail', 'availability', 'available', 'avalanche', 'ave', 'avenging', 'avenue', 'aver', 'average', 'averse', 'aversion', 'avert', 'averted', 'aviation', 'avid', 'avidly', 'avocado', 'avoid', 'avoidance', 'avowed', 'aw', 'await', 'awake', 'awakening', 'award', 'aware', 'awareness', 'awash', 'away', 'awe', 'awesome', 'awful', 'awfully', 'awhile', 'awkward', 'awl', 'awn', 'awry', 'ax', 'axe', 'axes', 'axis', 'ay', 'aye', 'azimuth', 'azure', 'ba', 'baa', 'baal', 'babble', 'babe', 'baby', 'babyish', 'bac', 'bachelor', 'back', 'backbone', 'backdoor', 'backdrop', 'backed', 'backer', 'backfire', 'backgammon', 'background', 'backing', 'backlash', 'backlog', 'backside', 'backspace', 'backup', 'backward', 'backwards', 'backwash', 'backwater', 'backwoods', 'bacon', 'bacteria', 'bacterial', 'bad', 'bade', 'badge', 'badger', 'badly', 'badness', 'bae', 'baff', 'baffling', 'bag', 'baggage', 'bagging', 'bagpipes', 'bah', 'bail', 'bailey', 'bain', 'bait', 'bake', 'baked', 'baker', 'baking', 'balance', 'balanced', 'balancer', 'balancing', 'balboa', 'balcony', 'bald', 'baldness', 'bale', 'baleful', 'ball', 'ballerina', 'ballet', 'ballistic', 'balloon', 'ballot', 'bally', 'bam', 'bambino', 'bamboo', 'ban', 'banal', 'banana', 'banc', 'band', 'banded', 'bandit', 'bane', 'bang', 'banger', 'banging', 'bangkok', 'banjo', 'bank', 'banker', 'banking', 'bankrupt', 'bankruptcy', 'banner', 'bannerless', 'banning', 'bantam', 'banter', 'bar', 'barbaric', 'barbary', 'barbecue', 'barber', 'barbershop', 'barcelona', 'bard', 'bare', 'bareback', 'barefoot', 'barely', 'bargain', 'baring', 'bark', 'barker', 'barking', 'barley', 'barlow', 'barman', 'barn', 'barney', 'barnstorm', 'barnyard', 'barometer', 'baroness', 'baroque', 'barrage', 'barred', 'barrel', 'barricade', 'barrier', 'barring', 'barrister', 'barroom', 'barry', 'bartender', 'barter', 'barton', 'bas', 'base', 'baseball', 'based', 'basement', 'bases', 'bash', 'basic', 'basically', 'basin', 'basis', 'basket', 'basketball', 'basque', 'bass', 'bastard', 'bastille', 'bat', 'batch', 'bate', 'batel', 'bateman', 'bath', 'bathhouse', 'bathing', 'bathroom', 'bathtub', 'batman', 'bats', 'batter', 'battered', 'battery', 'battle', 'battled', 'battlefield', 'baud', 'baxter', 'bay', 'bazaar', 'beach', 'beacon', 'bead', 'beaker', 'beal', 'beam', 'beaming', 'bean', 'bear', 'beard', 'bearded', 'beardy', 'bearer', 'bearing', 'beast', 'beastie', 'beastly', 'beat', 'beaten', 'beating', 'beautiful', 'beautifully', 'beauty', 'beaver', 'beck', 'becker', 'become', 'becomes', 'becoming', 'bed', 'bedroom', 'bedside', 'bedtime', 'bee', 'beef', 'beefy', 'beer', 'bees', 'beeswax', 'beforehand', 'beg', 'beggar', 'begging', 'begin', 'beginner', 'beginning', 'begone', 'begrudge', 'beguilement', 'beguiling', 'begun', 'behalf', 'behave', 'behavior', 'behavioral', 'behaviour', 'behemoth', 'behest', 'behind', 'behold', 'beholder', 'beige', 'bel', 'belated', 'belatedly', 'belch', 'belief', 'believability', 'believable', 'believe', 'believer', 'believing', 'bell', 'belle', 'belligerence', 'bellow', 'bellows', 'bellwether', 'belly', 'belong', 'belonging', 'beloved', 'belt', 'ben', 'bench', 'bend', 'bender', 'bending', 'beneath', 'beneficial', 'beneficiary', 'benefit', 'beng', 'benighted', 'benign', 'benjamin', 'bennet', 'benny', 'bent', 'ber', 'bereft', 'beret', 'berger', 'berlin', 'berry', 'berserk', 'berth', 'beset', 'beside', 'besides', 'bessemer', 'best', 'bestow', 'bet', 'beta', 'beth', 'betray', 'betrayal', 'betrothal', 'better', 'betterment', 'betters', 'betting', 'betwixt', 'beverage', 'beware', 'bewildered', 'beyond', 'bhat', 'bias', 'bib', 'bibliographical', 'bibliography', 'bicameral', 'bicker', 'bicycle', 'bid', 'bidder', 'bidding', 'biennial', 'big', 'bigger', 'biggest', 'bigness', 'bigot', 'bigwig', 'bijoux', 'bike', 'bilateral', 'bilge', 'bilious', 'bilk', 'bill', 'billboard', 'billed', 'billiard', 'billiards', 'billing', 'billion', 'billionaire', 'billon', 'billy', 'bilo', 'bin', 'binary', 'bind', 'binder', 'binding', 'bing', 'binge', 'bingo', 'biographical', 'biography', 'biological', 'biologically', 'biologist', 'biology', 'biometric', 'biophysics', 'bios', 'biosphere', 'biota', 'bipartisan', 'biped', 'bipolar', 'birch', 'bird', 'birdman', 'birth', 'birthday', 'birthplace', 'birthright', 'bis', 'biscuit', 'bishop', 'bison', 'bit', 'bitch', 'bite', 'biter', 'biti', 'biting', 'bitten', 'bitter', 'bitterly', 'bittersweet', 'biz', 'bizarre', 'blab', 'black', 'blackberry', 'blackmail', 'blade', 'blah', 'blair', 'blake', 'blame', 'blamed', 'blaming', 'blanc', 'bland', 'blank', 'blanket', 'blanking', 'blasphemy', 'blast', 'blasted', 'blaster', 'blasting', 'blat', 'blatant', 'blatantly', 'blather', 'blaze', 'blazer', 'blazing', 'blazingly', 'bleached', 'bleak', 'bleakness', 'bleating', 'blee', 'bleed', 'bleeding', 'blend', 'blended', 'blending', 'bless', 'blessed', 'blessing', 'blick', 'blight', 'blimp', 'blind', 'blindingly', 'blindly', 'blindness', 'blink', 'blinkered', 'blip', 'bliss', 'blissful', 'blissfully', 'blistering', 'blithely', 'blitz', 'blizzard', 'blo', 'bloat', 'bloated', 'blob', 'bloc', 'block', 'blockade', 'blockage', 'blockbuster', 'blocked', 'blocker', 'blockhead', 'blocking', 'bloke', 'blonde', 'blood', 'bloodied', 'bloodletting', 'bloodshed', 'bloody', 'bloom', 'blooming', 'blossom', 'blossomed', 'blow', 'blowing', 'blown', 'bludgeon', 'blue', 'bluebonnet', 'blueprint', 'blues', 'bluff', 'blunder', 'blunt', 'blur', 'blurb', 'blurred', 'blurt', 'blush', 'bluster', 'bo', 'board', 'boarding', 'boast', 'boasting', 'boat', 'boating', 'boatload', 'bob', 'bobby', 'bock', 'bod', 'bode', 'bodied', 'bodily', 'body', 'bog', 'bogart', 'bogeyman', 'boggle', 'bogus', 'boil', 'boiled', 'boiler', 'boiling', 'bold', 'boldly', 'boldo', 'bolivia', 'bolster', 'bolt', 'bomb', 'bombed', 'bomber', 'bombshell', 'bon', 'bonanza', 'bond', 'bondage', 'bonded', 'bonderman', 'bone', 'boned', 'boner', 'bonfire', 'bongo', 'bonk', 'bonsai', 'bonus', 'boo', 'boob', 'book', 'booked', 'booking', 'bookkeeper', 'booklet', 'bookman', 'bookmark', 'bookmobile', 'bookshelf', 'bookstore', 'bool', 'boom', 'boomer', 'booming', 'boon', 'boondocks', 'boondoggle', 'boorishness', 'boost', 'booster', 'boot', 'booted', 'booth', 'booting', 'bootleg', 'boots', 'bootstrap', 'booty', 'booze', 'bop', 'bora', 'border', 'bore', 'boredom', 'boring', 'born', 'boron', 'borrow', 'borrower', 'borrowing', 'bort', 'bosch', 'bose', 'boss', 'boston', 'bot', 'botanical', 'botanist', 'botany', 'botched', 'bother', 'bothersome', 'bott', 'bottle', 'bottled', 'bottleneck', 'bottler', 'bottling', 'bottom', 'bottomed', 'bottomless', 'boucher', 'bought', 'boulder', 'bounce', 'bouncing', 'bound', 'boundary', 'bounded', 'bounty', 'bourgeois', 'bourse', 'bout', 'bovine', 'bow', 'bowel', 'bowels', 'bowery', 'bowing', 'bowl', 'bowling', 'bowman', 'box', 'boxen', 'boxer', 'boxing', 'boy', 'boycott', 'bra', 'brabant', 'brace', 'braced', 'braces', 'bracing', 'bracket', 'bract', 'brad', 'brag', 'bragging', 'brain', 'brainer', 'brains', 'brainsick', 'brainwash', 'brake', 'bran', 'branch', 'branched', 'branching', 'brand', 'branded', 'brass', 'brat', 'brave', 'bravely', 'bravery', 'bravo', 'brawling', 'brazil', 'breach', 'bread', 'breadth', 'break', 'breakable', 'breakage', 'breakaway', 'breakdown', 'breaker', 'breakfast', 'breaking', 'breakthrough', 'breakup', 'breast', 'breasted', 'breath', 'breathe', 'breathing', 'breathless', 'bred', 'breed', 'breeder', 'breeding', 'breeze', 'breezy', 'brent', 'bret', 'brethren', 'brett', 'brevity', 'brew', 'brewing', 'bribe', 'brick', 'bricklayer', 'bridal', 'bride', 'bridge', 'bridgehead', 'bridging', 'brief', 'briefing', 'briefly', 'briefs', 'brier', 'brig', 'brigantine', 'bright', 'brightly', 'brightness', 'brightwork', 'brilliance', 'brilliant', 'brimful', 'brimming', 'brimstone', 'brin', 'bring', 'brink', 'brique', 'bristled', 'brit', 'britten', 'brittle', 'broad', 'broadcast', 'broadcaster', 'broadly', 'broadsheet', 'broadway', 'brocard', 'broccoli', 'brochure', 'brogan', 'broiling', 'broke', 'broken', 'broker', 'brokerage', 'bronze', 'brook', 'broom', 'brose', 'brothel', 'brother', 'brotherhood', 'brough', 'brought', 'brown', 'browning', 'browse', 'browser', 'browsing', 'bruise', 'brunet', 'brunette', 'brunswick', 'brunt', 'brush', 'brushed', 'brushes', 'brut', 'brutal', 'brutality', 'brutalize', 'brutally', 'brute', 'bu', 'bubble', 'buck', 'bucket', 'buckled', 'buckshot', 'bud', 'budding', 'buddy', 'budget', 'buff', 'buffer', 'buffet', 'buffoon', 'buffy', 'bug', 'bugbear', 'bugger', 'buggy', 'build', 'builder', 'building', 'buildup', 'built', 'bulb', 'bulge', 'bulger', 'bulimia', 'bulk', 'bulker', 'bulky', 'bull', 'bulldozer', 'bullet', 'bulleted', 'bulletin', 'bulletproof', 'bullish', 'bulwark', 'bumbershoot', 'bumblebee', 'bummer', 'bump', 'bumper', 'bumping', 'bumptious', 'bumptiously', 'bumpy', 'bun', 'bunch', 'bundle', 'bunk', 'bunker', 'bunny', 'buoy', 'burbank', 'burden', 'bureau', 'bureaucracy', 'bureaucrat', 'bureaucratic', 'burgess', 'burglar', 'burglary', 'burial', 'buried', 'burke', 'burlesque', 'burn', 'burned', 'burner', 'burning', 'burnout', 'burnt', 'burr', 'burst', 'burton', 'bury', 'burying', 'bus', 'bush', 'bushel', 'busily', 'busine', 'business', 'businessman', 'bust', 'busted', 'buster', 'bustling', 'busy', 'butane', 'butanone', 'butcher', 'butchering', 'buteonine', 'butler', 'butt', 'butte', 'butter', 'buttercup', 'butterfly', 'butting', 'buttock', 'button', 'buttons', 'buttress', 'buxom', 'buy', 'buyer', 'buzz', 'buzzer', 'buzzing', 'bye', 'bypass', 'ca', 'cab', 'caba', 'cabernet', 'cabin', 'cabinet', 'cable', 'cabling', 'caboose', 'cache', 'cachet', 'cack', 'cacophonous', 'cad', 'cadastre', 'caddis', 'caddy', 'cade', 'cadence', 'cadet', 'cadre', 'cafeteria', 'caffeine', 'cage', 'cain', 'cake', 'cal', 'calamitous', 'calamity', 'calcite', 'calcium', 'calculate', 'calculated', 'calculating', 'calculation', 'calculator', 'calculus', 'calendar', 'calf', 'calibrate', 'caliper', 'call', 'callable', 'callboy', 'caller', 'calling', 'callous', 'callously', 'calm', 'calmative', 'calmer', 'calmly', 'caloric', 'calorie', 'calves', 'calypso', 'cam', 'camaraderie', 'came', 'camel', 'cameo', 'camera', 'camouflage', 'camp', 'campaign', 'campaigner', 'campane', 'campfire', 'campus', 'canada', 'canal', 'canary', 'cancel', 'cancelation', 'cancellation', 'cancer', 'cand', 'candid', 'candidate', 'candidly', 'candle', 'candlelight', 'candor', 'candy', 'canned', 'cannibal', 'canning', 'cannon', 'canoe', 'canon', 'canonical', 'canonization', 'canopy', 'canvas', 'canyon', 'cap', 'capability', 'capable', 'capacitance', 'capacitive', 'capacitor', 'capacity', 'cape', 'capel', 'capital', 'capitalism', 'capitalist', 'capitalistic', 'capitalization', 'capitalize', 'capped', 'capping', 'capricious', 'capsule', 'captain', 'caption', 'captivate', 'captive', 'captivity', 'capture', 'car', 'caract', 'caracter', 'carafe', 'caramel', 'caravan', 'carberry', 'carbon', 'carbonization', 'carburetor', 'carcass', 'carcinogen', 'carcinogenic', 'card', 'cardboard', 'cardholder', 'cardiac', 'cardinal', 'cardiovascular', 'care', 'career', 'carefree', 'careful', 'carefully', 'carelessly', 'carer', 'cargo', 'caribou', 'caricature', 'carlin', 'carnage', 'carnal', 'carnival', 'carnivore', 'carnivorous', 'carol', 'caroline', 'carotid', 'carpenter', 'carpentry', 'carpet', 'carr', 'carriage', 'carried', 'carrier', 'carrion', 'carrot', 'carry', 'carrying', 'cart', 'carte', 'cartel', 'carter', 'cartload', 'cartman', 'carton', 'cartoon', 'cartoonist', 'cartridge', 'carvel', 'cascade', 'case', 'cash', 'cashable', 'cashier', 'cashmere', 'casing', 'casino', 'cass', 'casserole', 'cassie', 'cassino', 'cast', 'caste', 'casting', 'castle', 'castrate', 'casual', 'casualty', 'cat', 'catalogue', 'catalyst', 'catalytic', 'catamite', 'catastrophe', 'catastrophic', 'catch', 'catcher', 'catching', 'catchup', 'catchy', 'categorically', 'categorization', 'categorize', 'category', 'cater', 'caterpillar', 'caterwauling', 'catfish', 'catharsis', 'cathartic', 'cathead', 'cathedral', 'catholic', 'catholicism', 'cattle', 'catty', 'caught', 'caulis', 'causal', 'causality', 'causative', 'cause', 'causing', 'caustic', 'caution', 'cautionary', 'cautious', 'cautiously', 'cavalcade', 'cavalier', 'cave', 'caveat', 'caviar', 'cavity', 'cay', 'cayenne', 'cayman', 'ce', 'cease', 'cedar', 'cede', 'cee', 'ceiling', 'celebrate', 'celebrated', 'celebration', 'celebratory', 'celebrity', 'celery', 'celestial', 'cell', 'cellar', 'cellular', 'cellulose', 'cemetery', 'censor', 'censorship', 'censure', 'census', 'cent', 'centennial', 'center', 'centered', 'centering', 'central', 'centrality', 'centralization', 'centrally', 'centric', 'centrist', 'century', 'ceramic', 'cereal', 'cerebral', 'ceremonial', 'ceremony', 'certain', 'certainly', 'certainty', 'certifiably', 'certificate', 'certification', 'certified', 'certify', 'cerulean', 'cess', 'cest', 'chad', 'chagrin', 'chai', 'chain', 'chair', 'chairman', 'chairmanship', 'chal', 'chalk', 'challenge', 'cham', 'chamber', 'chamberlain', 'champagne', 'champaign', 'champion', 'championship', 'chance', 'chancellor', 'chancery', 'chang', 'change', 'changeable', 'channel', 'channeling', 'chant', 'chanting', 'chao', 'chaos', 'chaotic', 'chap', 'chapel', 'chaplain', 'chapman', 'chaps', 'chapter', 'char', 'character', 'characteristic', 'characterization', 'characterize', 'characterless', 'charade', 'charcoal', 'charge', 'charger', 'charging', 'charisma', 'charitable', 'charity', 'charm', 'charming', 'chart', 'charter', 'charting', 'chase', 'chaser', 'chasing', 'chassis', 'chaste', 'chastity', 'chat', 'chateaux', 'chattel', 'chatter', 'chatterbox', 'chatting', 'chauffeur', 'chauvinism', 'chawbacon', 'che', 'cheap', 'cheapish', 'cheaply', 'cheat', 'cheating', 'check', 'checked', 'checker', 'checkers', 'checkmate', 'checkup', 'cheek', 'cheeky', 'cheep', 'cheer', 'cheerful', 'cheerfully', 'cheering', 'cheerleader', 'cheery', 'cheese', 'chef', 'chelation', 'chelys', 'chemical', 'chemically', 'chemistry', 'chemotherapy', 'cheque', 'cherish', 'cherry', 'chess', 'chest', 'chester', 'chestnut', 'chevron', 'chevy', 'chew', 'chewer', 'chewy', 'chi', 'chia', 'chic', 'chicanery', 'chick', 'chicken', 'chickweed', 'chicky', 'chico', 'chief', 'chiefly', 'chien', 'chil', 'child', 'childbirth', 'childhood', 'childish', 'chile', 'chill', 'chilled', 'chilling', 'chimera', 'chimney', 'chin', 'china', 'ching', 'chip', 'chipmunk', 'chipping', 'chips', 'chiropractic', 'chiropractor', 'chirping', 'chisel', 'chitchat', 'chitty', 'chlorophyll', 'cho', 'choate', 'chock', 'chocolate', 'choice', 'choke', 'choking', 'cholesterol', 'choose', 'choosing', 'chop', 'chopin', 'chopped', 'choppy', 'chorus', 'chose', 'chosen', 'chrism', 'christen', 'chrome', 'chronic', 'chronically', 'chronicle', 'chronological', 'chronologically', 'chuck', 'chuckle', 'chuckler', 'chucky', 'chum', 'chun', 'chunk', 'church', 'churl', 'churn', 'churning', 'chute', 'cicada', 'cigar', 'cigarette', 'cinema', 'cinematic', 'cinematography', 'cingular', 'cinnamon', 'cipher', 'circa', 'circle', 'circuit', 'circular', 'circulate', 'circulation', 'circulatory', 'circumference', 'circumstance', 'circumstantial', 'circumvent', 'circumvention', 'circus', 'cisco', 'cistern', 'cit', 'citation', 'cite', 'citizen', 'citizenry', 'citizenship', 'citrate', 'citrus', 'city', 'civic', 'civics', 'civil', 'civilian', 'civilization', 'civilized', 'clad', 'claim', 'clam', 'clamp', 'clan', 'clandestine', 'clang', 'clapping', 'clarification', 'clarify', 'clarion', 'clarity', 'clark', 'clary', 'clash', 'class', 'classer', 'classes', 'classic', 'classical', 'classically', 'classicist', 'classification', 'classified', 'classifier', 'classmate', 'classroom', 'classy', 'clause', 'clave', 'claw', 'clawed', 'clay', 'clean', 'cleaner', 'cleaning', 'cleanly', 'cleanse', 'cleanser', 'cleansing', 'cleanup', 'clear', 'clearance', 'clearer', 'clearing', 'clearinghouse', 'clearly', 'cleavage', 'clement', 'clergy', 'clergyman', 'clerk', 'clever', 'cleverness', 'cliche', 'click', 'client', 'clientele', 'cliff', 'climate', 'climatic', 'climax', 'climb', 'climbing', 'clinch', 'cline', 'clinic', 'clinical', 'clink', 'clint', 'clip', 'clipped', 'clipper', 'clipping', 'clips', 'clique', 'clive', 'cloak', 'cloaking', 'clock', 'clocked', 'clockless', 'clockwork', 'clone', 'close', 'closed', 'closely', 'closeness', 'closer', 'closet', 'cloth', 'clothes', 'clothespin', 'clothier', 'clothing', 'cloud', 'cloudy', 'clout', 'clover', 'clown', 'club', 'clubbing', 'clue', 'clump', 'clumsiness', 'clumsy', 'cluster', 'clustered', 'clustering', 'clutch', 'clutter', 'coach', 'coaching', 'coal', 'coalition', 'coast', 'coastal', 'coaster', 'coat', 'coated', 'coating', 'cobalt', 'cobble', 'cobbling', 'coble', 'cobra', 'coca', 'cocaine', 'cochlea', 'cock', 'cocker', 'cockeyed', 'cockle', 'cockney', 'cockpit', 'cocktail', 'coco', 'cocoa', 'cod', 'code', 'codeine', 'coder', 'codex', 'coefficient', 'coercion', 'coercive', 'coexist', 'coffee', 'coffeehouse', 'coffin', 'cogent', 'cognac', 'cognitive', 'cognizance', 'cognizant', 'coherence', 'coherent', 'cohesive', 'cohort', 'coiling', 'coin', 'coincide', 'coincidence', 'coincidentally', 'coke', 'coker', 'col', 'cola', 'cold', 'cole', 'coli', 'colin', 'coliseum', 'collaborate', 'collaboration', 'collaborative', 'collaborator', 'collage', 'collagen', 'collapse', 'collar', 'collate', 'collateral', 'collation', 'colleague', 'collect', 'collected', 'collectible', 'collection', 'collective', 'collectively', 'collector', 'college', 'collide', 'collins', 'collision', 'colloidal', 'collusion', 'colon', 'colonel', 'colonial', 'colony', 'colophon', 'color', 'colorado', 'coloration', 'colored', 'colorful', 'colorfully', 'coloring', 'colorization', 'colors', 'colossal', 'colossus', 'colour', 'colt', 'columbine', 'column', 'columnist', 'coma', 'comb', 'combat', 'combatant', 'combination', 'combinatorial', 'combine', 'combined', 'combining', 'combust', 'combustion', 'come', 'comeback', 'comedian', 'comedy', 'comes', 'comfort', 'comfortable', 'comfortably', 'comforting', 'comfrey', 'comic', 'coming', 'comma', 'command', 'commander', 'commanding', 'commandment', 'commemorate', 'commemorative', 'commence', 'commencement', 'comment', 'commentary', 'commerce', 'commercial', 'commercialization', 'commercially', 'commission', 'commissioner', 'commit', 'commitment', 'committee', 'commodious', 'commodity', 'commodore', 'common', 'commonality', 'commonly', 'commons', 'commonwealth', 'communal', 'commune', 'communicate', 'communicating', 'communication', 'communicator', 'communion', 'communism', 'communist', 'community', 'commute', 'commuting', 'compact', 'companion', 'companionship', 'company', 'comparable', 'comparably', 'comparative', 'comparatively', 'compare', 'comparison', 'compartment', 'compass', 'compassion', 'compassionate', 'compatibility', 'compatible', 'compel', 'compelling', 'compellingly', 'compendium', 'compensate', 'compensation', 'compete', 'competence', 'competent', 'competition', 'competitive', 'competitor', 'compilation', 'compile', 'compiler', 'complacent', 'complain', 'complaint', 'complement', 'complementary', 'complete', 'completely', 'completeness', 'completion', 'complex', 'complexion', 'complexity', 'compliance', 'compliant', 'complicate', 'complicated', 'complication', 'compliment', 'complimentary', 'comply', 'component', 'compos', 'compose', 'composed', 'composer', 'composite', 'composition', 'compositional', 'composure', 'compound', 'compounding', 'comprehend', 'comprehension', 'comprehensive', 'compress', 'compressed', 'compressible', 'compression', 'comprise', 'comprised', 'compromise', 'compromising', 'compter', 'compulsion', 'compulsive', 'compulsively', 'compulsory', 'computable', 'computation', 'computational', 'compute', 'computer', 'comrade', 'con', 'conceal', 'concealed', 'concede', 'conceded', 'conceivable', 'conceivably', 'conceive', 'concentrate', 'concentrated', 'concentration', 'concentric', 'concept', 'conception', 'conceptually', 'concern', 'concerned', 'concerning', 'concert', 'concertmaster', 'concession', 'concierge', 'concise', 'conclude', 'concluding', 'conclusion', 'conclusive', 'conclusively', 'concoction', 'concourse', 'concrete', 'concur', 'concurrency', 'concurrent', 'concurrently', 'condemn', 'condemnation', 'condemned', 'condensation', 'condition', 'conditional', 'conditionally', 'conditioned', 'conditioner', 'condolence', 'condominium', 'condone', 'conduct', 'conduction', 'conductive', 'conductivity', 'conductor', 'cone', 'confab', 'confectionery', 'confederate', 'confederation', 'conference', 'confession', 'confidant', 'confide', 'confidence', 'confident', 'confidential', 'confidentiality', 'confidentially', 'confidently', 'configuration', 'configure', 'confine', 'confined', 'confinement', 'confirm', 'confirmation', 'confirmed', 'confirming', 'confiscate', 'confiscation', 'confiscatory', 'conflagration', 'conflated', 'conflation', 'conflict', 'conflicting', 'confluence', 'conflux', 'conform', 'conformance', 'conformant', 'conformation', 'conformist', 'conformity', 'confounded', 'confounding', 'confront', 'confrontation', 'confuse', 'confused', 'confusingly', 'confusion', 'congeal', 'congelation', 'congenital', 'congested', 'congestion', 'conglomerate', 'congratulation', 'congregation', 'congress', 'congressional', 'congressman', 'conjecturer', 'conjoined', 'conjunction', 'conjure', 'conn', 'connect', 'connected', 'connection', 'connective', 'connectivity', 'connector', 'conner', 'connexion', 'connotation', 'connote', 'conquer', 'conquering', 'conquest', 'conscience', 'conscientiously', 'conscious', 'consciously', 'consciousness', 'consecutive', 'consensual', 'consensually', 'consensus', 'consent', 'consequence', 'consequent', 'consequential', 'consequently', 'conservation', 'conservationist', 'conservative', 'conservatively', 'conserve', 'consider', 'considerable', 'considerably', 'considerate', 'consideration', 'considered', 'considering', 'consignment', 'consist', 'consistency', 'consistent', 'consistently', 'consol', 'consolation', 'console', 'consolidate', 'consolidation', 'consonant', 'consort', 'consortium', 'conspiracy', 'conspiring', 'constable', 'constabulary', 'constant', 'constantly', 'constellation', 'constituency', 'constituent', 'constitute', 'constitution', 'constitutional', 'constitutionally', 'constrained', 'constraint', 'construct', 'construction', 'constructive', 'constructor', 'consul', 'consult', 'consultant', 'consultation', 'consulting', 'consumable', 'consume', 'consumer', 'consuming', 'consummate', 'consumption', 'contact', 'contagious', 'contain', 'container', 'containment', 'contemplate', 'contemplation', 'contemplative', 'contemplativeness', 'contemporary', 'contempt', 'contemptuously', 'contender', 'content', 'contention', 'contentious', 'contentment', 'contents', 'contest', 'context', 'contiguous', 'continent', 'continental', 'contingency', 'continual', 'continually', 'continuation', 'continue', 'continued', 'continuity', 'continuous', 'continuously', 'continuum', 'contra', 'contraband', 'contract', 'contracted', 'contraction', 'contractor', 'contractual', 'contradiction', 'contradictory', 'contrail', 'contrary', 'contrast', 'contravention', 'contraversion', 'contribute', 'contribution', 'contributor', 'contrite', 'contrition', 'control', 'controllable', 'controller', 'controversial', 'controversially', 'controversy', 'conundrum', 'convection', 'convective', 'convenience', 'convenient', 'conveniently', 'convention', 'conventional', 'converge', 'convergence', 'conversation', 'conversational', 'converse', 'conversely', 'conversion', 'convert', 'converted', 'converter', 'converting', 'convey', 'conveyance', 'convict', 'conviction', 'convince', 'convinced', 'convincing', 'convoluted', 'convolution', 'convoy', 'coo', 'cook', 'cooker', 'cooking', 'cool', 'coolant', 'cooler', 'cooling', 'coolness', 'cooper', 'cooter', 'cop', 'copacetic', 'cope', 'copied', 'copier', 'coping', 'copious', 'copiously', 'copper', 'copulation', 'copy', 'copycat', 'copyright', 'cor', 'cora', 'coral', 'cord', 'cordial', 'cordially', 'core', 'cork', 'corkscrew', 'corky', 'corn', 'corner', 'cornered', 'cornfield', 'cornification', 'cornified', 'cornucopia', 'corny', 'corollary', 'corona', 'coronary', 'corp', 'corpora', 'corporal', 'corporate', 'corporation', 'corps', 'corpus', 'correct', 'corrected', 'correcting', 'correction', 'corrective', 'correctly', 'correctness', 'correlated', 'correlation', 'correspond', 'correspondence', 'correspondent', 'corresponding', 'corroborate', 'corrupt', 'corrupted', 'corrupter', 'corrupting', 'corruption', 'corruptly', 'cortex', 'cortez', 'coruscant', 'coruscate', 'coruscation', 'corvette', 'cos', 'cosmetic', 'cosmic', 'cosmological', 'cosmologist', 'cosmology', 'cosmos', 'cost', 'costa', 'costing', 'costly', 'costume', 'cot', 'cote', 'coterie', 'cotter', 'cotton', 'couch', 'couching', 'cough', 'could', 'council', 'councilman', 'counsel', 'counselor', 'count', 'counter', 'counteract', 'counteracting', 'counterbalance', 'counterforce', 'counterintelligence', 'counterpart', 'counterpoint', 'counterpressure', 'counterrevolution', 'counterweight', 'counting', 'countless', 'countrified', 'country', 'countryside', 'county', 'coup', 'couple', 'coupled', 'coupling', 'coupon', 'courage', 'courageous', 'courageousness', 'courier', 'course', 'court', 'courteous', 'courtesy', 'courtier', 'courtroom', 'courtyard', 'cousin', 'covalent', 'cove', 'cover', 'coverage', 'covered', 'covering', 'covert', 'covertly', 'covet', 'cow', 'coward', 'cowardly', 'cowbell', 'cowboy', 'cox', 'coy', 'coyote', 'coz', 'cozy', 'crack', 'crackdown', 'cracked', 'cracker', 'crackers', 'cracking', 'cradle', 'craft', 'craftsman', 'craftsmanship', 'crafty', 'cram', 'cramped', 'crane', 'cranial', 'cranium', 'crank', 'crankcase', 'crankshaft', 'cranky', 'crap', 'crash', 'crater', 'crave', 'craven', 'craving', 'crawl', 'crawler', 'crawling', 'crayfish', 'crayon', 'craze', 'crazed', 'craziness', 'crazy', 'creak', 'creaky', 'cream', 'creaminess', 'creamy', 'crease', 'creat', 'create', 'creation', 'creative', 'creatively', 'creativity', 'creator', 'creature', 'credence', 'credibility', 'credible', 'credibly', 'credit', 'creditor', 'credulity', 'creed', 'creek', 'creep', 'creeping', 'creepy', 'cremation', 'crept', 'crest', 'crested', 'cretaceous', 'crew', 'crewman', 'crib', 'crick', 'cricket', 'cried', 'crime', 'criminal', 'crimping', 'cringe', 'cripple', 'crippling', 'crises', 'crisis', 'crisp', 'crisply', 'criteria', 'criterion', 'critic', 'critical', 'critically', 'criticism', 'criticize', 'critique', 'cro', 'croc', 'croche', 'crock', 'crocodile', 'crocus', 'croft', 'crony', 'crook', 'crooked', 'crooner', 'crop', 'cross', 'crossed', 'crossette', 'crossing', 'crossover', 'crossroads', 'crossword', 'crotch', 'croupier', 'crow', 'crowd', 'crowded', 'crown', 'crowned', 'croydon', 'crucial', 'crucially', 'crucible', 'crude', 'crudely', 'crudeness', 'cruel', 'cruelty', 'cruise', 'cruiser', 'crumb', 'crummy', 'crump', 'crumpled', 'crunch', 'crunchy', 'crusade', 'crusader', 'crush', 'crushed', 'crushing', 'crust', 'crusty', 'crutcher', 'crux', 'cry', 'crying', 'crypt', 'cryptic', 'cryptographer', 'cryptographic', 'cryptographically', 'cryptography', 'crystal', 'cube', 'cubic', 'cubicle', 'cuckoo', 'cud', 'cue', 'cuisine', 'cull', 'culling', 'culmination', 'culpa', 'culpability', 'culprit', 'cult', 'cultivate', 'cultivated', 'cultural', 'culturally', 'culture', 'cum', 'cumbersome', 'cumulative', 'cunning', 'cunningly', 'cup', 'cur', 'curable', 'curative', 'curator', 'curb', 'curbing', 'curcumin', 'cure', 'curie', 'curiosity', 'curious', 'curiously', 'curl', 'curled', 'curling', 'curly', 'curmudgeon', 'curr', 'currency', 'current', 'currently', 'curriculum', 'currier', 'curry', 'curse', 'cursed', 'cursor', 'curtail', 'curtailed', 'curtailment', 'curtain', 'curvature', 'curve', 'curved', 'cushion', 'cushioned', 'custody', 'custom', 'customary', 'customer', 'customhouse', 'customs', 'cut', 'cute', 'cutie', 'cutlery', 'cutoff', 'cutter', 'cutthroat', 'cutting', 'cyan', 'cycle', 'cyclical', 'cycling', 'cylinder', 'cynic', 'cynical', 'cynically', 'cynicism', 'cyrus', 'cyst', 'czar', 'czarist', 'da', 'dab', 'dabb', 'dabba', 'dabble', 'dabbling', 'dace', 'dad', 'dada', 'daddy', 'dade', 'dae', 'daemon', 'daff', 'daffy', 'dag', 'dagga', 'dah', 'daily', 'dairy', 'daisy', 'dak', 'dale', 'damage', 'damages', 'damn', 'damnation', 'damned', 'damning', 'dampen', 'damping', 'dan', 'dance', 'dancing', 'dandy', 'dang', 'danger', 'dangerous', 'dangerously', 'dangling', 'dank', 'dao', 'daoine', 'dap', 'dar', 'dare', 'daring', 'dark', 'darken', 'darkening', 'darkling', 'darkness', 'darling', 'darn', 'darned', 'darts', 'das', 'dash', 'dashed', 'dashing', 'data', 'date', 'dateless', 'dating', 'daubing', 'daughter', 'daunting', 'dauphin', 'davenport', 'dawn', 'day', 'daydream', 'daylight', 'days', 'daytime', 'dazzlingly', 'de', 'dead', 'deadbeat', 'deadening', 'deadline', 'deadlock', 'deadly', 'deadpan', 'deaf', 'deafening', 'deal', 'dealer', 'dealership', 'dealing', 'dealt', 'dean', 'dear', 'dearie', 'dearth', 'death', 'deb', 'debacle', 'debatable', 'debate', 'debating', 'debility', 'debit', 'debris', 'debt', 'debtor', 'debunker', 'debut', 'decade', 'decadence', 'decadent', 'decarbonization', 'decay', 'decease', 'deceased', 'deceit', 'deceiving', 'decelerate', 'deceleration', 'decent', 'decently', 'decentralization', 'deception', 'deceptive', 'decide', 'decided', 'decidedly', 'decimal', 'decimation', 'decimeter', 'decipher', 'decipherer', 'decision', 'decisive', 'decisively', 'deck', 'declaration', 'declare', 'declared', 'declassify', 'decline', 'declined', 'decode', 'decompose', 'decompress', 'decompressing', 'decompression', 'decorate', 'decoration', 'decorative', 'decorator', 'decorum', 'decoy', 'decrease', 'decreasing', 'decreasingly', 'decree', 'decrepit', 'decried', 'decry', 'dedicate', 'dedication', 'deduce', 'deduct', 'deductible', 'deduction', 'dee', 'deed', 'deem', 'deep', 'deepen', 'deepening', 'deepish', 'deeply', 'deer', 'deface', 'defamation', 'default', 'defeat', 'defect', 'defection', 'defective', 'defector', 'defence', 'defend', 'defendant', 'defender', 'defenestration', 'defense', 'defensible', 'defensive', 'defer', 'deferral', 'deferred', 'deficiency', 'deficient', 'deficit', 'define', 'defined', 'definite', 'definitely', 'definition', 'definitional', 'definitive', 'definitively', 'deflation', 'deflect', 'deflected', 'deflection', 'deform', 'deformed', 'deft', 'deftly', 'defunct', 'defuse', 'deg', 'degenerate', 'degenerative', 'degrade', 'degraded', 'degree', 'delay', 'delaying', 'delegate', 'delegation', 'delete', 'deleterious', 'deletion', 'deliberate', 'deliberately', 'deliberation', 'delicacy', 'delicate', 'delicious', 'delight', 'delighted', 'delightful', 'delineation', 'delinquent', 'delirious', 'deliver', 'deliverable', 'delivery', 'dell', 'delta', 'delude', 'delusion', 'deluxe', 'delve', 'demand', 'demanding', 'demean', 'demeanor', 'demented', 'dementia', 'demi', 'demise', 'democracy', 'democrat', 'democratic', 'democratically', 'democratize', 'demographic', 'demography', 'demolition', 'demon', 'demonstrate', 'demonstration', 'demonstrative', 'demonstrativeness', 'demonstratory', 'demos', 'demurrage', 'den', 'deniable', 'denial', 'denigrate', 'denomination', 'denominator', 'denote', 'denounce', 'dense', 'densely', 'density', 'dent', 'dental', 'dentist', 'dentistry', 'deny', 'depart', 'departed', 'department', 'departure', 'depend', 'dependable', 'dependence', 'dependency', 'dependent', 'depending', 'depict', 'deplorable', 'deploy', 'deployment', 'deportation', 'depose', 'deposit', 'deposition', 'depositor', 'depot', 'depraved', 'depravity', 'deprecate', 'deprecation', 'depress', 'depressed', 'depressing', 'depression', 'depressive', 'depressiveness', 'deprivation', 'depth', 'deputy', 'dereliction', 'derisively', 'derivation', 'derivative', 'derive', 'derived', 'dermal', 'dermatitis', 'dermatologist', 'derogatorily', 'derogatory', 'derrick', 'derry', 'descend', 'descending', 'descent', 'describe', 'description', 'descriptive', 'desert', 'deserve', 'deserved', 'deservedly', 'deserving', 'design', 'designate', 'designation', 'designed', 'designer', 'designing', 'desirability', 'desirable', 'desire', 'desired', 'desist', 'desk', 'despair', 'desperate', 'desperately', 'desperation', 'despicable', 'despise', 'despite', 'despotic', 'dessert', 'destabilize', 'destination', 'destiny', 'destitution', 'destroy', 'destroyer', 'destruction', 'destructive', 'destructively', 'destructor', 'desultory', 'detachable', 'detached', 'detail', 'detailed', 'detain', 'detect', 'detectable', 'detection', 'detective', 'detector', 'detention', 'deter', 'detergent', 'deteriorate', 'deterioration', 'determination', 'determine', 'determined', 'determinism', 'deterministic', 'deterrence', 'deterrent', 'detest', 'detonate', 'detour', 'detract', 'detriment', 'detrimental', 'detritus', 'dev', 'devastate', 'devastating', 'devastation', 'develop', 'developer', 'development', 'developmental', 'deviate', 'deviation', 'device', 'devil', 'deviled', 'devious', 'devoid', 'devoir', 'devote', 'devoted', 'devotion', 'dew', 'dexter', 'dey', 'dha', 'di', 'diabetes', 'diabetic', 'diagnose', 'diagnosis', 'diagnostic', 'diagnostics', 'diagonal', 'diagonally', 'diagram', 'diagrammatic', 'dial', 'dialect', 'dialer', 'dialing', 'dialogue', 'dialysis', 'diameter', 'diametrically', 'diamond', 'diaper', 'diary', 'diatribe', 'dice', 'dich', 'dichas', 'dichotomy', 'dicing', 'dick', 'dickens', 'dicta', 'dictate', 'dictator', 'dictatorial', 'dictatorship', 'dictionary', 'diddy', 'didst', 'die', 'diehard', 'diem', 'diesel', 'diet', 'dietary', 'differ', 'difference', 'different', 'differential', 'differentiate', 'differentiation', 'differentiator', 'differently', 'difficile', 'difficult', 'difficulty', 'diffraction', 'diffuse', 'diffuser', 'diffusion', 'dig', 'digest', 'digestion', 'digestive', 'digging', 'digit', 'digital', 'digitally', 'digitize', 'digitizer', 'dignified', 'dignity', 'digress', 'digression', 'dilate', 'dildo', 'dilemma', 'diligence', 'diligent', 'dilute', 'diluted', 'dilution', 'dim', 'dime', 'dimension', 'dimensional', 'diminish', 'dimmed', 'dimorphism', 'dine', 'ding', 'dingy', 'dinheiro', 'dining', 'dinner', 'dinnertime', 'dinosaur', 'dint', 'dioxide', 'dip', 'diploma', 'diplomacy', 'diplomatic', 'diplomatically', 'dipped', 'dipping', 'dire', 'direct', 'directed', 'direction', 'directional', 'directive', 'directly', 'director', 'directory', 'dirk', 'dirt', 'dirty', 'dis', 'disability', 'disable', 'disabled', 'disabuse', 'disadvantage', 'disaffected', 'disagree', 'disagreeable', 'disagreed', 'disagreement', 'disallow', 'disappear', 'disappearance', 'disappearing', 'disappoint', 'disappointed', 'disappointing', 'disappointment', 'disapprobation', 'disarmed', 'disarray', 'disaster', 'disastrous', 'disavow', 'disavowal', 'disband', 'disburse', 'disbursement', 'disc', 'discard', 'discernible', 'discerning', 'discharge', 'disciplinary', 'discipline', 'disclaim', 'disclaimer', 'disclose', 'disclosed', 'disclosure', 'discomfort', 'disconnect', 'disconnected', 'discontent', 'discontinue', 'discontinuous', 'discount', 'discourage', 'discouraging', 'discourse', 'discover', 'discovered', 'discovery', 'discredit', 'discreet', 'discreetly', 'discrete', 'discretely', 'discretion', 'discretionary', 'discriminate', 'discriminating', 'discrimination', 'discriminator', 'discriminatory', 'discuss', 'discussion', 'disdain', 'disease', 'diseased', 'disengaged', 'disgrace', 'disgraceful', 'disguise', 'disguised', 'disgust', 'disgusted', 'disgusting', 'dish', 'disheartening', 'dishonest', 'disillusion', 'disincarnate', 'disintegrate', 'disintegration', 'disjoint', 'disjunct', 'disk', 'diskless', 'dislike', 'dismal', 'dismantle', 'dismiss', 'dismissal', 'dismissive', 'disobedience', 'disobey', 'disorder', 'disorderly', 'disorganization', 'disorientation', 'disparaging', 'disparate', 'disparity', 'dispatch', 'dispel', 'dispensation', 'dispense', 'dispenser', 'disperse', 'dispersed', 'dispersion', 'displace', 'displacement', 'display', 'displayed', 'displayer', 'displeased', 'displeasure', 'disposable', 'disposal', 'dispose', 'disposition', 'dispossession', 'dispute', 'disqualification', 'disqualify', 'disquieting', 'disregard', 'disrespectful', 'disrupt', 'disruption', 'disruptive', 'diss', 'dissatisfaction', 'dissatisfied', 'dissect', 'disseminate', 'dissemination', 'dissent', 'dissenting', 'dissertation', 'dissident', 'dissolve', 'dissolving', 'dissonance', 'dissuade', 'distance', 'distant', 'distasteful', 'distilled', 'distillery', 'distinct', 'distinction', 'distinctive', 'distinctly', 'distinguish', 'distinguished', 'distinguishing', 'distort', 'distorted', 'distortion', 'distract', 'distracted', 'distraction', 'distress', 'distressed', 'distressingly', 'distributable', 'distribute', 'distributed', 'distribution', 'distributor', 'district', 'distrust', 'disturb', 'disturbed', 'disturber', 'disturbing', 'disturbingly', 'disunity', 'dit', 'ditch', 'diter', 'ditto', 'diuretic', 'div', 'diva', 'dive', 'diver', 'divergent', 'divers', 'diverse', 'diversification', 'diversified', 'diversion', 'diversity', 'divert', 'diverting', 'divide', 'divided', 'dividend', 'dividing', 'dividual', 'divine', 'divinely', 'diving', 'division', 'divorce', 'divulge', 'divvy', 'dixie', 'dixit', 'doable', 'dob', 'doc', 'docent', 'dock', 'docket', 'doctor', 'doctoral', 'doctorate', 'doctrinal', 'doctrine', 'document', 'documentary', 'documentation', 'dod', 'dodd', 'dodder', 'dodge', 'dodgy', 'doe', 'dog', 'dogged', 'doggone', 'doggy', 'dogma', 'dogs', 'doit', 'dola', 'dole', 'doll', 'dollar', 'dolly', 'dolmen', 'dom', 'domain', 'dome', 'domestic', 'domestically', 'domestication', 'dominance', 'dominant', 'dominate', 'dominated', 'domination', 'dominion', 'domino', 'dominus', 'donate', 'donated', 'donation', 'done', 'donkey', 'donna', 'donor', 'dont', 'doodad', 'doodle', 'dooley', 'doom', 'doomsday', 'door', 'doorstep', 'doorway', 'dope', 'dorado', 'dorm', 'dormant', 'dormitory', 'dos', 'dosage', 'dose', 'dossier', 'dot', 'dote', 'dotted', 'double', 'doubled', 'doubletree', 'doubling', 'doubly', 'doubt', 'doubtful', 'doubting', 'doubtless', 'dough', 'doughnut', 'dour', 'douse', 'dover', 'dow', 'downer', 'downfall', 'downgrade', 'downhill', 'downline', 'downright', 'downside', 'downstairs', 'downstream', 'downtown', 'downtrodden', 'downturn', 'downward', 'dowry', 'doze', 'dozen', 'draft', 'drafter', 'drafting', 'drafty', 'drag', 'dragged', 'dragging', 'dragnet', 'dragon', 'drainage', 'drained', 'drake', 'drama', 'dramatic', 'dramatically', 'dramatics', 'dramatist', 'dramatize', 'drank', 'drastic', 'drastically', 'draught', 'draw', 'drawable', 'drawback', 'drawer', 'drawers', 'drawing', 'drawn', 'dread', 'dreadful', 'dream', 'dreamy', 'dress', 'dressed', 'dressing', 'drew', 'dried', 'drier', 'drift', 'drifting', 'driftwood', 'drill', 'drilling', 'drink', 'drinker', 'drinking', 'drip', 'dripping', 'drive', 'drivel', 'driven', 'driver', 'driveway', 'driving', 'droit', 'drollery', 'drool', 'drop', 'dropout', 'dropping', 'drought', 'drove', 'drown', 'drudgery', 'drug', 'drugless', 'drugstore', 'drum', 'drummer', 'drumming', 'drunk', 'drunken', 'drunkenness', 'drupal', 'dry', 'dual', 'dub', 'dubious', 'duck', 'duct', 'duction', 'dude', 'dudley', 'due', 'duel', 'dueling', 'duet', 'duff', 'dug', 'duit', 'duke', 'dulcimer', 'dull', 'duly', 'dum', 'dumb', 'dumbness', 'dummy', 'dump', 'dumping', 'dun', 'dune', 'dung', 'dungeon', 'dunne', 'duo', 'duopoly', 'dup', 'dupe', 'duplex', 'duplicate', 'duplication', 'durability', 'durable', 'durant', 'duration', 'duress', 'dusk', 'dust', 'dustbin', 'dusty', 'dutch', 'duty', 'duvet', 'dwarf', 'dwell', 'dweller', 'dwelling', 'dye', 'dying', 'dyke', 'dynamic', 'dynamically', 'dynamics', 'dynamism', 'dynamite', 'dynasty', 'dysfunction', 'ea', 'eager', 'eagerly', 'eagerness', 'eagle', 'ean', 'ear', 'earl', 'early', 'earn', 'earner', 'earnest', 'earning', 'earnings', 'earth', 'earthquake', 'ease', 'easel', 'easier', 'easiest', 'easily', 'east', 'easter', 'eastern', 'easy', 'eat', 'eaten', 'eating', 'eats', 'eavesdropping', 'ebb', 'ecad', 'eccentric', 'echinate', 'echo', 'eclectic', 'eclipse', 'ecliptic', 'ecological', 'ecologically', 'ecology', 'econometrics', 'economic', 'economical', 'economically', 'economics', 'economist', 'economy', 'ecosystem', 'ecstatic', 'ectomorph', 'eddy', 'edge', 'edged', 'edification', 'edifice', 'edit', 'edition', 'editor', 'editorial', 'editorially', 'educate', 'educated', 'education', 'educational', 'educator', 'eerily', 'effect', 'effective', 'effectively', 'effectiveness', 'effector', 'effects', 'effectual', 'effectuality', 'efficacious', 'efficaciousness', 'efficiency', 'efficient', 'efficiently', 'effort', 'effortless', 'effortlessly', 'eft', 'egad', 'egg', 'egghead', 'eggy', 'ego', 'egotistical', 'egregious', 'eh', 'eight', 'eighteen', 'eighteenth', 'eighth', 'eighty', 'either', 'ejaculation', 'eject', 'eke', 'el', 'elaborate', 'elaborately', 'elaine', 'elastic', 'elbow', 'eld', 'elder', 'elderly', 'eldest', 'elect', 'election', 'electoral', 'electric', 'electrical', 'electrically', 'electrician', 'electricity', 'electrification', 'electro', 'electrochemical', 'electrocute', 'electromagnetism', 'electron', 'electronic', 'electronics', 'eleemosynary', 'elegance', 'elegant', 'elegantly', 'element', 'elementary', 'elephant', 'elephantine', 'elevate', 'elevated', 'elevating', 'elevation', 'elevator', 'eleven', 'eleventh', 'elf', 'elfin', 'elicit', 'eligibility', 'eligible', 'eliminate', 'elimination', 'eliminator', 'elite', 'ellagic', 'elle', 'elliptic', 'elm', 'else', 'elsewhere', 'elusive', 'em', 'emanate', 'embark', 'embarrassed', 'embarrassing', 'embarrassment', 'embassy', 'embattled', 'embed', 'embezzlement', 'emblematic', 'embodiment', 'embrace', 'embracing', 'eme', 'emerge', 'emergence', 'emergency', 'emergent', 'emeritus', 'emigrate', 'emigration', 'eminent', 'eminently', 'emission', 'emit', 'emma', 'emotion', 'emotional', 'emotionally', 'empathy', 'emperor', 'emphasis', 'emphasize', 'emphatic', 'emphatically', 'emphysema', 'empire', 'empirical', 'employ', 'employed', 'employee', 'employer', 'employment', 'emporium', 'empower', 'emptiness', 'emptor', 'empty', 'emu', 'emulate', 'emulation', 'emulator', 'emulsifier', 'en', 'enable', 'enablement', 'enabler', 'enact', 'enamored', 'encapsulate', 'encapsulation', 'enchanting', 'enchantment', 'enclose', 'enclosure', 'encode', 'encounter', 'encourage', 'encouragement', 'encouraging', 'encroachment', 'encrypt', 'encryption', 'encyclopedia', 'end', 'endanger', 'endearing', 'endeavor', 'ended', 'ender', 'ending', 'endless', 'endlessly', 'endocrine', 'endomorph', 'endorse', 'endorsed', 'endorsement', 'endow', 'endurance', 'endure', 'enduring', 'enemy', 'energetic', 'energizer', 'energy', 'enforce', 'enforceable', 'enforced', 'enforcement', 'enforcer', 'engage', 'engaged', 'engagement', 'engaging', 'engender', 'engine', 'engineer', 'engineering', 'engram', 'engraving', 'enhance', 'enhanced', 'enhancement', 'enhancer', 'enigma', 'enigmatic', 'enjoy', 'enjoyable', 'enjoying', 'enjoyment', 'enlarge', 'enlargement', 'enlarging', 'enlighten', 'enlightened', 'enlightenment', 'enlist', 'enliven', 'enmity', 'enormity', 'enormous', 'enormously', 'enough', 'enquirer', 'enquiry', 'enraged', 'enriching', 'enroll', 'enrolled', 'enrollment', 'ensemble', 'ensign', 'ensue', 'ensure', 'entanglement', 'enter', 'entering', 'enterprise', 'enterprising', 'entertain', 'entertainer', 'entertaining', 'entertainment', 'enthralling', 'enthusiasm', 'enthusiast', 'enthusiastic', 'entice', 'enticing', 'entire', 'entirely', 'entirety', 'entitle', 'entitlement', 'entity', 'entourage', 'entrail', 'entrails', 'entrance', 'entrancing', 'entrant', 'entree', 'entrench', 'entrepreneur', 'entrepreneurial', 'entrepreneurship', 'entropy', 'entrust', 'entry', 'enumeration', 'envelope', 'enviable', 'envious', 'environment', 'environmental', 'environmentalism', 'environmentally', 'environs', 'envision', 'envoy', 'envy', 'enzymatic', 'epenthesis', 'ephedrine', 'ephemera', 'ephemeral', 'ephemeris', 'epic', 'epicenter', 'epicycle', 'epicyclic', 'epidemic', 'episode', 'episodic', 'epitaph', 'epithet', 'epitome', 'epoch', 'eponymous', 'equal', 'equaling', 'equality', 'equalizer', 'equally', 'equate', 'equation', 'equatorial', 'equilibria', 'equilibriate', 'equilibrium', 'equip', 'equipment', 'equitable', 'equitably', 'equity', 'equivalence', 'equivalent', 'equivocation', 'er', 'era', 'eradicate', 'eral', 'erase', 'erased', 'eraser', 'ere', 'erect', 'erectile', 'erection', 'eric', 'erode', 'eroded', 'erogenous', 'eros', 'erotic', 'erotica', 'err', 'errant', 'errata', 'erratic', 'erratically', 'erring', 'erroneous', 'erroneously', 'error', 'ers', 'erudite', 'erumpent', 'erupt', 'es', 'escalate', 'escalator', 'escapable', 'escapade', 'escape', 'escapism', 'escort', 'escrow', 'esoteric', 'esoterically', 'especially', 'espial', 'espionage', 'esquire', 'ess', 'essay', 'essence', 'essential', 'essentially', 'establish', 'established', 'establishment', 'estate', 'esteem', 'estimable', 'estimate', 'estimation', 'estrogen', 'eta', 'etch', 'eternal', 'eternally', 'eternity', 'ethane', 'ethanol', 'ether', 'ethic', 'ethical', 'ethically', 'ethics', 'ethnic', 'ethnically', 'ethnobotanical', 'ethnobotany', 'ethos', 'etiquette', 'etymology', 'eu', 'eucalyptus', 'euchre', 'euphonious', 'euphoria', 'euphoric', 'evacuate', 'evacuation', 'evader', 'evaluate', 'evaluation', 'evalue', 'evangelical', 'evangelize', 'evaporation', 'evasion', 'evasive', 'eve', 'even', 'evening', 'evenly', 'event', 'eventual', 'eventuality', 'eventually', 'ever', 'every', 'everybody', 'everyday', 'everyman', 'everyone', 'everything', 'everywhere', 'evidence', 'evident', 'evidently', 'evil', 'evince', 'eviscerate', 'evocate', 'evoe', 'evoke', 'evolution', 'evolutionary', 'evolvable', 'evolve', 'evolver', 'ewe', 'ex', 'exact', 'exactly', 'exaggerate', 'exaggerated', 'exaggeratedly', 'exaggeration', 'exam', 'examination', 'examine', 'examiner', 'examining', 'example', 'exasperated', 'exceed', 'exceeding', 'exceedingly', 'excel', 'excelente', 'excellence', 'excellency', 'excellent', 'excellently', 'except', 'excepting', 'exception', 'exceptional', 'exceptionally', 'excerpt', 'excess', 'excessive', 'excessively', 'exchange', 'exchangeable', 'excite', 'excited', 'excitedly', 'excitement', 'exciting', 'exclaim', 'exclamation', 'exclude', 'excluding', 'exclusion', 'exclusionary', 'exclusive', 'exclusively', 'exclusivity', 'excommunication', 'excoriation', 'excrement', 'excrete', 'excruciating', 'excursion', 'excuse', 'excusing', 'executable', 'execute', 'executed', 'execution', 'executive', 'exegesis', 'exemplar', 'exemplary', 'exempt', 'exemption', 'exercise', 'exert', 'exes', 'exhaust', 'exhausted', 'exhausting', 'exhaustion', 'exhaustive', 'exhibit', 'exhibition', 'exhibitor', 'exile', 'exist', 'existence', 'existent', 'existential', 'existentialist', 'exit', 'exodus', 'exorcist', 'exotic', 'expand', 'expanded', 'expanding', 'expanse', 'expansion', 'expansionism', 'expansive', 'expatiate', 'expatriate', 'expatriation', 'expect', 'expectancy', 'expectation', 'expectorant', 'expediently', 'expedite', 'expedited', 'expeditionary', 'expel', 'expend', 'expenditure', 'expense', 'expensive', 'experience', 'experienced', 'experiential', 'experiment', 'experimental', 'experimentally', 'experimentation', 'expert', 'expertly', 'expiration', 'expire', 'expiring', 'expiry', 'explain', 'explaining', 'explanation', 'explanatory', 'explication', 'explicit', 'explicitly', 'explode', 'exploded', 'exploit', 'exploitable', 'exploitation', 'exploration', 'explorator', 'explore', 'explorer', 'exploring', 'explosion', 'explosive', 'exponent', 'exponential', 'exponentially', 'export', 'exportable', 'expose', 'exposed', 'exposition', 'exposure', 'expound', 'express', 'expressed', 'expression', 'expressive', 'expressly', 'expressway', 'expropriation', 'expulsion', 'exquisite', 'exquisitely', 'extend', 'extended', 'extending', 'extensibility', 'extensible', 'extension', 'extensive', 'extensively', 'extent', 'exterior', 'extermination', 'extern', 'external', 'externality', 'externally', 'extinct', 'extinction', 'extinguish', 'extortion', 'extra', 'extract', 'extracted', 'extraction', 'extractor', 'extracurricular', 'extradition', 'extraneous', 'extraordinarily', 'extraordinary', 'extrapolate', 'extrapolation', 'extraterrestrial', 'extravagant', 'extravagantly', 'extravaganza', 'extreme', 'extremely', 'extremism', 'extremist', 'extremity', 'extricate', 'extrinsic', 'exuberance', 'ey', 'eye', 'eyeball', 'eyebrow', 'eyed', 'eyepiece', 'eyesight', 'eyewitness', 'eyn', 'fa', 'fable', 'fabric', 'fabricate', 'fabrication', 'fabulous', 'fabulously', 'facade', 'face', 'faced', 'faceless', 'facial', 'facile', 'facilitate', 'facility', 'facing', 'facsimile', 'fact', 'factor', 'factory', 'factual', 'factually', 'facultative', 'faculty', 'fad', 'faddish', 'fade', 'faded', 'fading', 'fae', 'faff', 'fail', 'failing', 'failure', 'faint', 'fainter', 'faintly', 'fair', 'fairer', 'fairly', 'fairness', 'fairy', 'faith', 'faithful', 'faithfully', 'faithless', 'fake', 'falcon', 'fall', 'fallacious', 'fallacy', 'fallback', 'fallen', 'falling', 'fallow', 'false', 'falsely', 'falter', 'faltering', 'fam', 'fame', 'familial', 'familiar', 'familiarity', 'family', 'famine', 'famous', 'famously', 'fan', 'fanatic', 'fanaticism', 'fancier', 'fanciful', 'fancy', 'fanfare', 'fang', 'fanning', 'fantasia', 'fantastic', 'fantastically', 'fantasy', 'far', 'faraway', 'farce', 'fare', 'farewell', 'farm', 'farmer', 'farming', 'farrow', 'farther', 'farthest', 'fascinated', 'fascinating', 'fascination', 'fascism', 'fascist', 'fashion', 'fashionable', 'fashionably', 'fashioned', 'fast', 'faster', 'fasting', 'fat', 'fatal', 'fatally', 'fate', 'fateful', 'father', 'fatherhood', 'fatherland', 'fatherless', 'fathom', 'fatigue', 'fatter', 'fatty', 'faucet', 'fault', 'faulty', 'faust', 'favor', 'favorable', 'favorably', 'favored', 'favoring', 'favorite', 'fay', 'fe', 'fear', 'feared', 'fearful', 'fearless', 'fearsome', 'feasibility', 'feasible', 'feast', 'feat', 'feather', 'feature', 'featured', 'fecal', 'fed', 'federal', 'federally', 'federation', 'fee', 'feed', 'feedback', 'feeding', 'feel', 'feeling', 'feign', 'felicity', 'fell', 'fellow', 'fellowship', 'felonious', 'felony', 'felt', 'female', 'feminist', 'fen', 'fence', 'fencing', 'fennel', 'ferocious', 'ferocity', 'ferret', 'ferry', 'fertile', 'fertility', 'fertilizer', 'fervently', 'fervor', 'fess', 'fest', 'fester', 'festival', 'festive', 'fet', 'fetch', 'fetched', 'fetching', 'fetish', 'feu', 'feud', 'feudal', 'fever', 'feverish', 'fey', 'fi', 'fiasco', 'fiat', 'fib', 'fiber', 'fice', 'fickle', 'fickleness', 'fiction', 'fictional', 'fictitious', 'fiddle', 'fiddling', 'fide', 'fidelity', 'fiduciary', 'fie', 'field', 'fierce', 'fiercely', 'fiery', 'fiesta', 'fife', 'fifo', 'fifteen', 'fifth', 'fifty', 'fig', 'fight', 'fighter', 'fighting', 'figure', 'figured', 'file', 'filemaker', 'filigree', 'filing', 'filings', 'fill', 'filled', 'filler', 'filling', 'film', 'filter', 'filtering', 'filth', 'filthy', 'fin', 'final', 'finalist', 'finalize', 'finally', 'finance', 'financial', 'financially', 'find', 'finder', 'finding', 'fine', 'finely', 'finer', 'finger', 'fingernail', 'fingerprint', 'fingerprinting', 'finish', 'finished', 'finishing', 'finite', 'fink', 'finland', 'fire', 'fireball', 'firebird', 'firebrick', 'fired', 'fireplace', 'firepower', 'fireproof', 'fireside', 'firing', 'firm', 'firmament', 'firmer', 'firmly', 'first', 'firstly', 'fiscal', 'fiscally', 'fish', 'fisher', 'fisherman', 'fishing', 'fishman', 'fishy', 'fist', 'fisted', 'fit', 'fitch', 'fitness', 'fitted', 'fitter', 'fitting', 'five', 'fivefold', 'fix', 'fixable', 'fixation', 'fixed', 'fixer', 'fixing', 'fizzle', 'fizzy', 'flabby', 'flaccid', 'flag', 'flagellation', 'flagging', 'flagrant', 'flagship', 'flair', 'flake', 'flakiness', 'flaky', 'flamboyantly', 'flame', 'flamed', 'flamenco', 'flamer', 'flaming', 'flamingo', 'flan', 'flannel', 'flap', 'flare', 'flash', 'flashing', 'flashlight', 'flashy', 'flat', 'flatten', 'flattening', 'flattering', 'flatware', 'flavor', 'flavored', 'flavorful', 'flavour', 'flaw', 'flawed', 'flawlessly', 'fledgling', 'flee', 'fleece', 'fleet', 'fleeting', 'flesh', 'fleshless', 'fletcher', 'flew', 'flex', 'flexibility', 'flexible', 'flick', 'flier', 'flight', 'flimsy', 'flint', 'flip', 'flippant', 'flirt', 'flirting', 'flix', 'float', 'floating', 'flock', 'flocking', 'flog', 'flogging', 'flood', 'flooded', 'floodgate', 'flooding', 'floor', 'flop', 'floppy', 'flora', 'floral', 'florence', 'florescent', 'floss', 'flossing', 'flour', 'flourish', 'flourishing', 'flow', 'flower', 'flowering', 'flowerist', 'flowery', 'flowing', 'flown', 'fluctuate', 'fluent', 'fluff', 'fluid', 'fluke', 'flung', 'fluorescent', 'flurry', 'flush', 'flutter', 'flux', 'fly', 'flyer', 'flying', 'foam', 'foamer', 'foaming', 'fob', 'focal', 'focus', 'fod', 'foe', 'foeman', 'fog', 'foggy', 'foil', 'foist', 'fold', 'folded', 'folder', 'folding', 'folk', 'folklore', 'follow', 'following', 'folly', 'foment', 'font', 'foo', 'food', 'fool', 'foolish', 'foolishly', 'foolishness', 'foolproof', 'foot', 'footage', 'football', 'footed', 'footer', 'footing', 'footnote', 'footprint', 'footwear', 'fop', 'fora', 'foray', 'forbid', 'forbidden', 'forbidding', 'force', 'forced', 'forcefully', 'forcibly', 'forcing', 'ford', 'forebrain', 'forecast', 'forecasting', 'foreclosure', 'forefront', 'forego', 'foregoing', 'foregone', 'foreground', 'forehead', 'foreign', 'foreigner', 'foremost', 'forensic', 'foresee', 'foreseeable', 'foresight', 'foreskin', 'forest', 'forestall', 'forestry', 'forever', 'foreword', 'forfeit', 'forfeits', 'forge', 'forged', 'forgery', 'forget', 'forgetful', 'forgetting', 'forging', 'forgive', 'forgiveness', 'forgiving', 'forgo', 'forgot', 'forgotten', 'fork', 'forked', 'forker', 'form', 'formal', 'formaldehyde', 'formally', 'format', 'formate', 'formation', 'formative', 'formed', 'former', 'formerly', 'formidable', 'forming', 'formula', 'formulation', 'fort', 'forte', 'forth', 'forthcoming', 'forthright', 'forthrightly', 'forties', 'fortis', 'fortitude', 'fortnight', 'fortunate', 'fortunately', 'fortune', 'forty', 'forum', 'forward', 'forwarder', 'forwarding', 'forwards', 'fossil', 'fossilization', 'foster', 'fostering', 'fou', 'fought', 'foul', 'found', 'foundation', 'foundational', 'founder', 'founding', 'foundry', 'fountain', 'fountainhead', 'four', 'fourteen', 'fourth', 'fowl', 'fowler', 'fox', 'foy', 'fra', 'fraction', 'fracture', 'fragile', 'fragility', 'fragment', 'fragmentation', 'fragmented', 'fragrance', 'frail', 'frame', 'framea', 'framed', 'framework', 'franchise', 'frank', 'franklin', 'frankly', 'frantic', 'frantically', 'frat', 'fraternity', 'fraud', 'fraudulent', 'frayed', 'freak', 'freakish', 'freaky', 'frederik', 'free', 'freed', 'freedom', 'freeing', 'freely', 'freeman', 'freer', 'freeway', 'freeze', 'freezer', 'freezing', 'freight', 'frenzied', 'frenzy', 'frequency', 'frequent', 'frequently', 'fresco', 'fresh', 'freshly', 'freshman', 'freshness', 'fresno', 'fret', 'frette', 'fretting', 'friction', 'fried', 'friend', 'friendless', 'friendliness', 'friendly', 'friendship', 'frieze', 'fright', 'frightening', 'frigidity', 'frill', 'frilly', 'frim', 'fringe', 'frivolity', 'frivolous', 'fro', 'frog', 'froggy', 'frolic', 'front', 'frontal', 'fronted', 'frontier', 'fronting', 'frost', 'frosty', 'froth', 'frown', 'frowning', 'froze', 'frozen', 'fructose', 'frugality', 'fruit', 'fruitful', 'fruition', 'fruitless', 'frustrate', 'frustration', 'fry', 'fu', 'fud', 'fudge', 'fuel', 'fugitive', 'fuji', 'fulcrum', 'fulfill', 'fulfillment', 'fulham', 'full', 'fuller', 'fully', 'fumble', 'fun', 'function', 'functional', 'functionality', 'functionally', 'fund', 'fundamental', 'fundamentalism', 'fundamentalist', 'fundamentally', 'funded', 'funds', 'funeral', 'fungus', 'funk', 'funky', 'funnel', 'funniness', 'funny', 'fur', 'furious', 'furless', 'furnish', 'furnished', 'furnishing', 'furniture', 'furry', 'furtherance', 'furthermore', 'fuse', 'fusion', 'fuss', 'fussiness', 'fussy', 'futile', 'futility', 'future', 'futuristic', 'fuzziness', 'fuzzy', 'ga', 'gab', 'gabber', 'gadget', 'gag', 'gage', 'gain', 'gainer', 'gaining', 'gains', 'gal', 'galactic', 'galatea', 'galaxy', 'gall', 'galled', 'gallery', 'galley', 'galling', 'gallon', 'galore', 'galt', 'gam', 'gamb', 'gambia', 'gambit', 'gamble', 'gambler', 'gambling', 'game', 'gamely', 'gaming', 'gamma', 'gamut', 'gan', 'gander', 'gang', 'ganga', 'gangster', 'ganja', 'gap', 'gaping', 'gappy', 'gar', 'garage', 'garbage', 'garble', 'garden', 'gardener', 'gardening', 'garland', 'garner', 'garrison', 'garrulous', 'gas', 'gash', 'gasoline', 'gasp', 'gasping', 'gastrointestinal', 'gate', 'gated', 'gatekeeper', 'gateway', 'gather', 'gatherer', 'gathering', 'gating', 'gator', 'gaudy', 'gauge', 'gauging', 'gault', 'gauntlet', 'gauzy', 'gave', 'gaw', 'gay', 'gaz', 'gaze', 'gazette', 'gazing', 'ge', 'gear', 'geared', 'gearing', 'gecko', 'ged', 'gee', 'geek', 'geezer', 'gel', 'gelatinous', 'geld', 'gem', 'gen', 'gender', 'gene', 'genealogy', 'general', 'generality', 'generalization', 'generalize', 'generalized', 'generally', 'generate', 'generating', 'generation', 'generational', 'generator', 'generic', 'generically', 'generosity', 'generous', 'generously', 'genesis', 'genetic', 'genetically', 'geneticist', 'genetics', 'geneva', 'genial', 'genially', 'genie', 'genital', 'genitals', 'genius', 'genocide', 'genom', 'genome', 'genre', 'gent', 'genteel', 'gentile', 'gentle', 'gentleman', 'gentleness', 'gently', 'gentry', 'genu', 'genuine', 'genuinely', 'genus', 'geo', 'geode', 'geodesic', 'geodesy', 'geodetic', 'geographic', 'geographical', 'geography', 'geological', 'geology', 'geometric', 'geometrically', 'geometry', 'geothermal', 'ger', 'geriatric', 'germ', 'german', 'germane', 'gerontocracy', 'gestation', 'gestion', 'gesture', 'get', 'getaway', 'gether', 'getter', 'getting', 'ghastly', 'ghetto', 'ghost', 'ghostly', 'ghoulish', 'giant', 'gibberish', 'gibbon', 'gid', 'gie', 'gif', 'gift', 'gifted', 'giftware', 'gig', 'gigantic', 'giggle', 'gilbert', 'gilded', 'gill', 'gimble', 'gimmick', 'gimp', 'gin', 'ging', 'ginger', 'gingerly', 'ginseng', 'gip', 'giraffe', 'gird', 'girl', 'giro', 'girth', 'gish', 'gist', 'give', 'giveaway', 'given', 'giving', 'glacier', 'glad', 'glade', 'gladiator', 'gladly', 'glamorous', 'glance', 'glancing', 'gland', 'glans', 'glare', 'glass', 'glasses', 'gleam', 'gleaming', 'glean', 'glee', 'gleeful', 'gleefully', 'glen', 'glib', 'glimmer', 'glimpse', 'glitter', 'glittering', 'glittery', 'gloating', 'global', 'globally', 'globe', 'gloom', 'gloomy', 'glorify', 'glorious', 'glory', 'gloss', 'glossary', 'glossed', 'glossy', 'glove', 'glover', 'glow', 'glowing', 'glub', 'glucose', 'glue', 'glued', 'glut', 'glutton', 'glyph', 'gnarly', 'gnat', 'gnome', 'gnosis', 'gnu', 'go', 'goa', 'goal', 'goalkeeper', 'goat', 'goatweed', 'goback', 'god', 'goddard', 'goddess', 'godless', 'godly', 'godsend', 'goes', 'goff', 'goggle', 'going', 'gold', 'golden', 'goldie', 'goldilocks', 'goldsmith', 'golf', 'gone', 'gong', 'goo', 'good', 'goodly', 'goodman', 'goodness', 'goods', 'goodwill', 'goof', 'goofy', 'goon', 'goran', 'gore', 'gorgeous', 'gory', 'gosh', 'gosling', 'gospel', 'gossip', 'got', 'gotten', 'gourmet', 'govern', 'governance', 'governing', 'government', 'governmental', 'governmentally', 'governor', 'gown', 'grab', 'grabber', 'grace', 'graceful', 'gracefully', 'gracious', 'grad', 'grade', 'graded', 'grader', 'gradual', 'gradually', 'graduate', 'graduated', 'graduation', 'graff', 'graft', 'grafted', 'grafting', 'graham', 'grain', 'grained', 'grainy', 'gram', 'grammar', 'gramophone', 'grampa', 'grand', 'granddaughter', 'grandfather', 'grandiose', 'grandma', 'grandmother', 'grandson', 'grange', 'granger', 'granite', 'grant', 'granular', 'granularity', 'grape', 'grapefruit', 'grapevine', 'graph', 'graphic', 'graphical', 'graphically', 'graphics', 'graphite', 'grappling', 'grasp', 'grass', 'grasshopper', 'grat', 'grateful', 'gratefully', 'gratefulness', 'grater', 'gratification', 'gratifying', 'gratis', 'gratitude', 'gratuitous', 'gratuitously', 'grave', 'gravel', 'gravelly', 'gravitational', 'gravitationally', 'gravity', 'gravy', 'gray', 'graze', 'grease', 'greasy', 'great', 'greater', 'greatly', 'greatness', 'greed', 'greedy', 'green', 'greener', 'greenery', 'greenhouse', 'greenish', 'greenstone', 'greeting', 'grenade', 'grew', 'grey', 'grid', 'grief', 'grievance', 'grieve', 'grieving', 'grievous', 'griffin', 'grifter', 'grill', 'grille', 'grim', 'grin', 'grinch', 'grind', 'grinding', 'gringo', 'grip', 'gripper', 'gritty', 'grizzly', 'groan', 'groaning', 'grocery', 'groom', 'groove', 'groovy', 'gross', 'grossly', 'grotesque', 'ground', 'grounded', 'grounding', 'grounds', 'group', 'grouped', 'grouping', 'grove', 'grow', 'growed', 'growing', 'growling', 'grown', 'growth', 'grr', 'grub', 'grubs', 'grudge', 'grudgingly', 'gruel', 'grueling', 'gruesome', 'gruff', 'grumble', 'grumbling', 'grumblingly', 'grun', 'grundy', 'grunt', 'grunting', 'gruntled', 'guara', 'guarantee', 'guaranty', 'guard', 'guarded', 'guardian', 'guarding', 'gubernatorial', 'gud', 'guerrilla', 'guess', 'guessable', 'guessing', 'guesswork', 'guest', 'guidance', 'guide', 'guidebook', 'guild', 'guilt', 'guilty', 'guinea', 'guise', 'guitar', 'gul', 'gulf', 'gum', 'gumming', 'gummy', 'gun', 'gunfire', 'gunshot', 'guru', 'gushing', 'gut', 'guy', 'guz', 'gym', 'gypsy', 'ha', 'habeas', 'habit', 'habitat', 'habitual', 'habitually', 'hack', 'hacked', 'hacker', 'hackery', 'hacking', 'hackney', 'hacksaw', 'hah', 'hail', 'hain', 'hair', 'haircut', 'hairdo', 'hairless', 'hairy', 'halcyon', 'hale', 'half', 'halfpenny', 'halfway', 'hall', 'hallelujah', 'hallmark', 'hallucination', 'hallucinatory', 'hallway', 'halo', 'halt', 'halting', 'halved', 'halves', 'ham', 'hamburger', 'hamlet', 'hammer', 'hammock', 'hamper', 'hamster', 'hamza', 'han', 'hand', 'handbook', 'handed', 'handful', 'handicapped', 'handiness', 'handle', 'handled', 'handler', 'handling', 'handout', 'handprint', 'handset', 'handshake', 'handsome', 'handsomely', 'handspring', 'handwriting', 'handy', 'hanging', 'hangout', 'hank', 'hanna', 'haphazard', 'haphazardly', 'hapless', 'happen', 'happening', 'happier', 'happiest', 'happily', 'happiness', 'happy', 'harassment', 'harbinger', 'harbor', 'harbour', 'hard', 'harden', 'hardening', 'harder', 'hardly', 'hardware', 'hardy', 'hare', 'harem', 'harm', 'harman', 'harmful', 'harmless', 'harmonic', 'harmonize', 'harmony', 'harness', 'harp', 'harper', 'harpsichord', 'harrow', 'harry', 'harsh', 'harshly', 'harshness', 'harvest', 'hasan', 'hash', 'hassle', 'hasten', 'hastily', 'hasty', 'hat', 'hatch', 'hatching', 'hatchling', 'hate', 'hateful', 'hater', 'hatpin', 'hatred', 'haul', 'haunt', 'hauntingly', 'hause', 'havoc', 'haw', 'hawk', 'hawking', 'hawkish', 'hay', 'haywire', 'hazard', 'hazardous', 'haze', 'hazen', 'hazily', 'hazy', 'head', 'headache', 'headed', 'header', 'heading', 'headless', 'headline', 'headlong', 'headphone', 'headquarters', 'headroom', 'headset', 'headstock', 'headway', 'heady', 'heal', 'healer', 'healing', 'health', 'healthy', 'heap', 'heaps', 'hear', 'hearer', 'hearing', 'heart', 'heartbeat', 'hearted', 'heartedly', 'heartfelt', 'heartless', 'hearts', 'heartthrob', 'hearty', 'heat', 'heatedly', 'heater', 'heath', 'heathen', 'heather', 'heating', 'heaven', 'heavenly', 'heavens', 'heavily', 'heavy', 'heavyweight', 'heck', 'hectare', 'hectic', 'hedge', 'heed', 'heehaw', 'heel', 'heeze', 'hefty', 'hegemony', 'hei', 'height', 'heighten', 'heinous', 'heir', 'helical', 'helicopter', 'helium', 'helix', 'hell', 'heller', 'hello', 'helmet', 'help', 'helper', 'helpful', 'helpfully', 'helpfulness', 'helping', 'helpless', 'helve', 'hem', 'hemisphere', 'hemispherical', 'hemlock', 'hemorrhoid', 'hemostatic', 'hemp', 'hen', 'hence', 'henceforth', 'henry', 'hepatitis', 'herald', 'herb', 'herbaceous', 'herbal', 'herbalist', 'herd', 'hereafter', 'hereby', 'hereditary', 'herein', 'hereinabove', 'hereof', 'heresy', 'heretical', 'hereto', 'heretofore', 'hereunder', 'herewith', 'heritage', 'hernia', 'hero', 'heroic', 'heroin', 'heroism', 'herpes', 'hertz', 'hesitant', 'hesitate', 'hesitating', 'het', 'hetero', 'heterodyne', 'heterogeneous', 'heterosexual', 'hew', 'hex', 'hey', 'heyday', 'hi', 'hiatal', 'hiatus', 'hibernate', 'hiccup', 'hickey', 'hickory', 'hidden', 'hide', 'hideous', 'hideously', 'hie', 'hierarchically', 'hierarchy', 'high', 'higher', 'highest', 'highlight', 'highly', 'hight', 'highway', 'hijack', 'hike', 'hiker', 'hilarious', 'hilarity', 'hill', 'hin', 'hind', 'hinder', 'hindrance', 'hindsight', 'hing', 'hinge', 'hingle', 'hinny', 'hint', 'hinter', 'hip', 'hippopotamus', 'hippy', 'hire', 'hired', 'hiro', 'hissing', 'hist', 'histogram', 'historian', 'historic', 'historical', 'historically', 'history', 'hit', 'hitch', 'hither', 'hitherto', 'hitter', 'hive', 'ho', 'hoard', 'hoarding', 'hoax', 'hob', 'hobby', 'hobnob', 'hobo', 'hockey', 'hocus', 'hod', 'hodiernal', 'hog', 'hogged', 'hoist', 'hokey', 'hold', 'holden', 'holder', 'holding', 'holdover', 'hole', 'holiday', 'holistic', 'holistically', 'hollow', 'holly', 'holm', 'holocaust', 'holographic', 'holt', 'holy', 'homage', 'home', 'homeland', 'homeless', 'homely', 'homemade', 'homemaker', 'homeostasis', 'homeowner', 'homer', 'homesick', 'homesickness', 'homesite', 'homestead', 'homework', 'homicidal', 'homicide', 'homo', 'homogeneous', 'homogenous', 'homogony', 'homosexual', 'homosexualist', 'homosexuality', 'honda', 'hone', 'honest', 'honestly', 'honesty', 'honey', 'honeymoon', 'honeypot', 'hong', 'honk', 'honor', 'honorable', 'honorary', 'hood', 'hooded', 'hoodlum', 'hooey', 'hook', 'hookah', 'hooked', 'hookup', 'hoopla', 'hoose', 'hoot', 'hop', 'hope', 'hoped', 'hopeful', 'hopefully', 'hopeless', 'hopelessness', 'hopscotch', 'horde', 'horizon', 'horizontal', 'horizontally', 'hormone', 'horn', 'horny', 'horologium', 'horoscope', 'horrendous', 'horrible', 'horribly', 'horrid', 'horrific', 'horror', 'horse', 'horseman', 'horsepower', 'hose', 'hosed', 'hospitable', 'hospital', 'hospitality', 'host', 'hostage', 'hostess', 'hostile', 'hostility', 'hosting', 'hot', 'hotbed', 'hotel', 'hotter', 'hounding', 'hour', 'hourly', 'house', 'household', 'housekeeper', 'housekeeping', 'housewares', 'housing', 'hover', 'hovering', 'howdie', 'howe', 'however', 'howl', 'hoyle', 'hub', 'hubble', 'hubbub', 'huckleberry', 'huddle', 'hug', 'huge', 'hugely', 'hugger', 'huh', 'hula', 'hulk', 'hulking', 'hum', 'human', 'humanist', 'humanitarian', 'humanity', 'humanlike', 'humanoid', 'humble', 'humbly', 'humid', 'humidifier', 'humidity', 'humiliate', 'humiliating', 'humility', 'humor', 'humorous', 'humour', 'hump', 'hunch', 'hundred', 'hung', 'hunger', 'hungry', 'hunk', 'hunt', 'hunting', 'huntsman', 'hurdle', 'hurled', 'hurley', 'hurling', 'hurrah', 'hurricane', 'hurry', 'hurst', 'hurt', 'hurting', 'husband', 'hush', 'hustle', 'hustler', 'hut', 'hybrid', 'hydraulic', 'hydraulics', 'hydro', 'hydrocarbon', 'hydrochloric', 'hydrogen', 'hydrology', 'hydrosphere', 'hygiene', 'hymn', 'hyp', 'hyper', 'hyperactive', 'hyperbole', 'hypercube', 'hyperirritability', 'hypertension', 'hyphenated', 'hypnosis', 'hypochondriac', 'hypocrisy', 'hypocrite', 'hypocritical', 'hypodermic', 'hypotheses', 'hypothesis', 'hypothetical', 'hysteria', 'hysterical', 'iao', 'ice', 'iceberg', 'iced', 'iceland', 'ich', 'icing', 'icon', 'iconoclast', 'icy', 'id', 'ide', 'idea', 'ideal', 'idealism', 'idealist', 'idealistically', 'ideally', 'identical', 'identically', 'identification', 'identifier', 'identify', 'identity', 'ideological', 'ideologically', 'ideologue', 'ideology', 'ides', 'idiocy', 'idiot', 'idiotic', 'idiotically', 'idle', 'idleness', 'idly', 'idol', 'ie', 'iffy', 'ignite', 'ignition', 'ignoble', 'ignominiously', 'ignoramus', 'ignorance', 'ignorant', 'ignore', 'ilk', 'ill', 'illegal', 'illegality', 'illegally', 'illegitimate', 'illicit', 'illicitly', 'illiteracy', 'illiterate', 'illness', 'illogical', 'illume', 'illuminate', 'illuminated', 'illusion', 'illusionist', 'illustrate', 'illustration', 'illustrative', 'illustrator', 'image', 'imagery', 'imaginary', 'imagination', 'imaginative', 'imagine', 'imam', 'imbalance', 'imitable', 'imitate', 'imitation', 'immaterial', 'immeasurably', 'immediacy', 'immediate', 'immediately', 'immense', 'immensely', 'immerse', 'immigrant', 'immigration', 'imminent', 'immoral', 'immortal', 'immortality', 'immune', 'immunity', 'immunization', 'immunize', 'immutable', 'imp', 'impact', 'impacted', 'impair', 'impaler', 'impanel', 'impart', 'impartial', 'impartially', 'impatient', 'impeccable', 'impede', 'impediment', 'impending', 'imperative', 'imperfect', 'imperial', 'imperialism', 'imperialist', 'imperialistic', 'imperil', 'impermanence', 'impersonate', 'impersonation', 'impertinent', 'impervious', 'impetus', 'implant', 'implausible', 'implement', 'implementation', 'implication', 'implicit', 'implicitly', 'implode', 'implore', 'imploring', 'implosion', 'imply', 'impolite', 'import', 'importable', 'importance', 'important', 'importantly', 'importation', 'importer', 'impose', 'imposing', 'imposition', 'impossibility', 'impossible', 'impossibly', 'impotence', 'impotency', 'impotent', 'impractical', 'imprecise', 'impresario', 'impress', 'impression', 'impressive', 'imprint', 'imprison', 'imprisonment', 'improbable', 'improper', 'improperly', 'improve', 'improvement', 'improving', 'impudent', 'impulse', 'impunity', 'impure', 'inability', 'inaccessible', 'inaccurate', 'inaccurately', 'inaction', 'inactivate', 'inactive', 'inadequacy', 'inadequate', 'inadvertently', 'inane', 'inappropriate', 'inappropriately', 'inapt', 'inarticulate', 'inasmuch', 'inaugural', 'inbound', 'inbuilt', 'incantation', 'incapable', 'incarceration', 'incarnation', 'incase', 'incendiary', 'incentive', 'inception', 'incessant', 'incest', 'inch', 'incidence', 'incident', 'incidental', 'incidentally', 'incidently', 'incineration', 'inclination', 'include', 'included', 'inclusion', 'inclusive', 'incognito', 'incoherent', 'income', 'incoming', 'incommunicado', 'incomparable', 'incompatibility', 'incompatible', 'incompetence', 'incompetent', 'incomplete', 'incomprehensible', 'inconceivable', 'inconsistent', 'inconspicuous', 'incontinence', 'incontinent', 'inconvenience', 'inconvenient', 'incorporate', 'incorporated', 'incorporation', 'incorporeal', 'incorrect', 'incorrectly', 'increase', 'increasing', 'increasingly', 'incredible', 'incredibly', 'incredulity', 'incredulous', 'incredulously', 'increment', 'incremental', 'incubate', 'incubator', 'incumbent', 'incunabula', 'incur', 'incurable', 'incursion', 'inde', 'indebted', 'indecent', 'indeed', 'indeedy', 'indefatigable', 'indefinite', 'indefinitely', 'indelicate', 'indemnification', 'indent', 'indentation', 'indented', 'independence', 'independent', 'independently', 'indestructible', 'indeterminate', 'index', 'indexed', 'indexer', 'indexing', 'indicate', 'indication', 'indicative', 'indicator', 'indices', 'indictment', 'indifference', 'indifferent', 'indigenous', 'indigent', 'indignant', 'indignantly', 'indigo', 'indirect', 'indirectly', 'indiscriminate', 'indispensable', 'indisputable', 'indistinguishable', 'individual', 'individualism', 'individuality', 'individually', 'indoctrination', 'indomitable', 'indoor', 'induce', 'induced', 'inductive', 'indulge', 'indulgence', 'indulgent', 'industrial', 'industrialist', 'industrialization', 'industrious', 'industry', 'indy', 'ineffective', 'ineffectual', 'inefficient', 'ineligible', 'ineptly', 'inequality', 'inequity', 'inertial', 'inescapable', 'inessential', 'inevitability', 'inevitable', 'inevitably', 'inexcusable', 'inexorably', 'inexpensive', 'inexpensively', 'inexperience', 'inexperienced', 'inexplicable', 'inexplicably', 'infallibility', 'infamous', 'infamy', 'infancy', 'infant', 'infanticide', 'infantry', 'infatuation', 'infect', 'infected', 'infection', 'infectious', 'infer', 'inferior', 'inferno', 'infestation', 'infield', 'infighting', 'infiltrate', 'infinite', 'infinitely', 'infinity', 'inflaming', 'inflammation', 'inflammatory', 'inflate', 'inflated', 'inflation', 'inflationary', 'inflexibly', 'influence', 'influential', 'influx', 'inform', 'informal', 'informally', 'informant', 'information', 'informational', 'informative', 'informed', 'informer', 'infrared', 'infrastructure', 'infrequent', 'infrequently', 'infringe', 'infringement', 'infuriate', 'infusion', 'ing', 'ingenious', 'ingeniously', 'ingenue', 'ingenuity', 'ingestible', 'ingredient', 'inhabit', 'inhabited', 'inhalation', 'inhale', 'inherent', 'inherently', 'inherit', 'inheritance', 'inheritor', 'inhibit', 'inhibitor', 'inhuman', 'inhumanity', 'inimitable', 'initial', 'initialize', 'initially', 'initiate', 'initiation', 'initiative', 'inject', 'injectable', 'injection', 'injunction', 'injure', 'injured', 'injury', 'injustice', 'ink', 'inks', 'inkslinger', 'inlaid', 'inlet', 'inn', 'innate', 'inner', 'innocence', 'innocent', 'innocently', 'innocuous', 'innovate', 'innovation', 'innovative', 'innuendo', 'innumerable', 'inoffensive', 'inoperable', 'input', 'inquire', 'inquirer', 'inquiring', 'inquiry', 'inquisition', 'insane', 'insanely', 'insanity', 'insatiable', 'inscription', 'inscrutable', 'insect', 'insecure', 'insecurity', 'insensitive', 'insert', 'inserted', 'insertion', 'inset', 'inside', 'insider', 'insidious', 'insidiously', 'insight', 'insightful', 'insignificant', 'insinuate', 'insipid', 'insist', 'insistence', 'insofar', 'insolvency', 'insomnia', 'inspect', 'inspection', 'inspector', 'inspiration', 'inspirational', 'inspire', 'inspired', 'inspiring', 'instability', 'install', 'installation', 'installer', 'installment', 'instance', 'instant', 'instantaneous', 'instantly', 'instead', 'instill', 'instinct', 'instinctive', 'institute', 'institution', 'institutional', 'instruct', 'instructed', 'instruction', 'instructional', 'instructive', 'instructor', 'instrument', 'instrumental', 'instrumentation', 'insufficient', 'insular', 'insulation', 'insulator', 'insulin', 'insult', 'insulting', 'insurance', 'insure', 'insured', 'intact', 'intake', 'integer', 'integral', 'integrate', 'integration', 'integrator', 'integrity', 'intellectual', 'intellectualism', 'intellectually', 'intelligence', 'intelligent', 'intelligently', 'intelligible', 'intend', 'intended', 'intending', 'intense', 'intensely', 'intensifier', 'intensify', 'intensity', 'intensive', 'intent', 'intention', 'intentionally', 'intentioned', 'inter', 'interact', 'interaction', 'interactive', 'interactivity', 'interagency', 'intercept', 'intercepting', 'interchangeable', 'interconnect', 'interconnection', 'intercourse', 'interdict', 'interest', 'interested', 'interesting', 'interestingly', 'interface', 'interfere', 'interference', 'interfering', 'intergovernmental', 'interim', 'interior', 'interject', 'interlink', 'interlude', 'intermediary', 'intermediate', 'interminable', 'intermittent', 'intermittently', 'intern', 'internal', 'internalize', 'internally', 'internals', 'international', 'internationalism', 'internationalization', 'internationally', 'internship', 'interplay', 'interpret', 'interpretation', 'interpreter', 'interpretive', 'interrogate', 'interrupt', 'interrupted', 'interruption', 'interscholastic', 'intersect', 'intersection', 'interstate', 'interval', 'intervene', 'intervention', 'interventionist', 'interview', 'interviewer', 'interwoven', 'interzone', 'intestinal', 'intimacy', 'intimate', 'intimately', 'intimidate', 'intimidation', 'intolerable', 'intolerance', 'intoxicated', 'intoxicating', 'intoxication', 'intracoastal', 'intractable', 'intransitive', 'intrepid', 'intricate', 'intricately', 'intrigue', 'intriguing', 'intriguingly', 'intrinsic', 'intrinsically', 'introduce', 'introduction', 'introductory', 'introspection', 'intruder', 'intruding', 'intrusion', 'intrusive', 'intrusively', 'intuition', 'intuitive', 'intuitively', 'inundation', 'inure', 'invade', 'invader', 'invalid', 'invalidity', 'invaluable', 'invariably', 'invariant', 'invasion', 'invasive', 'invective', 'invent', 'invention', 'inventiveness', 'inventor', 'inventory', 'inverse', 'inversely', 'inversion', 'invert', 'inverted', 'invest', 'investigate', 'investigating', 'investigation', 'investigative', 'investigator', 'investment', 'investor', 'invigor', 'invincible', 'invisible', 'invisibly', 'invitation', 'invite', 'inviting', 'invocation', 'invoice', 'invoke', 'involuntary', 'involution', 'involve', 'involved', 'involvement', 'invulnerability', 'inward', 'io', 'ion', 'ipid', 'irate', 'ire', 'irenic', 'iridium', 'irk', 'iron', 'ironclad', 'ironically', 'irony', 'irradiated', 'irrational', 'irrationality', 'irreconcilable', 'irreducible', 'irrefutable', 'irregular', 'irrelevance', 'irrelevancy', 'irrelevant', 'irreparably', 'irrepressible', 'irresistible', 'irrespective', 'irresponsibility', 'irresponsible', 'irreverently', 'irreversible', 'irritable', 'irritating', 'irritation', 'island', 'isle', 'ism', 'iso', 'isolate', 'isolated', 'isolating', 'isolation', 'issuance', 'issue', 'issuer', 'issuing', 'ist', 'isthmus', 'itching', 'item', 'iter', 'iterate', 'iteration', 'iterative', 'itinerary', 'iva', 'ivory', 'ivy', 'jab', 'jabber', 'jack', 'jacket', 'jacko', 'jaded', 'jagged', 'jaguar', 'jail', 'jake', 'jam', 'jammer', 'jane', 'janitor', 'japan', 'jar', 'jargon', 'jarring', 'jasper', 'jaw', 'jay', 'jazz', 'jealous', 'jealously', 'jealousy', 'jean', 'jeans', 'jeep', 'jeer', 'jeff', 'jelly', 'jenna', 'jenny', 'jerk', 'jerry', 'jersey', 'jess', 'jester', 'jet', 'jewel', 'jeweler', 'jewelry', 'jib', 'jibe', 'jiffy', 'jigget', 'jihad', 'jimmy', 'jinn', 'jinx', 'jitter', 'jitters', 'jittery', 'jo', 'job', 'jobbernowl', 'jobbernowlism', 'jobless', 'joblessness', 'jockey', 'joe', 'joey', 'jog', 'join', 'joining', 'joint', 'jointly', 'joke', 'jolly', 'jolt', 'jolting', 'jordan', 'josh', 'jot', 'journal', 'journalish', 'journalism', 'journalist', 'journalistic', 'journey', 'journeyman', 'jours', 'joy', 'joyful', 'joyous', 'joyously', 'judge', 'judgment', 'judicial', 'judiciary', 'judiciously', 'judo', 'juggle', 'juice', 'juicy', 'jujube', 'jukebox', 'jumbo', 'jump', 'jumper', 'jumpy', 'junction', 'juncture', 'june', 'jungle', 'junior', 'juniper', 'junk', 'juridical', 'jurisdiction', 'jurisprudence', 'jurist', 'jury', 'justice', 'justification', 'justify', 'justifying', 'justly', 'jut', 'jutting', 'juvenile', 'juxtaposition', 'ka', 'kahuna', 'kai', 'kaiser', 'kaleidoscope', 'kaleidoscopic', 'kampong', 'kan', 'kana', 'kang', 'kanga', 'kangaroo', 'karaoke', 'karate', 'karch', 'karma', 'kat', 'kath', 'kava', 'kay', 'keach', 'ked', 'keel', 'keeling', 'keen', 'keep', 'keeper', 'keeping', 'keg', 'kegler', 'kelly', 'kelvin', 'kemp', 'ken', 'kend', 'kenner', 'kent', 'kept', 'kern', 'kernel', 'kerosene', 'kerry', 'kestrel', 'ket', 'ketchup', 'kettle', 'kettler', 'key', 'keyboard', 'keyed', 'keynote', 'khaki', 'khan', 'kick', 'kicking', 'kiddy', 'kidney', 'kill', 'killer', 'killing', 'kim', 'kimono', 'kin', 'kind', 'kindergarten', 'kindle', 'kindly', 'kindness', 'kindred', 'kinetic', 'king', 'kingdom', 'kink', 'kinkily', 'kinky', 'kirk', 'kirsch', 'kiss', 'kissing', 'kit', 'kitchen', 'kite', 'kitten', 'kitty', 'kiwi', 'kleptomania', 'knee', 'kneel', 'knew', 'knickers', 'knife', 'knight', 'knit', 'knob', 'knock', 'knocking', 'knockoff', 'knot', 'know', 'knowing', 'knowingly', 'knowledge', 'knowledgeable', 'known', 'knuckled', 'ko', 'kodak', 'kola', 'kolo', 'kona', 'kor', 'kore', 'kos', 'kra', 'kraken', 'kreis', 'kremlin', 'kubba', 'kudos', 'kudzu', 'kuei', 'kusum', 'kyle', 'kylix', 'la', 'laager', 'lab', 'label', 'labeler', 'labial', 'labor', 'laboratorial', 'laboratory', 'laboring', 'labour', 'labyrinth', 'labyrinthine', 'lac', 'lace', 'laced', 'lacerated', 'lack', 'lackey', 'lackluster', 'lacy', 'lad', 'laden', 'ladies', 'lady', 'lag', 'lagging', 'lagoon', 'lai', 'laid', 'lain', 'lair', 'lak', 'lake', 'lam', 'lama', 'lambert', 'lame', 'lamely', 'lamenting', 'lamina', 'laminate', 'lamp', 'lampoon', 'lan', 'lance', 'land', 'landau', 'landed', 'landing', 'landline', 'landlord', 'landmark', 'landowner', 'landscape', 'lane', 'language', 'languish', 'languor', 'langur', 'lantern', 'lanyard', 'lap', 'lapel', 'lapse', 'lapsed', 'lar', 'lard', 'large', 'largely', 'largess', 'lari', 'larry', 'larvae', 'las', 'laser', 'last', 'laster', 'lasting', 'lat', 'lata', 'late', 'lately', 'latency', 'lateness', 'latent', 'later', 'latest', 'latex', 'lathe', 'lather', 'latitude', 'latter', 'lattice', 'lauder', 'laugh', 'laughable', 'laughably', 'laughing', 'launch', 'launcher', 'laundry', 'laura', 'laureate', 'laurel', 'lava', 'law', 'lawbreaking', 'lawful', 'lawfully', 'lawmaker', 'lawn', 'lawsuit', 'lawyer', 'lax', 'laxative', 'lay', 'layer', 'layered', 'laying', 'layman', 'layoff', 'layout', 'laze', 'laziness', 'lazy', 'lea', 'lead', 'leader', 'leadership', 'leading', 'leaf', 'league', 'leak', 'leakage', 'leaky', 'lean', 'leaner', 'leaning', 'leap', 'leapfrogging', 'leaping', 'leapt', 'learn', 'learned', 'learner', 'learning', 'learnt', 'lease', 'leash', 'leasing', 'least', 'leather', 'leave', 'leaved', 'leaves', 'leaving', 'leck', 'lecture', 'lecturer', 'led', 'lee', 'leech', 'leeches', 'leed', 'leery', 'left', 'leftist', 'leftover', 'leg', 'legacy', 'legal', 'legalese', 'legality', 'legally', 'legend', 'legendary', 'legibly', 'legislation', 'legislative', 'legislator', 'legislature', 'legit', 'legitimacy', 'legitimate', 'legitimately', 'legless', 'lei', 'leisure', 'leisurely', 'lemming', 'lemon', 'lemonade', 'lend', 'lender', 'length', 'lengthen', 'lengthy', 'leno', 'lens', 'lent', 'less', 'lesser', 'lesson', 'lest', 'let', 'lete', 'lethal', 'letter', 'lettuce', 'letup', 'lev', 'level', 'lever', 'leverage', 'levers', 'levin', 'levitate', 'levity', 'levy', 'lewis', 'lexical', 'lexicon', 'ley', 'li', 'liability', 'liable', 'liaison', 'liana', 'liar', 'libel', 'libelous', 'liberal', 'liberalism', 'liberalization', 'liberation', 'libertarian', 'libertarianism', 'libertine', 'liberty', 'libido', 'library', 'libretto', 'license', 'licensed', 'licensee', 'licit', 'lick', 'licking', 'licorice', 'lid', 'lie', 'lied', 'lien', 'lieu', 'lieutenant', 'life', 'lifelike', 'lifeline', 'lifelong', 'lifer', 'lifesaving', 'lifetime', 'lift', 'lifting', 'ligament', 'ligation', 'light', 'lighten', 'lightening', 'lighter', 'lighthearted', 'lighting', 'lightly', 'lightning', 'lightweight', 'ligne', 'like', 'likelihood', 'likeliness', 'likely', 'likeness', 'likewise', 'liking', 'lilac', 'lile', 'lily', 'lim', 'limb', 'limbo', 'limelight', 'limestone', 'limey', 'limit', 'limitation', 'limited', 'limiting', 'limitless', 'limousine', 'limp', 'lin', 'lina', 'linchpin', 'line', 'lineage', 'linear', 'linearly', 'lined', 'linen', 'liner', 'ling', 'linger', 'lingerie', 'linguistic', 'lining', 'link', 'linkage', 'linked', 'linker', 'linking', 'links', 'lint', 'linter', 'lion', 'lioness', 'lip', 'lipotropic', 'lipstick', 'liqueur', 'liquid', 'liquidation', 'liquidity', 'liquor', 'lire', 'lis', 'lisp', 'list', 'listed', 'listen', 'listener', 'listening', 'lister', 'listing', 'lit', 'litany', 'lite', 'liter', 'literacy', 'literal', 'literally', 'literary', 'literate', 'literature', 'lithium', 'litho', 'litigate', 'litigation', 'litigator', 'litmus', 'litter', 'little', 'livable', 'live', 'lived', 'livelihood', 'lively', 'liver', 'livery', 'livestock', 'livid', 'living', 'lizard', 'lo', 'loa', 'load', 'loaded', 'loader', 'loading', 'loan', 'loaner', 'loath', 'loathe', 'lob', 'lobby', 'lobbyist', 'lobe', 'lobeline', 'lobster', 'local', 'locale', 'locality', 'localization', 'localize', 'locally', 'locate', 'location', 'locator', 'loch', 'lock', 'locked', 'locker', 'locking', 'lockout', 'locksmith', 'lockup', 'loco', 'locomotion', 'locomotive', 'locus', 'locust', 'lod', 'lodge', 'lodged', 'lodging', 'lodgment', 'loft', 'lofty', 'log', 'logarithm', 'logarithmic', 'logarithmically', 'logbook', 'logged', 'logger', 'logging', 'logic', 'logical', 'logically', 'login', 'logistic', 'logistical', 'logistics', 'logos', 'lollipop', 'lone', 'lonely', 'lonesome', 'long', 'longan', 'longer', 'longevity', 'longhorn', 'longing', 'longitude', 'loo', 'look', 'looking', 'lookout', 'looming', 'loon', 'looney', 'loop', 'looping', 'loose', 'loosely', 'loosen', 'loosing', 'loot', 'lop', 'lopping', 'lopsided', 'lord', 'lori', 'lorry', 'lors', 'lose', 'loser', 'losing', 'loss', 'lost', 'lot', 'lots', 'lottery', 'lotto', 'lotus', 'loud', 'loudly', 'lounge', 'lousy', 'lovable', 'love', 'lovelorn', 'lovely', 'lover', 'loving', 'lovingly', 'low', 'lower', 'lowering', 'lowery', 'lowly', 'lowth', 'loyal', 'loyalty', 'lubricant', 'lubricate', 'lubrication', 'lucent', 'lucid', 'lucida', 'lucidity', 'luck', 'luckily', 'lucky', 'lucrative', 'lucre', 'ludicrous', 'lug', 'luggage', 'luke', 'lukewarm', 'lull', 'lulu', 'lum', 'luminance', 'luminous', 'lump', 'lumpy', 'luna', 'lunacy', 'lunatic', 'lunch', 'lung', 'lura', 'lurch', 'lure', 'lurk', 'lurker', 'lush', 'lushly', 'lust', 'lut', 'luter', 'lux', 'luxurious', 'luxury', 'ly', 'lying', 'lynch', 'lynx', 'lyre', 'lyric', 'lyricist', 'mac', 'macabre', 'machete', 'machination', 'machine', 'machinery', 'macro', 'mad', 'madam', 'madame', 'madden', 'maddening', 'madder', 'made', 'madly', 'madman', 'madness', 'mae', 'maestro', 'mag', 'magazine', 'mage', 'magenta', 'magi', 'magic', 'magical', 'magically', 'magician', 'magisterial', 'magistrate', 'magnanimous', 'magnanimously', 'magnesium', 'magnet', 'magnetic', 'magnification', 'magnificent', 'magnificently', 'magnitude', 'magnum', 'mahogany', 'mahuang', 'maid', 'maidan', 'maiden', 'maidenly', 'mail', 'mailbag', 'mailbox', 'mailed', 'mailer', 'mailman', 'main', 'mainly', 'mains', 'maintain', 'maintainable', 'maintainer', 'maintenance', 'maize', 'majestic', 'majesty', 'major', 'majority', 'make', 'maker', 'making', 'mal', 'malady', 'malanga', 'malaria', 'malarkey', 'male', 'malevolent', 'malformed', 'malfunction', 'mali', 'malice', 'malicious', 'maliciously', 'mall', 'malnutrition', 'malo', 'malpractice', 'mammalian', 'mammoth', 'man', 'mana', 'manage', 'manageability', 'manageable', 'management', 'manager', 'mandarin', 'mandate', 'mandatory', 'mandolin', 'mandrake', 'maneuver', 'mang', 'mangle', 'mangling', 'manhood', 'mania', 'maniac', 'manic', 'manicure', 'manifest', 'manifestation', 'manifested', 'manifestly', 'manifesto', 'manifold', 'manila', 'manipulate', 'manipulation', 'manipulative', 'manipulator', 'mankind', 'manly', 'manner', 'manners', 'manning', 'mano', 'mansion', 'manslaughter', 'mantelpiece', 'mantra', 'manual', 'manually', 'manufacture', 'manufacturer', 'manure', 'manuscript', 'many', 'mao', 'map', 'maple', 'mar', 'marathon', 'marble', 'marblehead', 'marbles', 'marc', 'marcel', 'march', 'marco', 'marconi', 'mare', 'margarita', 'margin', 'marginal', 'marginally', 'maria', 'marijuana', 'marimba', 'marina', 'marinated', 'marine', 'marital', 'mark', 'marked', 'marker', 'market', 'marketability', 'marketer', 'marketing', 'marking', 'markup', 'marmalade', 'maroon', 'marque', 'marquis', 'marriage', 'married', 'marrow', 'marry', 'marrying', 'marsh', 'marshal', 'mart', 'martial', 'martin', 'martyrdom', 'marvelous', 'marvelously', 'mary', 'mas', 'mascot', 'mash', 'masher', 'mashing', 'mask', 'mason', 'masquerade', 'mass', 'massacre', 'masse', 'massive', 'massively', 'mast', 'master', 'masterpiece', 'mat', 'match', 'matching', 'mate', 'mater', 'material', 'materialism', 'materialistic', 'materialize', 'materially', 'maternity', 'math', 'mathematical', 'mathematically', 'mathematics', 'mating', 'matriarchal', 'matric', 'matrimony', 'matrix', 'matter', 'mattress', 'mature', 'maturing', 'maturity', 'maud', 'mauling', 'maverick', 'maxim', 'maxima', 'maximal', 'maximally', 'maximize', 'maximizer', 'maximum', 'maximus', 'maxwell', 'may', 'maya', 'maybe', 'mayhem', 'mayor', 'maze', 'meadow', 'meagre', 'meal', 'mealy', 'mean', 'meaner', 'meaning', 'meaningful', 'meaningless', 'meant', 'meanwhile', 'measurability', 'measurable', 'measure', 'measured', 'measurement', 'measurer', 'measuring', 'meat', 'meaty', 'mechanic', 'mechanical', 'mechanically', 'mechanics', 'mechanism', 'medal', 'meddle', 'meddling', 'media', 'medial', 'median', 'mediate', 'mediation', 'medic', 'medical', 'medication', 'medicinal', 'medicine', 'medieval', 'meditate', 'meditation', 'mediterranean', 'medium', 'meek', 'meet', 'meeting', 'mein', 'mel', 'melamine', 'melancholy', 'meld', 'mell', 'mellifluous', 'mellon', 'mellow', 'mellowness', 'melody', 'melon', 'melt', 'melting', 'mem', 'member', 'membership', 'memento', 'memo', 'memoir', 'memorable', 'memorandum', 'memoria', 'memorial', 'memorialize', 'memorize', 'memory', 'men', 'menace', 'menacing', 'menage', 'menagerie', 'meng', 'mental', 'mentality', 'mentally', 'mention', 'mentor', 'menu', 'mercenary', 'merchandise', 'merchandiser', 'merchant', 'mercifully', 'merciless', 'mercy', 'mere', 'merely', 'merge', 'merger', 'meridian', 'meringue', 'merit', 'merlin', 'mermaid', 'mero', 'mesa', 'mesh', 'meshed', 'mesomorph', 'mess', 'message', 'messe', 'messenger', 'messing', 'messy', 'met', 'meta', 'metabolic', 'metabolism', 'metabolize', 'metal', 'metallic', 'metaphor', 'metaphoric', 'metaphorical', 'meteor', 'meteoric', 'meteorite', 'meteoroid', 'meteorological', 'meteorology', 'meter', 'methadone', 'methane', 'methinks', 'method', 'methodology', 'meticulous', 'meticulously', 'metric', 'metrics', 'metronome', 'metropolis', 'metropolitan', 'mho', 'mi', 'miasma', 'mib', 'mice', 'michigan', 'mick', 'micro', 'microbe', 'microbiology', 'microcosm', 'microdrive', 'microfilm', 'micron', 'microphone', 'microscope', 'microscopic', 'microsecond', 'microwave', 'mid', 'midday', 'middle', 'midget', 'midnight', 'midrange', 'midst', 'mig', 'might', 'mighty', 'migraine', 'migrant', 'migrate', 'migration', 'mike', 'mil', 'mild', 'milder', 'mildly', 'mile', 'mileage', 'milestone', 'militant', 'militarily', 'military', 'milk', 'milky', 'mill', 'milled', 'millennia', 'millennium', 'miller', 'milliard', 'million', 'millionaire', 'millions', 'millisecond', 'milter', 'milzbrand', 'mim', 'mime', 'mimic', 'min', 'minable', 'mince', 'mind', 'minded', 'minder', 'mindful', 'mindless', 'mine', 'mineral', 'mines', 'ming', 'mingle', 'miniature', 'minima', 'minimal', 'minimize', 'minimum', 'mining', 'minister', 'ministerial', 'ministry', 'mink', 'minor', 'minority', 'mint', 'minus', 'minute', 'mir', 'miracle', 'miraculous', 'miraculously', 'mirage', 'mirror', 'mirrored', 'misapprehension', 'misattribution', 'misbehavior', 'miscellaneous', 'mischievous', 'misconception', 'misconduct', 'misconfiguration', 'mise', 'miserable', 'miserably', 'misery', 'misgiving', 'misguided', 'mishmash', 'misinformation', 'misjudgment', 'mislead', 'misleading', 'misled', 'mismanagement', 'mismatch', 'misplace', 'misprint', 'misquote', 'misrepresentation', 'miss', 'missile', 'missing', 'mission', 'missionary', 'missy', 'mist', 'mistake', 'mistaken', 'mistakenly', 'mistaking', 'mister', 'mistook', 'mistress', 'mistrust', 'misunderstand', 'misunderstanding', 'misunderstood', 'misuse', 'misword', 'mitigate', 'mitigation', 'mitt', 'mix', 'mixed', 'mixer', 'mixture', 'mnemonics', 'mo', 'mob', 'mobile', 'mobility', 'mobilization', 'mobilize', 'mobocracy', 'mocha', 'mock', 'mockery', 'mode', 'model', 'modeling', 'moderate', 'moderately', 'moderation', 'moderator', 'modern', 'modernization', 'modernize', 'modest', 'modestly', 'modesty', 'modicum', 'modifiable', 'modification', 'modifier', 'modify', 'modular', 'modulation', 'modulator', 'module', 'modulo', 'moggy', 'mohr', 'moider', 'moist', 'mojo', 'mold', 'molding', 'moldy', 'mole', 'molecular', 'molecule', 'molehill', 'moment', 'momentarily', 'momentum', 'mommy', 'mon', 'monarch', 'monarchy', 'monastery', 'monastic', 'monetary', 'money', 'moneyed', 'monger', 'mongering', 'moniker', 'monitor', 'monk', 'monkey', 'mono', 'monochromatic', 'monogamy', 'monolithic', 'monophonic', 'monopolistic', 'monopoly', 'monosyllabically', 'monotone', 'monoxide', 'monsieur', 'monsoon', 'monster', 'monstrous', 'montana', 'montant', 'monte', 'month', 'monthly', 'monument', 'monumental', 'moo', 'mood', 'moody', 'moon', 'moonlight', 'moonlit', 'moonshine', 'moor', 'mooring', 'moors', 'moose', 'moot', 'mophead', 'mor', 'moral', 'morale', 'morality', 'morally', 'morass', 'morbid', 'moreover', 'mores', 'morgan', 'morgenstern', 'mormon', 'morning', 'mornings', 'moro', 'morocco', 'moron', 'moronic', 'morpheme', 'morris', 'morrow', 'morse', 'mort', 'mortal', 'mortality', 'mortar', 'mortarboard', 'mortgage', 'mosaic', 'mosque', 'moss', 'mostly', 'mot', 'mote', 'motel', 'mother', 'motherless', 'motif', 'motion', 'motivate', 'motivation', 'motivational', 'motive', 'motley', 'motor', 'motorcade', 'motorcycle', 'motorway', 'motto', 'mou', 'moulin', 'mound', 'mount', 'mountable', 'mountain', 'mountaineer', 'mounted', 'mounting', 'mourn', 'mournfully', 'mourning', 'mouse', 'mousse', 'mouth', 'mouthed', 'mouthing', 'mouthpiece', 'mouton', 'movable', 'move', 'movement', 'mover', 'movie', 'moving', 'mow', 'mower', 'mowing', 'moy', 'mozambique', 'mu', 'much', 'muchness', 'muck', 'mucky', 'mucus', 'mud', 'mudd', 'muddle', 'muddy', 'mudra', 'muffed', 'muffin', 'mufti', 'mug', 'mulberry', 'mullah', 'muller', 'mullets', 'mulligan', 'multihead', 'multilateral', 'multilingual', 'multimillion', 'multinational', 'multiple', 'multiplier', 'multiply', 'multiplying', 'multithreaded', 'multitude', 'mum', 'mumble', 'mumbling', 'mun', 'mundane', 'mung', 'municipal', 'munity', 'murder', 'murderer', 'murdering', 'murderous', 'murky', 'murphy', 'muscle', 'muscular', 'muse', 'mused', 'museum', 'mushroom', 'music', 'musical', 'musician', 'musing', 'muss', 'must', 'mustang', 'mustard', 'muster', 'muta', 'mutant', 'mutate', 'mutation', 'mutational', 'mute', 'mutilation', 'mutt', 'mutter', 'muttering', 'mutual', 'mutualism', 'mutually', 'myelin', 'myopia', 'myopic', 'myosin', 'myriad', 'mysterious', 'mysteriously', 'mystery', 'mystic', 'mystical', 'mysticism', 'mystification', 'myth', 'mythical', 'mythology', 'na', 'naa', 'nab', 'nable', 'nabs', 'nach', 'nael', 'nag', 'nagging', 'nail', 'naive', 'naivete', 'naked', 'nam', 'name', 'nameless', 'namely', 'naming', 'nan', 'nancy', 'nanny', 'napkin', 'napoleon', 'narcoleptic', 'narcotic', 'nark', 'narration', 'narrative', 'narrator', 'narrow', 'narrower', 'nasal', 'nash', 'nasial', 'nastiness', 'nasty', 'nat', 'natal', 'natality', 'natch', 'nation', 'national', 'nationalism', 'nationalist', 'nationally', 'nationwide', 'native', 'natively', 'natural', 'naturalization', 'naturally', 'nature', 'naughty', 'nausea', 'nauseous', 'nautical', 'nautilus', 'naval', 'navel', 'navigate', 'navigation', 'navigator', 'navy', 'naw', 'ne', 'nea', 'neal', 'neap', 'near', 'nearby', 'nearest', 'nearly', 'neat', 'neatly', 'neb', 'necessarily', 'necessary', 'necessitate', 'necessity', 'neck', 'necking', 'necklace', 'nee', 'need', 'neediness', 'needing', 'needle', 'needles', 'needless', 'needlessly', 'needs', 'needy', 'nefarious', 'negate', 'negative', 'negatively', 'negativeness', 'negativity', 'neglect', 'negligence', 'negligible', 'negligibly', 'negotiable', 'negotiate', 'negotiation', 'neighbor', 'neighborhood', 'neighboring', 'neighborly', 'neither', 'nelson', 'nema', 'neo', 'neologist', 'neophyte', 'nep', 'nephew', 'nervous', 'nervy', 'ness', 'nest', 'nestle', 'net', 'nether', 'nethermost', 'netted', 'netting', 'nettle', 'network', 'neural', 'neurological', 'neuron', 'neurosis', 'neurotic', 'neutral', 'neutrino', 'neutron', 'never', 'nevertheless', 'new', 'newcomer', 'newfangled', 'newly', 'news', 'newscast', 'newsletter', 'newsman', 'newspaper', 'newsreader', 'newsworthiness', 'newsworthy', 'newton', 'next', 'ni', 'nice', 'nicely', 'nicety', 'niche', 'nick', 'nickel', 'nickname', 'nicotine', 'niece', 'nifty', 'nig', 'nigger', 'nigh', 'night', 'nightcap', 'nightly', 'nightmare', 'nights', 'nighttime', 'nil', 'nim', 'nine', 'nineteen', 'nineteenth', 'ninety', 'ninth', 'nipping', 'nipple', 'nirvana', 'nit', 'nitric', 'nitrogen', 'nix', 'nob', 'nobility', 'noble', 'nobody', 'nocent', 'nocturnal', 'nocturne', 'nod', 'noddle', 'node', 'noel', 'nog', 'noir', 'noise', 'noisily', 'noisy', 'noll', 'nomad', 'nomadic', 'nomenclature', 'nominal', 'nominally', 'nominate', 'nominated', 'nomination', 'nominee', 'non', 'nonblocking', 'nonchalance', 'noncommercial', 'none', 'nonetheless', 'nonexclusive', 'nonexistent', 'nonfiction', 'nonfunctional', 'nonhuman', 'nonintervention', 'nonnegligible', 'nonnegotiable', 'nonoptional', 'nonpartisan', 'nonprofit', 'nonproprietary', 'nonsense', 'nonsensical', 'nonsmoker', 'nonstop', 'nonsuccess', 'nontraditional', 'nontransferable', 'nonvisual', 'nonvoting', 'nonzero', 'noodle', 'nook', 'noon', 'nope', 'norm', 'normal', 'normalize', 'normally', 'north', 'northeast', 'northeastern', 'northern', 'northerner', 'northernmost', 'northing', 'northwest', 'northwestern', 'northwestward', 'nose', 'nosed', 'nostalgia', 'nostalgic', 'nosy', 'notable', 'notably', 'notary', 'notch', 'notched', 'note', 'notebook', 'noted', 'noteworthy', 'nother', 'nothing', 'notice', 'noticeable', 'noticeably', 'notification', 'notified', 'notify', 'notion', 'notorious', 'notoriously', 'notwithstanding', 'noun', 'nourish', 'nous', 'nova', 'novel', 'novelist', 'novelty', 'novice', 'nowadays', 'nowhere', 'nth', 'nu', 'nuance', 'nub', 'nuclear', 'nucleus', 'nude', 'nudge', 'nudity', 'nugget', 'nuisance', 'nuke', 'null', 'nullify', 'numb', 'number', 'numbing', 'numerical', 'numerically', 'numerology', 'numerous', 'nun', 'nuptials', 'nurse', 'nursery', 'nursing', 'nurture', 'nut', 'nutrition', 'nutritional', 'nutritious', 'nutshell', 'nutty', 'oaf', 'oak', 'oasis', 'oath', 'obdurately', 'obesity', 'obey', 'obfuscate', 'obfuscation', 'obi', 'object', 'objection', 'objective', 'obligation', 'obligatory', 'oblige', 'obliged', 'oblivion', 'oblivious', 'obnoxious', 'obscene', 'obscenely', 'obscenity', 'obscure', 'obscurity', 'observable', 'observably', 'observance', 'observation', 'observational', 'observatory', 'observe', 'observer', 'observing', 'obsession', 'obsessive', 'obsolete', 'obstacle', 'obstetrician', 'obstruction', 'obtain', 'obvious', 'obviously', 'occasion', 'occasional', 'occasionally', 'occlusion', 'occupancy', 'occupation', 'occupational', 'occupy', 'occur', 'occurrence', 'ocean', 'oceanic', 'oceanside', 'och', 'octagon', 'octet', 'octroi', 'od', 'oda', 'odd', 'oddly', 'oddness', 'odds', 'ode', 'odious', 'odor', 'oe', 'offbeat', 'offended', 'offense', 'offensive', 'offensively', 'offer', 'offering', 'offhand', 'office', 'officer', 'official', 'officially', 'offing', 'offset', 'offshore', 'offspring', 'oft', 'often', 'oftentimes', 'ogle', 'ogre', 'oh', 'oil', 'oilman', 'okee', 'oki', 'old', 'older', 'oligarchic', 'olive', 'ology', 'om', 'omega', 'omelette', 'omen', 'omer', 'ominous', 'omission', 'omit', 'omnibenevolent', 'omnibus', 'omnipotence', 'omnipotent', 'omniscient', 'ona', 'onanist', 'one', 'onerous', 'oneself', 'onetime', 'ongoing', 'onion', 'ons', 'onside', 'onslaught', 'onto', 'onus', 'onward', 'oodles', 'ooze', 'opaque', 'open', 'opener', 'opening', 'openly', 'openness', 'opera', 'operate', 'operatic', 'operating', 'operation', 'operational', 'operative', 'operator', 'opinion', 'opinionated', 'opinionist', 'opponent', 'opportune', 'opportunist', 'opportunistic', 'opportunity', 'oppose', 'opposed', 'opposing', 'opposite', 'opposition', 'oppress', 'oppressed', 'oppression', 'oppressive', 'opt', 'optic', 'optical', 'optics', 'optimal', 'optimism', 'optimist', 'optimistic', 'optimization', 'optimize', 'optimum', 'option', 'optional', 'optionally', 'oracle', 'oral', 'orally', 'orange', 'orb', 'orbit', 'orbital', 'orbitofrontal', 'orc', 'orchard', 'orchestra', 'orchic', 'ordeal', 'order', 'ordered', 'orderly', 'ordinarily', 'ordinary', 'ore', 'organ', 'organic', 'organism', 'organist', 'organization', 'organizational', 'organize', 'organized', 'organizer', 'orgasm', 'orgy', 'oriental', 'orientation', 'orifice', 'origin', 'original', 'originality', 'originally', 'originate', 'origination', 'originator', 'ornament', 'ornamental', 'orphan', 'orphange', 'ortho', 'orthodontics', 'orthodoxy', 'orthogonal', 'ory', 'os', 'oscillate', 'ose', 'osmosis', 'osprey', 'osse', 'ostensible', 'ostensibly', 'ostentatiously', 'osteoporosis', 'ostrich', 'otherwise', 'otter', 'otto', 'ouch', 'ought', 'ounce', 'oust', 'outage', 'outblaze', 'outbound', 'outbox', 'outbreak', 'outburst', 'outcast', 'outclass', 'outcome', 'outcry', 'outdated', 'outdo', 'outdoor', 'outdoors', 'outer', 'outfit', 'outgo', 'outgoing', 'outing', 'outlaw', 'outlay', 'outlet', 'outline', 'outlined', 'outliner', 'outlive', 'outlook', 'outlying', 'outnumber', 'outpatient', 'outperform', 'outpost', 'output', 'outrage', 'outrageous', 'outrageously', 'outre', 'outreach', 'outright', 'outside', 'outsider', 'outsmart', 'outstanding', 'outstretch', 'outward', 'outwardly', 'outwards', 'oval', 'ovarian', 'oven', 'overage', 'overall', 'overblown', 'overbred', 'overcome', 'overcrowded', 'overdone', 'overdraft', 'overdrive', 'overdue', 'overestimate', 'overexcitable', 'overexcitement', 'overexposure', 'overfit', 'overflow', 'overgrown', 'overhaul', 'overhead', 'overheat', 'overlaid', 'overland', 'overlap', 'overlay', 'overline', 'overload', 'overlook', 'overly', 'overnet', 'overnight', 'overpass', 'overpopulation', 'overpowering', 'overproduction', 'overprotect', 'overreaching', 'overregulation', 'override', 'overrun', 'overseas', 'overseer', 'overshoot', 'oversight', 'oversize', 'oversized', 'oversold', 'overt', 'overthrow', 'overtime', 'overture', 'overturn', 'overuse', 'overview', 'overweight', 'overwhelm', 'overwhelming', 'overwhelmingly', 'overwrite', 'ovum', 'ow', 'owe', 'owing', 'owk', 'owl', 'owner', 'ownership', 'ox', 'oxer', 'oxidant', 'oxide', 'oxtail', 'oxygen', 'oyster', 'ozone', 'pa', 'paar', 'pablo', 'pac', 'pace', 'paced', 'pacemaker', 'pacific', 'pack', 'package', 'packet', 'pact', 'pad', 'padding', 'paddling', 'pagan', 'page', 'pager', 'pagination', 'pagoda', 'pah', 'pain', 'painful', 'painfully', 'painless', 'painlessly', 'painstaking', 'paint', 'painted', 'painting', 'pair', 'paired', 'pais', 'pal', 'palace', 'palate', 'palatial', 'pale', 'palette', 'palladium', 'pallet', 'palm', 'palmer', 'palmyra', 'paltry', 'pam', 'pamphlet', 'pan', 'panama', 'panax', 'pancake', 'pancreas', 'panda', 'pandemonium', 'pandora', 'pane', 'panel', 'panelist', 'panic', 'panne', 'panning', 'panorama', 'pantheon', 'panther', 'panties', 'pantomime', 'pantry', 'pants', 'panty', 'pap', 'paper', 'paperback', 'papered', 'papyrus', 'par', 'para', 'parable', 'parachute', 'parachutist', 'parade', 'paradigm', 'paradigmatic', 'parading', 'paradise', 'paradox', 'paradoxial', 'paradoxical', 'paragraph', 'parallel', 'paralysis', 'paralytically', 'param', 'parameter', 'paramilitary', 'paramount', 'paranoia', 'paranoiac', 'paranoid', 'paranormal', 'paraphrase', 'parasitic', 'parcel', 'parceling', 'pardon', 'pare', 'parent', 'parentage', 'parental', 'parentheses', 'parenthood', 'parhelia', 'paring', 'parity', 'park', 'parker', 'parking', 'parkway', 'parlance', 'parlay', 'parliament', 'parliamentary', 'parma', 'parochial', 'parodical', 'parody', 'parole', 'parr', 'parrot', 'parry', 'parse', 'parser', 'part', 'partake', 'parted', 'partial', 'partially', 'participant', 'participate', 'participation', 'participatory', 'particle', 'particular', 'particularly', 'partisan', 'partition', 'partitioned', 'partitioning', 'partly', 'partner', 'partnership', 'partook', 'partridge', 'party', 'pass', 'passage', 'passe', 'passenger', 'passer', 'passing', 'passion', 'passionate', 'passionately', 'passive', 'passover', 'passport', 'password', 'past', 'paste', 'pasted', 'pastiche', 'pasting', 'pastor', 'pastry', 'pat', 'patch', 'patel', 'patent', 'patentable', 'patently', 'paternal', 'paternally', 'path', 'pathed', 'pathetic', 'pathetically', 'pathfinder', 'pathological', 'pathologically', 'pathologist', 'patience', 'patient', 'patio', 'pato', 'patois', 'patriot', 'patriotic', 'patriotism', 'patrol', 'patron', 'patronage', 'patronizing', 'pattern', 'patterned', 'patty', 'pause', 'pavement', 'pavilion', 'paving', 'paw', 'pawn', 'pax', 'pay', 'payable', 'payed', 'payer', 'paying', 'payment', 'payroll', 'peace', 'peaceable', 'peaceably', 'peaceful', 'peacefully', 'peacetime', 'peach', 'peak', 'peaked', 'peanut', 'pear', 'pearl', 'peasant', 'peasy', 'pecan', 'peck', 'peculiar', 'peculiarly', 'pecuniary', 'pedagogy', 'pedal', 'pedantic', 'pedantically', 'peddle', 'peddling', 'pedestrian', 'peek', 'peel', 'peep', 'peeper', 'peer', 'peeve', 'peeved', 'peg', 'pegged', 'peine', 'peiser', 'pell', 'pelvic', 'pen', 'penal', 'penalty', 'penance', 'pence', 'penchant', 'pencil', 'pendant', 'pending', 'pendulum', 'penetrate', 'penetrating', 'penetration', 'penguin', 'penile', 'peninsula', 'penis', 'penning', 'penny', 'pension', 'pent', 'penta', 'pentagon', 'penthouse', 'peony', 'people', 'pepper', 'peppermint', 'per', 'perceive', 'percent', 'percentage', 'perceptible', 'perception', 'perceptive', 'peregrine', 'pereira', 'peremptory', 'perfect', 'perfected', 'perfection', 'perfectly', 'perform', 'performance', 'performer', 'perfume', 'perhaps', 'perigee', 'peril', 'perilous', 'perimeter', 'period', 'periodic', 'periodically', 'peripheral', 'peripherical', 'perished', 'perjurer', 'perk', 'perle', 'perm', 'permafrost', 'permanent', 'permanently', 'permissible', 'permission', 'permissive', 'permit', 'permitted', 'permutation', 'pernicious', 'perpetrate', 'perpetration', 'perpetrator', 'perpetual', 'perpetually', 'perpetuate', 'perplexed', 'perry', 'persecution', 'persevere', 'persevering', 'persist', 'persistence', 'persistent', 'persistently', 'person', 'persona', 'personal', 'personality', 'personalization', 'personalize', 'personally', 'personnel', 'perspective', 'perspectively', 'persuade', 'persuaded', 'persuasive', 'pertain', 'pertaining', 'pertinent', 'perusal', 'peruse', 'pervasive', 'perverse', 'perverted', 'perviously', 'pes', 'pesky', 'pessimism', 'pessimistic', 'pessimistically', 'pest', 'pesticide', 'pet', 'pete', 'peter', 'petit', 'petite', 'petition', 'petrified', 'petrochemical', 'petrol', 'petroleum', 'petty', 'pewter', 'phantasm', 'phantom', 'pharmaceutical', 'pharmacist', 'pharmacological', 'pharmacy', 'phase', 'phases', 'pheasant', 'phenomena', 'phenomenal', 'phenomenon', 'phew', 'philanthropic', 'philanthropist', 'philatelic', 'philodox', 'philosopher', 'philosophical', 'philosophy', 'phlegm', 'pho', 'phoenix', 'phone', 'phoneme', 'phonetic', 'phonetically', 'phony', 'phosgene', 'phosphorus', 'photo', 'photoalbum', 'photocopy', 'photoelectric', 'photograph', 'photographer', 'photographic', 'photography', 'phrase', 'phraseology', 'phu', 'physical', 'physically', 'physician', 'physicist', 'physics', 'physiological', 'physiologically', 'physiology', 'physique', 'pi', 'pia', 'piano', 'pic', 'pica', 'picaresque', 'pick', 'picked', 'picker', 'pickings', 'pickle', 'pickler', 'pickup', 'pickwick', 'picky', 'picnic', 'pico', 'pictogram', 'pictorial', 'picture', 'pictured', 'picturesque', 'pie', 'piece', 'piecemeal', 'piecing', 'pier', 'pierce', 'pierced', 'piercing', 'pig', 'pigeon', 'piggy', 'pigment', 'pik', 'pike', 'pile', 'piled', 'piles', 'pilfering', 'pilgrim', 'pilgrimage', 'piling', 'pill', 'pillar', 'pillow', 'pilot', 'pimlico', 'pin', 'pina', 'pinch', 'pinching', 'pine', 'ping', 'pink', 'pinker', 'pinnacle', 'pinned', 'pinpoint', 'pint', 'pintura', 'pioneer', 'pipe', 'piped', 'pipeline', 'piper', 'piping', 'pir', 'piracy', 'pirate', 'piratical', 'pisco', 'piss', 'pistol', 'piston', 'pit', 'pita', 'pitch', 'pitching', 'piteous', 'pithy', 'pitiful', 'pitman', 'pitted', 'pitting', 'pituitary', 'pity', 'pivot', 'pix', 'pizza', 'place', 'placeable', 'placement', 'plague', 'plagued', 'plaice', 'plaid', 'plain', 'plainly', 'plan', 'planar', 'plane', 'planet', 'planetary', 'planner', 'plant', 'planta', 'plantation', 'planting', 'plaque', 'plasma', 'plaster', 'plastic', 'plastics', 'plate', 'plated', 'platform', 'platinum', 'plausibility', 'plausible', 'plausibly', 'play', 'playable', 'playback', 'playboy', 'player', 'playground', 'playwright', 'plaza', 'plea', 'plead', 'pleasant', 'pleasantly', 'please', 'pleasing', 'pleasingly', 'pleasurable', 'pleasure', 'pleasuring', 'pledge', 'plenipotentiary', 'plentiful', 'plenty', 'plethora', 'plex', 'pliable', 'pliers', 'plies', 'plight', 'plod', 'plop', 'plot', 'plotted', 'plotting', 'plover', 'plowing', 'ploy', 'pluck', 'plucked', 'plucker', 'plug', 'plugboard', 'pluggable', 'plugged', 'plugging', 'plum', 'plumbing', 'plummet', 'plumper', 'plunge', 'plunging', 'plunk', 'plural', 'plus', 'plush', 'plutocracy', 'plutonium', 'ply', 'plying', 'plywood', 'po', 'pob', 'pocket', 'pocketed', 'pocketknife', 'pod', 'podge', 'podium', 'poem', 'poet', 'poetic', 'poetry', 'point', 'pointed', 'pointer', 'pointing', 'pointless', 'pointlessly', 'pointlessness', 'pointy', 'poised', 'poison', 'poke', 'poked', 'poker', 'poking', 'pol', 'polar', 'pole', 'polecat', 'polemical', 'police', 'policeman', 'policy', 'policyholder', 'polish', 'polished', 'polite', 'politely', 'political', 'politically', 'politician', 'politico', 'politics', 'polity', 'poll', 'pollack', 'pollan', 'polled', 'pollen', 'polling', 'pollock', 'pollute', 'polluted', 'polluter', 'polluting', 'pollution', 'polo', 'polska', 'poly', 'polygon', 'polyhedron', 'polymorphic', 'polymorphism', 'polynomial', 'polyphonic', 'pom', 'pomme', 'pompous', 'pon', 'ponce', 'pond', 'ponder', 'pondering', 'pong', 'pony', 'poof', 'pooh', 'pool', 'poop', 'poor', 'poorly', 'pop', 'popcorn', 'pope', 'populace', 'popular', 'popularity', 'popularize', 'popularly', 'populate', 'population', 'porcelain', 'porch', 'porcupine', 'pore', 'pork', 'pornographic', 'pornography', 'porous', 'port', 'portability', 'portable', 'portage', 'portail', 'portal', 'ported', 'portend', 'portfolio', 'portia', 'portion', 'portrait', 'portray', 'portrayal', 'pose', 'posey', 'posh', 'posing', 'posit', 'position', 'positioned', 'positive', 'positively', 'poss', 'posse', 'possess', 'possessed', 'possessing', 'possession', 'possibility', 'possible', 'possibly', 'post', 'postage', 'postal', 'postbag', 'posted', 'poster', 'posterior', 'posteriors', 'posterity', 'postfix', 'posthumously', 'posting', 'postman', 'postmaster', 'postpone', 'postscript', 'posture', 'postwar', 'pot', 'potable', 'potato', 'potatoes', 'potency', 'potent', 'potentate', 'potential', 'potentially', 'potentiation', 'pothole', 'potion', 'potlatch', 'potter', 'pottery', 'potty', 'pounce', 'pound', 'pounding', 'pour', 'pouring', 'pout', 'poverty', 'pow', 'powder', 'powdered', 'power', 'powered', 'powerful', 'powerfully', 'powerhouse', 'pox', 'practicable', 'practical', 'practicality', 'practically', 'practice', 'practiced', 'practitioner', 'praetorian', 'pragmatic', 'prairie', 'praise', 'prandial', 'prank', 'pratique', 'prattle', 'pray', 'prayer', 'praying', 'preaching', 'preamble', 'precalculation', 'precarious', 'precautionary', 'precede', 'precedence', 'precedent', 'preceding', 'precious', 'precipice', 'precipitation', 'precipitous', 'precipitously', 'precise', 'precisely', 'precision', 'preclude', 'precocious', 'preconceived', 'preconfigure', 'precursor', 'precut', 'predate', 'predator', 'predecessor', 'predicament', 'predicate', 'predict', 'predictable', 'predictably', 'prediction', 'predictive', 'predictor', 'predilection', 'predominant', 'predominantly', 'predominate', 'prefab', 'preface', 'prefectural', 'prefecture', 'prefer', 'preferable', 'preferably', 'preference', 'preferential', 'preferred', 'prefix', 'prefixed', 'preform', 'pregnancy', 'pregnant', 'prehistoric', 'prehistory', 'preinstall', 'prejudice', 'prejudiced', 'prejudicially', 'preliminary', 'prelude', 'premature', 'prematurely', 'premier', 'premiere', 'premiership', 'premise', 'premium', 'prenatal', 'preoccupied', 'prep', 'preparation', 'preparatory', 'prepare', 'prepared', 'preponderance', 'preposition', 'preposterous', 'prerelease', 'prerequisite', 'prerogatively', 'preschool', 'prescient', 'prescription', 'prescriptive', 'presence', 'present', 'presentation', 'presently', 'preservation', 'preservative', 'preservatory', 'preserve', 'preside', 'presidency', 'president', 'presidential', 'press', 'pressing', 'pressure', 'prestige', 'prestigious', 'presumably', 'presume', 'presuming', 'presumption', 'presuppose', 'pretend', 'pretentious', 'pretext', 'pretty', 'prevail', 'prevalence', 'prevalent', 'prevent', 'preventable', 'preventative', 'prevention', 'preventive', 'preversion', 'preview', 'previous', 'previously', 'prey', 'price', 'priced', 'priceless', 'pricked', 'prickly', 'pricks', 'pride', 'priest', 'prima', 'primacy', 'primarily', 'primary', 'prime', 'primer', 'primitive', 'primordial', 'prince', 'princess', 'principal', 'principle', 'print', 'printable', 'printed', 'printer', 'printing', 'prior', 'priority', 'prism', 'prison', 'prisoner', 'pristine', 'privacy', 'private', 'privately', 'privilege', 'privileged', 'privity', 'privy', 'prize', 'pro', 'prob', 'probability', 'probable', 'probably', 'probate', 'probe', 'problem', 'problematic', 'procedural', 'procedure', 'proceed', 'proceeding', 'proceeds', 'process', 'procession', 'processor', 'proclaim', 'proclaiming', 'proclamation', 'procrastinate', 'procrastination', 'procure', 'procurement', 'prodigy', 'produce', 'produced', 'producer', 'product', 'production', 'productive', 'productively', 'productivity', 'prof', 'profane', 'professed', 'profession', 'professional', 'professionalism', 'professionally', 'professor', 'proficient', 'profile', 'profiler', 'profit', 'profitability', 'profitable', 'profitably', 'profligate', 'profound', 'profoundly', 'profuse', 'profusely', 'prog', 'progesterone', 'program', 'programmatic', 'programmatically', 'programmer', 'progress', 'progression', 'progressive', 'progressively', 'progressivism', 'prohibit', 'prohibition', 'prohibitive', 'project', 'projectile', 'projecting', 'projection', 'projector', 'prolegomena', 'proletariat', 'proliferate', 'proliferation', 'prolific', 'prolificate', 'prologue', 'prolong', 'prominence', 'prominent', 'prominently', 'promiscuity', 'promiscuous', 'promise', 'promising', 'promote', 'promoter', 'promotion', 'promotional', 'prompt', 'promptly', 'promulgate', 'prone', 'pronged', 'pronounce', 'pronounced', 'pronouncement', 'pronto', 'pronunciation', 'proof', 'proofing', 'proofreading', 'prop', 'propaganda', 'propagate', 'propagation', 'propane', 'propensity', 'proper', 'properly', 'property', 'prophecy', 'prophesy', 'prophylactically', 'propitiously', 'proponent', 'proportion', 'proportional', 'proposal', 'proposant', 'propose', 'proposer', 'proposition', 'proprietary', 'proprietorial', 'proprietory', 'propriety', 'props', 'propulsion', 'prosaic', 'proscriptive', 'prosecute', 'prosecution', 'prosecutor', 'prospect', 'prospective', 'prosper', 'prosperity', 'prosperous', 'prostate', 'prosthetic', 'prostitute', 'prostitution', 'protagonist', 'protect', 'protecting', 'protection', 'protective', 'protector', 'protein', 'protest', 'protestant', 'proto', 'protocol', 'proton', 'prototype', 'protract', 'protracted', 'proudly', 'prove', 'proved', 'proven', 'provenance', 'provide', 'provided', 'providence', 'provider', 'providing', 'province', 'provincial', 'proving', 'provision', 'provisional', 'provocation', 'provocative', 'provoke', 'provoking', 'prowess', 'prowl', 'prowling', 'proximity', 'proxy', 'prudence', 'prudent', 'prudential', 'prudish', 'pruning', 'pry', 'prying', 'pseudo', 'pseudotuberculous', 'psi', 'psoriasis', 'pst', 'psyche', 'psychiatrist', 'psychic', 'psychics', 'psychodrama', 'psychological', 'psychologically', 'psychologist', 'psychology', 'psychopathological', 'psychosis', 'ptarmigan', 'pu', 'pub', 'puberty', 'pubic', 'public', 'publication', 'publicity', 'publicly', 'publish', 'publisher', 'puck', 'pud', 'pudding', 'puddle', 'pudge', 'puerile', 'puffed', 'puffy', 'pull', 'pulldown', 'pulp', 'pulpit', 'pulse', 'puma', 'pump', 'pumpkin', 'pun', 'punch', 'punching', 'punctuation', 'puncture', 'pundit', 'pungency', 'pungent', 'punish', 'punishment', 'punitive', 'punk', 'punt', 'punta', 'punter', 'pupil', 'puppet', 'puppy', 'purchase', 'purchaser', 'pure', 'purely', 'purge', 'purging', 'purification', 'purifier', 'purity', 'purple', 'purport', 'purpose', 'purposely', 'purr', 'purse', 'purser', 'pursuant', 'pursue', 'pursuit', 'purveyor', 'push', 'pushing', 'pussy', 'put', 'putty', 'puzzle', 'puzzled', 'pya', 'pyknic', 'pyramid', 'pyrotechnics', 'python', 'pythonic', 'pyx', 'qua', 'quack', 'quadratic', 'quadruple', 'quagmire', 'quaint', 'quake', 'qualification', 'qualified', 'qualifier', 'qualify', 'quality', 'quantify', 'quantitative', 'quantity', 'quantum', 'quarantine', 'quarry', 'quarter', 'quarterback', 'quartering', 'quarterly', 'quarters', 'quartet', 'quasi', 'quatrain', 'quay', 'queasy', 'queen', 'queer', 'query', 'querying', 'quest', 'question', 'questionable', 'questionnaire', 'queue', 'quibble', 'quick', 'quicken', 'quickie', 'quickly', 'quicksand', 'quid', 'quidnunc', 'quiet', 'quieter', 'quietly', 'quilt', 'quintessence', 'quintessential', 'quintuple', 'quip', 'quirky', 'quit', 'quite', 'quits', 'quiver', 'quiz', 'quo', 'quod', 'quorum', 'quot', 'quota', 'quotable', 'quotation', 'quote', 'quoth', 'quotient', 'ra', 'rab', 'rabbi', 'rabbit', 'rabble', 'rabid', 'raccoon', 'race', 'racer', 'racial', 'racially', 'racing', 'racism', 'racist', 'rack', 'racket', 'racketeering', 'racking', 'rad', 'radar', 'radial', 'radiant', 'radiate', 'radiation', 'radiative', 'radiator', 'radical', 'radicalism', 'radically', 'radio', 'radioactive', 'radiometer', 'radiosonde', 'radius', 'radix', 'raff', 'raffish', 'raffle', 'raft', 'rage', 'ragged', 'ragging', 'raging', 'rah', 'raid', 'raider', 'rail', 'railroad', 'railway', 'rain', 'rainbow', 'rainer', 'rainfall', 'rainy', 'raise', 'raised', 'raising', 'raj', 'rake', 'raking', 'rakish', 'rally', 'ralph', 'ram', 'ramble', 'rambling', 'rammer', 'ramp', 'rampant', 'ran', 'ranch', 'rancher', 'rancho', 'rand', 'random', 'randomization', 'randomize', 'randomly', 'randomness', 'randy', 'rang', 'range', 'ranged', 'ranger', 'ranging', 'rank', 'ranked', 'ransom', 'rant', 'ranting', 'rap', 'rape', 'rapid', 'rapidly', 'rapine', 'rapist', 'rapper', 'rapping', 'rapture', 'rare', 'rarely', 'rarity', 'ras', 'rash', 'raspberry', 'raster', 'rat', 'ratchet', 'rate', 'rated', 'rather', 'ratify', 'rating', 'ratio', 'rational', 'rationale', 'rattle', 'rattles', 'ratty', 'raucous', 'rave', 'raven', 'ravening', 'ravens', 'raver', 'raving', 'raw', 'rawhide', 'ray', 'razor', 'rea', 'reabsorb', 'reach', 'reachable', 'reaching', 'reacquaint', 'react', 'reaction', 'reactivate', 'reactive', 'reactively', 'reactivity', 'read', 'readability', 'readable', 'reader', 'readership', 'readily', 'readiness', 'reading', 'readjustment', 'ready', 'reaffirm', 'reagent', 'real', 'realign', 'realignment', 'realism', 'realist', 'realistic', 'realistically', 'reality', 'realization', 'realize', 'realizing', 'reallocate', 'reallocation', 'really', 'realm', 'ream', 'reap', 'reappear', 'rear', 'rearrange', 'reason', 'reasonable', 'reasonableness', 'reasonably', 'reasoned', 'reasoning', 'reassert', 'reassessment', 'reassign', 'reassurance', 'reassure', 'reassured', 'reassuring', 'rebate', 'rebel', 'rebellion', 'rebellious', 'reborn', 'rebound', 'rebuff', 'rebuild', 'rebuilt', 'rebus', 'rebut', 'rebuttal', 'recalibrate', 'recall', 'recant', 'recap', 'recapture', 'recast', 'recede', 'receipt', 'receipts', 'receivable', 'receivables', 'receive', 'received', 'receiver', 'receivership', 'recense', 'recent', 'recently', 'recept', 'reception', 'receptionist', 'receptive', 'receptivity', 'recession', 'recessive', 'recharge', 'recherche', 'recipe', 'recipient', 'reciprocal', 'reciprocation', 'reciprocity', 'reckless', 'recklessly', 'reckon', 'reclaim', 'reclassify', 'reclusive', 'recognition', 'recognizable', 'recognize', 'recollection', 'recommend', 'recommendation', 'recompense', 'recompile', 'reconcile', 'reconciliation', 'reconnect', 'reconnection', 'reconsider', 'reconsideration', 'reconstruct', 'reconstruction', 'reconstructor', 'record', 'recordable', 'recorder', 'recording', 'recoup', 'recourse', 'recover', 'recoverable', 'recovery', 'recreate', 'recreation', 'recreational', 'recruit', 'recruiter', 'recruiting', 'recruitment', 'rect', 'rectangular', 'rectify', 'rector', 'recurring', 'recurse', 'recursion', 'recursive', 'recycle', 'red', 'reddy', 'redeem', 'redeemable', 'redefine', 'redefinition', 'redemption', 'redesign', 'redevelopment', 'redirect', 'redirection', 'rediscover', 'rediscovery', 'redistribute', 'redistribution', 'redistributive', 'redo', 'redress', 'reduce', 'reduced', 'reducing', 'reduction', 'redundancy', 'redundant', 'redwood', 'ree', 'reed', 'reedy', 'reef', 'reek', 'reel', 'reese', 'reet', 'ref', 'refashion', 'refer', 'referee', 'reference', 'referential', 'referral', 'refill', 'refinance', 'refined', 'refinement', 'refining', 'refit', 'reflect', 'reflected', 'reflecting', 'reflection', 'reflective', 'reflector', 'reflex', 'reflexive', 'reflexively', 'refocus', 'reform', 'reformatory', 'reformed', 'refrain', 'refresh', 'refreshing', 'refreshingly', 'refrigerator', 'refuge', 'refugee', 'refund', 'refusal', 'refuse', 'refusing', 'refute', 'reg', 'regain', 'regal', 'regale', 'regalia', 'regard', 'regarding', 'regardless', 'regatta', 'regency', 'regenerate', 'regeneration', 'regenerative', 'regent', 'regime', 'regimen', 'region', 'regional', 'regionalization', 'regionally', 'register', 'registered', 'registrant', 'registrar', 'registration', 'registry', 'regression', 'regressive', 'regret', 'regrettable', 'regrettably', 'regular', 'regularity', 'regularization', 'regularize', 'regularly', 'regulate', 'regulated', 'regulation', 'regulator', 'regulatory', 'rehabilitation', 'rehash', 'rehearsal', 'reification', 'reign', 'reimagine', 'reimburse', 'reimbursement', 'rein', 'reincarnate', 'reincarnation', 'reinforce', 'reinforcement', 'reins', 'reinstall', 'reinstate', 'reinsurance', 'reintegration', 'reintroduce', 'reinvent', 'reinvention', 'reiterate', 'reiterated', 'reject', 'rejection', 'rejoice', 'rejoicing', 'rejoin', 'rejuvenate', 'rekindle', 'rel', 'relabel', 'relate', 'related', 'relation', 'relational', 'relationship', 'relative', 'relatively', 'relativism', 'relativist', 'relativistic', 'relativity', 'relaunch', 'relax', 'relaxant', 'relaxation', 'relaxed', 'relay', 'relearn', 'release', 'relegate', 'relentless', 'relentlessly', 'relentlessness', 'relevance', 'relevancy', 'relevant', 'reliability', 'reliable', 'reliably', 'reliance', 'relief', 'relieve', 'relieved', 'reliever', 'relieving', 'religion', 'religiosity', 'religious', 'religiously', 'relinquish', 'relinquishment', 'relive', 'reload', 'relocate', 'reluctance', 'reluctant', 'rely', 'remain', 'remainder', 'remains', 'remake', 'remap', 'remark', 'remarkable', 'remarkably', 'remedial', 'remediation', 'remedy', 'remember', 'remembrance', 'remind', 'reminder', 'reminiscent', 'remiss', 'remission', 'remit', 'remittance', 'remnant', 'remodel', 'remote', 'remotely', 'remount', 'removable', 'removal', 'remove', 'removed', 'remover', 'removing', 'remuneration', 'renaissance', 'renal', 'rename', 'rend', 'render', 'renderer', 'rendering', 'rendezvous', 'renegade', 'renege', 'renegotiate', 'renegotiation', 'renew', 'renewable', 'renewal', 'renovate', 'renowned', 'rent', 'rental', 'rented', 'reopen', 'reorganization', 'rep', 'repackage', 'repair', 'reparation', 'repartition', 'repatriation', 'repay', 'repeal', 'repeat', 'repeatable', 'repeated', 'repeatedly', 'repeater', 'repel', 'repellent', 'repelling', 'repertoire', 'repetition', 'replace', 'replacement', 'replay', 'replenishment', 'replete', 'replica', 'replicate', 'replication', 'reply', 'report', 'reportable', 'reportedly', 'reporter', 'repose', 'reposed', 'reposition', 'repository', 'repost', 'reprehensible', 'reprehensibly', 'represent', 'representation', 'representative', 'repressed', 'repressive', 'reprimand', 'reprint', 'reprisal', 'reproach', 'reproduce', 'reproducible', 'reproduction', 'reproductive', 'reps', 'republic', 'republican', 'republication', 'repudiation', 'repugnant', 'repulsive', 'reputable', 'reputation', 'reputedly', 'request', 'require', 'requirement', 'requisite', 'reread', 'reregulate', 'reregulation', 'rerun', 'resalable', 'resale', 'rescan', 'reschedule', 'rescind', 'rescore', 'rescue', 'research', 'researcher', 'reseat', 'resell', 'reseller', 'resemblance', 'resemble', 'resend', 'resent', 'resentment', 'reservation', 'reserve', 'reserved', 'reservoir', 'reset', 'resettlement', 'reshape', 'reside', 'residence', 'residency', 'resident', 'residential', 'residual', 'resignation', 'resigned', 'resilience', 'resiliency', 'resilient', 'resin', 'resist', 'resistance', 'resistant', 'resisting', 'resistive', 'resize', 'resolute', 'resolutely', 'resoluteness', 'resolution', 'resolve', 'resolved', 'resolver', 'resonance', 'resonant', 'resonate', 'resort', 'resounding', 'resource', 'resourcefulness', 'resp', 'respect', 'respectability', 'respectable', 'respectful', 'respectfully', 'respecting', 'respective', 'respectively', 'respiratory', 'respond', 'responder', 'response', 'responsibility', 'responsible', 'responsibly', 'responsive', 'responsiveness', 'rest', 'restart', 'restate', 'restaurant', 'rester', 'restful', 'restfully', 'resting', 'restitution', 'restless', 'restlessness', 'restoration', 'restorative', 'restore', 'restrain', 'restrained', 'restrict', 'restricted', 'restriction', 'restrictive', 'resubmit', 'resubscribe', 'result', 'resultant', 'resulting', 'resume', 'resurgence', 'resurrect', 'resurrection', 'ret', 'retail', 'retailer', 'retain', 'retainer', 'retaining', 'retake', 'retaliate', 'retaliation', 'retard', 'retarded', 'retell', 'retelling', 'retention', 'retentive', 'rethink', 'retin', 'retina', 'retire', 'retired', 'retirement', 'retiring', 'retool', 'retort', 'retorted', 'retract', 'retracted', 'retrain', 'retransmit', 'retreat', 'retribution', 'retrieval', 'retrieve', 'retroactive', 'retroactively', 'retrograde', 'retrospect', 'retry', 'return', 'returned', 'reunion', 'reunite', 'reuse', 'rev', 'revamp', 'reveal', 'revealed', 'revealing', 'revel', 'revelation', 'revenge', 'revenue', 'revere', 'revered', 'reversable', 'reversal', 'reverse', 'reversed', 'reversing', 'reversion', 'revert', 'review', 'reviewer', 'revise', 'revision', 'revisit', 'revitalize', 'revival', 'reviving', 'revocation', 'revokable', 'revoke', 'revolting', 'revolution', 'revolutionary', 'revolutionist', 'revolutionize', 'revolving', 'revue', 'reward', 'rewarding', 'rewind', 'rewire', 'reworked', 'rewrite', 'rewriter', 'rex', 'rhapsody', 'rhetoric', 'rhetorical', 'rhetorically', 'rheumatoid', 'rhino', 'rhizomatic', 'rhizome', 'rhyme', 'rhyolite', 'rhythm', 'ria', 'rial', 'rib', 'ribbon', 'ribe', 'rice', 'rich', 'riches', 'rick', 'ricochet', 'rid', 'riddance', 'ridden', 'ridding', 'riddle', 'ride', 'rider', 'ridge', 'ridged', 'ridicule', 'ridiculous', 'ridiculously', 'riding', 'rife', 'riff', 'rifle', 'rig', 'right', 'righteous', 'rightful', 'rightfully', 'rightist', 'righto', 'righty', 'rigid', 'rigidity', 'rigidly', 'rigor', 'rigorous', 'riley', 'rim', 'rima', 'rimmed', 'ring', 'ringed', 'ringing', 'rink', 'rinse', 'rio', 'riot', 'rip', 'ripe', 'riper', 'ripper', 'ripping', 'rise', 'risen', 'risible', 'rising', 'risk', 'risky', 'risque', 'rit', 'rita', 'ritual', 'riva', 'rival', 'rivalry', 'river', 'riveting', 'road', 'roadblock', 'roadside', 'roadster', 'roadway', 'roaming', 'roar', 'roaring', 'roast', 'rob', 'robbery', 'robbing', 'robe', 'robin', 'robot', 'robust', 'robustness', 'roc', 'rock', 'rocket', 'rocking', 'rockwood', 'rocky', 'rod', 'rode', 'rodent', 'roe', 'roger', 'rogue', 'roguery', 'roi', 'roil', 'roke', 'role', 'roll', 'rollback', 'rolled', 'roller', 'rolling', 'romance', 'romantic', 'romp', 'roof', 'roofing', 'roofless', 'rookery', 'rool', 'room', 'roommate', 'roomy', 'roost', 'root', 'rooted', 'rope', 'roper', 'ropes', 'rory', 'rosario', 'rose', 'rosemary', 'rosewood', 'ross', 'roster', 'rosy', 'rot', 'rotate', 'rotated', 'rotating', 'rotation', 'rotational', 'rote', 'rotten', 'rotting', 'rouge', 'rough', 'roughly', 'roulette', 'round', 'rounded', 'roundup', 'route', 'router', 'routine', 'routinely', 'routing', 'rove', 'rover', 'roving', 'row', 'rowan', 'rowdy', 'royal', 'royalty', 'rub', 'rubato', 'rubbed', 'rubber', 'rubbing', 'rubbish', 'rubble', 'rubidium', 'ruble', 'rubric', 'ruby', 'rucker', 'rudd', 'rude', 'rudimentary', 'rue', 'rufus', 'rug', 'rugged', 'ruin', 'ruined', 'ruinous', 'rukh', 'rule', 'ruler', 'ruling', 'rum', 'rumbelow', 'rumble', 'rumor', 'run', 'runaway', 'rune', 'runner', 'running', 'runoff', 'runway', 'rupee', 'rural', 'ruse', 'rush', 'rushed', 'rushing', 'russia', 'rust', 'rustle', 'rustling', 'rut', 'ruth', 'ruthless', 'ruthlessly', 'rutter', 'ryder', 'rye', 'sa', 'sab', 'saber', 'sabotage', 'saccade', 'sack', 'sacked', 'sacking', 'sacrament', 'sacred', 'sacrifice', 'sacrificing', 'sad', 'saddle', 'saddled', 'saddling', 'sadly', 'sadness', 'safari', 'safe', 'safeguard', 'safekeeping', 'safely', 'safety', 'saffron', 'saga', 'sage', 'sagging', 'sai', 'said', 'sail', 'sailed', 'sailing', 'sailor', 'saint', 'sake', 'sal', 'salad', 'salary', 'sale', 'salesman', 'salesperson', 'saliva', 'sally', 'salmon', 'salomon', 'salon', 'saloon', 'salt', 'salted', 'salutary', 'salute', 'salvage', 'salve', 'salvo', 'sam', 'samba', 'sameness', 'sample', 'sampling', 'samsonite', 'samurai', 'san', 'sancho', 'sanctimonious', 'sanction', 'sanctity', 'sanctuary', 'sanctum', 'sand', 'sandbox', 'sander', 'sandman', 'sandwich', 'sandy', 'sane', 'sang', 'sanitary', 'sanitation', 'sanitize', 'sanity', 'sank', 'sans', 'sao', 'sap', 'sapient', 'sapphire', 'sarcasm', 'sarcastic', 'sardonic', 'sarsaparilla', 'sat', 'satan', 'satanic', 'satchel', 'satellite', 'satin', 'satire', 'satirical', 'satisfaction', 'satisfactory', 'satisfied', 'satisfy', 'satisfying', 'saturate', 'saturated', 'saturation', 'sauce', 'sauf', 'sauna', 'saunders', 'sausage', 'savage', 'savagely', 'save', 'saved', 'saver', 'savin', 'saving', 'savior', 'savor', 'savour', 'savoy', 'savvy', 'saw', 'sawdust', 'sawfish', 'sawyer', 'sax', 'say', 'sayer', 'saying', 'scab', 'scalable', 'scale', 'scaled', 'scales', 'scaling', 'scalp', 'scam', 'scan', 'scandal', 'scanner', 'scanning', 'scant', 'scanty', 'scar', 'scarce', 'scarcely', 'scarcity', 'scare', 'scarily', 'scarring', 'scary', 'scat', 'scathing', 'scatter', 'scattered', 'scattering', 'scavenger', 'scenario', 'scene', 'scent', 'sceptic', 'schedule', 'schema', 'scheme', 'schemer', 'schilling', 'schizophrenia', 'schneider', 'scholar', 'scholarship', 'scholastic', 'school', 'schoolgirl', 'schoolhouse', 'schooling', 'schoolmaster', 'schooner', 'schwarz', 'schweizer', 'science', 'scient', 'scientific', 'scientifically', 'scientist', 'scintilla', 'scintillating', 'scissors', 'sclerotic', 'sclerotium', 'scoop', 'scooping', 'scoot', 'scooter', 'scoparius', 'scope', 'score', 'scored', 'scoring', 'scorn', 'scorned', 'scot', 'scotch', 'scotia', 'scoured', 'scourge', 'scouring', 'scout', 'scouting', 'scow', 'scrabble', 'scraggly', 'scramble', 'scrambler', 'scrambling', 'scrap', 'scrapbook', 'scrape', 'scraped', 'scraping', 'scrapped', 'scratch', 'scratching', 'scream', 'screaming', 'screech', 'screeching', 'screen', 'screened', 'screener', 'screening', 'screenplay', 'screw', 'screwdriver', 'screwed', 'screwing', 'scribble', 'scribbled', 'scribbling', 'scribe', 'script', 'scripture', 'scroll', 'scrolled', 'scrotal', 'scrounge', 'scrub', 'scrubbed', 'scrutinize', 'scrutiny', 'scud', 'sculpt', 'sculptor', 'sculpture', 'scurrilous', 'scurry', 'scurvy', 'scuse', 'scuttlebutt', 'scytale', 'se', 'sea', 'seafaring', 'seal', 'sealed', 'sealing', 'sealskin', 'seaman', 'seamless', 'seamlessly', 'seaplane', 'sear', 'search', 'searchable', 'searcher', 'searching', 'searing', 'seaside', 'season', 'seasonal', 'seasoned', 'seat', 'seated', 'seating', 'sec', 'secluded', 'second', 'secondary', 'secondhand', 'secondly', 'secrecy', 'secret', 'secretariat', 'secretary', 'secretion', 'secretive', 'secretly', 'sect', 'sectarian', 'section', 'sectionally', 'sector', 'secular', 'secure', 'securely', 'security', 'sedate', 'sedentary', 'sediment', 'seduce', 'seduction', 'seductive', 'see', 'seed', 'seeded', 'seedy', 'seeing', 'seek', 'seeker', 'seeking', 'seem', 'seeming', 'seemingly', 'seen', 'seer', 'seg', 'segment', 'segregate', 'seine', 'seismic', 'seize', 'seizing', 'seizure', 'seldom', 'select', 'selectable', 'selected', 'selection', 'selective', 'selectively', 'self', 'selfish', 'selfishness', 'sell', 'seller', 'selling', 'semantic', 'semantically', 'semantics', 'semaphore', 'sematic', 'seme', 'semen', 'semester', 'semi', 'semiconductor', 'seminar', 'seminary', 'semiprecious', 'sen', 'senate', 'senator', 'senatorial', 'send', 'sender', 'sending', 'senile', 'senior', 'seniority', 'sensation', 'sensationalism', 'sense', 'senseless', 'sensible', 'sensibly', 'sensitive', 'sensitively', 'sensitivity', 'sensor', 'sensory', 'sensuality', 'sent', 'sentence', 'sentient', 'sentiment', 'sentimental', 'sentimentalist', 'sentinel', 'separate', 'separately', 'separates', 'separating', 'separation', 'separator', 'sept', 'septic', 'sequel', 'sequence', 'sequencer', 'sequential', 'sequester', 'sequestered', 'ser', 'sera', 'serendipity', 'serene', 'serenity', 'serf', 'serfdom', 'sergeant', 'serial', 'serialization', 'serialize', 'series', 'serif', 'serious', 'seriously', 'seriousness', 'sermon', 'serpentine', 'servant', 'serve', 'server', 'servet', 'service', 'serving', 'servitude', 'session', 'sessions', 'set', 'setal', 'setback', 'seth', 'settable', 'setting', 'settle', 'settled', 'settlement', 'settler', 'settling', 'setup', 'seven', 'seventeen', 'seventeenth', 'seventh', 'seventy', 'sever', 'several', 'severance', 'severe', 'severely', 'severity', 'sewage', 'sewed', 'sex', 'sexual', 'sexuality', 'sexually', 'sexy', 'sh', 'sha', 'shabby', 'shack', 'shackle', 'shade', 'shaded', 'shader', 'shading', 'shadow', 'shadowing', 'shadowy', 'shady', 'shaft', 'shafted', 'shag', 'shagged', 'shaggy', 'shah', 'shake', 'shakedown', 'shaken', 'shakeout', 'shaking', 'shaky', 'shall', 'shallow', 'shalt', 'shame', 'shameless', 'shanghai', 'shantytown', 'shape', 'shaped', 'shapeless', 'shaper', 'shaping', 'shard', 'share', 'shareable', 'shareholder', 'shark', 'sharp', 'sharpen', 'sharper', 'sharply', 'sharpness', 'shatter', 'shave', 'shaved', 'shaving', 'shaw', 'shawl', 'shebang', 'shedding', 'shee', 'sheen', 'sheep', 'sheer', 'sheet', 'sheeting', 'shelf', 'shelling', 'shelter', 'sheltered', 'shelving', 'shepherd', 'sheriff', 'sherlock', 'sherry', 'shield', 'shielded', 'shielding', 'shift', 'shifting', 'shim', 'shin', 'shine', 'shining', 'shiny', 'ship', 'shipment', 'shipped', 'shipper', 'shipping', 'shipwright', 'shire', 'shirky', 'shirt', 'shiver', 'shivering', 'shock', 'shocking', 'shockingly', 'shoddy', 'shoe', 'shone', 'shoo', 'shook', 'shoot', 'shooter', 'shooting', 'shop', 'shopper', 'shopping', 'shoptalk', 'shore', 'shoring', 'short', 'shortage', 'shortcoming', 'shorten', 'shortening', 'shorter', 'shortfall', 'shortly', 'shorts', 'shot', 'shotgun', 'shoulder', 'shout', 'shouting', 'shove', 'show', 'showcase', 'showdown', 'shower', 'showing', 'showmanship', 'shown', 'shrapnel', 'shredder', 'shrewd', 'shrill', 'shrillness', 'shrimp', 'shrine', 'shrink', 'shrinking', 'shriver', 'shroud', 'shrub', 'shrug', 'shrunk', 'shrunken', 'shucking', 'shudder', 'shuffle', 'shuffling', 'shun', 'shure', 'shut', 'shutdown', 'shutter', 'shutting', 'shuttle', 'shy', 'shyness', 'si', 'sibling', 'sic', 'sick', 'sickle', 'sickly', 'sickness', 'side', 'sideboard', 'sidenote', 'sides', 'sidewalk', 'sideways', 'sidewinder', 'siding', 'sie', 'siege', 'sierra', 'sieve', 'sifting', 'sig', 'sigh', 'sight', 'sighted', 'sighting', 'sigma', 'sign', 'signal', 'signature', 'signer', 'significance', 'significant', 'significantly', 'signify', 'signum', 'silence', 'silenced', 'silent', 'silently', 'silicon', 'silicone', 'silk', 'silky', 'silliness', 'silly', 'silo', 'silva', 'silver', 'silvering', 'similar', 'similarity', 'similarly', 'simile', 'simple', 'simpler', 'simplicity', 'simplification', 'simplified', 'simplify', 'simplistic', 'simply', 'simulate', 'simulation', 'simulator', 'simultaneous', 'simultaneously', 'sin', 'sina', 'since', 'sincere', 'sincerely', 'sincerity', 'sind', 'sinew', 'sinful', 'sing', 'singe', 'singer', 'singh', 'singing', 'single', 'singled', 'singlehandedly', 'singles', 'singular', 'singularity', 'singularly', 'sinister', 'sink', 'sinking', 'sinus', 'sinusitis', 'sion', 'sip', 'siphon', 'sir', 'sire', 'siren', 'sis', 'sister', 'sit', 'site', 'sitting', 'situated', 'situation', 'situs', 'siva', 'six', 'sixteen', 'sixth', 'sixty', 'sizable', 'size', 'sizeable', 'sized', 'sizes', 'sizzle', 'sizzling', 'skate', 'skater', 'skating', 'skeptic', 'skeptical', 'skeptically', 'skepticism', 'sketch', 'sketcher', 'sketching', 'sketchy', 'skew', 'skewed', 'ski', 'skid', 'skies', 'skiing', 'skill', 'skilled', 'skim', 'skimmed', 'skimming', 'skin', 'skinning', 'skinny', 'skip', 'skipjack', 'skipping', 'skirmish', 'skirt', 'skirted', 'skittish', 'skull', 'skullcap', 'skunk', 'sky', 'skyrocket', 'skyscraper', 'skywriter', 'slack', 'slade', 'slain', 'slam', 'slander', 'slang', 'slangy', 'slap', 'slapping', 'slapstick', 'slash', 'slashed', 'slashing', 'slat', 'slate', 'slater', 'slating', 'slaughter', 'slave', 'slaved', 'slavery', 'slayer', 'slaying', 'sleazy', 'sleek', 'sleep', 'sleeping', 'sleepless', 'sleepy', 'sleet', 'sleeve', 'sleight', 'slender', 'slept', 'sleuth', 'slew', 'slice', 'slicing', 'slick', 'slicker', 'slid', 'slide', 'sliding', 'slight', 'slightly', 'slighty', 'slim', 'slime', 'sling', 'slingshot', 'slip', 'slipped', 'slipper', 'slipping', 'slithers', 'slithy', 'sloan', 'slog', 'slogan', 'sloop', 'sloping', 'sloppy', 'slot', 'sloth', 'slouch', 'slough', 'slow', 'slowdown', 'slowly', 'slows', 'slug', 'slugger', 'sluggish', 'sluice', 'slum', 'slump', 'slutty', 'sly', 'slyly', 'smack', 'small', 'smaller', 'smallish', 'smallpox', 'smart', 'smarting', 'smartly', 'smarty', 'smash', 'smasher', 'smashing', 'smattering', 'smeared', 'smegma', 'smell', 'smelled', 'smelling', 'smelly', 'smew', 'smidge', 'smidgen', 'smile', 'smiling', 'smirk', 'smirking', 'smith', 'smithereens', 'smitten', 'smog', 'smokables', 'smoke', 'smokeable', 'smoked', 'smokeless', 'smoker', 'smoking', 'smoot', 'smooth', 'smoother', 'smoothing', 'smoothly', 'smote', 'smothering', 'smug', 'smuggle', 'smuggling', 'smut', 'smutty', 'snack', 'snag', 'snagged', 'snail', 'snails', 'snake', 'snap', 'snapped', 'snapper', 'snapping', 'snappish', 'snappy', 'snaps', 'snapshot', 'snark', 'snatched', 'sneak', 'sneaking', 'sneaky', 'sneer', 'sniffer', 'sniffing', 'snip', 'sniper', 'sniping', 'snippet', 'snivel', 'snob', 'snobby', 'snoop', 'snooper', 'snooze', 'snore', 'snoring', 'snort', 'snorting', 'snot', 'snow', 'snowball', 'snowflake', 'snowy', 'snug', 'soak', 'soaked', 'soaking', 'soap', 'soapbox', 'soapy', 'soar', 'soaring', 'sober', 'sobering', 'sobriety', 'soc', 'soccer', 'social', 'socialism', 'socialist', 'socially', 'societal', 'society', 'sociological', 'sociologist', 'sociology', 'sock', 'socket', 'sod', 'sodden', 'soe', 'sofa', 'sofar', 'soft', 'soften', 'softly', 'softness', 'soho', 'soil', 'sok', 'sol', 'solace', 'solar', 'sold', 'soldier', 'sole', 'soleil', 'solely', 'solemn', 'solicit', 'solicitation', 'solicited', 'soliciting', 'solicitor', 'solid', 'solidarity', 'solidly', 'soliloquy', 'solitaire', 'solitary', 'solo', 'solution', 'solve', 'solver', 'soma', 'somber', 'somberly', 'somebody', 'someday', 'somehow', 'someone', 'someplace', 'somersault', 'somerset', 'something', 'sometime', 'sometimes', 'somewhat', 'somewhere', 'sommelier', 'son', 'song', 'sonic', 'sons', 'soon', 'sooner', 'soonish', 'soot', 'soothing', 'sophisticated', 'sophistication', 'sophistry', 'sorcerer', 'sore', 'sorrowfully', 'sorry', 'sort', 'sorted', 'sortie', 'souffle', 'sought', 'soul', 'sound', 'sounding', 'soup', 'sour', 'source', 'south', 'southard', 'southeast', 'southeastern', 'southern', 'southwest', 'sovereign', 'sovereignty', 'soviet', 'sow', 'sown', 'spa', 'space', 'spaced', 'spacer', 'spacing', 'spacious', 'spade', 'spaghetti', 'span', 'spangled', 'spar', 'spare', 'sparing', 'sparingly', 'spark', 'sparked', 'sparking', 'sparkle', 'sparkling', 'sparks', 'sparse', 'sparsely', 'spart', 'spastic', 'spat', 'spate', 'spatial', 'spatially', 'spattering', 'spawn', 'spawning', 'speak', 'speaker', 'speaking', 'spear', 'spearhead', 'spec', 'special', 'specialist', 'specialization', 'specialize', 'specialized', 'specially', 'specialty', 'species', 'specific', 'specifically', 'specification', 'specificly', 'specifier', 'specify', 'speck', 'specs', 'spectacle', 'spectacular', 'spectacularly', 'spectator', 'specter', 'spectrometer', 'spectrum', 'specular', 'speculate', 'speculation', 'speculative', 'sped', 'speech', 'speechless', 'speed', 'speedily', 'speediness', 'speeding', 'speedy', 'speer', 'spell', 'spelling', 'spelt', 'spencer', 'spend', 'spending', 'spent', 'sperm', 'spet', 'spew', 'spewing', 'sphere', 'spheric', 'spherical', 'sphinx', 'spice', 'spicy', 'spider', 'spiegel', 'spike', 'spiked', 'spill', 'spilth', 'spin', 'spinal', 'spindle', 'spine', 'spineless', 'spinner', 'spinning', 'spinster', 'spiral', 'spirit', 'spirited', 'spiritual', 'spirituality', 'spiritually', 'spit', 'spite', 'spitting', 'splash', 'splat', 'spleen', 'splendid', 'splendor', 'splice', 'splinter', 'split', 'splitting', 'splodge', 'splurge', 'spoilage', 'spoiled', 'spoilsport', 'spoilt', 'spoke', 'spoken', 'spokesman', 'spokeswoman', 'sponge', 'sponsor', 'sponsorship', 'spontaneous', 'spontaneously', 'spoof', 'spooky', 'spool', 'spoon', 'spoonful', 'spor', 'sporadic', 'sporadically', 'sport', 'sporting', 'sports', 'spot', 'spotlight', 'spotted', 'spotting', 'spouse', 'spouting', 'sprawling', 'spray', 'spread', 'spreading', 'spree', 'spring', 'springing', 'sprinkle', 'sprinkler', 'sprint', 'sprocket', 'sprout', 'sprouting', 'sprung', 'spud', 'spun', 'spunky', 'spur', 'spurious', 'spurn', 'spy', 'squab', 'squabble', 'squabbling', 'squad', 'squadron', 'squander', 'square', 'squared', 'squarely', 'squat', 'squeak', 'squeaky', 'squeamish', 'squeeze', 'squeezing', 'squelch', 'squid', 'squiggle', 'squirm', 'squishy', 'sri', 'st', 'stab', 'stability', 'stabilization', 'stabilize', 'stable', 'stack', 'stadium', 'staff', 'staffed', 'staffer', 'stage', 'staggering', 'staggeringly', 'stagnation', 'stain', 'stainless', 'stake', 'stakeholder', 'stale', 'stalk', 'stalker', 'stalking', 'stall', 'stalling', 'stallman', 'stalwart', 'stamina', 'stamp', 'stampede', 'stamping', 'stance', 'stand', 'standard', 'standardization', 'standardize', 'standardized', 'standing', 'standish', 'standpoint', 'stanza', 'staple', 'star', 'stardom', 'stare', 'starfish', 'staring', 'stark', 'starkly', 'starlet', 'starlit', 'starred', 'starring', 'starshine', 'start', 'starter', 'starting', 'startling', 'starvation', 'starve', 'starved', 'stash', 'state', 'statecraft', 'stated', 'stateful', 'stateless', 'stately', 'statement', 'stateside', 'statesman', 'static', 'statically', 'station', 'stationary', 'stationery', 'stationmaster', 'statism', 'statist', 'statistic', 'statistical', 'statistically', 'statistics', 'statue', 'stature', 'status', 'statute', 'statutorily', 'statutory', 'stave', 'stay', 'stayed', 'stays', 'stead', 'steadfastly', 'steadily', 'steady', 'steak', 'steal', 'stealer', 'stealing', 'stealth', 'steam', 'steamboat', 'steaming', 'steamy', 'steel', 'steep', 'steer', 'steering', 'steganography', 'stellar', 'stem', 'stemmed', 'stencil', 'step', 'stephane', 'steppe', 'stepped', 'stepping', 'stereo', 'stereoscopic', 'stereotype', 'sterile', 'sterling', 'stern', 'stero', 'steroid', 'stet', 'steven', 'stew', 'steward', 'stewardess', 'stey', 'stick', 'sticker', 'stickers', 'stickiness', 'sticking', 'sticks', 'sticky', 'stiff', 'stiffen', 'stiffening', 'stiffness', 'stifle', 'still', 'stimulant', 'stimulate', 'stimulation', 'stimulus', 'sting', 'stinging', 'stingy', 'stink', 'stinker', 'stinking', 'stint', 'stippling', 'stipulate', 'stipule', 'stir', 'stirring', 'stitch', 'stitching', 'stock', 'stockbroker', 'stocking', 'stocks', 'stoical', 'stoke', 'stole', 'stolen', 'stomach', 'stone', 'stoned', 'stoner', 'stonewall', 'stood', 'stoop', 'stop', 'stoppage', 'stopped', 'stopper', 'stopping', 'storage', 'store', 'storm', 'storminess', 'storming', 'stormy', 'story', 'storytelling', 'stove', 'stow', 'straddle', 'straight', 'straightforward', 'strain', 'strained', 'straining', 'strand', 'strange', 'strangely', 'stranger', 'strangle', 'strangler', 'strap', 'strapped', 'strata', 'strategic', 'strategically', 'strategist', 'strategy', 'stratified', 'stratosphere', 'straw', 'strawberry', 'stray', 'streak', 'stream', 'streamer', 'streaming', 'streamline', 'streamlined', 'streep', 'street', 'streets', 'strength', 'strengthen', 'strengthening', 'strenuous', 'strenuously', 'stress', 'stressful', 'stretch', 'strewn', 'striatum', 'stricken', 'strickler', 'strict', 'strictly', 'stricture', 'strife', 'strike', 'striking', 'strikingly', 'string', 'stringent', 'stringently', 'stringy', 'strip', 'stripe', 'striped', 'stripped', 'stripper', 'stripping', 'strive', 'strived', 'striving', 'strode', 'stroke', 'stroking', 'strom', 'strong', 'stronghold', 'strongly', 'struck', 'structural', 'structurally', 'structure', 'structured', 'struggle', 'struggling', 'strung', 'strut', 'stub', 'stubborn', 'stuck', 'stud', 'student', 'studied', 'studio', 'studiously', 'studium', 'study', 'stuff', 'stuffed', 'stuffer', 'stuffing', 'stuffy', 'stumble', 'stumbling', 'stump', 'stun', 'stung', 'stunning', 'stunt', 'stupendously', 'stupid', 'stupidity', 'stupidly', 'sturdy', 'sty', 'style', 'styling', 'stylish', 'stylistic', 'stylus', 'suave', 'sub', 'subatomic', 'subaverage', 'subclass', 'subcommittee', 'subconscious', 'subconsciously', 'subcontinent', 'subcontract', 'subcontractor', 'subculture', 'subdivide', 'subdued', 'suberic', 'subject', 'subjected', 'subjective', 'sublime', 'subliminal', 'submarine', 'submerged', 'submission', 'submissive', 'submit', 'submitter', 'suboptimal', 'subordinate', 'subpart', 'subpoena', 'subpopulation', 'subscribe', 'subscriber', 'subscription', 'subsection', 'subsequent', 'subsequently', 'subset', 'subsidiary', 'subsidize', 'subsidy', 'subsist', 'subspecies', 'substance', 'substantial', 'substantiality', 'substantially', 'substantive', 'substitute', 'substituting', 'substitution', 'substrate', 'subsystem', 'subtext', 'subtitle', 'subtle', 'subtly', 'subtract', 'suburb', 'suburban', 'subversion', 'subversive', 'subvert', 'subway', 'succeed', 'succeeding', 'success', 'successful', 'successfully', 'succession', 'successive', 'successively', 'successor', 'succinct', 'succinctly', 'suck', 'sucker', 'sucking', 'sudden', 'suddenly', 'sue', 'suede', 'suffer', 'suffering', 'suffice', 'sufficiency', 'sufficient', 'sufficiently', 'suffix', 'sugar', 'suggest', 'suggesting', 'suggestion', 'suicidal', 'suicide', 'suid', 'suing', 'suit', 'suitability', 'suitable', 'suitably', 'suitcase', 'suite', 'sulk', 'sully', 'sultan', 'sultanate', 'sultry', 'sum', 'summarize', 'summary', 'summation', 'summed', 'summer', 'summertime', 'summit', 'summon', 'summons', 'sumptuous', 'sun', 'sunburn', 'sundae', 'sunflower', 'sung', 'sunk', 'sunken', 'sunlight', 'sunny', 'sunray', 'sunrise', 'sunset', 'sunshine', 'sup', 'super', 'superb', 'superbly', 'supercharge', 'supercharged', 'supercool', 'superficial', 'superficially', 'superfluous', 'superhero', 'superhighway', 'superior', 'superiority', 'superlative', 'superman', 'supermarket', 'supernatural', 'supernova', 'superposed', 'superpower', 'supersize', 'supersonic', 'superstition', 'superstitious', 'supervise', 'supervision', 'supervisor', 'supper', 'supplant', 'supplement', 'supplemental', 'supplementation', 'supplier', 'supply', 'support', 'supporter', 'supporting', 'supportive', 'suppose', 'supposed', 'supposedly', 'suppository', 'suppress', 'suppressed', 'suppression', 'supremacy', 'supreme', 'supremely', 'sur', 'sure', 'surely', 'surf', 'surface', 'surfaced', 'surfacing', 'surfer', 'surge', 'surgery', 'surgical', 'surgically', 'surmise', 'surpassing', 'surplus', 'surprise', 'surprising', 'surprisingly', 'surrender', 'surreptitious', 'surreptitiously', 'surrey', 'surrogate', 'surround', 'surrounded', 'surrounding', 'surroundings', 'surveillance', 'survey', 'surveying', 'survival', 'survive', 'surviving', 'survivor', 'survivorship', 'susceptible', 'suspect', 'suspected', 'suspend', 'suspended', 'suspense', 'suspension', 'suspicion', 'suspicious', 'suspiciously', 'sustain', 'sustainable', 'sustained', 'sustaining', 'suum', 'svelte', 'swallow', 'swallower', 'swamp', 'swan', 'swap', 'swapping', 'swarm', 'swarming', 'swat', 'sway', 'swayed', 'swear', 'sweat', 'sweated', 'sweater', 'sweatshop', 'sweaty', 'sweep', 'sweeping', 'sweet', 'sweeten', 'sweetener', 'sweetie', 'sweetly', 'sweetness', 'swelled', 'swelling', 'swept', 'swerve', 'swift', 'swifter', 'swiftness', 'swim', 'swimmer', 'swimming', 'swing', 'swinging', 'swirl', 'swish', 'swiss', 'switch', 'switchboard', 'switched', 'switching', 'swivel', 'swollen', 'sword', 'swore', 'sworn', 'swung', 'sycamore', 'syllable', 'symbiosis', 'symbol', 'symbolic', 'symbolically', 'symbolism', 'symbolize', 'symmetric', 'symmetrical', 'symmetry', 'sympathetic', 'sympathizing', 'sympathy', 'symphony', 'symposium', 'symptom', 'synagogue', 'synapses', 'synaptic', 'sync', 'synch', 'synchronization', 'synchronize', 'synchronized', 'synchronizer', 'synchronous', 'syncopated', 'syndicate', 'syndication', 'syndrome', 'synergetic', 'synergic', 'synergistic', 'synergistically', 'synergy', 'synesthesia', 'synonym', 'synonymous', 'synopsis', 'syntactic', 'syntactical', 'syntax', 'synthesis', 'synthesize', 'synthesizer', 'synthetic', 'synthetically', 'syphilis', 'syringes', 'syrup', 'system', 'systematic', 'systematical', 'systematically', 'systemize', 'ta', 'tab', 'tabla', 'table', 'tableaux', 'tables', 'tablet', 'tableware', 'tabloid', 'taboo', 'tabor', 'tacit', 'tacitly', 'tack', 'tacking', 'tackle', 'tackled', 'tackling', 'tactfully', 'tactic', 'tactical', 'tactically', 'tactics', 'tactile', 'tad', 'tadpole', 'tae', 'taft', 'tag', 'tagged', 'tai', 'tail', 'tailed', 'tailing', 'tailor', 'tailpipe', 'taint', 'tait', 'take', 'takedown', 'taken', 'taker', 'taking', 'takings', 'tal', 'tale', 'talent', 'talented', 'talentless', 'tales', 'talk', 'talking', 'tall', 'taller', 'tally', 'tam', 'tamara', 'tamas', 'tamber', 'tame', 'tamp', 'tamper', 'tan', 'tandem', 'tang', 'tangent', 'tangentially', 'tangible', 'tangle', 'tank', 'tanked', 'tantamount', 'tantra', 'tantric', 'tao', 'tap', 'tape', 'tapered', 'tapping', 'taps', 'tar', 'tara', 'target', 'targeted', 'tariff', 'tarnish', 'tarot', 'task', 'tass', 'taste', 'tasted', 'tastefully', 'tasting', 'tasty', 'tat', 'tate', 'tatter', 'tattletale', 'taught', 'taunt', 'taunting', 'tautologically', 'tav', 'tavern', 'taw', 'tax', 'taxable', 'taxation', 'taxed', 'taxi', 'taxidermist', 'taxidermy', 'taxing', 'taxpayer', 'te', 'tea', 'teach', 'teacher', 'teaching', 'teakettle', 'teal', 'team', 'teamwork', 'tear', 'teardrop', 'tearing', 'teary', 'tease', 'teaser', 'teasing', 'teasingly', 'teaspoon', 'teat', 'tec', 'tech', 'technica', 'technical', 'technicality', 'technically', 'technician', 'technics', 'technique', 'technological', 'technologically', 'technology', 'tectonic', 'tectonics', 'ted', 'tedious', 'tediously', 'tedium', 'tee', 'teeming', 'teems', 'teen', 'teenage', 'teens', 'teensy', 'teeth', 'teil', 'tele', 'telecommunication', 'telegram', 'telegraph', 'telegraphic', 'telemark', 'telemetry', 'telepathy', 'telephone', 'telephony', 'telescope', 'telesis', 'television', 'tell', 'teller', 'telling', 'telltale', 'telluride', 'temp', 'temperament', 'temperance', 'temperate', 'temperature', 'tempered', 'template', 'temple', 'tempo', 'temporal', 'temporarily', 'temporary', 'tempt', 'tempting', 'ten', 'tend', 'tendency', 'tender', 'tending', 'tendon', 'tenebrous', 'tenent', 'tenet', 'tennis', 'tenor', 'tense', 'tensile', 'tension', 'tensor', 'tent', 'tentacle', 'tentative', 'tenth', 'tenuous', 'tenure', 'tequila', 'term', 'termin', 'terminal', 'terminally', 'terminate', 'termination', 'terminator', 'termine', 'terminology', 'terrace', 'terrain', 'terrestrial', 'terrible', 'terribly', 'terrific', 'terrifically', 'terrifying', 'terrifyingly', 'territorial', 'territory', 'terror', 'terrorism', 'terrorist', 'terry', 'terse', 'test', 'testament', 'tested', 'tester', 'testes', 'testicular', 'testify', 'testimonial', 'testimony', 'testing', 'testis', 'testosterone', 'tetra', 'tetter', 'text', 'textbook', 'textual', 'texture', 'th', 'tha', 'thakur', 'thank', 'thankful', 'thankfully', 'thanks', 'thanksgiving', 'thatcher', 'theater', 'theatrical', 'theatrics', 'thee', 'theft', 'theism', 'thema', 'theme', 'theological', 'theologically', 'theology', 'theorem', 'theoretic', 'theoretical', 'theoretically', 'theoretician', 'theorist', 'theory', 'therapist', 'therapy', 'thereafter', 'thereby', 'therefore', 'therein', 'thereof', 'thereon', 'therese', 'thermal', 'thermodynamics', 'thermometer', 'thermostat', 'theses', 'thick', 'thicken', 'thickness', 'thief', 'thigh', 'thin', 'thine', 'thing', 'thingy', 'think', 'thinker', 'thinking', 'thinly', 'thinner', 'thinning', 'third', 'thirst', 'thirsty', 'thirteen', 'thirty', 'thong', 'thorough', 'thoroughly', 'thou', 'though', 'thought', 'thoughtful', 'thousand', 'thousandth', 'thrash', 'thread', 'threaded', 'threat', 'threaten', 'threatening', 'three', 'thresher', 'threshold', 'threw', 'thrice', 'thrill', 'thriller', 'thrilling', 'thrive', 'thriving', 'thro', 'throat', 'throating', 'throaty', 'throne', 'throughout', 'throughput', 'throw', 'thrower', 'throwing', 'thrown', 'thrust', 'thug', 'thumb', 'thumbnail', 'thump', 'thumper', 'thunder', 'thunderstorm', 'thus', 'thusly', 'thwart', 'thy', 'thyroid', 'thyself', 'ti', 'tib', 'tibet', 'tiburon', 'tic', 'tick', 'ticked', 'ticker', 'ticket', 'ticking', 'tickle', 'tickled', 'tickling', 'tidal', 'tidbit', 'tide', 'tidy', 'tie', 'tied', 'tien', 'tier', 'tiered', 'tiff', 'tiffany', 'tiffin', 'tig', 'tiger', 'tight', 'tightly', 'tightrope', 'til', 'tilde', 'tile', 'tiled', 'tiling', 'till', 'tilt', 'timber', 'time', 'timed', 'timeliness', 'timely', 'timepiece', 'timer', 'times', 'timetable', 'timing', 'timothy', 'tin', 'ting', 'tinged', 'tingle', 'tinhorn', 'tinker', 'tinkerer', 'tinkling', 'tinted', 'tiny', 'tip', 'tipped', 'tire', 'tired', 'tirelessly', 'tiresome', 'tissue', 'tit', 'titanic', 'titanium', 'tithe', 'title', 'titled', 'titular', 'tivoli', 'toast', 'toaster', 'tobacco', 'toby', 'tock', 'tocome', 'today', 'toddler', 'toe', 'tog', 'together', 'toggle', 'toi', 'toil', 'toilet', 'toke', 'token', 'tol', 'told', 'tolerably', 'tolerance', 'tolerant', 'tolerate', 'toll', 'tollbooth', 'tomato', 'tomb', 'tomboy', 'tombstone', 'tomcat', 'tome', 'tommy', 'tomography', 'tomorrow', 'ton', 'tonal', 'tone', 'toned', 'toner', 'tong', 'tongue', 'tongued', 'tonic', 'tonight', 'tony', 'took', 'tool', 'toolbox', 'toon', 'toop', 'tooth', 'top', 'topaz', 'topic', 'topical', 'topless', 'topographical', 'topography', 'topological', 'topology', 'topped', 'topping', 'topple', 'tops', 'topsail', 'tor', 'tora', 'torah', 'torch', 'tore', 'torment', 'torn', 'torque', 'torrent', 'tort', 'tortoise', 'torture', 'tortured', 'torturous', 'tory', 'toss', 'tossing', 'tot', 'total', 'totalitarian', 'totalitarianism', 'totality', 'totally', 'tote', 'totty', 'tou', 'touch', 'touched', 'touching', 'touchy', 'tough', 'tought', 'tour', 'touring', 'tourism', 'tourist', 'tourniquet', 'tout', 'tow', 'toward', 'towards', 'towel', 'tower', 'towering', 'towing', 'town', 'township', 'toxic', 'toxicology', 'toxin', 'toy', 'trace', 'traceable', 'tracer', 'tracing', 'track', 'tracked', 'tracker', 'tract', 'traction', 'tractor', 'trade', 'trader', 'trading', 'tradition', 'traditional', 'traditionally', 'traffic', 'tragedy', 'tragic', 'tragically', 'trail', 'trailer', 'trailing', 'train', 'trained', 'trainer', 'training', 'trait', 'trajectory', 'tram', 'tramp', 'trance', 'tranquil', 'tranquilizer', 'transact', 'transaction', 'transatlantic', 'transcribe', 'transcript', 'transcription', 'transfer', 'transferable', 'transference', 'transferred', 'transferring', 'transform', 'transformation', 'transformative', 'transforming', 'transfusion', 'transhuman', 'transient', 'transistor', 'transit', 'transition', 'transitional', 'transitive', 'transitively', 'transitory', 'translate', 'translation', 'translator', 'translucency', 'translucent', 'transmission', 'transmit', 'transmittal', 'transmitter', 'transnational', 'transparency', 'transparent', 'transparently', 'transplant', 'transport', 'transportability', 'transportation', 'transported', 'transpose', 'trap', 'trapped', 'trapper', 'traps', 'trash', 'trauma', 'traumatic', 'traumatize', 'travail', 'travel', 'traveled', 'traveler', 'traveling', 'travelled', 'traveller', 'travelogue', 'traversal', 'traverse', 'traversing', 'travis', 'tray', 'treacherous', 'treachery', 'treacle', 'tread', 'treadmill', 'treason', 'treasure', 'treasury', 'treat', 'treatable', 'treating', 'treatise', 'treatment', 'treaty', 'treble', 'trebuchet', 'tree', 'treed', 'trek', 'tremble', 'trembling', 'tremendous', 'tremendously', 'trend', 'trespass', 'tret', 'tri', 'triad', 'triage', 'trial', 'triangle', 'tribal', 'tribe', 'tribesman', 'tribune', 'tribute', 'trick', 'trickery', 'trickle', 'trickling', 'tricky', 'trident', 'tried', 'trifle', 'trifling', 'trigger', 'triggered', 'triglyceride', 'trillion', 'trillionth', 'trilogy', 'trim', 'trinity', 'trio', 'trip', 'tripe', 'triple', 'triplicate', 'tripod', 'tripping', 'tripple', 'trite', 'triumph', 'triumphant', 'triumphing', 'trivia', 'trivial', 'triviality', 'trivially', 'trivium', 'trodden', 'troll', 'trolley', 'trolling', 'tron', 'troop', 'trooper', 'tropical', 'trot', 'trouble', 'troublesome', 'troubling', 'troupe', 'trout', 'trove', 'troy', 'truck', 'truckload', 'trucks', 'true', 'truer', 'truly', 'trump', 'trumpet', 'truncate', 'truncated', 'trundling', 'trunk', 'trust', 'trustee', 'trusting', 'trustworthy', 'trusty', 'truth', 'truthfully', 'try', 'trying', 'tu', 'tuan', 'tuath', 'tub', 'tuba', 'tube', 'tuberculosis', 'tuck', 'tue', 'tug', 'tui', 'tuition', 'tula', 'tulip', 'tum', 'tumble', 'tumbled', 'tumor', 'tumultuously', 'tune', 'tuned', 'tuner', 'tungsten', 'tunic', 'tuning', 'tunnel', 'tunneled', 'tunneling', 'turbine', 'turbo', 'turbot', 'turbulent', 'turf', 'turk', 'turkey', 'turmoil', 'turn', 'turnaround', 'turned', 'turner', 'turning', 'turnkey', 'turnoff', 'turnover', 'turns', 'turtle', 'tut', 'tutor', 'tutorial', 'tux', 'tuxedo', 'twain', 'twang', 'tweak', 'twee', 'twelve', 'twentieth', 'twenty', 'twice', 'twick', 'twiddle', 'twiddler', 'twiddling', 'twig', 'twilight', 'twin', 'twinkle', 'twist', 'twisted', 'twisting', 'twit', 'twitter', 'two', 'twofold', 'tycoon', 'tying', 'type', 'typical', 'typically', 'typify', 'typist', 'typo', 'typographical', 'tyranny', 'tyrant', 'ubi', 'ubiety', 'ubiquitous', 'ubiquity', 'udell', 'ug', 'ugh', 'ugliness', 'ugly', 'uke', 'ukulele', 'ula', 'ull', 'ulster', 'ultima', 'ultimate', 'ultimately', 'ultimatum', 'ultra', 'ultramicroscopic', 'ultraviolet', 'ulu', 'um', 'umber', 'umbilical', 'umbrella', 'umpteen', 'un', 'unable', 'unacceptability', 'unacceptable', 'unaccountable', 'unaccountably', 'unaccounted', 'unaccustomed', 'unacknowledged', 'unadulterated', 'unadvertised', 'unaffected', 'unaffiliated', 'unaired', 'unambiguously', 'unanimous', 'unanimously', 'unanswerable', 'unanswered', 'unanticipated', 'unapologetic', 'unapproved', 'unarmed', 'unartistic', 'unashamedly', 'unassailable', 'unassuming', 'unattainable', 'unattended', 'unattractive', 'unattributed', 'unauthorized', 'unavailable', 'unavailing', 'unavoidable', 'unavoidably', 'unaware', 'unawares', 'unbalanced', 'unbearable', 'unbeatable', 'unbeknown', 'unbelievable', 'unbelievably', 'unbiased', 'unbind', 'unblessed', 'unblinking', 'unblock', 'unblocked', 'unbooked', 'unbranded', 'unbreakable', 'unbreakably', 'unbudgeted', 'unbundled', 'unburnt', 'unca', 'uncalled', 'uncannily', 'uncanny', 'uncapped', 'uncaught', 'uncensorable', 'uncensored', 'uncertain', 'uncertainty', 'unchallenged', 'unchangeable', 'unchanged', 'unchanging', 'uncheck', 'unchecked', 'uncircumcised', 'uncivilized', 'unclaimed', 'unclassified', 'uncle', 'uncleanly', 'unclear', 'unclosed', 'uncluttered', 'uncollected', 'uncomfortable', 'uncomfortably', 'uncommon', 'uncommunicative', 'uncompressed', 'uncompromising', 'unconditional', 'unconscious', 'unconsciously', 'unconsecration', 'unconstitutional', 'uncontrollable', 'uncontrollably', 'unconventional', 'unconvinced', 'unconvincing', 'uncork', 'uncorroborated', 'uncountable', 'uncouth', 'uncover', 'uncovered', 'uncreated', 'uncreative', 'uncritically', 'uncultured', 'uncut', 'undead', 'undecided', 'undeciphered', 'undeclared', 'undefined', 'undeliverable', 'undelivered', 'undemocratic', 'undeniable', 'undependable', 'underbelly', 'underbrush', 'undercover', 'undercurrent', 'underdog', 'underestimate', 'undergo', 'undergoing', 'undergrad', 'undergraduate', 'underground', 'undergrowth', 'underline', 'underlying', 'undermine', 'undermining', 'underneath', 'underpin', 'underscore', 'undersecretary', 'underside', 'understand', 'understandability', 'understandable', 'understanding', 'understatement', 'understood', 'understudy', 'undertake', 'undertaking', 'undertook', 'underwater', 'underway', 'underwear', 'underworld', 'underwrite', 'underwriting', 'undesirable', 'undetectable', 'undetected', 'undiplomatic', 'undischarged', 'undisclosed', 'undiscovered', 'undiscriminating', 'undisputed', 'undisputedly', 'undisrupted', 'undisturbed', 'undivided', 'undo', 'undocumented', 'undoing', 'undone', 'undoubtedly', 'undressed', 'undue', 'undulated', 'unduly', 'unearth', 'unearthed', 'unease', 'uneasiness', 'uneconomical', 'uneducated', 'unelected', 'unemployed', 'unemployment', 'unencumbered', 'unequaled', 'unequivocally', 'unethical', 'uneven', 'uneventful', 'unexceptional', 'unexciting', 'unexpected', 'unexpectedly', 'unexplained', 'unexplicable', 'unfailingly', 'unfair', 'unfairly', 'unfamiliar', 'unfamiliarity', 'unfathomable', 'unfavorable', 'unfettered', 'unfiltered', 'unfinished', 'unfit', 'unfixable', 'unfold', 'unfolding', 'unforeseen', 'unforgettable', 'unforgivable', 'unfortunate', 'unfortunately', 'unfounded', 'unfriended', 'unfriendly', 'ungodly', 'ungranted', 'ungrating', 'unguarded', 'unhampered', 'unhappy', 'unheader', 'unhealthy', 'unheard', 'unhelpful', 'unholy', 'unicameral', 'unicorn', 'unidentified', 'unification', 'unified', 'unifier', 'uniform', 'uniformly', 'unify', 'unilateral', 'unilateralism', 'unimaginably', 'unimpeded', 'unimportant', 'unimpressed', 'uninformed', 'uninhabited', 'uninitiated', 'unintelligibly', 'unintended', 'unintentional', 'unintentionally', 'uninteresting', 'uninvented', 'uninvited', 'uninvolved', 'union', 'unionism', 'unionist', 'unionize', 'unipolar', 'unique', 'uniquely', 'uniqueness', 'unison', 'unit', 'unitarian', 'unite', 'united', 'universal', 'universally', 'universe', 'university', 'unjustifiably', 'unjustified', 'unjustly', 'unkempt', 'unknowingly', 'unknown', 'unlawful', 'unlearn', 'unleash', 'unleashed', 'unless', 'unlicensed', 'unlike', 'unlikely', 'unlimited', 'unlink', 'unliquidated', 'unlist', 'unlisted', 'unload', 'unloaded', 'unlock', 'unlocked', 'unlocking', 'unloved', 'unlucky', 'unmade', 'unmanageable', 'unmanned', 'unmarked', 'unmask', 'unmatched', 'unmeasurable', 'unmet', 'unmilitary', 'unmined', 'unmissable', 'unmitigated', 'unmodified', 'unmounting', 'unnamed', 'unnecessarily', 'unnecessary', 'unneeded', 'unnoticed', 'unobstructed', 'unobtainable', 'unobtrusive', 'unoffending', 'unofficial', 'unofficially', 'unorthodox', 'unpack', 'unpacked', 'unpaid', 'unparalleled', 'unpeaceably', 'unpleasant', 'unplug', 'unplugged', 'unpolished', 'unpopular', 'unprecedented', 'unpredictable', 'unpretentious', 'unprincipled', 'unproductive', 'unprofessional', 'unprofitable', 'unprotected', 'unproven', 'unprovoked', 'unpublished', 'unpunished', 'unqualified', 'unquestionable', 'unquestionably', 'unquestioned', 'unquoted', 'unrated', 'unravel', 'unravelling', 'unreachable', 'unread', 'unreadable', 'unready', 'unreal', 'unrealistic', 'unreasonable', 'unreceptive', 'unrecognizable', 'unrecognizably', 'unrecorded', 'unregistered', 'unregulated', 'unrelated', 'unrelenting', 'unreliable', 'unrelieved', 'unrepentant', 'unrequested', 'unreserved', 'unresolved', 'unresponsive', 'unrest', 'unrestrained', 'unrestricted', 'unrewarded', 'unrigorous', 'unrivaled', 'unruly', 'unsafe', 'unsaid', 'unsatisfied', 'unsatisfying', 'unsavory', 'unscathed', 'unscientific', 'unscrupulous', 'unsecured', 'unseemingly', 'unseemly', 'unseen', 'unselective', 'unsent', 'unset', 'unsettling', 'unsheathed', 'unsightly', 'unsigned', 'unskilled', 'unsmiling', 'unsold', 'unsolicitated', 'unsolicited', 'unsolvable', 'unsolved', 'unsortable', 'unsorted', 'unspeakable', 'unspecified', 'unspoiled', 'unsponsored', 'unspun', 'unstable', 'unstoppable', 'unsubscribed', 'unsubscribing', 'unsuccessful', 'unsuccessfully', 'unsuitable', 'unsupervised', 'unsupported', 'unsure', 'unsurpassed', 'unsurprising', 'unsuspected', 'unsuspecting', 'unsuspectingly', 'untapped', 'untar', 'untarred', 'untenable', 'untested', 'unthinkable', 'untidy', 'untill', 'untimely', 'untitled', 'unto', 'untold', 'untouched', 'untraceable', 'untrue', 'untrusted', 'untrusting', 'untrustworthy', 'unturned', 'untypical', 'unusable', 'unused', 'unusual', 'unusually', 'unveil', 'unveiled', 'unveiling', 'unverified', 'unversed', 'unwanted', 'unwarranted', 'unwary', 'unwashed', 'unwavering', 'unwelcome', 'unwieldy', 'unwilling', 'unwillingly', 'unwillingness', 'unwise', 'unwitting', 'unwittingly', 'unworkable', 'unworthy', 'unwritable', 'unwritten', 'upbeat', 'upcoming', 'update', 'upgrade', 'upheld', 'uphill', 'uphold', 'uplifting', 'upline', 'upon', 'upper', 'uppermost', 'uppity', 'upright', 'uprising', 'uproar', 'uproot', 'upset', 'upsetting', 'upshot', 'upside', 'upstairs', 'upstart', 'upstream', 'upward', 'upwards', 'ur', 'ura', 'uranium', 'urban', 'urbanization', 'urd', 'ure', 'urethane', 'urf', 'urge', 'urgence', 'urgency', 'urgent', 'urgently', 'urging', 'urinary', 'urine', 'urled', 'urn', 'urological', 'us', 'usability', 'usable', 'usage', 'use', 'used', 'useful', 'usefulness', 'useless', 'uselessly', 'user', 'usher', 'ust', 'usual', 'usually', 'usufruct', 'usufructuary', 'ut', 'utensil', 'utility', 'utilization', 'utilize', 'utmost', 'utopia', 'utopian', 'utter', 'utterly', 'uvula', 'vacant', 'vacate', 'vacation', 'vaccine', 'vacuous', 'vacuum', 'vag', 'vagabond', 'vagina', 'vague', 'vaguely', 'vagueness', 'vain', 'vainglorious', 'valedictorian', 'valentine', 'valid', 'validate', 'validation', 'validity', 'valley', 'valuable', 'valuation', 'value', 'valued', 'vampire', 'vampirish', 'van', 'vandalism', 'vanguard', 'vanilla', 'vanish', 'vanishing', 'vanity', 'vantage', 'vapor', 'variability', 'variable', 'variance', 'variant', 'variation', 'varied', 'variety', 'various', 'variously', 'vary', 'vascular', 'vase', 'vasectomy', 'vast', 'vastly', 'vastness', 'vat', 'vau', 'vaudeville', 'vault', 'vaulting', 'vaunted', 'vector', 'vegetable', 'vegetarian', 'vegetarianism', 'vegetation', 'vehemently', 'vehicle', 'vehicular', 'veil', 'veiled', 'vein', 'velocity', 'velvet', 'vending', 'vendor', 'venerable', 'vengeance', 'vent', 'ventilation', 'ventriloquism', 'venture', 'venue', 'vera', 'veranda', 'verb', 'verbal', 'verbally', 'verbatim', 'verbena', 'verbiage', 'verbose', 'verbosity', 'verdant', 'verdict', 'verge', 'veri', 'verifiable', 'verification', 'verifier', 'verify', 'veritable', 'veritably', 'vermin', 'vernacular', 'versatile', 'verse', 'versed', 'version', 'versus', 'vertex', 'vertical', 'vertically', 'vervain', 'vessel', 'vesting', 'vet', 'veteran', 'veto', 'veuve', 'vexatious', 'vexed', 'via', 'viability', 'viable', 'viatical', 'vibrancy', 'vibrating', 'vibration', 'vibrational', 'vibrator', 'vicarious', 'vice', 'vicinity', 'vicious', 'vicissitude', 'victim', 'victimization', 'victor', 'victorious', 'victory', 'video', 'vidual', 'vie', 'view', 'viewable', 'viewer', 'viewpoint', 'vigilance', 'vigilant', 'vigilante', 'vigilantism', 'vignette', 'vigorous', 'vigorously', 'viking', 'vile', 'vilification', 'villa', 'village', 'villain', 'villainous', 'ville', 'vim', 'vincent', 'vine', 'vineyard', 'vinny', 'vino', 'vintage', 'vinyl', 'viola', 'violate', 'violation', 'violator', 'violence', 'violent', 'violently', 'violet', 'violin', 'violist', 'viral', 'virgin', 'viridian', 'viripotent', 'virtual', 'virtually', 'virtue', 'virtuoso', 'virus', 'vis', 'visa', 'vise', 'visibility', 'visible', 'visibly', 'vision', 'visionary', 'visit', 'visite', 'visiting', 'visitor', 'visor', 'vista', 'visual', 'visualization', 'visualize', 'visually', 'vital', 'vitality', 'vitally', 'vitamin', 'vivacious', 'vivaciously', 'vivid', 'vividly', 'vocabulary', 'vocal', 'vodka', 'vog', 'vogue', 'voice', 'voiced', 'void', 'vol', 'volatile', 'volatility', 'volley', 'volleyball', 'volt', 'voltage', 'volume', 'voluntarily', 'voluntary', 'volunteer', 'voluptuous', 'voodoo', 'vortex', 'vote', 'voter', 'voting', 'vouch', 'voucher', 'vow', 'vowed', 'voyage', 'voyager', 'voyeur', 'vulgar', 'vuln', 'vulnerability', 'vulnerable', 'vulture', 'vum', 'vying', 'wa', 'wacky', 'wad', 'waddling', 'wade', 'wafer', 'waft', 'wag', 'wage', 'waged', 'wager', 'wagering', 'wages', 'wagon', 'wah', 'wail', 'waist', 'waistline', 'wait', 'waiter', 'waiting', 'waitress', 'waive', 'waiver', 'waka', 'wake', 'wakes', 'waking', 'walk', 'walker', 'walking', 'wall', 'waller', 'wallet', 'walloping', 'wallow', 'wallpaper', 'wally', 'walrus', 'walsh', 'walt', 'walter', 'wamp', 'wan', 'wand', 'wander', 'wanderer', 'wandering', 'waned', 'wang', 'want', 'wanting', 'wanton', 'wap', 'war', 'warcraft', 'ward', 'warden', 'warder', 'ware', 'warehouse', 'warfare', 'warm', 'warmed', 'warmer', 'warming', 'warmly', 'warmth', 'warn', 'warner', 'warning', 'warp', 'warpage', 'warped', 'warrant', 'warranted', 'warrantee', 'warranty', 'warren', 'warrior', 'warsaw', 'warship', 'wartime', 'wary', 'wash', 'washed', 'washer', 'washing', 'washtub', 'waste', 'wastebasket', 'wasted', 'wasteful', 'wasting', 'wat', 'watch', 'watchdog', 'watched', 'watchful', 'watching', 'watchword', 'water', 'waterfall', 'waterfront', 'watering', 'watermark', 'watermelon', 'waterproof', 'watershed', 'wave', 'waved', 'waver', 'waving', 'waw', 'wax', 'way', 'wayback', 'ways', 'wayside', 'weak', 'weaken', 'weakening', 'weakly', 'weakness', 'wealth', 'wealthy', 'weapon', 'wear', 'wearable', 'wearing', 'weather', 'weatherman', 'weave', 'web', 'webber', 'weber', 'webster', 'wed', 'wedded', 'wedding', 'wedge', 'wedged', 'wee', 'weed', 'weeded', 'week', 'weekday', 'weekend', 'weekly', 'weel', 'weep', 'weevil', 'weigh', 'weighed', 'weighing', 'weight', 'weighted', 'weighting', 'weird', 'weirdness', 'welcome', 'weld', 'welding', 'welfare', 'well', 'wellness', 'welsh', 'welt', 'wem', 'went', 'wept', 'wer', 'west', 'western', 'westward', 'wet', 'weta', 'wether', 'wetter', 'whack', 'whacky', 'whale', 'wham', 'whata', 'whatever', 'whatnot', 'whatsoever', 'wheat', 'whee', 'wheel', 'wheeled', 'wheeler', 'wheeze', 'whenever', 'whereabouts', 'whereas', 'whereby', 'wherein', 'whereto', 'whereupon', 'wherever', 'wherewithal', 'whether', 'whew', 'whichever', 'whiff', 'whilst', 'whim', 'whimbrel', 'whimsical', 'whine', 'whiny', 'whip', 'whipsaw', 'whirl', 'whirligig', 'whirlpool', 'whisk', 'whiskey', 'whisky', 'whisper', 'whispering', 'whistle', 'whit', 'white', 'whitehead', 'whiten', 'whitener', 'whitening', 'whites', 'whitestone', 'whiz', 'whoa', 'whodunit', 'whoever', 'whole', 'wholeheartedly', 'wholesale', 'wholesaler', 'wholesome', 'wholly', 'whomever', 'whoo', 'whoopee', 'whoops', 'whopping', 'whore', 'whose', 'wi', 'wicked', 'wickedness', 'wide', 'widely', 'widen', 'widespread', 'widow', 'width', 'wield', 'wife', 'wig', 'wild', 'wilderness', 'wildfire', 'wilding', 'wildlife', 'wildly', 'wile', 'willed', 'willful', 'willfully', 'willie', 'willies', 'willing', 'willingly', 'willingness', 'willow', 'willy', 'wilt', 'win', 'wind', 'winded', 'winder', 'windfall', 'winding', 'window', 'windowmaker', 'windscreen', 'windshield', 'wine', 'wined', 'winer', 'wing', 'winged', 'wink', 'winking', 'winner', 'winning', 'winnings', 'winnow', 'winnowing', 'winter', 'wipe', 'wiper', 'wir', 'wird', 'wire', 'wired', 'wireless', 'wirelessly', 'wiring', 'wis', 'wisdom', 'wise', 'wisely', 'wish', 'wished', 'wishful', 'wishing', 'wisteria', 'wit', 'witch', 'witchcraft', 'withdraw', 'withdrawal', 'withdrawing', 'withdrawn', 'withheld', 'withhold', 'within', 'without', 'withstand', 'withy', 'witless', 'witness', 'witted', 'witter', 'witty', 'wiz', 'wizard', 'wo', 'woe', 'woke', 'wolf', 'wolverine', 'woman', 'womanizer', 'womb', 'wombat', 'wonder', 'wonderful', 'wonderfully', 'wondering', 'wonderment', 'wong', 'woo', 'wood', 'wooden', 'woodland', 'woodpile', 'woodruff', 'woodward', 'woodwork', 'woodworking', 'woody', 'woofer', 'woohoo', 'woolly', 'woozle', 'wop', 'word', 'wording', 'wordplay', 'wore', 'work', 'workable', 'workaday', 'workbench', 'workbook', 'worked', 'worker', 'working', 'workman', 'workmanship', 'workout', 'workplace', 'works', 'workshop', 'worktime', 'world', 'worm', 'worming', 'wormwood', 'worn', 'worried', 'worrier', 'worry', 'worrying', 'worse', 'worsening', 'worship', 'worshipful', 'worst', 'wort', 'worth', 'worthiest', 'worthless', 'worthy', 'wot', 'would', 'wound', 'wounded', 'wounds', 'woven', 'wow', 'wrap', 'wrapped', 'wrapper', 'wrapping', 'wrath', 'wreak', 'wreckage', 'wrecking', 'wrench', 'wrestle', 'wrestling', 'wright', 'wring', 'wrinkle', 'wrinkled', 'wrist', 'writ', 'writable', 'write', 'writeable', 'writer', 'writhing', 'writing', 'written', 'wrong', 'wrongdoing', 'wrongfully', 'wrongly', 'wrote', 'wrought', 'wrox', 'wud', 'wut', 'wy', 'wyn', 'wynn', 'xi', 'ya', 'yacht', 'yad', 'yah', 'yahoo', 'yak', 'yale', 'yang', 'yank', 'yanking', 'yap', 'yard', 'yardarm', 'yarn', 'yas', 'yaw', 'yawn', 'ye', 'yea', 'yeah', 'year', 'yearly', 'yearn', 'yearning', 'yell', 'yelling', 'yellow', 'yelp', 'yen', 'yeoman', 'yep', 'yer', 'yerba', 'yere', 'yes', 'yesterday', 'yet', 'yield', 'yielding', 'yin', 'yip', 'ym', 'yn', 'yo', 'yoga', 'yoghurt', 'yohimbe', 'yoke', 'yon', 'yonder', 'yore', 'york', 'yorker', 'young', 'younger', 'youth', 'youthful', 'yow', 'yr', 'yuck', 'yucky', 'yummy', 'za', 'zad', 'zag', 'zeal', 'zealot', 'zealous', 'zebra', 'zed', 'zee', 'zel', 'zenith', 'zer', 'zero', 'zest', 'zeta', 'zig', 'zimbabwe', 'zinc', 'zip', 'zipping', 'zo', 'zodiac', 'zombie', 'zone', 'zoning', 'zoo', 'zoom', 'zorro', 'zowie']\n"
     ]
    },
    {
     "data": {
      "text/plain": [
       "(9354, 16526)"
      ]
     },
     "execution_count": 17,
     "metadata": {},
     "output_type": "execute_result"
    }
   ],
   "source": [
    "from nltk.corpus import words\n",
    "\n",
    "# Create a set of English words\n",
    "english_words = set(words.words())\n",
    "\n",
    "# Columns\n",
    "word_list = df_tfidf.columns\n",
    "\n",
    "# Filter non-English words\n",
    "english_word_list = [word for word in word_list if word.lower() in english_words]\n",
    "\n",
    "print(english_word_list)\n",
    "\n",
    "df_tfidf=df_tfidf[english_word_list]\n",
    "df_tfidf.shape"
   ]
  },
  {
   "cell_type": "code",
   "execution_count": 18,
   "id": "c73ae7e8",
   "metadata": {},
   "outputs": [
    {
     "data": {
      "text/plain": [
       "16526"
      ]
     },
     "execution_count": 18,
     "metadata": {},
     "output_type": "execute_result"
    }
   ],
   "source": [
    "len(df_tfidf.columns)"
   ]
  },
  {
   "cell_type": "markdown",
   "id": "cf7f3b69",
   "metadata": {},
   "source": [
    "# Run cluster"
   ]
  },
  {
   "cell_type": "code",
   "execution_count": 33,
   "id": "8167477a",
   "metadata": {},
   "outputs": [],
   "source": [
    "#Remove IDF line\n",
    "df_tfidf=df_tfidf.loc[:9352,:]"
   ]
  },
  {
   "cell_type": "code",
   "execution_count": 34,
   "id": "37775ee2",
   "metadata": {},
   "outputs": [
    {
     "data": {
      "text/plain": [
       "DBSCAN(eps=3, min_samples=2)"
      ]
     },
     "execution_count": 34,
     "metadata": {},
     "output_type": "execute_result"
    }
   ],
   "source": [
    "from sklearn.cluster import DBSCAN\n",
    "\n",
    "clustering = DBSCAN(eps=3, min_samples=2).fit(df_tfidf)\n",
    "clustering.labels_\n",
    "clustering"
   ]
  },
  {
   "cell_type": "code",
   "execution_count": 36,
   "id": "c63d561c",
   "metadata": {},
   "outputs": [
    {
     "ename": "ImportError",
     "evalue": "cannot import name 'HDBSCAN' from 'sklearn.cluster' (/Users/lauraahumada/opt/anaconda3/envs/smuenv/lib/python3.7/site-packages/sklearn/cluster/__init__.py)",
     "output_type": "error",
     "traceback": [
      "\u001b[0;31m---------------------------------------------------------------------------\u001b[0m",
      "\u001b[0;31mImportError\u001b[0m                               Traceback (most recent call last)",
      "\u001b[0;32m/var/folders/cd/fs7wglp52vscprvs0f95tdth0000gn/T/ipykernel_9876/926749156.py\u001b[0m in \u001b[0;36m<module>\u001b[0;34m\u001b[0m\n\u001b[0;32m----> 1\u001b[0;31m \u001b[0;32mfrom\u001b[0m \u001b[0msklearn\u001b[0m\u001b[0;34m.\u001b[0m\u001b[0mcluster\u001b[0m \u001b[0;32mimport\u001b[0m \u001b[0mHDBSCAN\u001b[0m\u001b[0;34m\u001b[0m\u001b[0;34m\u001b[0m\u001b[0m\n\u001b[0m\u001b[1;32m      2\u001b[0m \u001b[0;32mfrom\u001b[0m \u001b[0msklearn\u001b[0m\u001b[0;34m.\u001b[0m\u001b[0mdatasets\u001b[0m \u001b[0;32mimport\u001b[0m \u001b[0mload_digits\u001b[0m\u001b[0;34m\u001b[0m\u001b[0;34m\u001b[0m\u001b[0m\n\u001b[1;32m      3\u001b[0m \u001b[0;34m\u001b[0m\u001b[0m\n\u001b[1;32m      4\u001b[0m \u001b[0mhdb\u001b[0m \u001b[0;34m=\u001b[0m \u001b[0mHDBSCAN\u001b[0m\u001b[0;34m(\u001b[0m\u001b[0mmin_cluster_size\u001b[0m\u001b[0;34m=\u001b[0m\u001b[0;36m20\u001b[0m\u001b[0;34m)\u001b[0m\u001b[0;34m\u001b[0m\u001b[0;34m\u001b[0m\u001b[0m\n\u001b[1;32m      5\u001b[0m \u001b[0mhdb\u001b[0m\u001b[0;34m.\u001b[0m\u001b[0mfit\u001b[0m\u001b[0;34m(\u001b[0m\u001b[0mdf_tfidf\u001b[0m\u001b[0;34m)\u001b[0m\u001b[0;34m\u001b[0m\u001b[0;34m\u001b[0m\u001b[0m\n",
      "\u001b[0;31mImportError\u001b[0m: cannot import name 'HDBSCAN' from 'sklearn.cluster' (/Users/lauraahumada/opt/anaconda3/envs/smuenv/lib/python3.7/site-packages/sklearn/cluster/__init__.py)"
     ]
    }
   ],
   "source": [
    "hdb = HDBSCAN(min_cluster_size=20)\n",
    "hdb.fit(df_tfidf)\n",
    "hdb.labels_"
   ]
  },
  {
   "cell_type": "code",
   "execution_count": 35,
   "id": "39d4dfbb",
   "metadata": {},
   "outputs": [
    {
     "data": {
      "text/plain": [
       "Counter({0: 9353})"
      ]
     },
     "execution_count": 35,
     "metadata": {},
     "output_type": "execute_result"
    }
   ],
   "source": [
    "Counter(clustering.labels_)"
   ]
  },
  {
   "cell_type": "code",
   "execution_count": 21,
   "id": "c42dd3dd",
   "metadata": {},
   "outputs": [
    {
     "data": {
      "text/plain": [
       "9354"
      ]
     },
     "execution_count": 21,
     "metadata": {},
     "output_type": "execute_result"
    }
   ],
   "source": [
    "len(clustering.labels_)"
   ]
  },
  {
   "cell_type": "code",
   "execution_count": 22,
   "id": "04f1a3f7",
   "metadata": {},
   "outputs": [],
   "source": [
    "df_tfidf[\"ClusterLabels\"]=clustering.labels_"
   ]
  },
  {
   "cell_type": "code",
   "execution_count": 23,
   "id": "48d24572",
   "metadata": {},
   "outputs": [
    {
     "data": {
      "text/plain": [
       "Index(['aa', 'aardvark', 'aba', 'abac', 'abandon', 'abandoned', 'abandonment',\n",
       "       'abatement', 'abb', 'abbas',\n",
       "       ...\n",
       "       'zo', 'zodiac', 'zombie', 'zone', 'zoning', 'zoo', 'zoom', 'zorro',\n",
       "       'zowie', 'ClusterLabels'],\n",
       "      dtype='object', length=16527)"
      ]
     },
     "execution_count": 23,
     "metadata": {},
     "output_type": "execute_result"
    }
   ],
   "source": [
    "df_tfidf.columns"
   ]
  },
  {
   "cell_type": "code",
   "execution_count": null,
   "id": "e2addc7b",
   "metadata": {},
   "outputs": [],
   "source": []
  },
  {
   "cell_type": "code",
   "execution_count": 25,
   "id": "15665f4c",
   "metadata": {},
   "outputs": [
    {
     "data": {
      "text/plain": [
       "array([0, 0, 0, ..., 0, 0, 1])"
      ]
     },
     "execution_count": 25,
     "metadata": {},
     "output_type": "execute_result"
    }
   ],
   "source": [
    "from sklearn.cluster import AgglomerativeClustering\n",
    "\n",
    "clustering = AgglomerativeClustering().fit(df_tfidf)\n",
    "clustering\n",
    "clustering.labels_"
   ]
  },
  {
   "cell_type": "code",
   "execution_count": 26,
   "id": "97ae70fa",
   "metadata": {},
   "outputs": [
    {
     "data": {
      "text/plain": [
       "Counter({0: 9353, 1: 1})"
      ]
     },
     "execution_count": 26,
     "metadata": {},
     "output_type": "execute_result"
    }
   ],
   "source": [
    "Counter(clustering.labels_)"
   ]
  },
  {
   "cell_type": "markdown",
   "id": "73d5a3c7",
   "metadata": {},
   "source": [
    "# Classify"
   ]
  },
  {
   "cell_type": "code",
   "execution_count": 101,
   "id": "022b1cd2",
   "metadata": {},
   "outputs": [],
   "source": [
    "import numpy as np\n",
    "from sklearn.naive_bayes import CategoricalNB\n",
    "from sklearn.model_selection import train_test_split, cross_val_score\n",
    "from sklearn.metrics import accuracy_score, classification_report, confusion_matrix\n"
   ]
  },
  {
   "cell_type": "code",
   "execution_count": 121,
   "id": "5c649f3d",
   "metadata": {},
   "outputs": [
    {
     "data": {
      "text/plain": [
       "0    0.743505\n",
       "1    0.256495\n",
       "Name: Target, dtype: float64"
      ]
     },
     "execution_count": 121,
     "metadata": {},
     "output_type": "execute_result"
    }
   ],
   "source": [
    "\n",
    "data[\"Target\"].value_counts(normalize=True).plot()\n"
   ]
  },
  {
   "cell_type": "code",
   "execution_count": 138,
   "id": "969be416",
   "metadata": {},
   "outputs": [],
   "source": [
    "from sklearn import metrics as mt\n",
    "\n",
    "# Function to get the metrics\n",
    "def score_rep(model, X_test, y_test, threshold=0.75):\n",
    "    preds = np.where(model.predict_proba(X_test)[:, 1] > threshold, 0, 1)\n",
    "    prob_df = pd.DataFrame({\"prediProb\": model.predict_proba(X_test)[:, 1], \"pred\": preds, \"actual\": y_test})\n",
    "    fp = prob_df[(prob_df[\"actual\"] == 0) & (prob_df[\"pred\"] == 1)].shape[0]\n",
    "    tp = prob_df[(prob_df[\"actual\"] == 1) & (prob_df[\"pred\"] == 1)].shape[0]\n",
    "    fn = prob_df[(prob_df[\"actual\"] == 1) & (prob_df[\"pred\"] == 0)].shape[0]\n",
    "    tn = prob_df[(prob_df[\"actual\"] == 0) & (prob_df[\"pred\"] == 0)].shape[0]\n",
    "\n",
    "    prec = round((tp / (fp + tp)), 3)\n",
    "    rec = round((tp / (tp + fn)), 3)\n",
    "    acc = round(((tp + tn) / (tp + fp + fn + tn)), 3)\n",
    "    f1 = round((mt.f1_score(y_test, preds)), 3)\n",
    "    auc = round((mt.roc_auc_score(y_test, model.predict_proba(X_test)[:, 1])), 3)\n",
    "\n",
    "    print('Accuracy is: %.2f, \\n Recall is: %.2f, \\n Precision is: %.2f, \\n F1 is %.2f and \\n AUC is %.2f' % (acc, rec, prec, f1, auc))\n",
    "    return acc, rec, prec, f1, auc\n"
   ]
  },
  {
   "cell_type": "markdown",
   "id": "2cf097c4",
   "metadata": {},
   "source": [
    "# Does not work because we don't have categorical features\n",
    "+ CategoricalNB is designed for data with categorical features, where each feature represents a category or label. Text data represented using TF-IDF is not categorical; it is a form of continuous data where each feature represents the importance of a word or term within a document."
   ]
  },
  {
   "cell_type": "code",
   "execution_count": 109,
   "id": "f377dd3b",
   "metadata": {},
   "outputs": [],
   "source": [
    "# Simple Categorical NB\n",
    "X_train, X_test, y_train, y_test = train_test_split(df_tfidf, data[\"Target\"], test_size=0.3, shuffle=True, stratify=data[\"Target\"])\n",
    "\n",
    "clf = CategoricalNB()\n",
    "clf.fit(X_train, y_train)\n",
    "pred=clf.predict(X_test)\n"
   ]
  },
  {
   "cell_type": "code",
   "execution_count": 110,
   "id": "6583e1ea",
   "metadata": {
    "scrolled": true
   },
   "outputs": [
    {
     "name": "stdout",
     "output_type": "stream",
     "text": [
      "Classification Report:\n",
      "              precision    recall  f1-score   support\n",
      "\n",
      "           0       0.74      1.00      0.85      2086\n",
      "           1       1.00      0.00      0.00       720\n",
      "\n",
      "    accuracy                           0.74      2806\n",
      "   macro avg       0.87      0.50      0.43      2806\n",
      "weighted avg       0.81      0.74      0.63      2806\n",
      "\n"
     ]
    }
   ],
   "source": [
    "#Results\n",
    "from sklearn.metrics import accuracy_score, classification_report, confusion_matrix\n",
    "class_report = classification_report(y_test, pred)\n",
    "print(f'Classification Report:\\n{class_report}')\n"
   ]
  },
  {
   "cell_type": "code",
   "execution_count": 111,
   "id": "4686fcbe",
   "metadata": {},
   "outputs": [
    {
     "data": {
      "text/plain": [
       "<sklearn.metrics._plot.confusion_matrix.ConfusionMatrixDisplay at 0x7f989be99b90>"
      ]
     },
     "execution_count": 111,
     "metadata": {},
     "output_type": "execute_result"
    },
    {
     "data": {
      "image/png": "[encoded data removed]",
      "text/plain": [
       "<Figure size 432x288 with 2 Axes>"
      ]
     },
     "metadata": {
      "needs_background": "light"
     },
     "output_type": "display_data"
    }
   ],
   "source": [
    "from sklearn.metrics import ConfusionMatrixDisplay\n",
    "ConfusionMatrixDisplay.from_predictions(y_test,pred, cmap='Blues')\n"
   ]
  },
  {
   "cell_type": "code",
   "execution_count": 139,
   "id": "9d7941b4",
   "metadata": {},
   "outputs": [
    {
     "ename": "TypeError",
     "evalue": "score_rep() missing 1 required positional argument: 'y_test'",
     "output_type": "error",
     "traceback": [
      "\u001b[0;31m---------------------------------------------------------------------------\u001b[0m",
      "\u001b[0;31mTypeError\u001b[0m                                 Traceback (most recent call last)",
      "\u001b[0;32m/var/folders/cd/fs7wglp52vscprvs0f95tdth0000gn/T/ipykernel_8453/2251287902.py\u001b[0m in \u001b[0;36m<module>\u001b[0;34m\u001b[0m\n\u001b[1;32m      4\u001b[0m \u001b[0mpred\u001b[0m\u001b[0;34m=\u001b[0m\u001b[0mclf\u001b[0m\u001b[0;34m.\u001b[0m\u001b[0mpredict\u001b[0m\u001b[0;34m(\u001b[0m\u001b[0mX_test\u001b[0m\u001b[0;34m)\u001b[0m\u001b[0;34m\u001b[0m\u001b[0;34m\u001b[0m\u001b[0m\n\u001b[1;32m      5\u001b[0m \u001b[0;34m\u001b[0m\u001b[0m\n\u001b[0;32m----> 6\u001b[0;31m \u001b[0macc\u001b[0m\u001b[0;34m,\u001b[0m \u001b[0mrec\u001b[0m\u001b[0;34m,\u001b[0m\u001b[0mprec\u001b[0m\u001b[0;34m,\u001b[0m\u001b[0mf1\u001b[0m\u001b[0;34m,\u001b[0m\u001b[0mauc\u001b[0m\u001b[0;34m=\u001b[0m\u001b[0mscore_rep\u001b[0m\u001b[0;34m(\u001b[0m\u001b[0mclf\u001b[0m\u001b[0;34m,\u001b[0m\u001b[0mpred\u001b[0m\u001b[0;34m)\u001b[0m\u001b[0;34m\u001b[0m\u001b[0;34m\u001b[0m\u001b[0m\n\u001b[0m\u001b[1;32m      7\u001b[0m \u001b[0mmodel_results\u001b[0m\u001b[0;34m=\u001b[0m\u001b[0;34m[\u001b[0m\u001b[0;34m[\u001b[0m\u001b[0;34m\"Naive Bayes classifier\"\u001b[0m\u001b[0;34m,\u001b[0m\u001b[0macc\u001b[0m\u001b[0;34m,\u001b[0m \u001b[0mrec\u001b[0m\u001b[0;34m,\u001b[0m\u001b[0mprec\u001b[0m\u001b[0;34m,\u001b[0m\u001b[0mf1\u001b[0m\u001b[0;34m,\u001b[0m\u001b[0mauc\u001b[0m\u001b[0;34m]\u001b[0m\u001b[0;34m]\u001b[0m\u001b[0;34m\u001b[0m\u001b[0;34m\u001b[0m\u001b[0m\n",
      "\u001b[0;31mTypeError\u001b[0m: score_rep() missing 1 required positional argument: 'y_test'"
     ]
    }
   ],
   "source": [
    "# Categorical NB\n",
    "clf = CategoricalNB()\n",
    "clf.fit(X_train, y_train)\n",
    "pred=clf.predict(X_test)\n",
    "\n",
    "acc, rec,prec,f1,auc=score_rep(clf,pred)\n",
    "model_results=[[\"Naive Bayes classifier\",acc, rec,prec,f1,auc]]   \n"
   ]
  },
  {
   "cell_type": "code",
   "execution_count": null,
   "id": "be007777",
   "metadata": {},
   "outputs": [],
   "source": [
    "from sklearn.metrics import ConfusionMatrixDisplay\n",
    "ConfusionMatrixDisplay.from_predictions(y_test,pred, cmap='Blues')\n"
   ]
  },
  {
   "cell_type": "code",
   "execution_count": 130,
   "id": "c9bdc455",
   "metadata": {},
   "outputs": [
    {
     "data": {
      "text/plain": [
       "Counter({0: 2086, 1: 720})"
      ]
     },
     "execution_count": 130,
     "metadata": {},
     "output_type": "execute_result"
    }
   ],
   "source": [
    "Counter(y_test)"
   ]
  },
  {
   "cell_type": "markdown",
   "id": "a2bdac3b",
   "metadata": {},
   "source": [
    "# Not a good model for our data\n",
    "+ Bernoulli Naive Bayes (BernoulliNB)\n",
    "\n",
    "Use Case: Appropriate for binary data where features are binary (0 or 1), representing the presence or absence of attributes.\n",
    "Data Type: Binary or Boolean data, often used in text classification where features represent the presence or absence of words.\n",
    "Assumption: Assumes that features are generated from a Bernoulli distribution."
   ]
  },
  {
   "cell_type": "code",
   "execution_count": 126,
   "id": "675109a8",
   "metadata": {},
   "outputs": [
    {
     "name": "stdout",
     "output_type": "stream",
     "text": [
      "396 3\n",
      "324 2083\n",
      "Accuracy is: 0.88, \n",
      " Recall is: 0.55, \n",
      " Precision is: 0.99, \n",
      " F1 is 0.71 and \n",
      " AUC is 0.78\n"
     ]
    }
   ],
   "source": [
    "from sklearn.naive_bayes import BernoulliNB\n",
    "bernCF = BernoulliNB()\n",
    "\n",
    "bernCF.fit(X_train, y_train)\n",
    "pred=bernCF.predict(X_test)\n",
    "\n",
    "acc, rec,prec,f1,auc=score_rep(bernCF,pred)\n",
    "model_results.append([\"Bernouli Naive Bayes \",acc, rec,prec,f1,auc])\n"
   ]
  },
  {
   "cell_type": "markdown",
   "id": "d57444f0",
   "metadata": {},
   "source": [
    "# The model that should fit our data since we have counts\n",
    "+ Multinomial Naive Bayes (MultinomialNB)\n",
    "\n",
    "Use Case: Typically used for discrete data, such as text data represented as counts or frequencies (e.g., bag-of-words, TF-IDF).\n",
    "Data Type: Data with counts or frequencies of discrete items (e.g., word counts).\n",
    "Assumption: Assumes that features are generated from a multinomial distribution\n",
    "\n",
    "Probability Estimation: MultinomialNB estimates the conditional probability of a particular feature (term) given a class (category or label). It does this for each term and each class in the training data. The probability estimation is done using the following formula:\n",
    "\n",
    "P(x_i | y) = (N_i + alpha) / (N_y + alpha * N_features)\n",
    "\n",
    "P(x_i | y) is the conditional probability of feature x_i given class y.\n",
    "N_i is the number of times feature x_i appears in class y.\n",
    "N_y is the total count of features in class y.\n",
    "N_features is the total number of features.\n",
    "alpha is a smoothing parameter (Laplace smoothing or additive smoothing) to handle the issue of zero probabilities.\n",
    "\n",
    "Class Probability: To classify a new sample, MultinomialNB calculates the probability of the sample belonging to each class based on the conditional probabilities estimated in step 2. It uses Bayes' theorem to calculate the class probability:\n",
    "\n",
    "P(y | x) ∝ P(y) * ∏[P(x_i | y)]\n",
    "\n",
    "P(y | x) is the probability of class y given the sample x.\n",
    "P(y) is the prior probability of class y (estimated from the training data).\n",
    "P(x_i | y) is the conditional probability of feature x_i given class y.\n",
    "Classification: Finally, MultinomialNB assigns the class label that maximizes the posterior probability P(y | x). In other words, it selects the class with the highest estimated probability.\n",
    "\n",
    "Key Points:\n",
    "\n",
    "MultinomialNB assumes that features are generated from a multinomial distribution, which is suitable for count or frequency data.\n",
    "Laplace smoothing (or additive smoothing) is used to avoid zero probabilities, especially when dealing with rare events.\n",
    "It's a simple and efficient algorithm, making it suitable for large text datasets.\n",
    "MultinomialNB is a \"naive\" algorithm because it assumes that features are conditionally independent given the class, which is a simplifying assumption that may not hold in all cases.\n",
    "Overall, MultinomialNB is a powerful and widely used algorithm for text classification tasks, and it often provides good results, especially when working with text data and feature representations like TF-IDF.\n",
    "\n",
    "\n",
    "\n",
    "\n",
    "\n"
   ]
  },
  {
   "cell_type": "code",
   "execution_count": 135,
   "id": "91de90d1",
   "metadata": {},
   "outputs": [
    {
     "name": "stdout",
     "output_type": "stream",
     "text": [
      "324 0\n",
      "396 2086\n",
      "Accuracy is: 0.86, \n",
      " Recall is: 0.45, \n",
      " Precision is: 1.00, \n",
      " F1 is 0.62 and \n",
      " AUC is 0.83\n"
     ]
    }
   ],
   "source": [
    "from sklearn.naive_bayes import MultinomialNB\n",
    "multiN_NB = MultinomialNB()\n",
    "\n",
    "mn_NB.fit(X_train, y_train)\n",
    "pred=multiN_NB.predict(X_test)\n",
    "\n",
    "acc, rec,prec,f1,auc=score_rep(multiN_NB,pred)\n",
    "model_results.append([\"Multinomial Naive Bayes \",acc, rec,prec,f1,auc])\n"
   ]
  },
  {
   "cell_type": "code",
   "execution_count": 136,
   "id": "84ab7975",
   "metadata": {},
   "outputs": [
    {
     "data": {
      "text/plain": [
       "<sklearn.metrics._plot.confusion_matrix.ConfusionMatrixDisplay at 0x7f9b005e2490>"
      ]
     },
     "execution_count": 136,
     "metadata": {},
     "output_type": "execute_result"
    },
    {
     "data": {
      "image/png": "[encoded data removed]",
      "text/plain": [
       "<Figure size 432x288 with 2 Axes>"
      ]
     },
     "metadata": {
      "needs_background": "light"
     },
     "output_type": "display_data"
    }
   ],
   "source": [
    "from sklearn.metrics import ConfusionMatrixDisplay\n",
    "ConfusionMatrixDisplay.from_predictions(y_test,pred, cmap='Blues')\n"
   ]
  },
  {
   "cell_type": "code",
   "execution_count": 137,
   "id": "b26e1e0a",
   "metadata": {},
   "outputs": [
    {
     "name": "stdout",
     "output_type": "stream",
     "text": [
      "Classification Report:\n",
      "              precision    recall  f1-score   support\n",
      "\n",
      "           0       0.89      1.00      0.94      2086\n",
      "           1       1.00      0.65      0.79       720\n",
      "\n",
      "    accuracy                           0.91      2806\n",
      "   macro avg       0.95      0.83      0.87      2806\n",
      "weighted avg       0.92      0.91      0.90      2806\n",
      "\n"
     ]
    }
   ],
   "source": [
    "class_report = classification_report(y_test, pred)\n",
    "\n",
    "print(f'Classification Report:\\n{class_report}')\n"
   ]
  },
  {
   "cell_type": "code",
   "execution_count": 1,
   "id": "3866cc09",
   "metadata": {},
   "outputs": [
    {
     "ename": "NameError",
     "evalue": "name 'mn_NB' is not defined",
     "output_type": "error",
     "traceback": [
      "\u001b[0;31m---------------------------------------------------------------------------\u001b[0m",
      "\u001b[0;31mNameError\u001b[0m                                 Traceback (most recent call last)",
      "\u001b[0;32m/var/folders/cd/fs7wglp52vscprvs0f95tdth0000gn/T/ipykernel_9876/3727643538.py\u001b[0m in \u001b[0;36m<module>\u001b[0;34m\u001b[0m\n\u001b[1;32m      4\u001b[0m \u001b[0;34m\u001b[0m\u001b[0m\n\u001b[1;32m      5\u001b[0m \u001b[0;31m# Get the predicted probabilities for the positive class (class 1)\u001b[0m\u001b[0;34m\u001b[0m\u001b[0;34m\u001b[0m\u001b[0;34m\u001b[0m\u001b[0m\n\u001b[0;32m----> 6\u001b[0;31m \u001b[0my_prob\u001b[0m \u001b[0;34m=\u001b[0m \u001b[0mmn_NB\u001b[0m\u001b[0;34m.\u001b[0m\u001b[0mpredict_proba\u001b[0m\u001b[0;34m(\u001b[0m\u001b[0mX_test\u001b[0m\u001b[0;34m)\u001b[0m\u001b[0;34m[\u001b[0m\u001b[0;34m:\u001b[0m\u001b[0;34m,\u001b[0m \u001b[0;36m1\u001b[0m\u001b[0;34m]\u001b[0m\u001b[0;34m\u001b[0m\u001b[0;34m\u001b[0m\u001b[0m\n\u001b[0m\u001b[1;32m      7\u001b[0m \u001b[0;34m\u001b[0m\u001b[0m\n\u001b[1;32m      8\u001b[0m \u001b[0;31m# Get different threshold values to plot ROC curves\u001b[0m\u001b[0;34m\u001b[0m\u001b[0;34m\u001b[0m\u001b[0;34m\u001b[0m\u001b[0m\n",
      "\u001b[0;31mNameError\u001b[0m: name 'mn_NB' is not defined"
     ]
    }
   ],
   "source": [
    "import numpy as np\n",
    "import matplotlib.pyplot as plt\n",
    "from sklearn.metrics import roc_curve, auc\n",
    "\n",
    "# Get the predicted probabilities for the positive class (class 1)\n",
    "y_prob = mn_NB.predict_proba(X_test)[:, 1]\n",
    "\n",
    "# Get different threshold values to plot ROC curves\n",
    "thresholds = [0.3, 0.5, 0.7]  # Adjust these values as needed\n",
    "\n",
    "plt.figure(figsize=(8, 6))\n",
    "\n",
    "for threshold in thresholds:\n",
    "    y_pred_adjusted = (y_prob > threshold).astype(int)\n",
    "    fpr, tpr, _ = roc_curve(y_test, y_pred_adjusted)\n",
    "    roc_auc = auc(fpr, tpr)\n",
    "    \n",
    "    plt.plot(fpr, tpr, lw=2, label=f'Threshold = {threshold:.2f} (AUC = {roc_auc:.2f})')\n",
    "\n",
    "plt.plot([0, 1], [0, 1], color='navy', lw=2, linestyle='--')\n",
    "plt.xlim([0.0, 1.0])\n",
    "plt.ylim([0.0, 1.05])\n",
    "plt.xlabel('False Positive Rate')\n",
    "plt.ylabel('True Positive Rate')\n",
    "plt.title('Receiver Operating Characteristic (ROC) Curve')\n",
    "plt.legend(loc='lower right')\n",
    "plt.show()\n"
   ]
  },
  {
   "cell_type": "code",
   "execution_count": 70,
   "id": "5dcf3dde",
   "metadata": {},
   "outputs": [
    {
     "name": "stderr",
     "output_type": "stream",
     "text": [
      "/Users/lauraahumada/opt/anaconda3/envs/smuenv/lib/python3.7/site-packages/sklearn/metrics/_classification.py:1318: UndefinedMetricWarning: Precision is ill-defined and being set to 0.0 in labels with no predicted samples. Use `zero_division` parameter to control this behavior.\n",
      "  _warn_prf(average, modifier, msg_start, len(result))\n",
      "/Users/lauraahumada/opt/anaconda3/envs/smuenv/lib/python3.7/site-packages/sklearn/metrics/_classification.py:1318: UndefinedMetricWarning: Precision is ill-defined and being set to 0.0 in labels with no predicted samples. Use `zero_division` parameter to control this behavior.\n",
      "  _warn_prf(average, modifier, msg_start, len(result))\n",
      "/Users/lauraahumada/opt/anaconda3/envs/smuenv/lib/python3.7/site-packages/sklearn/metrics/_classification.py:1318: UndefinedMetricWarning: Precision is ill-defined and being set to 0.0 in labels with no predicted samples. Use `zero_division` parameter to control this behavior.\n",
      "  _warn_prf(average, modifier, msg_start, len(result))\n",
      "/Users/lauraahumada/opt/anaconda3/envs/smuenv/lib/python3.7/site-packages/sklearn/metrics/_classification.py:1318: UndefinedMetricWarning: Precision is ill-defined and being set to 0.0 in labels with no predicted samples. Use `zero_division` parameter to control this behavior.\n",
      "  _warn_prf(average, modifier, msg_start, len(result))\n",
      "/Users/lauraahumada/opt/anaconda3/envs/smuenv/lib/python3.7/site-packages/sklearn/metrics/_classification.py:1318: UndefinedMetricWarning: Precision is ill-defined and being set to 0.0 in labels with no predicted samples. Use `zero_division` parameter to control this behavior.\n",
      "  _warn_prf(average, modifier, msg_start, len(result))\n",
      "/Users/lauraahumada/opt/anaconda3/envs/smuenv/lib/python3.7/site-packages/sklearn/metrics/_classification.py:1318: UndefinedMetricWarning: Precision is ill-defined and being set to 0.0 in labels with no predicted samples. Use `zero_division` parameter to control this behavior.\n",
      "  _warn_prf(average, modifier, msg_start, len(result))\n",
      "/Users/lauraahumada/opt/anaconda3/envs/smuenv/lib/python3.7/site-packages/sklearn/metrics/_classification.py:1318: UndefinedMetricWarning: Precision is ill-defined and being set to 0.0 in labels with no predicted samples. Use `zero_division` parameter to control this behavior.\n",
      "  _warn_prf(average, modifier, msg_start, len(result))\n"
     ]
    },
    {
     "name": "stdout",
     "output_type": "stream",
     "text": [
      "0.5004166666666666\n",
      "0.4718319214899389\n"
     ]
    },
    {
     "name": "stderr",
     "output_type": "stream",
     "text": [
      "/Users/lauraahumada/opt/anaconda3/envs/smuenv/lib/python3.7/site-packages/sklearn/metrics/_classification.py:1318: UndefinedMetricWarning: Precision is ill-defined and being set to 0.0 in labels with no predicted samples. Use `zero_division` parameter to control this behavior.\n",
      "  _warn_prf(average, modifier, msg_start, len(result))\n"
     ]
    }
   ],
   "source": [
    "from sklearn.model_selection import cross_validate\n",
    "from sklearn.model_selection import StratifiedKFold, cross_validate\n",
    "from sklearn.naive_bayes import CategoricalNB\n",
    "from sklearn.metrics import accuracy_score, classification_report, confusion_matrix\n",
    "import warnings\n",
    "\n",
    "warnings.filterwarnings(\"ignore\")\n",
    "warnings.filterwarnings(\"default\")\n",
    "\n",
    "scoring = ['precision_macro', 'recall_macro']\n",
    "sk_folds = StratifiedKFold(n_splits = 10)\n",
    "\n",
    "\n",
    "clf = CategoricalNB()\n",
    "cl1 = cross_validate(clf, df_tfidf, data[\"Target\"],  scoring=scoring, cv = sk_folds)\n",
    "\n",
    "print(np.mean(cl1['test_recall_macro']))\n",
    "print(np.mean(cl1['test_precision_macro']))\n",
    "    "
   ]
  },
  {
   "cell_type": "code",
   "execution_count": null,
   "id": "515b8bbb",
   "metadata": {},
   "outputs": [],
   "source": []
  },
  {
   "cell_type": "code",
   "execution_count": null,
   "id": "b8dcb650",
   "metadata": {},
   "outputs": [],
   "source": [
    "##### Vectorize the text with TFIDF vectorizer\n",
    "from sklearn.feature_extraction.text import TfidfVectorizer\n",
    "\n",
    "tf = TfidfVectorizer(ngram_range=(1, 2), min_df=2)\n",
    "tfidf_matrix = tf.fit_transform(norm_corpus)\n",
    "tfidf_matrix.shape"
   ]
  },
  {
   "cell_type": "code",
   "execution_count": 746,
   "id": "899d7b16",
   "metadata": {},
   "outputs": [
    {
     "data": {
      "text/plain": [
       "0       Dear Homeowner,\\n \\nInterest Rates are at thei...\n",
       "1       Friend,Now you can copy DVD's and Games\\nhttp:...\n",
       "2        Pocket the newest 8 year annuity!\\t Pocket th...\n",
       "3       \\nCongratulations! You Get a Free Handheld Org...\n",
       "4       ATTENTION: This is a MUST for ALL Computer Use...\n",
       "                              ...                        \n",
       "9348    I'm one of the 30,000 but it's not working ver...\n",
       "9349    Damien Morton quoted:\\n>W3C approves HTML 4 'e...\n",
       "9350    On Mon, 2002-07-22 at 06:50, che wrote:\\n\\n> t...\n",
       "9351    Once upon a time, Manfred wrote :\\n\\n> I would...\n",
       "9352    If you run Pick, and then use the \"New FTOC\" b...\n",
       "Name: Emails, Length: 9353, dtype: object"
      ]
     },
     "execution_count": 746,
     "metadata": {},
     "output_type": "execute_result"
    }
   ],
   "source": [
    "# Biagrams\n",
    "import contractions\n",
    "import re\n",
    "def normalized_(text1):\n",
    "    text1=[words.replace(\"\\n\", \"\") for words in text1] \n",
    "    print(\"Remove \\n\")\n",
    "    text1=[contractions.fix(sentence.lower()) for sentence in text1]\n",
    "    print(\"Lower_\")\n",
    "    text1=[re.sub(r\"[^a-zA-Z'']+\", \" \", sentence) for sentence in text1]\n",
    "    print(\"Remove empty spaces\")\n",
    "    text1=[sentence.strip() for sentence in text1]\n",
    "\n",
    "    return(text1)\n"
   ]
  },
  {
   "cell_type": "code",
   "execution_count": null,
   "id": "13934dcd",
   "metadata": {},
   "outputs": [],
   "source": [
    "\n"
   ]
  }
 ],
 "metadata": {
  "kernelspec": {
   "display_name": "smuenv",
   "language": "python",
   "name": "smuenv"
  },
  "language_info": {
   "codemirror_mode": {
    "name": "ipython",
    "version": 3
   },
   "file_extension": ".py",
   "mimetype": "text/x-python",
   "name": "python",
   "nbconvert_exporter": "python",
   "pygments_lexer": "ipython3",
   "version": "3.7.13"
  }
 },
 "nbformat": 4,
 "nbformat_minor": 5
}
