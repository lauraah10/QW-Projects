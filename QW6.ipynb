{
 "cells": [
  {
   "cell_type": "code",
   "execution_count": 39,
   "metadata": {
    "id": "D_DynwAF526a"
   },
   "outputs": [],
   "source": [
    "import numpy as np\n",
    "import pandas as pd\n",
    "import seaborn as sns\n",
    "import matplotlib.pyplot as plt\n",
    "from google.colab import drive"
   ]
  },
  {
   "cell_type": "code",
   "execution_count": null,
   "metadata": {
    "colab": {
     "base_uri": "https://localhost:8080/"
    },
    "id": "8GUG-yWq56kM",
    "outputId": "53eba407-017a-4fa3-8bde-16d712d1b80c"
   },
   "outputs": [
    {
     "name": "stdout",
     "output_type": "stream",
     "text": [
      "Drive already mounted at /content/drive/; to attempt to forcibly remount, call drive.mount(\"/content/drive/\", force_remount=True).\n"
     ]
    }
   ],
   "source": [
    "drive.mount('/content/drive/')"
   ]
  },
  {
   "cell_type": "code",
   "execution_count": 4,
   "metadata": {
    "id": "jV88L5BO5_M1"
   },
   "outputs": [],
   "source": [
    "data = pd.read_csv('/content/drive/MyDrive/all_train.csv.gz', compression='gzip')"
   ]
  },
  {
   "cell_type": "code",
   "execution_count": 13,
   "metadata": {
    "colab": {
     "base_uri": "https://localhost:8080/",
     "height": 407
    },
    "id": "2sBrL_U_XXh6",
    "outputId": "7a1bf87c-dfa4-49ee-bc3d-340ea7c5dc90"
   },
   "outputs": [
    {
     "data": {
      "image/png": "[encoded data removed]",
      "text/plain": [
       "<Figure size 600x400 with 1 Axes>"
      ]
     },
     "metadata": {},
     "output_type": "display_data"
    }
   ],
   "source": [
    "# Look at the targets distribution\n",
    "target_dt=data[\"# label\"].value_counts(normalize=True)\n",
    "\n",
    "import matplotlib.pyplot as plt\n",
    "plt.figure(figsize=(6, 4))\n",
    "ax = sns.barplot(x=target_dt.index, y=target_dt.values, palette=\"viridis\")\n",
    "plt.xlabel(\"Superconductor\")\n",
    "plt.ylabel(\"Normalized Counts\")\n",
    "plt.title(\"Normalized Value Counts of Superconductor Categories\")\n",
    "sns.despine()\n",
    "ax.yaxis.grid(False)\n",
    "\n",
    "for p in ax.patches:\n",
    "    height = p.get_height()\n",
    "    ax.annotate(f'{height:.1%}', (p.get_x() + p.get_width() / 2., height), ha='center', va='bottom')\n",
    "\n",
    "\n",
    "plt.tight_layout()\n",
    "plt.show()"
   ]
  },
  {
   "cell_type": "code",
   "execution_count": 6,
   "metadata": {
    "id": "5zu27r6R7fMC"
   },
   "outputs": [],
   "source": [
    "#Split Data\n",
    "from sklearn.model_selection import train_test_split\n",
    "y=data['# label']\n",
    "x=data.drop('# label', axis=1)\n",
    "X_train, X_test, y_train, y_test = train_test_split(x, y, test_size=0.3, random_state=42)"
   ]
  },
  {
   "cell_type": "code",
   "execution_count": 7,
   "metadata": {
    "id": "87gp0K_w7jTW"
   },
   "outputs": [],
   "source": [
    "#Scale Data\n",
    "from sklearn.preprocessing import StandardScaler\n",
    "scaler=StandardScaler()\n",
    "scaler.fit(X_train)\n",
    "X_train=scaler.transform(X_train)\n",
    "X_test=scaler.transform(X_test)"
   ]
  },
  {
   "cell_type": "markdown",
   "metadata": {
    "id": "BGdPJHsGLfAd"
   },
   "source": [
    "# Model time"
   ]
  },
  {
   "cell_type": "markdown",
   "metadata": {
    "id": "2nANCMEdDjyO"
   },
   "source": [
    "> 2 Dense layers with 1000 Epochs! and 500 batch_size"
   ]
  },
  {
   "cell_type": "code",
   "execution_count": 19,
   "metadata": {
    "id": "uIhgqiQy7rOC"
   },
   "outputs": [],
   "source": [
    "import tensorflow as tf\n",
    "from tensorflow import keras\n",
    "from tensorflow.keras import layers\n",
    "from sklearn.metrics import make_scorer, accuracy_score, precision_score,confusion_matrix,f1_score,recall_score\n",
    "from sklearn.metrics import classification_report"
   ]
  },
  {
   "cell_type": "code",
   "execution_count": 9,
   "metadata": {
    "id": "-g28weWJAiB6"
   },
   "outputs": [],
   "source": [
    "model_sc=tf.keras.Sequential()\n",
    "model_sc.add(layers.Dense(100,activation='tanh'))\n",
    "model_sc.add(layers.Dropout(.3))\n",
    "model_sc.add(layers.Dense(1,activation='sigmoid'))\n",
    "\n",
    "model_sc.compile(optimizer=tf.keras.optimizers.Adam(),\n",
    "                loss=tf.keras.losses.binary_crossentropy,\n",
    "                 metrics=['accuracy'])"
   ]
  },
  {
   "cell_type": "code",
   "execution_count": 10,
   "metadata": {
    "colab": {
     "base_uri": "https://localhost:8080/",
     "height": 1000
    },
    "id": "_2MT-AQ_A-yB",
    "outputId": "298d937b-ff46-4df2-d752-050a2ba0aa3b"
   },
   "outputs": [
    {
     "name": "stdout",
     "output_type": "stream",
     "text": [
      "Epoch 1/1000\n",
      "9800/9800 - 16s - loss: 0.3326 - accuracy: 0.8451 - 16s/epoch - 2ms/step\n",
      "Epoch 2/1000\n",
      "9800/9800 - 23s - loss: 0.3107 - accuracy: 0.8547 - 23s/epoch - 2ms/step\n",
      "Epoch 3/1000\n",
      "9800/9800 - 24s - loss: 0.3069 - accuracy: 0.8563 - 24s/epoch - 2ms/step\n",
      "Epoch 4/1000\n",
      "9800/9800 - 21s - loss: 0.3051 - accuracy: 0.8573 - 21s/epoch - 2ms/step\n",
      "Epoch 5/1000\n",
      "9800/9800 - 28s - loss: 0.3041 - accuracy: 0.8579 - 28s/epoch - 3ms/step\n",
      "Epoch 6/1000\n",
      "9800/9800 - 24s - loss: 0.3031 - accuracy: 0.8583 - 24s/epoch - 2ms/step\n",
      "Epoch 7/1000\n",
      "9800/9800 - 22s - loss: 0.3027 - accuracy: 0.8586 - 22s/epoch - 2ms/step\n",
      "Epoch 8/1000\n",
      "9800/9800 - 25s - loss: 0.3022 - accuracy: 0.8587 - 25s/epoch - 3ms/step\n",
      "Epoch 9/1000\n",
      "9800/9800 - 28s - loss: 0.3020 - accuracy: 0.8589 - 28s/epoch - 3ms/step\n",
      "Epoch 10/1000\n",
      "9800/9800 - 47s - loss: 0.3017 - accuracy: 0.8590 - 47s/epoch - 5ms/step\n",
      "Epoch 11/1000\n",
      "9800/9800 - 48s - loss: 0.3016 - accuracy: 0.8592 - 48s/epoch - 5ms/step\n",
      "Epoch 12/1000\n",
      "9800/9800 - 46s - loss: 0.3014 - accuracy: 0.8592 - 46s/epoch - 5ms/step\n",
      "Epoch 13/1000\n",
      "9800/9800 - 44s - loss: 0.3011 - accuracy: 0.8594 - 44s/epoch - 4ms/step\n",
      "Epoch 14/1000\n",
      "9800/9800 - 42s - loss: 0.3009 - accuracy: 0.8596 - 42s/epoch - 4ms/step\n",
      "Epoch 15/1000\n",
      "9800/9800 - 45s - loss: 0.3009 - accuracy: 0.8596 - 45s/epoch - 5ms/step\n",
      "Epoch 16/1000\n",
      "9800/9800 - 31s - loss: 0.3008 - accuracy: 0.8597 - 31s/epoch - 3ms/step\n",
      "Epoch 17/1000\n",
      "9800/9800 - 22s - loss: 0.3007 - accuracy: 0.8597 - 22s/epoch - 2ms/step\n",
      "Epoch 18/1000\n",
      "9800/9800 - 22s - loss: 0.3006 - accuracy: 0.8598 - 22s/epoch - 2ms/step\n",
      "Epoch 19/1000\n",
      "9800/9800 - 21s - loss: 0.3005 - accuracy: 0.8599 - 21s/epoch - 2ms/step\n",
      "Epoch 20/1000\n",
      "9800/9800 - 22s - loss: 0.3005 - accuracy: 0.8599 - 22s/epoch - 2ms/step\n",
      "Epoch 21/1000\n",
      "9800/9800 - 20s - loss: 0.3005 - accuracy: 0.8598 - 20s/epoch - 2ms/step\n",
      "Epoch 22/1000\n",
      "9800/9800 - 21s - loss: 0.3005 - accuracy: 0.8599 - 21s/epoch - 2ms/step\n",
      "Epoch 23/1000\n",
      "9800/9800 - 21s - loss: 0.3003 - accuracy: 0.8601 - 21s/epoch - 2ms/step\n",
      "Epoch 24/1000\n",
      "9800/9800 - 20s - loss: 0.3003 - accuracy: 0.8601 - 20s/epoch - 2ms/step\n",
      "Epoch 25/1000\n",
      "9800/9800 - 21s - loss: 0.3001 - accuracy: 0.8601 - 21s/epoch - 2ms/step\n",
      "Epoch 26/1000\n",
      "9800/9800 - 21s - loss: 0.3001 - accuracy: 0.8601 - 21s/epoch - 2ms/step\n",
      "Epoch 27/1000\n",
      "9800/9800 - 21s - loss: 0.3001 - accuracy: 0.8600 - 21s/epoch - 2ms/step\n",
      "Epoch 28/1000\n",
      "9800/9800 - 21s - loss: 0.3001 - accuracy: 0.8604 - 21s/epoch - 2ms/step\n",
      "Epoch 29/1000\n",
      "9800/9800 - 21s - loss: 0.3001 - accuracy: 0.8602 - 21s/epoch - 2ms/step\n",
      "Epoch 30/1000\n",
      "9800/9800 - 24s - loss: 0.3001 - accuracy: 0.8602 - 24s/epoch - 2ms/step\n",
      "Epoch 31/1000\n",
      "9800/9800 - 23s - loss: 0.3000 - accuracy: 0.8603 - 23s/epoch - 2ms/step\n",
      "Epoch 32/1000\n",
      "9800/9800 - 22s - loss: 0.3000 - accuracy: 0.8602 - 22s/epoch - 2ms/step\n",
      "Epoch 33/1000\n",
      "9800/9800 - 23s - loss: 0.2998 - accuracy: 0.8604 - 23s/epoch - 2ms/step\n",
      "Epoch 34/1000\n",
      "9800/9800 - 27s - loss: 0.2999 - accuracy: 0.8603 - 27s/epoch - 3ms/step\n",
      "Epoch 35/1000\n",
      "9800/9800 - 25s - loss: 0.2998 - accuracy: 0.8604 - 25s/epoch - 3ms/step\n",
      "Epoch 36/1000\n",
      "9800/9800 - 29s - loss: 0.2999 - accuracy: 0.8603 - 29s/epoch - 3ms/step\n",
      "Epoch 37/1000\n",
      "9800/9800 - 26s - loss: 0.2999 - accuracy: 0.8604 - 26s/epoch - 3ms/step\n",
      "Epoch 38/1000\n",
      "9800/9800 - 26s - loss: 0.2997 - accuracy: 0.8605 - 26s/epoch - 3ms/step\n",
      "Epoch 39/1000\n",
      "9800/9800 - 26s - loss: 0.2998 - accuracy: 0.8604 - 26s/epoch - 3ms/step\n",
      "Epoch 40/1000\n",
      "9800/9800 - 27s - loss: 0.2999 - accuracy: 0.8604 - 27s/epoch - 3ms/step\n",
      "Epoch 41/1000\n",
      "9800/9800 - 23s - loss: 0.2998 - accuracy: 0.8604 - 23s/epoch - 2ms/step\n",
      "Epoch 42/1000\n",
      "9800/9800 - 23s - loss: 0.2997 - accuracy: 0.8605 - 23s/epoch - 2ms/step\n",
      "Epoch 43/1000\n",
      "9800/9800 - 22s - loss: 0.2996 - accuracy: 0.8606 - 22s/epoch - 2ms/step\n",
      "Epoch 44/1000\n",
      "9800/9800 - 22s - loss: 0.2997 - accuracy: 0.8606 - 22s/epoch - 2ms/step\n",
      "Epoch 45/1000\n",
      "9800/9800 - 22s - loss: 0.2997 - accuracy: 0.8604 - 22s/epoch - 2ms/step\n",
      "Epoch 46/1000\n",
      "9800/9800 - 27s - loss: 0.2998 - accuracy: 0.8604 - 27s/epoch - 3ms/step\n",
      "Epoch 47/1000\n",
      "9800/9800 - 26s - loss: 0.2997 - accuracy: 0.8606 - 26s/epoch - 3ms/step\n",
      "Epoch 48/1000\n",
      "9800/9800 - 24s - loss: 0.2996 - accuracy: 0.8607 - 24s/epoch - 2ms/step\n",
      "Epoch 49/1000\n",
      "9800/9800 - 24s - loss: 0.2998 - accuracy: 0.8605 - 24s/epoch - 2ms/step\n",
      "Epoch 50/1000\n",
      "9800/9800 - 24s - loss: 0.2996 - accuracy: 0.8605 - 24s/epoch - 2ms/step\n",
      "Epoch 51/1000\n",
      "9800/9800 - 25s - loss: 0.2996 - accuracy: 0.8606 - 25s/epoch - 3ms/step\n",
      "Epoch 52/1000\n",
      "9800/9800 - 25s - loss: 0.2996 - accuracy: 0.8606 - 25s/epoch - 3ms/step\n",
      "Epoch 53/1000\n",
      "9800/9800 - 24s - loss: 0.2996 - accuracy: 0.8606 - 24s/epoch - 2ms/step\n",
      "Epoch 54/1000\n",
      "9800/9800 - 24s - loss: 0.2996 - accuracy: 0.8606 - 24s/epoch - 2ms/step\n",
      "Epoch 55/1000\n",
      "9800/9800 - 23s - loss: 0.2996 - accuracy: 0.8604 - 23s/epoch - 2ms/step\n",
      "Epoch 56/1000\n",
      "9800/9800 - 24s - loss: 0.2995 - accuracy: 0.8606 - 24s/epoch - 2ms/step\n",
      "Epoch 57/1000\n",
      "9800/9800 - 25s - loss: 0.2994 - accuracy: 0.8607 - 25s/epoch - 3ms/step\n",
      "Epoch 58/1000\n",
      "9800/9800 - 25s - loss: 0.2995 - accuracy: 0.8606 - 25s/epoch - 3ms/step\n",
      "Epoch 59/1000\n",
      "9800/9800 - 27s - loss: 0.2996 - accuracy: 0.8607 - 27s/epoch - 3ms/step\n",
      "Epoch 60/1000\n",
      "9800/9800 - 26s - loss: 0.2996 - accuracy: 0.8605 - 26s/epoch - 3ms/step\n",
      "Epoch 61/1000\n",
      "9800/9800 - 23s - loss: 0.2994 - accuracy: 0.8607 - 23s/epoch - 2ms/step\n",
      "Epoch 62/1000\n",
      "9800/9800 - 25s - loss: 0.2995 - accuracy: 0.8606 - 25s/epoch - 3ms/step\n",
      "Epoch 63/1000\n",
      "9800/9800 - 26s - loss: 0.2995 - accuracy: 0.8607 - 26s/epoch - 3ms/step\n",
      "Epoch 64/1000\n",
      "9800/9800 - 26s - loss: 0.2992 - accuracy: 0.8609 - 26s/epoch - 3ms/step\n",
      "Epoch 65/1000\n",
      "9800/9800 - 34s - loss: 0.2992 - accuracy: 0.8608 - 34s/epoch - 3ms/step\n",
      "Epoch 66/1000\n",
      "9800/9800 - 29s - loss: 0.2991 - accuracy: 0.8609 - 29s/epoch - 3ms/step\n",
      "Epoch 67/1000\n"
     ]
    },
    {
     "ename": "KeyboardInterrupt",
     "evalue": "",
     "output_type": "error",
     "traceback": [
      "\u001b[1;31m---------------------------------------------------------------------------\u001b[0m",
      "\u001b[1;31mKeyboardInterrupt\u001b[0m                         Traceback (most recent call last)",
      "Cell \u001b[1;32mIn[10], line 2\u001b[0m\n\u001b[0;32m      1\u001b[0m \u001b[38;5;66;03m#Stopped half an hour later since accuracy was barely improving from 36-66\u001b[39;00m\n\u001b[1;32m----> 2\u001b[0m \u001b[43mmodel_sc\u001b[49m\u001b[38;5;241;43m.\u001b[39;49m\u001b[43mfit\u001b[49m\u001b[43m(\u001b[49m\u001b[43mX_train\u001b[49m\u001b[43m,\u001b[49m\u001b[43m \u001b[49m\u001b[43my_train\u001b[49m\u001b[43m,\u001b[49m\u001b[43m \u001b[49m\u001b[43mepochs\u001b[49m\u001b[38;5;241;43m=\u001b[39;49m\u001b[38;5;241;43m1000\u001b[39;49m\u001b[43m,\u001b[49m\u001b[43m \u001b[49m\u001b[43mbatch_size\u001b[49m\u001b[38;5;241;43m=\u001b[39;49m\u001b[38;5;241;43m500\u001b[39;49m\u001b[43m,\u001b[49m\u001b[43m \u001b[49m\u001b[43mverbose\u001b[49m\u001b[38;5;241;43m=\u001b[39;49m\u001b[38;5;241;43m2\u001b[39;49m\u001b[43m)\u001b[49m\n",
      "File \u001b[1;32mC:\\Software\\Anaconda3\\lib\\site-packages\\keras\\utils\\traceback_utils.py:65\u001b[0m, in \u001b[0;36mfilter_traceback.<locals>.error_handler\u001b[1;34m(*args, **kwargs)\u001b[0m\n\u001b[0;32m     63\u001b[0m filtered_tb \u001b[38;5;241m=\u001b[39m \u001b[38;5;28;01mNone\u001b[39;00m\n\u001b[0;32m     64\u001b[0m \u001b[38;5;28;01mtry\u001b[39;00m:\n\u001b[1;32m---> 65\u001b[0m     \u001b[38;5;28;01mreturn\u001b[39;00m \u001b[43mfn\u001b[49m\u001b[43m(\u001b[49m\u001b[38;5;241;43m*\u001b[39;49m\u001b[43margs\u001b[49m\u001b[43m,\u001b[49m\u001b[43m \u001b[49m\u001b[38;5;241;43m*\u001b[39;49m\u001b[38;5;241;43m*\u001b[39;49m\u001b[43mkwargs\u001b[49m\u001b[43m)\u001b[49m\n\u001b[0;32m     66\u001b[0m \u001b[38;5;28;01mexcept\u001b[39;00m \u001b[38;5;167;01mException\u001b[39;00m \u001b[38;5;28;01mas\u001b[39;00m e:\n\u001b[0;32m     67\u001b[0m     filtered_tb \u001b[38;5;241m=\u001b[39m _process_traceback_frames(e\u001b[38;5;241m.\u001b[39m__traceback__)\n",
      "File \u001b[1;32mC:\\Software\\Anaconda3\\lib\\site-packages\\keras\\engine\\training.py:1564\u001b[0m, in \u001b[0;36mModel.fit\u001b[1;34m(self, x, y, batch_size, epochs, verbose, callbacks, validation_split, validation_data, shuffle, class_weight, sample_weight, initial_epoch, steps_per_epoch, validation_steps, validation_batch_size, validation_freq, max_queue_size, workers, use_multiprocessing)\u001b[0m\n\u001b[0;32m   1556\u001b[0m \u001b[38;5;28;01mwith\u001b[39;00m tf\u001b[38;5;241m.\u001b[39mprofiler\u001b[38;5;241m.\u001b[39mexperimental\u001b[38;5;241m.\u001b[39mTrace(\n\u001b[0;32m   1557\u001b[0m     \u001b[38;5;124m\"\u001b[39m\u001b[38;5;124mtrain\u001b[39m\u001b[38;5;124m\"\u001b[39m,\n\u001b[0;32m   1558\u001b[0m     epoch_num\u001b[38;5;241m=\u001b[39mepoch,\n\u001b[1;32m   (...)\u001b[0m\n\u001b[0;32m   1561\u001b[0m     _r\u001b[38;5;241m=\u001b[39m\u001b[38;5;241m1\u001b[39m,\n\u001b[0;32m   1562\u001b[0m ):\n\u001b[0;32m   1563\u001b[0m     callbacks\u001b[38;5;241m.\u001b[39mon_train_batch_begin(step)\n\u001b[1;32m-> 1564\u001b[0m     tmp_logs \u001b[38;5;241m=\u001b[39m \u001b[38;5;28;43mself\u001b[39;49m\u001b[38;5;241;43m.\u001b[39;49m\u001b[43mtrain_function\u001b[49m\u001b[43m(\u001b[49m\u001b[43miterator\u001b[49m\u001b[43m)\u001b[49m\n\u001b[0;32m   1565\u001b[0m     \u001b[38;5;28;01mif\u001b[39;00m data_handler\u001b[38;5;241m.\u001b[39mshould_sync:\n\u001b[0;32m   1566\u001b[0m         context\u001b[38;5;241m.\u001b[39masync_wait()\n",
      "File \u001b[1;32m~\\AppData\\Roaming\\Python\\Python38\\site-packages\\tensorflow\\python\\util\\traceback_utils.py:150\u001b[0m, in \u001b[0;36mfilter_traceback.<locals>.error_handler\u001b[1;34m(*args, **kwargs)\u001b[0m\n\u001b[0;32m    148\u001b[0m filtered_tb \u001b[38;5;241m=\u001b[39m \u001b[38;5;28;01mNone\u001b[39;00m\n\u001b[0;32m    149\u001b[0m \u001b[38;5;28;01mtry\u001b[39;00m:\n\u001b[1;32m--> 150\u001b[0m   \u001b[38;5;28;01mreturn\u001b[39;00m \u001b[43mfn\u001b[49m\u001b[43m(\u001b[49m\u001b[38;5;241;43m*\u001b[39;49m\u001b[43margs\u001b[49m\u001b[43m,\u001b[49m\u001b[43m \u001b[49m\u001b[38;5;241;43m*\u001b[39;49m\u001b[38;5;241;43m*\u001b[39;49m\u001b[43mkwargs\u001b[49m\u001b[43m)\u001b[49m\n\u001b[0;32m    151\u001b[0m \u001b[38;5;28;01mexcept\u001b[39;00m \u001b[38;5;167;01mException\u001b[39;00m \u001b[38;5;28;01mas\u001b[39;00m e:\n\u001b[0;32m    152\u001b[0m   filtered_tb \u001b[38;5;241m=\u001b[39m _process_traceback_frames(e\u001b[38;5;241m.\u001b[39m__traceback__)\n",
      "File \u001b[1;32m~\\AppData\\Roaming\\Python\\Python38\\site-packages\\tensorflow\\python\\eager\\polymorphic_function\\polymorphic_function.py:880\u001b[0m, in \u001b[0;36mFunction.__call__\u001b[1;34m(self, *args, **kwds)\u001b[0m\n\u001b[0;32m    877\u001b[0m compiler \u001b[38;5;241m=\u001b[39m \u001b[38;5;124m\"\u001b[39m\u001b[38;5;124mxla\u001b[39m\u001b[38;5;124m\"\u001b[39m \u001b[38;5;28;01mif\u001b[39;00m \u001b[38;5;28mself\u001b[39m\u001b[38;5;241m.\u001b[39m_jit_compile \u001b[38;5;28;01melse\u001b[39;00m \u001b[38;5;124m\"\u001b[39m\u001b[38;5;124mnonXla\u001b[39m\u001b[38;5;124m\"\u001b[39m\n\u001b[0;32m    879\u001b[0m \u001b[38;5;28;01mwith\u001b[39;00m OptionalXlaContext(\u001b[38;5;28mself\u001b[39m\u001b[38;5;241m.\u001b[39m_jit_compile):\n\u001b[1;32m--> 880\u001b[0m   result \u001b[38;5;241m=\u001b[39m \u001b[38;5;28;43mself\u001b[39;49m\u001b[38;5;241;43m.\u001b[39;49m\u001b[43m_call\u001b[49m\u001b[43m(\u001b[49m\u001b[38;5;241;43m*\u001b[39;49m\u001b[43margs\u001b[49m\u001b[43m,\u001b[49m\u001b[43m \u001b[49m\u001b[38;5;241;43m*\u001b[39;49m\u001b[38;5;241;43m*\u001b[39;49m\u001b[43mkwds\u001b[49m\u001b[43m)\u001b[49m\n\u001b[0;32m    882\u001b[0m new_tracing_count \u001b[38;5;241m=\u001b[39m \u001b[38;5;28mself\u001b[39m\u001b[38;5;241m.\u001b[39mexperimental_get_tracing_count()\n\u001b[0;32m    883\u001b[0m without_tracing \u001b[38;5;241m=\u001b[39m (tracing_count \u001b[38;5;241m==\u001b[39m new_tracing_count)\n",
      "File \u001b[1;32m~\\AppData\\Roaming\\Python\\Python38\\site-packages\\tensorflow\\python\\eager\\polymorphic_function\\polymorphic_function.py:912\u001b[0m, in \u001b[0;36mFunction._call\u001b[1;34m(self, *args, **kwds)\u001b[0m\n\u001b[0;32m    909\u001b[0m   \u001b[38;5;28mself\u001b[39m\u001b[38;5;241m.\u001b[39m_lock\u001b[38;5;241m.\u001b[39mrelease()\n\u001b[0;32m    910\u001b[0m   \u001b[38;5;66;03m# In this case we have created variables on the first call, so we run the\u001b[39;00m\n\u001b[0;32m    911\u001b[0m   \u001b[38;5;66;03m# defunned version which is guaranteed to never create variables.\u001b[39;00m\n\u001b[1;32m--> 912\u001b[0m   \u001b[38;5;28;01mreturn\u001b[39;00m \u001b[38;5;28;43mself\u001b[39;49m\u001b[38;5;241;43m.\u001b[39;49m\u001b[43m_no_variable_creation_fn\u001b[49m\u001b[43m(\u001b[49m\u001b[38;5;241;43m*\u001b[39;49m\u001b[43margs\u001b[49m\u001b[43m,\u001b[49m\u001b[43m \u001b[49m\u001b[38;5;241;43m*\u001b[39;49m\u001b[38;5;241;43m*\u001b[39;49m\u001b[43mkwds\u001b[49m\u001b[43m)\u001b[49m  \u001b[38;5;66;03m# pylint: disable=not-callable\u001b[39;00m\n\u001b[0;32m    913\u001b[0m \u001b[38;5;28;01melif\u001b[39;00m \u001b[38;5;28mself\u001b[39m\u001b[38;5;241m.\u001b[39m_variable_creation_fn \u001b[38;5;129;01mis\u001b[39;00m \u001b[38;5;129;01mnot\u001b[39;00m \u001b[38;5;28;01mNone\u001b[39;00m:\n\u001b[0;32m    914\u001b[0m   \u001b[38;5;66;03m# Release the lock early so that multiple threads can perform the call\u001b[39;00m\n\u001b[0;32m    915\u001b[0m   \u001b[38;5;66;03m# in parallel.\u001b[39;00m\n\u001b[0;32m    916\u001b[0m   \u001b[38;5;28mself\u001b[39m\u001b[38;5;241m.\u001b[39m_lock\u001b[38;5;241m.\u001b[39mrelease()\n",
      "File \u001b[1;32m~\\AppData\\Roaming\\Python\\Python38\\site-packages\\tensorflow\\python\\eager\\polymorphic_function\\tracing_compiler.py:134\u001b[0m, in \u001b[0;36mTracingCompiler.__call__\u001b[1;34m(self, *args, **kwargs)\u001b[0m\n\u001b[0;32m    131\u001b[0m \u001b[38;5;28;01mwith\u001b[39;00m \u001b[38;5;28mself\u001b[39m\u001b[38;5;241m.\u001b[39m_lock:\n\u001b[0;32m    132\u001b[0m   (concrete_function,\n\u001b[0;32m    133\u001b[0m    filtered_flat_args) \u001b[38;5;241m=\u001b[39m \u001b[38;5;28mself\u001b[39m\u001b[38;5;241m.\u001b[39m_maybe_define_function(args, kwargs)\n\u001b[1;32m--> 134\u001b[0m \u001b[38;5;28;01mreturn\u001b[39;00m \u001b[43mconcrete_function\u001b[49m\u001b[38;5;241;43m.\u001b[39;49m\u001b[43m_call_flat\u001b[49m\u001b[43m(\u001b[49m\n\u001b[0;32m    135\u001b[0m \u001b[43m    \u001b[49m\u001b[43mfiltered_flat_args\u001b[49m\u001b[43m,\u001b[49m\u001b[43m \u001b[49m\u001b[43mcaptured_inputs\u001b[49m\u001b[38;5;241;43m=\u001b[39;49m\u001b[43mconcrete_function\u001b[49m\u001b[38;5;241;43m.\u001b[39;49m\u001b[43mcaptured_inputs\u001b[49m\u001b[43m)\u001b[49m\n",
      "File \u001b[1;32m~\\AppData\\Roaming\\Python\\Python38\\site-packages\\tensorflow\\python\\eager\\polymorphic_function\\monomorphic_function.py:1745\u001b[0m, in \u001b[0;36mConcreteFunction._call_flat\u001b[1;34m(self, args, captured_inputs, cancellation_manager)\u001b[0m\n\u001b[0;32m   1741\u001b[0m possible_gradient_type \u001b[38;5;241m=\u001b[39m gradients_util\u001b[38;5;241m.\u001b[39mPossibleTapeGradientTypes(args)\n\u001b[0;32m   1742\u001b[0m \u001b[38;5;28;01mif\u001b[39;00m (possible_gradient_type \u001b[38;5;241m==\u001b[39m gradients_util\u001b[38;5;241m.\u001b[39mPOSSIBLE_GRADIENT_TYPES_NONE\n\u001b[0;32m   1743\u001b[0m     \u001b[38;5;129;01mand\u001b[39;00m executing_eagerly):\n\u001b[0;32m   1744\u001b[0m   \u001b[38;5;66;03m# No tape is watching; skip to running the function.\u001b[39;00m\n\u001b[1;32m-> 1745\u001b[0m   \u001b[38;5;28;01mreturn\u001b[39;00m \u001b[38;5;28mself\u001b[39m\u001b[38;5;241m.\u001b[39m_build_call_outputs(\u001b[38;5;28;43mself\u001b[39;49m\u001b[38;5;241;43m.\u001b[39;49m\u001b[43m_inference_function\u001b[49m\u001b[38;5;241;43m.\u001b[39;49m\u001b[43mcall\u001b[49m\u001b[43m(\u001b[49m\n\u001b[0;32m   1746\u001b[0m \u001b[43m      \u001b[49m\u001b[43mctx\u001b[49m\u001b[43m,\u001b[49m\u001b[43m \u001b[49m\u001b[43margs\u001b[49m\u001b[43m,\u001b[49m\u001b[43m \u001b[49m\u001b[43mcancellation_manager\u001b[49m\u001b[38;5;241;43m=\u001b[39;49m\u001b[43mcancellation_manager\u001b[49m\u001b[43m)\u001b[49m)\n\u001b[0;32m   1747\u001b[0m forward_backward \u001b[38;5;241m=\u001b[39m \u001b[38;5;28mself\u001b[39m\u001b[38;5;241m.\u001b[39m_select_forward_and_backward_functions(\n\u001b[0;32m   1748\u001b[0m     args,\n\u001b[0;32m   1749\u001b[0m     possible_gradient_type,\n\u001b[0;32m   1750\u001b[0m     executing_eagerly)\n\u001b[0;32m   1751\u001b[0m forward_function, args_with_tangents \u001b[38;5;241m=\u001b[39m forward_backward\u001b[38;5;241m.\u001b[39mforward()\n",
      "File \u001b[1;32m~\\AppData\\Roaming\\Python\\Python38\\site-packages\\tensorflow\\python\\eager\\polymorphic_function\\monomorphic_function.py:378\u001b[0m, in \u001b[0;36m_EagerDefinedFunction.call\u001b[1;34m(self, ctx, args, cancellation_manager)\u001b[0m\n\u001b[0;32m    376\u001b[0m \u001b[38;5;28;01mwith\u001b[39;00m _InterpolateFunctionError(\u001b[38;5;28mself\u001b[39m):\n\u001b[0;32m    377\u001b[0m   \u001b[38;5;28;01mif\u001b[39;00m cancellation_manager \u001b[38;5;129;01mis\u001b[39;00m \u001b[38;5;28;01mNone\u001b[39;00m:\n\u001b[1;32m--> 378\u001b[0m     outputs \u001b[38;5;241m=\u001b[39m \u001b[43mexecute\u001b[49m\u001b[38;5;241;43m.\u001b[39;49m\u001b[43mexecute\u001b[49m\u001b[43m(\u001b[49m\n\u001b[0;32m    379\u001b[0m \u001b[43m        \u001b[49m\u001b[38;5;28;43mstr\u001b[39;49m\u001b[43m(\u001b[49m\u001b[38;5;28;43mself\u001b[39;49m\u001b[38;5;241;43m.\u001b[39;49m\u001b[43msignature\u001b[49m\u001b[38;5;241;43m.\u001b[39;49m\u001b[43mname\u001b[49m\u001b[43m)\u001b[49m\u001b[43m,\u001b[49m\n\u001b[0;32m    380\u001b[0m \u001b[43m        \u001b[49m\u001b[43mnum_outputs\u001b[49m\u001b[38;5;241;43m=\u001b[39;49m\u001b[38;5;28;43mself\u001b[39;49m\u001b[38;5;241;43m.\u001b[39;49m\u001b[43m_num_outputs\u001b[49m\u001b[43m,\u001b[49m\n\u001b[0;32m    381\u001b[0m \u001b[43m        \u001b[49m\u001b[43minputs\u001b[49m\u001b[38;5;241;43m=\u001b[39;49m\u001b[43margs\u001b[49m\u001b[43m,\u001b[49m\n\u001b[0;32m    382\u001b[0m \u001b[43m        \u001b[49m\u001b[43mattrs\u001b[49m\u001b[38;5;241;43m=\u001b[39;49m\u001b[43mattrs\u001b[49m\u001b[43m,\u001b[49m\n\u001b[0;32m    383\u001b[0m \u001b[43m        \u001b[49m\u001b[43mctx\u001b[49m\u001b[38;5;241;43m=\u001b[39;49m\u001b[43mctx\u001b[49m\u001b[43m)\u001b[49m\n\u001b[0;32m    384\u001b[0m   \u001b[38;5;28;01melse\u001b[39;00m:\n\u001b[0;32m    385\u001b[0m     outputs \u001b[38;5;241m=\u001b[39m execute\u001b[38;5;241m.\u001b[39mexecute_with_cancellation(\n\u001b[0;32m    386\u001b[0m         \u001b[38;5;28mstr\u001b[39m(\u001b[38;5;28mself\u001b[39m\u001b[38;5;241m.\u001b[39msignature\u001b[38;5;241m.\u001b[39mname),\n\u001b[0;32m    387\u001b[0m         num_outputs\u001b[38;5;241m=\u001b[39m\u001b[38;5;28mself\u001b[39m\u001b[38;5;241m.\u001b[39m_num_outputs,\n\u001b[1;32m   (...)\u001b[0m\n\u001b[0;32m    390\u001b[0m         ctx\u001b[38;5;241m=\u001b[39mctx,\n\u001b[0;32m    391\u001b[0m         cancellation_manager\u001b[38;5;241m=\u001b[39mcancellation_manager)\n",
      "File \u001b[1;32m~\\AppData\\Roaming\\Python\\Python38\\site-packages\\tensorflow\\python\\eager\\execute.py:52\u001b[0m, in \u001b[0;36mquick_execute\u001b[1;34m(op_name, num_outputs, inputs, attrs, ctx, name)\u001b[0m\n\u001b[0;32m     50\u001b[0m \u001b[38;5;28;01mtry\u001b[39;00m:\n\u001b[0;32m     51\u001b[0m   ctx\u001b[38;5;241m.\u001b[39mensure_initialized()\n\u001b[1;32m---> 52\u001b[0m   tensors \u001b[38;5;241m=\u001b[39m \u001b[43mpywrap_tfe\u001b[49m\u001b[38;5;241;43m.\u001b[39;49m\u001b[43mTFE_Py_Execute\u001b[49m\u001b[43m(\u001b[49m\u001b[43mctx\u001b[49m\u001b[38;5;241;43m.\u001b[39;49m\u001b[43m_handle\u001b[49m\u001b[43m,\u001b[49m\u001b[43m \u001b[49m\u001b[43mdevice_name\u001b[49m\u001b[43m,\u001b[49m\u001b[43m \u001b[49m\u001b[43mop_name\u001b[49m\u001b[43m,\u001b[49m\n\u001b[0;32m     53\u001b[0m \u001b[43m                                      \u001b[49m\u001b[43minputs\u001b[49m\u001b[43m,\u001b[49m\u001b[43m \u001b[49m\u001b[43mattrs\u001b[49m\u001b[43m,\u001b[49m\u001b[43m \u001b[49m\u001b[43mnum_outputs\u001b[49m\u001b[43m)\u001b[49m\n\u001b[0;32m     54\u001b[0m \u001b[38;5;28;01mexcept\u001b[39;00m core\u001b[38;5;241m.\u001b[39m_NotOkStatusException \u001b[38;5;28;01mas\u001b[39;00m e:\n\u001b[0;32m     55\u001b[0m   \u001b[38;5;28;01mif\u001b[39;00m name \u001b[38;5;129;01mis\u001b[39;00m \u001b[38;5;129;01mnot\u001b[39;00m \u001b[38;5;28;01mNone\u001b[39;00m:\n",
      "\u001b[1;31mKeyboardInterrupt\u001b[0m: "
     ]
    }
   ],
   "source": [
    "#Stopped half an hour later since accuracy was barely improving from 36-66\n",
    "model_sc.fit(X_train, y_train, epochs=1000, batch_size=500, verbose=2)"
   ]
  },
  {
   "cell_type": "code",
   "execution_count": 11,
   "metadata": {
    "colab": {
     "base_uri": "https://localhost:8080/"
    },
    "id": "V8bQOhvSDT_x",
    "outputId": "ae6d81ac-224f-4f67-92cb-2150cac411b0"
   },
   "outputs": [
    {
     "name": "stdout",
     "output_type": "stream",
     "text": [
      "65625/65625 [==============================] - 68s 1ms/step\n"
     ]
    }
   ],
   "source": [
    "y_pred = model_sc.predict(X_test)\n",
    "y_pred_binary = (y_pred > 0.5).astype(int)\n",
    "accuracy = accuracy_score(y_test, y_pred_binary)\n"
   ]
  },
  {
   "cell_type": "code",
   "execution_count": 12,
   "metadata": {
    "colab": {
     "base_uri": "https://localhost:8080/"
    },
    "id": "431Y4_q-ILKW",
    "outputId": "f6dd84ee-803c-4c71-8fb0-724d077df434"
   },
   "outputs": [
    {
     "data": {
      "text/plain": [
       "0.8687452380952381"
      ]
     },
     "execution_count": 12,
     "metadata": {},
     "output_type": "execute_result"
    }
   ],
   "source": [
    "accuracy"
   ]
  },
  {
   "cell_type": "code",
   "execution_count": 16,
   "metadata": {},
   "outputs": [
    {
     "name": "stdout",
     "output_type": "stream",
     "text": [
      "              precision    recall  f1-score   support\n",
      "\n",
      "         0.0       0.89      0.84      0.86   1048432\n",
      "         1.0       0.85      0.90      0.87   1051568\n",
      "\n",
      "    accuracy                           0.87   2100000\n",
      "   macro avg       0.87      0.87      0.87   2100000\n",
      "weighted avg       0.87      0.87      0.87   2100000\n",
      "\n"
     ]
    }
   ],
   "source": [
    "print(classification_report(y_test, y_pred_binary))"
   ]
  },
  {
   "cell_type": "code",
   "execution_count": 20,
   "metadata": {},
   "outputs": [
    {
     "data": {
      "image/png": "[encoded data removed]",
      "text/plain": [
       "<Figure size 600x400 with 2 Axes>"
      ]
     },
     "metadata": {},
     "output_type": "display_data"
    }
   ],
   "source": [
    "# Confusion Matrix\n",
    "class_names = list(set(data['# label']))\n",
    "cm=confusion_matrix(y_test, y_pred_binary)\n",
    "plt.figure(figsize=(6, 4))\n",
    "sns.heatmap(cm, annot=True, cmap='Blues', fmt='d', xticklabels=class_names, yticklabels=class_names)\n",
    "plt.xlabel('Predicted Labels')\n",
    "plt.ylabel('True Labels')\n",
    "plt.title('Confusion Matrix')\n",
    "plt.show()"
   ]
  },
  {
   "cell_type": "markdown",
   "metadata": {
    "id": "9av9_M8qIMcn"
   },
   "source": [
    "> Providing validation data to stop early lower batch size"
   ]
  },
  {
   "cell_type": "code",
   "execution_count": 13,
   "metadata": {
    "id": "pc0Laz6qIY_f"
   },
   "outputs": [],
   "source": [
    "X_val, X_test_1, y_val, y_test_1 = train_test_split(X_test, y_test, test_size=0.90, random_state=42)"
   ]
  },
  {
   "cell_type": "code",
   "execution_count": 14,
   "metadata": {
    "colab": {
     "base_uri": "https://localhost:8080/"
    },
    "id": "rbIOHFo_FJqs",
    "outputId": "8ef0137a-e451-41bb-f6b8-a6c297fea82e"
   },
   "outputs": [
    {
     "name": "stdout",
     "output_type": "stream",
     "text": [
      "Epoch 1/1000\n",
      "245000/245000 [==============================] - 341s 1ms/step - loss: 0.3145 - accuracy: 0.8528 - val_loss: 0.2937 - val_accuracy: 0.8639\n",
      "Epoch 2/1000\n",
      "245000/245000 [==============================] - 346s 1ms/step - loss: 0.3057 - accuracy: 0.8570 - val_loss: 0.2911 - val_accuracy: 0.8659\n",
      "Epoch 3/1000\n",
      "245000/245000 [==============================] - 328s 1ms/step - loss: 0.3042 - accuracy: 0.8580 - val_loss: 0.2901 - val_accuracy: 0.8660\n"
     ]
    },
    {
     "data": {
      "text/plain": [
       "<keras.callbacks.History at 0x20ca22257c0>"
      ]
     },
     "execution_count": 14,
     "metadata": {},
     "output_type": "execute_result"
    }
   ],
   "source": [
    "from tensorflow.keras.callbacks import EarlyStopping\n",
    "safety=EarlyStopping(monitor=\"val_loss\",patience=1,min_delta=0.001,mode='auto',restore_best_weights=True)\n",
    "\n",
    "model_scStopEarly=tf.keras.Sequential()\n",
    "model_scStopEarly.add(layers.Dense(100,activation='tanh'))\n",
    "model_scStopEarly.add(layers.Dropout(.3))\n",
    "model_scStopEarly.add(layers.Dense(1,activation='sigmoid'))\n",
    "\n",
    "model_scStopEarly.compile(optimizer=tf.keras.optimizers.Adam(),\n",
    "                loss=tf.keras.losses.binary_crossentropy,\n",
    "                 metrics=['accuracy'])\n",
    "\n",
    "model_scStopEarly.fit(X_train, y_train, epochs=1000, validation_data=(X_val,y_val),batch_size=20, callbacks=[safety])"
   ]
  },
  {
   "cell_type": "code",
   "execution_count": 21,
   "metadata": {
    "colab": {
     "base_uri": "https://localhost:8080/"
    },
    "id": "wTVdkbESqEjS",
    "outputId": "4d35f453-fdc7-4917-a851-9735e9f7f8cb"
   },
   "outputs": [
    {
     "name": "stdout",
     "output_type": "stream",
     "text": [
      "59063/59063 [==============================] - 42s 711us/step\n"
     ]
    }
   ],
   "source": [
    "y_pred_1 = model_scStopEarly.predict(X_test_1)\n",
    "y_pred_binary_1 = (y_pred_1 > 0.5).astype(int)\n",
    "accuracy_1 = accuracy_score(y_test_1, y_pred_binary_1)"
   ]
  },
  {
   "cell_type": "code",
   "execution_count": 22,
   "metadata": {
    "colab": {
     "base_uri": "https://localhost:8080/"
    },
    "id": "fedjlzrPrAbD",
    "outputId": "d91a739d-756b-415d-b998-4dc5b5937603"
   },
   "outputs": [
    {
     "data": {
      "text/plain": [
       "0.8645047619047619"
      ]
     },
     "execution_count": 22,
     "metadata": {},
     "output_type": "execute_result"
    }
   ],
   "source": [
    "accuracy_1"
   ]
  },
  {
   "cell_type": "code",
   "execution_count": 23,
   "metadata": {},
   "outputs": [
    {
     "name": "stdout",
     "output_type": "stream",
     "text": [
      "              precision    recall  f1-score   support\n",
      "\n",
      "         0.0       0.87      0.86      0.86    943605\n",
      "         1.0       0.86      0.87      0.87    946395\n",
      "\n",
      "    accuracy                           0.86   1890000\n",
      "   macro avg       0.86      0.86      0.86   1890000\n",
      "weighted avg       0.86      0.86      0.86   1890000\n",
      "\n"
     ]
    }
   ],
   "source": [
    "print(classification_report(y_test_1, y_pred_binary_1))"
   ]
  },
  {
   "cell_type": "code",
   "execution_count": 24,
   "metadata": {},
   "outputs": [
    {
     "data": {
      "image/png": "[encoded data removed]",
      "text/plain": [
       "<Figure size 600x400 with 2 Axes>"
      ]
     },
     "metadata": {},
     "output_type": "display_data"
    }
   ],
   "source": [
    "# Confusion Matrix\n",
    "class_names = list(set(data['# label']))\n",
    "cm=confusion_matrix(y_test_1, y_pred_binary_1)\n",
    "plt.figure(figsize=(6, 4))\n",
    "sns.heatmap(cm, annot=True, cmap='Blues', fmt='d', xticklabels=class_names, yticklabels=class_names)\n",
    "plt.xlabel('Predicted Labels')\n",
    "plt.ylabel('True Labels')\n",
    "plt.title('Confusion Matrix')\n",
    "plt.show()"
   ]
  },
  {
   "cell_type": "markdown",
   "metadata": {
    "id": "HGHsLVNgDass"
   },
   "source": [
    "> More dense layers"
   ]
  },
  {
   "cell_type": "code",
   "execution_count": 25,
   "metadata": {
    "colab": {
     "base_uri": "https://localhost:8080/"
    },
    "id": "S3HVJKOoDNVa",
    "outputId": "15e07b98-2a6d-444b-f905-85f785c7cf1b"
   },
   "outputs": [
    {
     "name": "stdout",
     "output_type": "stream",
     "text": [
      "Epoch 1/25\n",
      "9800/9800 - 48s - loss: 0.3148 - accuracy: 0.8542 - 48s/epoch - 5ms/step\n",
      "Epoch 2/25\n",
      "9800/9800 - 52s - loss: 0.3025 - accuracy: 0.8606 - 52s/epoch - 5ms/step\n",
      "Epoch 3/25\n",
      "9800/9800 - 57s - loss: 0.2994 - accuracy: 0.8625 - 57s/epoch - 6ms/step\n",
      "Epoch 4/25\n",
      "9800/9800 - 52s - loss: 0.2976 - accuracy: 0.8637 - 52s/epoch - 5ms/step\n",
      "Epoch 5/25\n",
      "9800/9800 - 50s - loss: 0.2964 - accuracy: 0.8644 - 50s/epoch - 5ms/step\n",
      "Epoch 6/25\n",
      "9800/9800 - 47s - loss: 0.2955 - accuracy: 0.8650 - 47s/epoch - 5ms/step\n",
      "Epoch 7/25\n",
      "9800/9800 - 48s - loss: 0.2949 - accuracy: 0.8654 - 48s/epoch - 5ms/step\n",
      "Epoch 8/25\n",
      "9800/9800 - 48s - loss: 0.2942 - accuracy: 0.8658 - 48s/epoch - 5ms/step\n",
      "Epoch 9/25\n",
      "9800/9800 - 45s - loss: 0.2939 - accuracy: 0.8661 - 45s/epoch - 5ms/step\n",
      "Epoch 10/25\n",
      "9800/9800 - 49s - loss: 0.2936 - accuracy: 0.8663 - 49s/epoch - 5ms/step\n",
      "Epoch 11/25\n",
      "9800/9800 - 46s - loss: 0.2931 - accuracy: 0.8665 - 46s/epoch - 5ms/step\n",
      "Epoch 12/25\n",
      "9800/9800 - 47s - loss: 0.2929 - accuracy: 0.8668 - 47s/epoch - 5ms/step\n",
      "Epoch 13/25\n",
      "9800/9800 - 49s - loss: 0.2927 - accuracy: 0.8668 - 49s/epoch - 5ms/step\n",
      "Epoch 14/25\n",
      "9800/9800 - 60s - loss: 0.2924 - accuracy: 0.8670 - 60s/epoch - 6ms/step\n",
      "Epoch 15/25\n",
      "9800/9800 - 50s - loss: 0.2924 - accuracy: 0.8671 - 50s/epoch - 5ms/step\n",
      "Epoch 16/25\n",
      "9800/9800 - 51s - loss: 0.2922 - accuracy: 0.8671 - 51s/epoch - 5ms/step\n",
      "Epoch 17/25\n",
      "9800/9800 - 51s - loss: 0.2919 - accuracy: 0.8672 - 51s/epoch - 5ms/step\n",
      "Epoch 18/25\n",
      "9800/9800 - 49s - loss: 0.2919 - accuracy: 0.8672 - 49s/epoch - 5ms/step\n",
      "Epoch 19/25\n",
      "9800/9800 - 51s - loss: 0.2917 - accuracy: 0.8674 - 51s/epoch - 5ms/step\n",
      "Epoch 20/25\n",
      "9800/9800 - 50s - loss: 0.2916 - accuracy: 0.8674 - 50s/epoch - 5ms/step\n",
      "Epoch 21/25\n",
      "9800/9800 - 50s - loss: 0.2914 - accuracy: 0.8676 - 50s/epoch - 5ms/step\n",
      "Epoch 22/25\n",
      "9800/9800 - 50s - loss: 0.2915 - accuracy: 0.8675 - 50s/epoch - 5ms/step\n",
      "Epoch 23/25\n",
      "9800/9800 - 54s - loss: 0.2912 - accuracy: 0.8677 - 54s/epoch - 6ms/step\n",
      "Epoch 24/25\n",
      "9800/9800 - 53s - loss: 0.2913 - accuracy: 0.8677 - 53s/epoch - 5ms/step\n",
      "Epoch 25/25\n",
      "9800/9800 - 47s - loss: 0.2912 - accuracy: 0.8678 - 47s/epoch - 5ms/step\n"
     ]
    },
    {
     "data": {
      "text/plain": [
       "<keras.callbacks.History at 0x20d44c1f250>"
      ]
     },
     "execution_count": 25,
     "metadata": {},
     "output_type": "execute_result"
    }
   ],
   "source": [
    "#Stopped at 84 epochs since scores were no increasing\n",
    "model_sc_moreLayers=tf.keras.Sequential()\n",
    "model_sc_moreLayers.add(layers.Dense(100,activation='tanh'))\n",
    "model_sc_moreLayers.add(layers.Dropout(.3))\n",
    "model_sc_moreLayers.add(layers.Dense(50,activation='relu'))\n",
    "model_sc_moreLayers.add(layers.Dropout(.3))\n",
    "model_sc_moreLayers.add(layers.Dense(30,activation='tanh'))\n",
    "model_sc_moreLayers.add(layers.Dropout(.3))\n",
    "model_sc_moreLayers.add(layers.Dense(1,activation='sigmoid'))\n",
    "\n",
    "model_sc_moreLayers.compile(optimizer=tf.keras.optimizers.Adam(),\n",
    "                loss=tf.keras.losses.binary_crossentropy,\n",
    "                 metrics=['accuracy'])\n",
    "\n",
    "model_sc_moreLayers.fit(X_train, y_train, epochs=25, batch_size=500, verbose=2)"
   ]
  },
  {
   "cell_type": "code",
   "execution_count": 26,
   "metadata": {
    "colab": {
     "base_uri": "https://localhost:8080/"
    },
    "id": "kOd69Lh3EEdF",
    "outputId": "d1c7ed4c-30dd-471c-f7c5-fbd656142c5c"
   },
   "outputs": [
    {
     "name": "stdout",
     "output_type": "stream",
     "text": [
      "65625/65625 [==============================] - 61s 923us/step\n"
     ]
    }
   ],
   "source": [
    "y_pred_ml = model_sc_moreLayers.predict(X_test)\n",
    "y_pred_binary_ml = (y_pred_ml > 0.5).astype(int)\n",
    "accuracy_ml = accuracy_score(y_test, y_pred_binary_ml)\n"
   ]
  },
  {
   "cell_type": "code",
   "execution_count": 27,
   "metadata": {
    "colab": {
     "base_uri": "https://localhost:8080/"
    },
    "id": "OjlSNUaoVTUS",
    "outputId": "914ddd94-c3bc-40ee-e763-435481538303"
   },
   "outputs": [
    {
     "data": {
      "text/plain": [
       "0.8738204761904762"
      ]
     },
     "execution_count": 27,
     "metadata": {},
     "output_type": "execute_result"
    }
   ],
   "source": [
    "accuracy_ml"
   ]
  },
  {
   "cell_type": "code",
   "execution_count": 28,
   "metadata": {},
   "outputs": [
    {
     "name": "stdout",
     "output_type": "stream",
     "text": [
      "              precision    recall  f1-score   support\n",
      "\n",
      "         0.0       0.90      0.84      0.87   1048432\n",
      "         1.0       0.85      0.91      0.88   1051568\n",
      "\n",
      "    accuracy                           0.87   2100000\n",
      "   macro avg       0.88      0.87      0.87   2100000\n",
      "weighted avg       0.88      0.87      0.87   2100000\n",
      "\n"
     ]
    }
   ],
   "source": [
    "print(classification_report(y_test, y_pred_binary_ml))"
   ]
  },
  {
   "cell_type": "code",
   "execution_count": 29,
   "metadata": {},
   "outputs": [
    {
     "data": {
      "image/png": "[encoded data removed]",
      "text/plain": [
       "<Figure size 600x400 with 2 Axes>"
      ]
     },
     "metadata": {},
     "output_type": "display_data"
    }
   ],
   "source": [
    "# Confusion Matrix\n",
    "class_names = list(set(data['# label']))\n",
    "cm=confusion_matrix(y_test, y_pred_binary_ml)\n",
    "plt.figure(figsize=(6, 4))\n",
    "sns.heatmap(cm, annot=True, cmap='Blues', fmt='d', xticklabels=class_names, yticklabels=class_names)\n",
    "plt.xlabel('Predicted Labels')\n",
    "plt.ylabel('True Labels')\n",
    "plt.title('Confusion Matrix')\n",
    "plt.show()"
   ]
  },
  {
   "cell_type": "markdown",
   "metadata": {
    "id": "aXg_por7EHE-"
   },
   "source": [
    "# Bigger Batch_size of 1000"
   ]
  },
  {
   "cell_type": "code",
   "execution_count": 30,
   "metadata": {
    "colab": {
     "base_uri": "https://localhost:8080/"
    },
    "id": "ywBlhR9REFLL",
    "outputId": "007b7ec3-af7c-47eb-8b5f-2b3c872365cf"
   },
   "outputs": [
    {
     "name": "stdout",
     "output_type": "stream",
     "text": [
      "Epoch 1/25\n",
      "4900/4900 - 15s - loss: 0.2965 - accuracy: 0.8632 - 15s/epoch - 3ms/step\n",
      "Epoch 2/25\n",
      "4900/4900 - 15s - loss: 0.2791 - accuracy: 0.8728 - 15s/epoch - 3ms/step\n",
      "Epoch 3/25\n",
      "4900/4900 - 17s - loss: 0.2740 - accuracy: 0.8758 - 17s/epoch - 3ms/step\n",
      "Epoch 4/25\n",
      "4900/4900 - 19s - loss: 0.2715 - accuracy: 0.8772 - 19s/epoch - 4ms/step\n",
      "Epoch 5/25\n",
      "4900/4900 - 19s - loss: 0.2700 - accuracy: 0.8781 - 19s/epoch - 4ms/step\n",
      "Epoch 6/25\n",
      "4900/4900 - 17s - loss: 0.2690 - accuracy: 0.8785 - 17s/epoch - 4ms/step\n",
      "Epoch 7/25\n",
      "4900/4900 - 17s - loss: 0.2682 - accuracy: 0.8789 - 17s/epoch - 4ms/step\n",
      "Epoch 8/25\n",
      "4900/4900 - 19s - loss: 0.2675 - accuracy: 0.8795 - 19s/epoch - 4ms/step\n",
      "Epoch 9/25\n",
      "4900/4900 - 18s - loss: 0.2670 - accuracy: 0.8797 - 18s/epoch - 4ms/step\n",
      "Epoch 10/25\n",
      "4900/4900 - 18s - loss: 0.2665 - accuracy: 0.8799 - 18s/epoch - 4ms/step\n",
      "Epoch 11/25\n",
      "4900/4900 - 21s - loss: 0.2662 - accuracy: 0.8802 - 21s/epoch - 4ms/step\n",
      "Epoch 12/25\n",
      "4900/4900 - 21s - loss: 0.2658 - accuracy: 0.8803 - 21s/epoch - 4ms/step\n",
      "Epoch 13/25\n",
      "4900/4900 - 19s - loss: 0.2656 - accuracy: 0.8805 - 19s/epoch - 4ms/step\n",
      "Epoch 14/25\n",
      "4900/4900 - 19s - loss: 0.2653 - accuracy: 0.8805 - 19s/epoch - 4ms/step\n",
      "Epoch 15/25\n",
      "4900/4900 - 20s - loss: 0.2651 - accuracy: 0.8806 - 20s/epoch - 4ms/step\n",
      "Epoch 16/25\n",
      "4900/4900 - 20s - loss: 0.2648 - accuracy: 0.8807 - 20s/epoch - 4ms/step\n",
      "Epoch 17/25\n",
      "4900/4900 - 19s - loss: 0.2646 - accuracy: 0.8810 - 19s/epoch - 4ms/step\n",
      "Epoch 18/25\n",
      "4900/4900 - 21s - loss: 0.2645 - accuracy: 0.8810 - 21s/epoch - 4ms/step\n",
      "Epoch 19/25\n",
      "4900/4900 - 20s - loss: 0.2643 - accuracy: 0.8810 - 20s/epoch - 4ms/step\n",
      "Epoch 20/25\n",
      "4900/4900 - 20s - loss: 0.2642 - accuracy: 0.8811 - 20s/epoch - 4ms/step\n",
      "Epoch 21/25\n",
      "4900/4900 - 21s - loss: 0.2639 - accuracy: 0.8813 - 21s/epoch - 4ms/step\n",
      "Epoch 22/25\n",
      "4900/4900 - 20s - loss: 0.2639 - accuracy: 0.8812 - 20s/epoch - 4ms/step\n",
      "Epoch 23/25\n",
      "4900/4900 - 20s - loss: 0.2639 - accuracy: 0.8813 - 20s/epoch - 4ms/step\n",
      "Epoch 24/25\n",
      "4900/4900 - 21s - loss: 0.2638 - accuracy: 0.8813 - 21s/epoch - 4ms/step\n",
      "Epoch 25/25\n",
      "4900/4900 - 20s - loss: 0.2636 - accuracy: 0.8815 - 20s/epoch - 4ms/step\n"
     ]
    },
    {
     "data": {
      "text/plain": [
       "<keras.callbacks.History at 0x20d4a75f610>"
      ]
     },
     "execution_count": 30,
     "metadata": {},
     "output_type": "execute_result"
    }
   ],
   "source": [
    "model_sc_moreLayers=tf.keras.Sequential()\n",
    "model_sc_moreLayers.add(layers.Dense(100,activation='relu'))\n",
    "model_sc_moreLayers.add(layers.Dense(50,activation='relu'))\n",
    "model_sc_moreLayers.add(layers.Dropout(.3))\n",
    "model_sc_moreLayers.add(layers.Dense(30,activation='relu'))\n",
    "model_sc_moreLayers.add(layers.Dense(1,activation='sigmoid'))\n",
    "\n",
    "model_sc_moreLayers.compile(optimizer=tf.keras.optimizers.Adam(),\n",
    "                loss=tf.keras.losses.binary_crossentropy,\n",
    "                 metrics=['accuracy'])\n",
    "\n",
    "model_sc_moreLayers.fit(X_train, y_train, epochs=25, batch_size=1000, verbose=2)"
   ]
  },
  {
   "cell_type": "code",
   "execution_count": 31,
   "metadata": {
    "colab": {
     "base_uri": "https://localhost:8080/"
    },
    "id": "RdWt8U8AYtl2",
    "outputId": "686e34f6-f5bf-40b7-e1f9-aa5d18a7de2c"
   },
   "outputs": [
    {
     "name": "stdout",
     "output_type": "stream",
     "text": [
      "65625/65625 [==============================] - 50s 767us/step\n"
     ]
    }
   ],
   "source": [
    "y_pred_bt = model_sc_moreLayers.predict(X_test)\n",
    "y_pred_binary_bt = (y_pred_bt > 0.5).astype(int)\n",
    "accuracy_bt = accuracy_score(y_test, y_pred_binary_bt)\n"
   ]
  },
  {
   "cell_type": "code",
   "execution_count": 32,
   "metadata": {
    "colab": {
     "base_uri": "https://localhost:8080/"
    },
    "id": "Bc9lDpHbZlSb",
    "outputId": "d9a68732-9c9f-41b1-8855-eb7090f9fa05"
   },
   "outputs": [
    {
     "data": {
      "text/plain": [
       "0.8818061904761905"
      ]
     },
     "execution_count": 32,
     "metadata": {},
     "output_type": "execute_result"
    }
   ],
   "source": [
    "accuracy_bt"
   ]
  },
  {
   "cell_type": "code",
   "execution_count": 33,
   "metadata": {
    "id": "GeCWPHSwZnWF"
   },
   "outputs": [
    {
     "name": "stdout",
     "output_type": "stream",
     "text": [
      "              precision    recall  f1-score   support\n",
      "\n",
      "         0.0       0.91      0.84      0.88   1048432\n",
      "         1.0       0.85      0.92      0.89   1051568\n",
      "\n",
      "    accuracy                           0.88   2100000\n",
      "   macro avg       0.88      0.88      0.88   2100000\n",
      "weighted avg       0.88      0.88      0.88   2100000\n",
      "\n"
     ]
    }
   ],
   "source": [
    "print(classification_report(y_test, y_pred_binary_bt))"
   ]
  },
  {
   "cell_type": "code",
   "execution_count": 34,
   "metadata": {},
   "outputs": [
    {
     "data": {
      "image/png": "[encoded data removed]",
      "text/plain": [
       "<Figure size 600x400 with 2 Axes>"
      ]
     },
     "metadata": {},
     "output_type": "display_data"
    }
   ],
   "source": [
    "# Confusion Matrix\n",
    "class_names = list(set(data['# label']))\n",
    "cm=confusion_matrix(y_test, y_pred_binary_bt)\n",
    "plt.figure(figsize=(6, 4))\n",
    "sns.heatmap(cm, annot=True, cmap='Blues', fmt='d', xticklabels=class_names, yticklabels=class_names)\n",
    "plt.xlabel('Predicted Labels')\n",
    "plt.ylabel('True Labels')\n",
    "plt.title('Confusion Matrix')\n",
    "plt.show()"
   ]
  },
  {
   "cell_type": "code",
   "execution_count": 35,
   "metadata": {
    "colab": {
     "base_uri": "https://localhost:8080/"
    },
    "id": "Hw1mnPyOYrb3",
    "outputId": "c99edb75-bd41-415d-d0cf-a84dfa98b5bb"
   },
   "outputs": [
    {
     "name": "stdout",
     "output_type": "stream",
     "text": [
      "Epoch 1/25\n",
      "4900/4900 - 25s - loss: 0.2991 - accuracy: 0.8612 - 25s/epoch - 5ms/step\n",
      "Epoch 2/25\n",
      "4900/4900 - 20s - loss: 0.2819 - accuracy: 0.8701 - 20s/epoch - 4ms/step\n",
      "Epoch 3/25\n",
      "4900/4900 - 19s - loss: 0.2766 - accuracy: 0.8737 - 19s/epoch - 4ms/step\n",
      "Epoch 4/25\n",
      "4900/4900 - 32s - loss: 0.2734 - accuracy: 0.8758 - 32s/epoch - 7ms/step\n",
      "Epoch 5/25\n",
      "4900/4900 - 23s - loss: 0.2717 - accuracy: 0.8768 - 23s/epoch - 5ms/step\n",
      "Epoch 6/25\n",
      "4900/4900 - 19s - loss: 0.2707 - accuracy: 0.8773 - 19s/epoch - 4ms/step\n",
      "Epoch 7/25\n",
      "4900/4900 - 19s - loss: 0.2699 - accuracy: 0.8779 - 19s/epoch - 4ms/step\n",
      "Epoch 8/25\n",
      "4900/4900 - 18s - loss: 0.2693 - accuracy: 0.8782 - 18s/epoch - 4ms/step\n",
      "Epoch 9/25\n",
      "4900/4900 - 17s - loss: 0.2689 - accuracy: 0.8784 - 17s/epoch - 4ms/step\n",
      "Epoch 10/25\n",
      "4900/4900 - 18s - loss: 0.2685 - accuracy: 0.8786 - 18s/epoch - 4ms/step\n",
      "Epoch 11/25\n",
      "4900/4900 - 20s - loss: 0.2682 - accuracy: 0.8788 - 20s/epoch - 4ms/step\n",
      "Epoch 12/25\n",
      "4900/4900 - 24s - loss: 0.2679 - accuracy: 0.8789 - 24s/epoch - 5ms/step\n",
      "Epoch 13/25\n",
      "4900/4900 - 24s - loss: 0.2677 - accuracy: 0.8791 - 24s/epoch - 5ms/step\n",
      "Epoch 14/25\n",
      "4900/4900 - 24s - loss: 0.2675 - accuracy: 0.8792 - 24s/epoch - 5ms/step\n",
      "Epoch 15/25\n",
      "4900/4900 - 21s - loss: 0.2673 - accuracy: 0.8794 - 21s/epoch - 4ms/step\n",
      "Epoch 16/25\n",
      "4900/4900 - 22s - loss: 0.2671 - accuracy: 0.8794 - 22s/epoch - 5ms/step\n",
      "Epoch 17/25\n",
      "4900/4900 - 20s - loss: 0.2670 - accuracy: 0.8795 - 20s/epoch - 4ms/step\n",
      "Epoch 18/25\n",
      "4900/4900 - 21s - loss: 0.2668 - accuracy: 0.8795 - 21s/epoch - 4ms/step\n",
      "Epoch 19/25\n",
      "4900/4900 - 20s - loss: 0.2666 - accuracy: 0.8796 - 20s/epoch - 4ms/step\n",
      "Epoch 20/25\n",
      "4900/4900 - 22s - loss: 0.2665 - accuracy: 0.8798 - 22s/epoch - 4ms/step\n",
      "Epoch 21/25\n",
      "4900/4900 - 21s - loss: 0.2665 - accuracy: 0.8797 - 21s/epoch - 4ms/step\n",
      "Epoch 22/25\n",
      "4900/4900 - 20s - loss: 0.2664 - accuracy: 0.8797 - 20s/epoch - 4ms/step\n",
      "Epoch 23/25\n",
      "4900/4900 - 23s - loss: 0.2663 - accuracy: 0.8800 - 23s/epoch - 5ms/step\n",
      "Epoch 24/25\n",
      "4900/4900 - 23s - loss: 0.2662 - accuracy: 0.8799 - 23s/epoch - 5ms/step\n",
      "Epoch 25/25\n",
      "4900/4900 - 25s - loss: 0.2661 - accuracy: 0.8799 - 25s/epoch - 5ms/step\n"
     ]
    },
    {
     "data": {
      "text/plain": [
       "<keras.callbacks.History at 0x20c89f39b20>"
      ]
     },
     "execution_count": 35,
     "metadata": {},
     "output_type": "execute_result"
    }
   ],
   "source": [
    "model_sc_changeNumLayers=tf.keras.Sequential()\n",
    "model_sc_changeNumLayers.add(layers.Dense(100,activation='relu'))\n",
    "model_sc_changeNumLayers.add(layers.Dense(20,activation='relu'))\n",
    "model_sc_changeNumLayers.add(layers.Dropout(.3))\n",
    "model_sc_changeNumLayers.add(layers.Dense(80,activation='relu'))\n",
    "model_sc_changeNumLayers.add(layers.Dense(1,activation='sigmoid'))\n",
    "\n",
    "model_sc_changeNumLayers.compile(optimizer=tf.keras.optimizers.Adam(),\n",
    "                loss=tf.keras.losses.binary_crossentropy,\n",
    "                 metrics=['accuracy'])\n",
    "\n",
    "model_sc_changeNumLayers.fit(X_train, y_train, epochs=25, batch_size=1000, verbose=2)"
   ]
  },
  {
   "cell_type": "code",
   "execution_count": 36,
   "metadata": {
    "colab": {
     "base_uri": "https://localhost:8080/"
    },
    "id": "r4O7YbGpbg_P",
    "outputId": "25c7dd87-3ad8-4675-e7da-cf2b4f690580"
   },
   "outputs": [
    {
     "name": "stdout",
     "output_type": "stream",
     "text": [
      "65625/65625 [==============================] - 79s 1ms/step\n"
     ]
    },
    {
     "data": {
      "text/plain": [
       "0.8749404761904762"
      ]
     },
     "execution_count": 36,
     "metadata": {},
     "output_type": "execute_result"
    }
   ],
   "source": [
    "y_pred_relu = model_sc_changeNumLayers.predict(X_test)\n",
    "y_pred_binary_relu = (y_pred_relu > 0.5).astype(int)\n",
    "accuracy_relu = accuracy_score(y_test, y_pred_binary_relu)\n",
    "accuracy_relu"
   ]
  },
  {
   "cell_type": "code",
   "execution_count": 37,
   "metadata": {},
   "outputs": [
    {
     "name": "stdout",
     "output_type": "stream",
     "text": [
      "              precision    recall  f1-score   support\n",
      "\n",
      "         0.0       0.94      0.80      0.87   1048432\n",
      "         1.0       0.83      0.95      0.88   1051568\n",
      "\n",
      "    accuracy                           0.87   2100000\n",
      "   macro avg       0.88      0.87      0.87   2100000\n",
      "weighted avg       0.88      0.87      0.87   2100000\n",
      "\n"
     ]
    }
   ],
   "source": [
    "print(classification_report(y_test, y_pred_binary_relu))"
   ]
  },
  {
   "cell_type": "code",
   "execution_count": 38,
   "metadata": {},
   "outputs": [
    {
     "data": {
      "image/png": "[encoded data removed]",
      "text/plain": [
       "<Figure size 600x400 with 2 Axes>"
      ]
     },
     "metadata": {},
     "output_type": "display_data"
    }
   ],
   "source": [
    "# Confusion Matrix\n",
    "class_names = list(set(data['# label']))\n",
    "cm=confusion_matrix(y_test, y_pred_binary_relu)\n",
    "plt.figure(figsize=(6, 4))\n",
    "sns.heatmap(cm, annot=True, cmap='Blues', fmt='d', xticklabels=class_names, yticklabels=class_names)\n",
    "plt.xlabel('Predicted Labels')\n",
    "plt.ylabel('True Labels')\n",
    "plt.title('Confusion Matrix')\n",
    "plt.show()"
   ]
  }
 ],
 "metadata": {
  "accelerator": "GPU",
  "colab": {
   "authorship_tag": "ABX9TyPIKehcFJq5u5xZ4eY8Nxpe",
   "gpuType": "T4",
   "provenance": []
  },
  "kernelspec": {
   "display_name": "Python 3 (ipykernel)",
   "language": "python",
   "name": "python3"
  },
  "language_info": {
   "codemirror_mode": {
    "name": "ipython",
    "version": 3
   },
   "file_extension": ".py",
   "mimetype": "text/x-python",
   "name": "python",
   "nbconvert_exporter": "python",
   "pygments_lexer": "ipython3",
   "version": "3.8.8"
  }
 },
 "nbformat": 4,
 "nbformat_minor": 1
}
