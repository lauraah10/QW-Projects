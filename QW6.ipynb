{
  "nbformat": 4,
  "nbformat_minor": 0,
  "metadata": {
    "colab": {
      "provenance": [],
      "gpuType": "T4",
      "authorship_tag": "ABX9TyOE3w7FMfjT4WM1JQ8oOiB8",
      "include_colab_link": true
    },
    "kernelspec": {
      "name": "python3",
      "display_name": "Python 3"
    },
    "language_info": {
      "name": "python"
    },
    "accelerator": "GPU"
  },
  "cells": [
    {
      "cell_type": "markdown",
      "metadata": {
        "id": "view-in-github",
        "colab_type": "text"
      },
      "source": [
        "<a href=\"https://colab.research.google.com/github/lauraah10/QW-Projects/blob/main/QW6.ipynb\" target=\"_parent\"><img src=\"https://colab.research.google.com/assets/colab-badge.svg\" alt=\"Open In Colab\"/></a>"
      ]
    },
    {
      "cell_type": "code",
      "execution_count": 1,
      "metadata": {
        "id": "D_DynwAF526a"
      },
      "outputs": [],
      "source": [
        "import numpy as np\n",
        "import pandas as pd\n",
        "import seaborn as sns\n",
        "import matplotlib.pyplot as plt\n",
        "from google.colab import drive"
      ]
    },
    {
      "cell_type": "code",
      "source": [
        "drive.mount('/content/drive/')"
      ],
      "metadata": {
        "colab": {
          "base_uri": "https://localhost:8080/"
        },
        "id": "8GUG-yWq56kM",
        "outputId": "7bcba468-b75a-4614-a0eb-742ad080a846"
      },
      "execution_count": 2,
      "outputs": [
        {
          "output_type": "stream",
          "name": "stdout",
          "text": [
            "Mounted at /content/drive/\n"
          ]
        }
      ]
    },
    {
      "cell_type": "code",
      "source": [
        "data = pd.read_csv('/content/drive/MyDrive/all_train.csv.gz', compression='gzip')"
      ],
      "metadata": {
        "id": "jV88L5BO5_M1"
      },
      "execution_count": 3,
      "outputs": []
    },
    {
      "cell_type": "code",
      "source": [
        "#Split Data\n",
        "from sklearn.model_selection import train_test_split\n",
        "y=data['# label']\n",
        "x=data.drop('# label', axis=1)\n",
        "X_train, X_test, y_train, y_test = train_test_split(x, y, test_size=0.3, random_state=42)"
      ],
      "metadata": {
        "id": "5zu27r6R7fMC"
      },
      "execution_count": 4,
      "outputs": []
    },
    {
      "cell_type": "code",
      "source": [
        "#Scale Data\n",
        "from sklearn.preprocessing import StandardScaler\n",
        "scaler=StandardScaler()\n",
        "scaler.fit(X_train)\n",
        "X_train=scaler.transform(X_train)\n",
        "X_test=scaler.transform(X_test)"
      ],
      "metadata": {
        "id": "87gp0K_w7jTW"
      },
      "execution_count": 5,
      "outputs": []
    },
    {
      "cell_type": "markdown",
      "source": [
        "# Model time"
      ],
      "metadata": {
        "id": "BGdPJHsGLfAd"
      }
    },
    {
      "cell_type": "markdown",
      "source": [
        "> 2 Dense layers with 1000 Epochs! and 500 batch_size"
      ],
      "metadata": {
        "id": "2nANCMEdDjyO"
      }
    },
    {
      "cell_type": "code",
      "source": [
        "import tensorflow as tf\n",
        "from tensorflow import keras\n",
        "from tensorflow.keras import layers\n",
        "from sklearn.metrics import accuracy_score"
      ],
      "metadata": {
        "id": "uIhgqiQy7rOC"
      },
      "execution_count": 6,
      "outputs": []
    },
    {
      "cell_type": "code",
      "source": [
        "model_sc=tf.keras.Sequential()\n",
        "model_sc.add(layers.Dense(100,activation='tanh'))\n",
        "model_sc.add(layers.Dropout(.3))\n",
        "model_sc.add(layers.Dense(1,activation='sigmoid'))\n",
        "\n",
        "model_sc.compile(optimizer=tf.keras.optimizers.Adam(),\n",
        "                loss=tf.keras.losses.binary_crossentropy,\n",
        "                 metrics=['accuracy'])"
      ],
      "metadata": {
        "id": "-g28weWJAiB6"
      },
      "execution_count": null,
      "outputs": []
    },
    {
      "cell_type": "code",
      "source": [
        "#Stopped half an hour later since accuracy was barely improving from 36-66\n",
        "model_sc.fit(X_train, y_train, epochs=1000, batch_size=500, verbose=2)"
      ],
      "metadata": {
        "id": "_2MT-AQ_A-yB",
        "colab": {
          "base_uri": "https://localhost:8080/",
          "height": 1000
        },
        "outputId": "298d937b-ff46-4df2-d752-050a2ba0aa3b"
      },
      "execution_count": null,
      "outputs": [
        {
          "output_type": "stream",
          "name": "stdout",
          "text": [
            "Epoch 1/1000\n",
            "9800/9800 - 31s - loss: 0.3317 - accuracy: 0.8453 - 31s/epoch - 3ms/step\n",
            "Epoch 2/1000\n",
            "9800/9800 - 33s - loss: 0.3110 - accuracy: 0.8543 - 33s/epoch - 3ms/step\n",
            "Epoch 3/1000\n",
            "9800/9800 - 25s - loss: 0.3074 - accuracy: 0.8560 - 25s/epoch - 3ms/step\n",
            "Epoch 4/1000\n",
            "9800/9800 - 32s - loss: 0.3057 - accuracy: 0.8568 - 32s/epoch - 3ms/step\n",
            "Epoch 5/1000\n",
            "9800/9800 - 24s - loss: 0.3044 - accuracy: 0.8577 - 24s/epoch - 2ms/step\n",
            "Epoch 6/1000\n",
            "9800/9800 - 28s - loss: 0.3034 - accuracy: 0.8581 - 28s/epoch - 3ms/step\n",
            "Epoch 7/1000\n",
            "9800/9800 - 28s - loss: 0.3029 - accuracy: 0.8584 - 28s/epoch - 3ms/step\n",
            "Epoch 8/1000\n",
            "9800/9800 - 26s - loss: 0.3024 - accuracy: 0.8587 - 26s/epoch - 3ms/step\n",
            "Epoch 9/1000\n",
            "9800/9800 - 27s - loss: 0.3020 - accuracy: 0.8588 - 27s/epoch - 3ms/step\n",
            "Epoch 10/1000\n",
            "9800/9800 - 30s - loss: 0.3018 - accuracy: 0.8589 - 30s/epoch - 3ms/step\n",
            "Epoch 11/1000\n",
            "9800/9800 - 34s - loss: 0.3017 - accuracy: 0.8591 - 34s/epoch - 3ms/step\n",
            "Epoch 12/1000\n",
            "9800/9800 - 28s - loss: 0.3014 - accuracy: 0.8593 - 28s/epoch - 3ms/step\n",
            "Epoch 13/1000\n",
            "9800/9800 - 25s - loss: 0.3013 - accuracy: 0.8592 - 25s/epoch - 3ms/step\n",
            "Epoch 14/1000\n",
            "9800/9800 - 26s - loss: 0.3011 - accuracy: 0.8594 - 26s/epoch - 3ms/step\n",
            "Epoch 15/1000\n",
            "9800/9800 - 25s - loss: 0.3010 - accuracy: 0.8594 - 25s/epoch - 3ms/step\n",
            "Epoch 16/1000\n",
            "9800/9800 - 23s - loss: 0.3010 - accuracy: 0.8594 - 23s/epoch - 2ms/step\n",
            "Epoch 17/1000\n",
            "9800/9800 - 26s - loss: 0.3008 - accuracy: 0.8596 - 26s/epoch - 3ms/step\n",
            "Epoch 18/1000\n",
            "9800/9800 - 24s - loss: 0.3007 - accuracy: 0.8597 - 24s/epoch - 2ms/step\n",
            "Epoch 19/1000\n",
            "9800/9800 - 22s - loss: 0.3006 - accuracy: 0.8597 - 22s/epoch - 2ms/step\n",
            "Epoch 20/1000\n",
            "9800/9800 - 23s - loss: 0.3007 - accuracy: 0.8597 - 23s/epoch - 2ms/step\n",
            "Epoch 21/1000\n",
            "9800/9800 - 23s - loss: 0.3006 - accuracy: 0.8597 - 23s/epoch - 2ms/step\n",
            "Epoch 22/1000\n",
            "9800/9800 - 23s - loss: 0.3005 - accuracy: 0.8598 - 23s/epoch - 2ms/step\n",
            "Epoch 23/1000\n",
            "9800/9800 - 30s - loss: 0.3004 - accuracy: 0.8598 - 30s/epoch - 3ms/step\n",
            "Epoch 24/1000\n",
            "9800/9800 - 33s - loss: 0.3005 - accuracy: 0.8598 - 33s/epoch - 3ms/step\n",
            "Epoch 25/1000\n",
            "9800/9800 - 35s - loss: 0.3003 - accuracy: 0.8599 - 35s/epoch - 4ms/step\n",
            "Epoch 26/1000\n",
            "9800/9800 - 31s - loss: 0.3004 - accuracy: 0.8599 - 31s/epoch - 3ms/step\n",
            "Epoch 27/1000\n",
            "9800/9800 - 31s - loss: 0.3003 - accuracy: 0.8600 - 31s/epoch - 3ms/step\n",
            "Epoch 28/1000\n",
            "9800/9800 - 34s - loss: 0.3003 - accuracy: 0.8598 - 34s/epoch - 3ms/step\n",
            "Epoch 29/1000\n",
            "9800/9800 - 24s - loss: 0.3002 - accuracy: 0.8599 - 24s/epoch - 2ms/step\n",
            "Epoch 30/1000\n",
            "9800/9800 - 24s - loss: 0.3004 - accuracy: 0.8600 - 24s/epoch - 2ms/step\n",
            "Epoch 31/1000\n",
            "9800/9800 - 25s - loss: 0.3002 - accuracy: 0.8600 - 25s/epoch - 3ms/step\n",
            "Epoch 32/1000\n",
            "9800/9800 - 23s - loss: 0.3003 - accuracy: 0.8599 - 23s/epoch - 2ms/step\n",
            "Epoch 33/1000\n",
            "9800/9800 - 23s - loss: 0.3001 - accuracy: 0.8600 - 23s/epoch - 2ms/step\n",
            "Epoch 34/1000\n",
            "9800/9800 - 25s - loss: 0.3002 - accuracy: 0.8601 - 25s/epoch - 3ms/step\n",
            "Epoch 35/1000\n",
            "9800/9800 - 37s - loss: 0.3001 - accuracy: 0.8602 - 37s/epoch - 4ms/step\n",
            "Epoch 36/1000\n",
            "9800/9800 - 31s - loss: 0.3001 - accuracy: 0.8600 - 31s/epoch - 3ms/step\n",
            "Epoch 37/1000\n",
            "9800/9800 - 28s - loss: 0.3001 - accuracy: 0.8601 - 28s/epoch - 3ms/step\n",
            "Epoch 38/1000\n",
            "9800/9800 - 25s - loss: 0.3000 - accuracy: 0.8603 - 25s/epoch - 3ms/step\n",
            "Epoch 39/1000\n",
            "9800/9800 - 23s - loss: 0.2999 - accuracy: 0.8603 - 23s/epoch - 2ms/step\n",
            "Epoch 40/1000\n",
            "9800/9800 - 26s - loss: 0.3000 - accuracy: 0.8603 - 26s/epoch - 3ms/step\n",
            "Epoch 41/1000\n",
            "9800/9800 - 23s - loss: 0.3000 - accuracy: 0.8602 - 23s/epoch - 2ms/step\n",
            "Epoch 42/1000\n",
            "9800/9800 - 25s - loss: 0.2999 - accuracy: 0.8603 - 25s/epoch - 3ms/step\n",
            "Epoch 43/1000\n",
            "9800/9800 - 24s - loss: 0.3000 - accuracy: 0.8603 - 24s/epoch - 2ms/step\n",
            "Epoch 44/1000\n",
            "9800/9800 - 30s - loss: 0.3000 - accuracy: 0.8604 - 30s/epoch - 3ms/step\n",
            "Epoch 45/1000\n",
            "9800/9800 - 23s - loss: 0.2999 - accuracy: 0.8603 - 23s/epoch - 2ms/step\n",
            "Epoch 46/1000\n",
            "9800/9800 - 24s - loss: 0.3000 - accuracy: 0.8602 - 24s/epoch - 2ms/step\n",
            "Epoch 47/1000\n",
            "9800/9800 - 22s - loss: 0.3000 - accuracy: 0.8603 - 22s/epoch - 2ms/step\n",
            "Epoch 48/1000\n",
            "9800/9800 - 23s - loss: 0.3000 - accuracy: 0.8602 - 23s/epoch - 2ms/step\n",
            "Epoch 49/1000\n",
            "9800/9800 - 23s - loss: 0.3000 - accuracy: 0.8603 - 23s/epoch - 2ms/step\n",
            "Epoch 50/1000\n",
            "9800/9800 - 23s - loss: 0.3000 - accuracy: 0.8602 - 23s/epoch - 2ms/step\n",
            "Epoch 51/1000\n",
            "9800/9800 - 23s - loss: 0.2997 - accuracy: 0.8604 - 23s/epoch - 2ms/step\n",
            "Epoch 52/1000\n",
            "9800/9800 - 25s - loss: 0.2998 - accuracy: 0.8605 - 25s/epoch - 3ms/step\n",
            "Epoch 53/1000\n",
            "9800/9800 - 27s - loss: 0.3000 - accuracy: 0.8603 - 27s/epoch - 3ms/step\n",
            "Epoch 54/1000\n",
            "9800/9800 - 26s - loss: 0.2999 - accuracy: 0.8603 - 26s/epoch - 3ms/step\n",
            "Epoch 55/1000\n",
            "9800/9800 - 26s - loss: 0.2999 - accuracy: 0.8603 - 26s/epoch - 3ms/step\n",
            "Epoch 56/1000\n",
            "9800/9800 - 23s - loss: 0.2999 - accuracy: 0.8605 - 23s/epoch - 2ms/step\n",
            "Epoch 57/1000\n",
            "9800/9800 - 22s - loss: 0.3000 - accuracy: 0.8602 - 22s/epoch - 2ms/step\n",
            "Epoch 58/1000\n",
            "9800/9800 - 32s - loss: 0.2997 - accuracy: 0.8604 - 32s/epoch - 3ms/step\n",
            "Epoch 59/1000\n",
            "9800/9800 - 32s - loss: 0.2997 - accuracy: 0.8605 - 32s/epoch - 3ms/step\n",
            "Epoch 60/1000\n",
            "9800/9800 - 23s - loss: 0.2997 - accuracy: 0.8603 - 23s/epoch - 2ms/step\n",
            "Epoch 61/1000\n",
            "9800/9800 - 23s - loss: 0.2998 - accuracy: 0.8604 - 23s/epoch - 2ms/step\n",
            "Epoch 62/1000\n",
            "9800/9800 - 23s - loss: 0.2998 - accuracy: 0.8604 - 23s/epoch - 2ms/step\n",
            "Epoch 63/1000\n",
            "9800/9800 - 23s - loss: 0.2998 - accuracy: 0.8604 - 23s/epoch - 2ms/step\n",
            "Epoch 64/1000\n",
            "9800/9800 - 28s - loss: 0.2999 - accuracy: 0.8602 - 28s/epoch - 3ms/step\n",
            "Epoch 65/1000\n",
            "9800/9800 - 23s - loss: 0.2997 - accuracy: 0.8604 - 23s/epoch - 2ms/step\n",
            "Epoch 66/1000\n"
          ]
        },
        {
          "output_type": "error",
          "ename": "KeyboardInterrupt",
          "evalue": "ignored",
          "traceback": [
            "\u001b[0;31m---------------------------------------------------------------------------\u001b[0m",
            "\u001b[0;31mKeyboardInterrupt\u001b[0m                         Traceback (most recent call last)",
            "\u001b[0;32m<ipython-input-8-27997bdbaf14>\u001b[0m in \u001b[0;36m<cell line: 1>\u001b[0;34m()\u001b[0m\n\u001b[0;32m----> 1\u001b[0;31m \u001b[0mmodel_sc\u001b[0m\u001b[0;34m.\u001b[0m\u001b[0mfit\u001b[0m\u001b[0;34m(\u001b[0m\u001b[0mX_train\u001b[0m\u001b[0;34m,\u001b[0m \u001b[0my_train\u001b[0m\u001b[0;34m,\u001b[0m \u001b[0mepochs\u001b[0m\u001b[0;34m=\u001b[0m\u001b[0;36m1000\u001b[0m\u001b[0;34m,\u001b[0m \u001b[0mbatch_size\u001b[0m\u001b[0;34m=\u001b[0m\u001b[0;36m500\u001b[0m\u001b[0;34m,\u001b[0m \u001b[0mverbose\u001b[0m\u001b[0;34m=\u001b[0m\u001b[0;36m2\u001b[0m\u001b[0;34m)\u001b[0m\u001b[0;34m\u001b[0m\u001b[0;34m\u001b[0m\u001b[0m\n\u001b[0m",
            "\u001b[0;32m/usr/local/lib/python3.10/dist-packages/keras/src/utils/traceback_utils.py\u001b[0m in \u001b[0;36merror_handler\u001b[0;34m(*args, **kwargs)\u001b[0m\n\u001b[1;32m     63\u001b[0m         \u001b[0mfiltered_tb\u001b[0m \u001b[0;34m=\u001b[0m \u001b[0;32mNone\u001b[0m\u001b[0;34m\u001b[0m\u001b[0;34m\u001b[0m\u001b[0m\n\u001b[1;32m     64\u001b[0m         \u001b[0;32mtry\u001b[0m\u001b[0;34m:\u001b[0m\u001b[0;34m\u001b[0m\u001b[0;34m\u001b[0m\u001b[0m\n\u001b[0;32m---> 65\u001b[0;31m             \u001b[0;32mreturn\u001b[0m \u001b[0mfn\u001b[0m\u001b[0;34m(\u001b[0m\u001b[0;34m*\u001b[0m\u001b[0margs\u001b[0m\u001b[0;34m,\u001b[0m \u001b[0;34m**\u001b[0m\u001b[0mkwargs\u001b[0m\u001b[0;34m)\u001b[0m\u001b[0;34m\u001b[0m\u001b[0;34m\u001b[0m\u001b[0m\n\u001b[0m\u001b[1;32m     66\u001b[0m         \u001b[0;32mexcept\u001b[0m \u001b[0mException\u001b[0m \u001b[0;32mas\u001b[0m \u001b[0me\u001b[0m\u001b[0;34m:\u001b[0m\u001b[0;34m\u001b[0m\u001b[0;34m\u001b[0m\u001b[0m\n\u001b[1;32m     67\u001b[0m             \u001b[0mfiltered_tb\u001b[0m \u001b[0;34m=\u001b[0m \u001b[0m_process_traceback_frames\u001b[0m\u001b[0;34m(\u001b[0m\u001b[0me\u001b[0m\u001b[0;34m.\u001b[0m\u001b[0m__traceback__\u001b[0m\u001b[0;34m)\u001b[0m\u001b[0;34m\u001b[0m\u001b[0;34m\u001b[0m\u001b[0m\n",
            "\u001b[0;32m/usr/local/lib/python3.10/dist-packages/keras/src/engine/training.py\u001b[0m in \u001b[0;36mfit\u001b[0;34m(self, x, y, batch_size, epochs, verbose, callbacks, validation_split, validation_data, shuffle, class_weight, sample_weight, initial_epoch, steps_per_epoch, validation_steps, validation_batch_size, validation_freq, max_queue_size, workers, use_multiprocessing)\u001b[0m\n\u001b[1;32m   1781\u001b[0m                         ):\n\u001b[1;32m   1782\u001b[0m                             \u001b[0mcallbacks\u001b[0m\u001b[0;34m.\u001b[0m\u001b[0mon_train_batch_begin\u001b[0m\u001b[0;34m(\u001b[0m\u001b[0mstep\u001b[0m\u001b[0;34m)\u001b[0m\u001b[0;34m\u001b[0m\u001b[0;34m\u001b[0m\u001b[0m\n\u001b[0;32m-> 1783\u001b[0;31m                             \u001b[0mtmp_logs\u001b[0m \u001b[0;34m=\u001b[0m \u001b[0mself\u001b[0m\u001b[0;34m.\u001b[0m\u001b[0mtrain_function\u001b[0m\u001b[0;34m(\u001b[0m\u001b[0miterator\u001b[0m\u001b[0;34m)\u001b[0m\u001b[0;34m\u001b[0m\u001b[0;34m\u001b[0m\u001b[0m\n\u001b[0m\u001b[1;32m   1784\u001b[0m                             \u001b[0;32mif\u001b[0m \u001b[0mdata_handler\u001b[0m\u001b[0;34m.\u001b[0m\u001b[0mshould_sync\u001b[0m\u001b[0;34m:\u001b[0m\u001b[0;34m\u001b[0m\u001b[0;34m\u001b[0m\u001b[0m\n\u001b[1;32m   1785\u001b[0m                                 \u001b[0mcontext\u001b[0m\u001b[0;34m.\u001b[0m\u001b[0masync_wait\u001b[0m\u001b[0;34m(\u001b[0m\u001b[0;34m)\u001b[0m\u001b[0;34m\u001b[0m\u001b[0;34m\u001b[0m\u001b[0m\n",
            "\u001b[0;32m/usr/local/lib/python3.10/dist-packages/tensorflow/python/util/traceback_utils.py\u001b[0m in \u001b[0;36merror_handler\u001b[0;34m(*args, **kwargs)\u001b[0m\n\u001b[1;32m    148\u001b[0m     \u001b[0mfiltered_tb\u001b[0m \u001b[0;34m=\u001b[0m \u001b[0;32mNone\u001b[0m\u001b[0;34m\u001b[0m\u001b[0;34m\u001b[0m\u001b[0m\n\u001b[1;32m    149\u001b[0m     \u001b[0;32mtry\u001b[0m\u001b[0;34m:\u001b[0m\u001b[0;34m\u001b[0m\u001b[0;34m\u001b[0m\u001b[0m\n\u001b[0;32m--> 150\u001b[0;31m       \u001b[0;32mreturn\u001b[0m \u001b[0mfn\u001b[0m\u001b[0;34m(\u001b[0m\u001b[0;34m*\u001b[0m\u001b[0margs\u001b[0m\u001b[0;34m,\u001b[0m \u001b[0;34m**\u001b[0m\u001b[0mkwargs\u001b[0m\u001b[0;34m)\u001b[0m\u001b[0;34m\u001b[0m\u001b[0;34m\u001b[0m\u001b[0m\n\u001b[0m\u001b[1;32m    151\u001b[0m     \u001b[0;32mexcept\u001b[0m \u001b[0mException\u001b[0m \u001b[0;32mas\u001b[0m \u001b[0me\u001b[0m\u001b[0;34m:\u001b[0m\u001b[0;34m\u001b[0m\u001b[0;34m\u001b[0m\u001b[0m\n\u001b[1;32m    152\u001b[0m       \u001b[0mfiltered_tb\u001b[0m \u001b[0;34m=\u001b[0m \u001b[0m_process_traceback_frames\u001b[0m\u001b[0;34m(\u001b[0m\u001b[0me\u001b[0m\u001b[0;34m.\u001b[0m\u001b[0m__traceback__\u001b[0m\u001b[0;34m)\u001b[0m\u001b[0;34m\u001b[0m\u001b[0;34m\u001b[0m\u001b[0m\n",
            "\u001b[0;32m/usr/local/lib/python3.10/dist-packages/tensorflow/python/eager/polymorphic_function/polymorphic_function.py\u001b[0m in \u001b[0;36m__call__\u001b[0;34m(self, *args, **kwds)\u001b[0m\n\u001b[1;32m    829\u001b[0m \u001b[0;34m\u001b[0m\u001b[0m\n\u001b[1;32m    830\u001b[0m       \u001b[0;32mwith\u001b[0m \u001b[0mOptionalXlaContext\u001b[0m\u001b[0;34m(\u001b[0m\u001b[0mself\u001b[0m\u001b[0;34m.\u001b[0m\u001b[0m_jit_compile\u001b[0m\u001b[0;34m)\u001b[0m\u001b[0;34m:\u001b[0m\u001b[0;34m\u001b[0m\u001b[0;34m\u001b[0m\u001b[0m\n\u001b[0;32m--> 831\u001b[0;31m         \u001b[0mresult\u001b[0m \u001b[0;34m=\u001b[0m \u001b[0mself\u001b[0m\u001b[0;34m.\u001b[0m\u001b[0m_call\u001b[0m\u001b[0;34m(\u001b[0m\u001b[0;34m*\u001b[0m\u001b[0margs\u001b[0m\u001b[0;34m,\u001b[0m \u001b[0;34m**\u001b[0m\u001b[0mkwds\u001b[0m\u001b[0;34m)\u001b[0m\u001b[0;34m\u001b[0m\u001b[0;34m\u001b[0m\u001b[0m\n\u001b[0m\u001b[1;32m    832\u001b[0m \u001b[0;34m\u001b[0m\u001b[0m\n\u001b[1;32m    833\u001b[0m       \u001b[0mnew_tracing_count\u001b[0m \u001b[0;34m=\u001b[0m \u001b[0mself\u001b[0m\u001b[0;34m.\u001b[0m\u001b[0mexperimental_get_tracing_count\u001b[0m\u001b[0;34m(\u001b[0m\u001b[0;34m)\u001b[0m\u001b[0;34m\u001b[0m\u001b[0;34m\u001b[0m\u001b[0m\n",
            "\u001b[0;32m/usr/local/lib/python3.10/dist-packages/tensorflow/python/eager/polymorphic_function/polymorphic_function.py\u001b[0m in \u001b[0;36m_call\u001b[0;34m(self, *args, **kwds)\u001b[0m\n\u001b[1;32m    865\u001b[0m       \u001b[0;31m# In this case we have created variables on the first call, so we run the\u001b[0m\u001b[0;34m\u001b[0m\u001b[0;34m\u001b[0m\u001b[0m\n\u001b[1;32m    866\u001b[0m       \u001b[0;31m# defunned version which is guaranteed to never create variables.\u001b[0m\u001b[0;34m\u001b[0m\u001b[0;34m\u001b[0m\u001b[0m\n\u001b[0;32m--> 867\u001b[0;31m       return tracing_compilation.call_function(\n\u001b[0m\u001b[1;32m    868\u001b[0m           \u001b[0margs\u001b[0m\u001b[0;34m,\u001b[0m \u001b[0mkwds\u001b[0m\u001b[0;34m,\u001b[0m \u001b[0mself\u001b[0m\u001b[0;34m.\u001b[0m\u001b[0m_no_variable_creation_config\u001b[0m\u001b[0;34m\u001b[0m\u001b[0;34m\u001b[0m\u001b[0m\n\u001b[1;32m    869\u001b[0m       )\n",
            "\u001b[0;32m/usr/local/lib/python3.10/dist-packages/tensorflow/python/eager/polymorphic_function/tracing_compilation.py\u001b[0m in \u001b[0;36mcall_function\u001b[0;34m(args, kwargs, tracing_options)\u001b[0m\n\u001b[1;32m    137\u001b[0m   \u001b[0mbound_args\u001b[0m \u001b[0;34m=\u001b[0m \u001b[0mfunction\u001b[0m\u001b[0;34m.\u001b[0m\u001b[0mfunction_type\u001b[0m\u001b[0;34m.\u001b[0m\u001b[0mbind\u001b[0m\u001b[0;34m(\u001b[0m\u001b[0;34m*\u001b[0m\u001b[0margs\u001b[0m\u001b[0;34m,\u001b[0m \u001b[0;34m**\u001b[0m\u001b[0mkwargs\u001b[0m\u001b[0;34m)\u001b[0m\u001b[0;34m\u001b[0m\u001b[0;34m\u001b[0m\u001b[0m\n\u001b[1;32m    138\u001b[0m   \u001b[0mflat_inputs\u001b[0m \u001b[0;34m=\u001b[0m \u001b[0mfunction\u001b[0m\u001b[0;34m.\u001b[0m\u001b[0mfunction_type\u001b[0m\u001b[0;34m.\u001b[0m\u001b[0munpack_inputs\u001b[0m\u001b[0;34m(\u001b[0m\u001b[0mbound_args\u001b[0m\u001b[0;34m)\u001b[0m\u001b[0;34m\u001b[0m\u001b[0;34m\u001b[0m\u001b[0m\n\u001b[0;32m--> 139\u001b[0;31m   return function._call_flat(  # pylint: disable=protected-access\n\u001b[0m\u001b[1;32m    140\u001b[0m       \u001b[0mflat_inputs\u001b[0m\u001b[0;34m,\u001b[0m \u001b[0mcaptured_inputs\u001b[0m\u001b[0;34m=\u001b[0m\u001b[0mfunction\u001b[0m\u001b[0;34m.\u001b[0m\u001b[0mcaptured_inputs\u001b[0m\u001b[0;34m\u001b[0m\u001b[0;34m\u001b[0m\u001b[0m\n\u001b[1;32m    141\u001b[0m   )\n",
            "\u001b[0;32m/usr/local/lib/python3.10/dist-packages/tensorflow/python/eager/polymorphic_function/concrete_function.py\u001b[0m in \u001b[0;36m_call_flat\u001b[0;34m(self, tensor_inputs, captured_inputs)\u001b[0m\n\u001b[1;32m   1262\u001b[0m         and executing_eagerly):\n\u001b[1;32m   1263\u001b[0m       \u001b[0;31m# No tape is watching; skip to running the function.\u001b[0m\u001b[0;34m\u001b[0m\u001b[0;34m\u001b[0m\u001b[0m\n\u001b[0;32m-> 1264\u001b[0;31m       \u001b[0;32mreturn\u001b[0m \u001b[0mself\u001b[0m\u001b[0;34m.\u001b[0m\u001b[0m_inference_function\u001b[0m\u001b[0;34m.\u001b[0m\u001b[0mflat_call\u001b[0m\u001b[0;34m(\u001b[0m\u001b[0margs\u001b[0m\u001b[0;34m)\u001b[0m\u001b[0;34m\u001b[0m\u001b[0;34m\u001b[0m\u001b[0m\n\u001b[0m\u001b[1;32m   1265\u001b[0m     forward_backward = self._select_forward_and_backward_functions(\n\u001b[1;32m   1266\u001b[0m         \u001b[0margs\u001b[0m\u001b[0;34m,\u001b[0m\u001b[0;34m\u001b[0m\u001b[0;34m\u001b[0m\u001b[0m\n",
            "\u001b[0;32m/usr/local/lib/python3.10/dist-packages/tensorflow/python/eager/polymorphic_function/atomic_function.py\u001b[0m in \u001b[0;36mflat_call\u001b[0;34m(self, args)\u001b[0m\n\u001b[1;32m    215\u001b[0m   \u001b[0;32mdef\u001b[0m \u001b[0mflat_call\u001b[0m\u001b[0;34m(\u001b[0m\u001b[0mself\u001b[0m\u001b[0;34m,\u001b[0m \u001b[0margs\u001b[0m\u001b[0;34m:\u001b[0m \u001b[0mSequence\u001b[0m\u001b[0;34m[\u001b[0m\u001b[0mcore\u001b[0m\u001b[0;34m.\u001b[0m\u001b[0mTensor\u001b[0m\u001b[0;34m]\u001b[0m\u001b[0;34m)\u001b[0m \u001b[0;34m->\u001b[0m \u001b[0mAny\u001b[0m\u001b[0;34m:\u001b[0m\u001b[0;34m\u001b[0m\u001b[0;34m\u001b[0m\u001b[0m\n\u001b[1;32m    216\u001b[0m     \u001b[0;34m\"\"\"Calls with tensor inputs and returns the structured output.\"\"\"\u001b[0m\u001b[0;34m\u001b[0m\u001b[0;34m\u001b[0m\u001b[0m\n\u001b[0;32m--> 217\u001b[0;31m     \u001b[0mflat_outputs\u001b[0m \u001b[0;34m=\u001b[0m \u001b[0mself\u001b[0m\u001b[0;34m(\u001b[0m\u001b[0;34m*\u001b[0m\u001b[0margs\u001b[0m\u001b[0;34m)\u001b[0m\u001b[0;34m\u001b[0m\u001b[0;34m\u001b[0m\u001b[0m\n\u001b[0m\u001b[1;32m    218\u001b[0m     \u001b[0;32mreturn\u001b[0m \u001b[0mself\u001b[0m\u001b[0;34m.\u001b[0m\u001b[0mfunction_type\u001b[0m\u001b[0;34m.\u001b[0m\u001b[0mpack_output\u001b[0m\u001b[0;34m(\u001b[0m\u001b[0mflat_outputs\u001b[0m\u001b[0;34m)\u001b[0m\u001b[0;34m\u001b[0m\u001b[0;34m\u001b[0m\u001b[0m\n\u001b[1;32m    219\u001b[0m \u001b[0;34m\u001b[0m\u001b[0m\n",
            "\u001b[0;32m/usr/local/lib/python3.10/dist-packages/tensorflow/python/eager/polymorphic_function/atomic_function.py\u001b[0m in \u001b[0;36m__call__\u001b[0;34m(self, *args)\u001b[0m\n\u001b[1;32m    250\u001b[0m         \u001b[0;32mwith\u001b[0m \u001b[0mrecord\u001b[0m\u001b[0;34m.\u001b[0m\u001b[0mstop_recording\u001b[0m\u001b[0;34m(\u001b[0m\u001b[0;34m)\u001b[0m\u001b[0;34m:\u001b[0m\u001b[0;34m\u001b[0m\u001b[0;34m\u001b[0m\u001b[0m\n\u001b[1;32m    251\u001b[0m           \u001b[0;32mif\u001b[0m \u001b[0mself\u001b[0m\u001b[0;34m.\u001b[0m\u001b[0m_bound_context\u001b[0m\u001b[0;34m.\u001b[0m\u001b[0mexecuting_eagerly\u001b[0m\u001b[0;34m(\u001b[0m\u001b[0;34m)\u001b[0m\u001b[0;34m:\u001b[0m\u001b[0;34m\u001b[0m\u001b[0;34m\u001b[0m\u001b[0m\n\u001b[0;32m--> 252\u001b[0;31m             outputs = self._bound_context.call_function(\n\u001b[0m\u001b[1;32m    253\u001b[0m                 \u001b[0mself\u001b[0m\u001b[0;34m.\u001b[0m\u001b[0mname\u001b[0m\u001b[0;34m,\u001b[0m\u001b[0;34m\u001b[0m\u001b[0;34m\u001b[0m\u001b[0m\n\u001b[1;32m    254\u001b[0m                 \u001b[0mlist\u001b[0m\u001b[0;34m(\u001b[0m\u001b[0margs\u001b[0m\u001b[0;34m)\u001b[0m\u001b[0;34m,\u001b[0m\u001b[0;34m\u001b[0m\u001b[0;34m\u001b[0m\u001b[0m\n",
            "\u001b[0;32m/usr/local/lib/python3.10/dist-packages/tensorflow/python/eager/context.py\u001b[0m in \u001b[0;36mcall_function\u001b[0;34m(self, name, tensor_inputs, num_outputs)\u001b[0m\n\u001b[1;32m   1477\u001b[0m     \u001b[0mcancellation_context\u001b[0m \u001b[0;34m=\u001b[0m \u001b[0mcancellation\u001b[0m\u001b[0;34m.\u001b[0m\u001b[0mcontext\u001b[0m\u001b[0;34m(\u001b[0m\u001b[0;34m)\u001b[0m\u001b[0;34m\u001b[0m\u001b[0;34m\u001b[0m\u001b[0m\n\u001b[1;32m   1478\u001b[0m     \u001b[0;32mif\u001b[0m \u001b[0mcancellation_context\u001b[0m \u001b[0;32mis\u001b[0m \u001b[0;32mNone\u001b[0m\u001b[0;34m:\u001b[0m\u001b[0;34m\u001b[0m\u001b[0;34m\u001b[0m\u001b[0m\n\u001b[0;32m-> 1479\u001b[0;31m       outputs = execute.execute(\n\u001b[0m\u001b[1;32m   1480\u001b[0m           \u001b[0mname\u001b[0m\u001b[0;34m.\u001b[0m\u001b[0mdecode\u001b[0m\u001b[0;34m(\u001b[0m\u001b[0;34m\"utf-8\"\u001b[0m\u001b[0;34m)\u001b[0m\u001b[0;34m,\u001b[0m\u001b[0;34m\u001b[0m\u001b[0;34m\u001b[0m\u001b[0m\n\u001b[1;32m   1481\u001b[0m           \u001b[0mnum_outputs\u001b[0m\u001b[0;34m=\u001b[0m\u001b[0mnum_outputs\u001b[0m\u001b[0;34m,\u001b[0m\u001b[0;34m\u001b[0m\u001b[0;34m\u001b[0m\u001b[0m\n",
            "\u001b[0;32m/usr/local/lib/python3.10/dist-packages/tensorflow/python/eager/execute.py\u001b[0m in \u001b[0;36mquick_execute\u001b[0;34m(op_name, num_outputs, inputs, attrs, ctx, name)\u001b[0m\n\u001b[1;32m     58\u001b[0m         \u001b[0;32mfor\u001b[0m \u001b[0mt\u001b[0m \u001b[0;32min\u001b[0m \u001b[0minputs\u001b[0m\u001b[0;34m\u001b[0m\u001b[0;34m\u001b[0m\u001b[0m\n\u001b[1;32m     59\u001b[0m     ]\n\u001b[0;32m---> 60\u001b[0;31m     tensors = pywrap_tfe.TFE_Py_Execute(ctx._handle, device_name, op_name,\n\u001b[0m\u001b[1;32m     61\u001b[0m                                         inputs, attrs, num_outputs)\n\u001b[1;32m     62\u001b[0m   \u001b[0;32mexcept\u001b[0m \u001b[0mcore\u001b[0m\u001b[0;34m.\u001b[0m\u001b[0m_NotOkStatusException\u001b[0m \u001b[0;32mas\u001b[0m \u001b[0me\u001b[0m\u001b[0;34m:\u001b[0m\u001b[0;34m\u001b[0m\u001b[0;34m\u001b[0m\u001b[0m\n",
            "\u001b[0;31mKeyboardInterrupt\u001b[0m: "
          ]
        }
      ]
    },
    {
      "cell_type": "code",
      "source": [
        "y_pred = model_sc.predict(X_test)\n",
        "y_pred_binary = (y_pred > 0.5).astype(int)\n",
        "accuracy = accuracy_score(y_test, y_pred_binary)\n"
      ],
      "metadata": {
        "colab": {
          "base_uri": "https://localhost:8080/"
        },
        "id": "V8bQOhvSDT_x",
        "outputId": "ae6d81ac-224f-4f67-92cb-2150cac411b0"
      },
      "execution_count": null,
      "outputs": [
        {
          "output_type": "stream",
          "name": "stdout",
          "text": [
            "65625/65625 [==============================] - 111s 2ms/step\n"
          ]
        }
      ]
    },
    {
      "cell_type": "code",
      "source": [
        "accuracy"
      ],
      "metadata": {
        "colab": {
          "base_uri": "https://localhost:8080/"
        },
        "id": "431Y4_q-ILKW",
        "outputId": "f6dd84ee-803c-4c71-8fb0-724d077df434"
      },
      "execution_count": null,
      "outputs": [
        {
          "output_type": "execute_result",
          "data": {
            "text/plain": [
              "0.8679138095238095"
            ]
          },
          "metadata": {},
          "execution_count": 10
        }
      ]
    },
    {
      "cell_type": "markdown",
      "source": [
        "> Providing validation data to stop early lower batch size"
      ],
      "metadata": {
        "id": "9av9_M8qIMcn"
      }
    },
    {
      "cell_type": "code",
      "source": [
        "X_val, X_test, y_val, y_test = train_test_split(X_test, y_test, test_size=0.90, random_state=42)"
      ],
      "metadata": {
        "id": "pc0Laz6qIY_f"
      },
      "execution_count": 25,
      "outputs": []
    },
    {
      "cell_type": "code",
      "source": [
        "from tensorflow.keras.callbacks import EarlyStopping\n",
        "safety=EarlyStopping(monitor=\"val_loss\",patience=1,min_delta=0.001,mode='auto',restore_best_weights=True)\n",
        "\n",
        "model_scStopEarly=tf.keras.Sequential()\n",
        "model_scStopEarly.add(layers.Dense(100,activation='tanh'))\n",
        "model_scStopEarly.add(layers.Dropout(.3))\n",
        "model_scStopEarly.add(layers.Dense(1,activation='sigmoid'))\n",
        "\n",
        "model_scStopEarly.compile(optimizer=tf.keras.optimizers.Adam(),\n",
        "                loss=tf.keras.losses.binary_crossentropy,\n",
        "                 metrics=['accuracy'])\n",
        "\n",
        "model_scStopEarly.fit(X_train, y_train, epochs=1000, validation_data=(X_val,y_val),batch_size=20, callbacks=[safety])"
      ],
      "metadata": {
        "id": "rbIOHFo_FJqs",
        "colab": {
          "base_uri": "https://localhost:8080/"
        },
        "outputId": "8ef0137a-e451-41bb-f6b8-a6c297fea82e"
      },
      "execution_count": 31,
      "outputs": [
        {
          "output_type": "stream",
          "name": "stdout",
          "text": [
            "Epoch 1/1000\n",
            "245000/245000 [==============================] - 725s 3ms/step - loss: 0.3146 - accuracy: 0.8526 - val_loss: 0.3040 - val_accuracy: 0.8560\n",
            "Epoch 2/1000\n",
            "245000/245000 [==============================] - 708s 3ms/step - loss: 0.3059 - accuracy: 0.8570 - val_loss: 0.2966 - val_accuracy: 0.8621\n",
            "Epoch 3/1000\n",
            "245000/245000 [==============================] - 714s 3ms/step - loss: 0.3043 - accuracy: 0.8577 - val_loss: 0.2958 - val_accuracy: 0.8628\n"
          ]
        },
        {
          "output_type": "execute_result",
          "data": {
            "text/plain": [
              "<keras.src.callbacks.History at 0x7feb39ab4eb0>"
            ]
          },
          "metadata": {},
          "execution_count": 31
        }
      ]
    },
    {
      "cell_type": "code",
      "source": [
        "y_pred = model_scStopEarly.predict(X_test)\n",
        "y_pred_binary = (y_pred > 0.5).astype(int)\n",
        "accuracy = accuracy_score(y_test, y_pred_binary)\n"
      ],
      "metadata": {
        "colab": {
          "base_uri": "https://localhost:8080/"
        },
        "id": "wTVdkbESqEjS",
        "outputId": "4d35f453-fdc7-4917-a851-9735e9f7f8cb"
      },
      "execution_count": 32,
      "outputs": [
        {
          "output_type": "stream",
          "name": "stdout",
          "text": [
            "5907/5907 [==============================] - 11s 2ms/step\n"
          ]
        }
      ]
    },
    {
      "cell_type": "code",
      "source": [
        "accuracy"
      ],
      "metadata": {
        "colab": {
          "base_uri": "https://localhost:8080/"
        },
        "id": "fedjlzrPrAbD",
        "outputId": "d91a739d-756b-415d-b998-4dc5b5937603"
      },
      "execution_count": 33,
      "outputs": [
        {
          "output_type": "execute_result",
          "data": {
            "text/plain": [
              "0.8660476190476191"
            ]
          },
          "metadata": {},
          "execution_count": 33
        }
      ]
    },
    {
      "cell_type": "markdown",
      "source": [
        "> More dense layers"
      ],
      "metadata": {
        "id": "HGHsLVNgDass"
      }
    },
    {
      "cell_type": "code",
      "source": [
        "#Stopped at 84 epochs since scores were no increasing\n",
        "model_sc_moreLayers=tf.keras.Sequential()\n",
        "model_sc_moreLayers.add(layers.Dense(100,activation='tanh'))\n",
        "model_sc_moreLayers.add(layers.Dropout(.3))\n",
        "model_sc_moreLayers.add(layers.Dense(50,activation='relu'))\n",
        "model_sc_moreLayers.add(layers.Dropout(.3))\n",
        "model_sc_moreLayers.add(layers.Dense(30,activation='tanh'))\n",
        "model_sc_moreLayers.add(layers.Dropout(.3))\n",
        "model_sc_moreLayers.add(layers.Dense(1,activation='sigmoid'))\n",
        "\n",
        "model_sc_moreLayers.compile(optimizer=tf.keras.optimizers.Adam(),\n",
        "                loss=tf.keras.losses.binary_crossentropy,\n",
        "                 metrics=['accuracy'])\n",
        "\n",
        "model_sc_moreLayers.fit(X_train, y_train, epochs=100, batch_size=500, verbose=2)"
      ],
      "metadata": {
        "colab": {
          "base_uri": "https://localhost:8080/",
          "height": 1000
        },
        "id": "S3HVJKOoDNVa",
        "outputId": "8af1f5b3-db28-4b61-cc38-9a56ea31a920"
      },
      "execution_count": null,
      "outputs": [
        {
          "output_type": "stream",
          "name": "stdout",
          "text": [
            "Epoch 1/100\n",
            "9800/9800 - 33s - loss: 0.3149 - accuracy: 0.8539 - 33s/epoch - 3ms/step\n",
            "Epoch 2/100\n",
            "9800/9800 - 29s - loss: 0.3021 - accuracy: 0.8609 - 29s/epoch - 3ms/step\n",
            "Epoch 3/100\n",
            "9800/9800 - 28s - loss: 0.2989 - accuracy: 0.8630 - 28s/epoch - 3ms/step\n",
            "Epoch 4/100\n",
            "9800/9800 - 29s - loss: 0.2974 - accuracy: 0.8639 - 29s/epoch - 3ms/step\n",
            "Epoch 5/100\n",
            "9800/9800 - 30s - loss: 0.2962 - accuracy: 0.8646 - 30s/epoch - 3ms/step\n",
            "Epoch 6/100\n",
            "9800/9800 - 29s - loss: 0.2954 - accuracy: 0.8651 - 29s/epoch - 3ms/step\n",
            "Epoch 7/100\n",
            "9800/9800 - 29s - loss: 0.2947 - accuracy: 0.8655 - 29s/epoch - 3ms/step\n",
            "Epoch 8/100\n",
            "9800/9800 - 30s - loss: 0.2941 - accuracy: 0.8659 - 30s/epoch - 3ms/step\n",
            "Epoch 9/100\n",
            "9800/9800 - 28s - loss: 0.2935 - accuracy: 0.8664 - 28s/epoch - 3ms/step\n",
            "Epoch 10/100\n",
            "9800/9800 - 28s - loss: 0.2933 - accuracy: 0.8665 - 28s/epoch - 3ms/step\n",
            "Epoch 11/100\n",
            "9800/9800 - 28s - loss: 0.2929 - accuracy: 0.8667 - 28s/epoch - 3ms/step\n",
            "Epoch 12/100\n",
            "9800/9800 - 30s - loss: 0.2927 - accuracy: 0.8668 - 30s/epoch - 3ms/step\n",
            "Epoch 13/100\n",
            "9800/9800 - 29s - loss: 0.2923 - accuracy: 0.8672 - 29s/epoch - 3ms/step\n",
            "Epoch 14/100\n",
            "9800/9800 - 28s - loss: 0.2924 - accuracy: 0.8672 - 28s/epoch - 3ms/step\n",
            "Epoch 15/100\n",
            "9800/9800 - 28s - loss: 0.2921 - accuracy: 0.8671 - 28s/epoch - 3ms/step\n",
            "Epoch 16/100\n",
            "9800/9800 - 29s - loss: 0.2918 - accuracy: 0.8674 - 29s/epoch - 3ms/step\n",
            "Epoch 17/100\n",
            "9800/9800 - 28s - loss: 0.2917 - accuracy: 0.8674 - 28s/epoch - 3ms/step\n",
            "Epoch 18/100\n",
            "9800/9800 - 29s - loss: 0.2915 - accuracy: 0.8676 - 29s/epoch - 3ms/step\n",
            "Epoch 19/100\n",
            "9800/9800 - 29s - loss: 0.2914 - accuracy: 0.8676 - 29s/epoch - 3ms/step\n",
            "Epoch 20/100\n",
            "9800/9800 - 29s - loss: 0.2913 - accuracy: 0.8678 - 29s/epoch - 3ms/step\n",
            "Epoch 21/100\n",
            "9800/9800 - 29s - loss: 0.2912 - accuracy: 0.8678 - 29s/epoch - 3ms/step\n",
            "Epoch 22/100\n",
            "9800/9800 - 28s - loss: 0.2911 - accuracy: 0.8678 - 28s/epoch - 3ms/step\n",
            "Epoch 23/100\n",
            "9800/9800 - 28s - loss: 0.2911 - accuracy: 0.8679 - 28s/epoch - 3ms/step\n",
            "Epoch 24/100\n",
            "9800/9800 - 28s - loss: 0.2912 - accuracy: 0.8679 - 28s/epoch - 3ms/step\n",
            "Epoch 25/100\n",
            "9800/9800 - 30s - loss: 0.2911 - accuracy: 0.8679 - 30s/epoch - 3ms/step\n",
            "Epoch 26/100\n",
            "9800/9800 - 28s - loss: 0.2910 - accuracy: 0.8680 - 28s/epoch - 3ms/step\n",
            "Epoch 27/100\n",
            "9800/9800 - 29s - loss: 0.2908 - accuracy: 0.8680 - 29s/epoch - 3ms/step\n",
            "Epoch 28/100\n",
            "9800/9800 - 29s - loss: 0.2909 - accuracy: 0.8681 - 29s/epoch - 3ms/step\n",
            "Epoch 29/100\n",
            "9800/9800 - 28s - loss: 0.2908 - accuracy: 0.8682 - 28s/epoch - 3ms/step\n",
            "Epoch 30/100\n",
            "9800/9800 - 28s - loss: 0.2908 - accuracy: 0.8681 - 28s/epoch - 3ms/step\n",
            "Epoch 31/100\n",
            "9800/9800 - 29s - loss: 0.2906 - accuracy: 0.8682 - 29s/epoch - 3ms/step\n",
            "Epoch 32/100\n",
            "9800/9800 - 29s - loss: 0.2906 - accuracy: 0.8682 - 29s/epoch - 3ms/step\n",
            "Epoch 33/100\n",
            "9800/9800 - 28s - loss: 0.2906 - accuracy: 0.8681 - 28s/epoch - 3ms/step\n",
            "Epoch 34/100\n",
            "9800/9800 - 28s - loss: 0.2905 - accuracy: 0.8683 - 28s/epoch - 3ms/step\n",
            "Epoch 35/100\n",
            "9800/9800 - 28s - loss: 0.2905 - accuracy: 0.8683 - 28s/epoch - 3ms/step\n",
            "Epoch 36/100\n",
            "9800/9800 - 29s - loss: 0.2905 - accuracy: 0.8683 - 29s/epoch - 3ms/step\n",
            "Epoch 37/100\n",
            "9800/9800 - 29s - loss: 0.2904 - accuracy: 0.8684 - 29s/epoch - 3ms/step\n",
            "Epoch 38/100\n",
            "9800/9800 - 29s - loss: 0.2904 - accuracy: 0.8683 - 29s/epoch - 3ms/step\n",
            "Epoch 39/100\n",
            "9800/9800 - 29s - loss: 0.2904 - accuracy: 0.8683 - 29s/epoch - 3ms/step\n",
            "Epoch 40/100\n",
            "9800/9800 - 29s - loss: 0.2904 - accuracy: 0.8684 - 29s/epoch - 3ms/step\n",
            "Epoch 41/100\n",
            "9800/9800 - 28s - loss: 0.2902 - accuracy: 0.8685 - 28s/epoch - 3ms/step\n",
            "Epoch 42/100\n",
            "9800/9800 - 29s - loss: 0.2904 - accuracy: 0.8683 - 29s/epoch - 3ms/step\n",
            "Epoch 43/100\n",
            "9800/9800 - 29s - loss: 0.2904 - accuracy: 0.8683 - 29s/epoch - 3ms/step\n",
            "Epoch 44/100\n",
            "9800/9800 - 30s - loss: 0.2902 - accuracy: 0.8685 - 30s/epoch - 3ms/step\n",
            "Epoch 45/100\n",
            "9800/9800 - 28s - loss: 0.2904 - accuracy: 0.8685 - 28s/epoch - 3ms/step\n",
            "Epoch 46/100\n",
            "9800/9800 - 28s - loss: 0.2904 - accuracy: 0.8685 - 28s/epoch - 3ms/step\n",
            "Epoch 47/100\n",
            "9800/9800 - 28s - loss: 0.2904 - accuracy: 0.8684 - 28s/epoch - 3ms/step\n",
            "Epoch 48/100\n",
            "9800/9800 - 30s - loss: 0.2903 - accuracy: 0.8685 - 30s/epoch - 3ms/step\n",
            "Epoch 49/100\n",
            "9800/9800 - 28s - loss: 0.2902 - accuracy: 0.8685 - 28s/epoch - 3ms/step\n",
            "Epoch 50/100\n",
            "9800/9800 - 29s - loss: 0.2903 - accuracy: 0.8684 - 29s/epoch - 3ms/step\n",
            "Epoch 51/100\n",
            "9800/9800 - 28s - loss: 0.2902 - accuracy: 0.8685 - 28s/epoch - 3ms/step\n",
            "Epoch 52/100\n",
            "9800/9800 - 29s - loss: 0.2902 - accuracy: 0.8685 - 29s/epoch - 3ms/step\n",
            "Epoch 53/100\n",
            "9800/9800 - 29s - loss: 0.2903 - accuracy: 0.8685 - 29s/epoch - 3ms/step\n",
            "Epoch 54/100\n",
            "9800/9800 - 28s - loss: 0.2902 - accuracy: 0.8685 - 28s/epoch - 3ms/step\n",
            "Epoch 55/100\n",
            "9800/9800 - 28s - loss: 0.2902 - accuracy: 0.8685 - 28s/epoch - 3ms/step\n",
            "Epoch 56/100\n",
            "9800/9800 - 29s - loss: 0.2902 - accuracy: 0.8686 - 29s/epoch - 3ms/step\n",
            "Epoch 57/100\n",
            "9800/9800 - 29s - loss: 0.2901 - accuracy: 0.8687 - 29s/epoch - 3ms/step\n",
            "Epoch 58/100\n",
            "9800/9800 - 28s - loss: 0.2900 - accuracy: 0.8686 - 28s/epoch - 3ms/step\n",
            "Epoch 59/100\n",
            "9800/9800 - 28s - loss: 0.2903 - accuracy: 0.8685 - 28s/epoch - 3ms/step\n",
            "Epoch 60/100\n",
            "9800/9800 - 29s - loss: 0.2901 - accuracy: 0.8687 - 29s/epoch - 3ms/step\n",
            "Epoch 61/100\n",
            "9800/9800 - 28s - loss: 0.2902 - accuracy: 0.8686 - 28s/epoch - 3ms/step\n",
            "Epoch 62/100\n",
            "9800/9800 - 29s - loss: 0.2901 - accuracy: 0.8686 - 29s/epoch - 3ms/step\n",
            "Epoch 63/100\n",
            "9800/9800 - 28s - loss: 0.2901 - accuracy: 0.8687 - 28s/epoch - 3ms/step\n",
            "Epoch 64/100\n",
            "9800/9800 - 29s - loss: 0.2902 - accuracy: 0.8686 - 29s/epoch - 3ms/step\n",
            "Epoch 65/100\n",
            "9800/9800 - 29s - loss: 0.2901 - accuracy: 0.8687 - 29s/epoch - 3ms/step\n",
            "Epoch 66/100\n",
            "9800/9800 - 28s - loss: 0.2900 - accuracy: 0.8686 - 28s/epoch - 3ms/step\n",
            "Epoch 67/100\n",
            "9800/9800 - 28s - loss: 0.2901 - accuracy: 0.8687 - 28s/epoch - 3ms/step\n",
            "Epoch 68/100\n",
            "9800/9800 - 30s - loss: 0.2901 - accuracy: 0.8688 - 30s/epoch - 3ms/step\n",
            "Epoch 69/100\n",
            "9800/9800 - 28s - loss: 0.2900 - accuracy: 0.8687 - 28s/epoch - 3ms/step\n",
            "Epoch 70/100\n",
            "9800/9800 - 28s - loss: 0.2900 - accuracy: 0.8686 - 28s/epoch - 3ms/step\n",
            "Epoch 71/100\n",
            "9800/9800 - 29s - loss: 0.2901 - accuracy: 0.8687 - 29s/epoch - 3ms/step\n",
            "Epoch 72/100\n",
            "9800/9800 - 29s - loss: 0.2900 - accuracy: 0.8688 - 29s/epoch - 3ms/step\n",
            "Epoch 73/100\n",
            "9800/9800 - 28s - loss: 0.2900 - accuracy: 0.8688 - 28s/epoch - 3ms/step\n",
            "Epoch 74/100\n",
            "9800/9800 - 29s - loss: 0.2900 - accuracy: 0.8688 - 29s/epoch - 3ms/step\n",
            "Epoch 75/100\n",
            "9800/9800 - 28s - loss: 0.2900 - accuracy: 0.8688 - 28s/epoch - 3ms/step\n",
            "Epoch 76/100\n",
            "9800/9800 - 29s - loss: 0.2901 - accuracy: 0.8687 - 29s/epoch - 3ms/step\n",
            "Epoch 77/100\n",
            "9800/9800 - 28s - loss: 0.2901 - accuracy: 0.8687 - 28s/epoch - 3ms/step\n",
            "Epoch 78/100\n",
            "9800/9800 - 28s - loss: 0.2901 - accuracy: 0.8687 - 28s/epoch - 3ms/step\n",
            "Epoch 79/100\n",
            "9800/9800 - 28s - loss: 0.2899 - accuracy: 0.8688 - 28s/epoch - 3ms/step\n",
            "Epoch 80/100\n",
            "9800/9800 - 30s - loss: 0.2900 - accuracy: 0.8688 - 30s/epoch - 3ms/step\n",
            "Epoch 81/100\n",
            "9800/9800 - 28s - loss: 0.2901 - accuracy: 0.8688 - 28s/epoch - 3ms/step\n",
            "Epoch 82/100\n",
            "9800/9800 - 28s - loss: 0.2901 - accuracy: 0.8687 - 28s/epoch - 3ms/step\n",
            "Epoch 83/100\n",
            "9800/9800 - 28s - loss: 0.2900 - accuracy: 0.8688 - 28s/epoch - 3ms/step\n",
            "Epoch 84/100\n"
          ]
        },
        {
          "output_type": "error",
          "ename": "KeyboardInterrupt",
          "evalue": "ignored",
          "traceback": [
            "\u001b[0;31m---------------------------------------------------------------------------\u001b[0m",
            "\u001b[0;31mKeyboardInterrupt\u001b[0m                         Traceback (most recent call last)",
            "\u001b[0;32m<ipython-input-11-67d50321601f>\u001b[0m in \u001b[0;36m<cell line: 14>\u001b[0;34m()\u001b[0m\n\u001b[1;32m     12\u001b[0m                  metrics=['accuracy'])\n\u001b[1;32m     13\u001b[0m \u001b[0;34m\u001b[0m\u001b[0m\n\u001b[0;32m---> 14\u001b[0;31m \u001b[0mmodel_sc_moreLayers\u001b[0m\u001b[0;34m.\u001b[0m\u001b[0mfit\u001b[0m\u001b[0;34m(\u001b[0m\u001b[0mX_train\u001b[0m\u001b[0;34m,\u001b[0m \u001b[0my_train\u001b[0m\u001b[0;34m,\u001b[0m \u001b[0mepochs\u001b[0m\u001b[0;34m=\u001b[0m\u001b[0;36m100\u001b[0m\u001b[0;34m,\u001b[0m \u001b[0mbatch_size\u001b[0m\u001b[0;34m=\u001b[0m\u001b[0;36m500\u001b[0m\u001b[0;34m,\u001b[0m \u001b[0mverbose\u001b[0m\u001b[0;34m=\u001b[0m\u001b[0;36m2\u001b[0m\u001b[0;34m)\u001b[0m\u001b[0;34m\u001b[0m\u001b[0;34m\u001b[0m\u001b[0m\n\u001b[0m",
            "\u001b[0;32m/usr/local/lib/python3.10/dist-packages/keras/src/utils/traceback_utils.py\u001b[0m in \u001b[0;36merror_handler\u001b[0;34m(*args, **kwargs)\u001b[0m\n\u001b[1;32m     63\u001b[0m         \u001b[0mfiltered_tb\u001b[0m \u001b[0;34m=\u001b[0m \u001b[0;32mNone\u001b[0m\u001b[0;34m\u001b[0m\u001b[0;34m\u001b[0m\u001b[0m\n\u001b[1;32m     64\u001b[0m         \u001b[0;32mtry\u001b[0m\u001b[0;34m:\u001b[0m\u001b[0;34m\u001b[0m\u001b[0;34m\u001b[0m\u001b[0m\n\u001b[0;32m---> 65\u001b[0;31m             \u001b[0;32mreturn\u001b[0m \u001b[0mfn\u001b[0m\u001b[0;34m(\u001b[0m\u001b[0;34m*\u001b[0m\u001b[0margs\u001b[0m\u001b[0;34m,\u001b[0m \u001b[0;34m**\u001b[0m\u001b[0mkwargs\u001b[0m\u001b[0;34m)\u001b[0m\u001b[0;34m\u001b[0m\u001b[0;34m\u001b[0m\u001b[0m\n\u001b[0m\u001b[1;32m     66\u001b[0m         \u001b[0;32mexcept\u001b[0m \u001b[0mException\u001b[0m \u001b[0;32mas\u001b[0m \u001b[0me\u001b[0m\u001b[0;34m:\u001b[0m\u001b[0;34m\u001b[0m\u001b[0;34m\u001b[0m\u001b[0m\n\u001b[1;32m     67\u001b[0m             \u001b[0mfiltered_tb\u001b[0m \u001b[0;34m=\u001b[0m \u001b[0m_process_traceback_frames\u001b[0m\u001b[0;34m(\u001b[0m\u001b[0me\u001b[0m\u001b[0;34m.\u001b[0m\u001b[0m__traceback__\u001b[0m\u001b[0;34m)\u001b[0m\u001b[0;34m\u001b[0m\u001b[0;34m\u001b[0m\u001b[0m\n",
            "\u001b[0;32m/usr/local/lib/python3.10/dist-packages/keras/src/engine/training.py\u001b[0m in \u001b[0;36mfit\u001b[0;34m(self, x, y, batch_size, epochs, verbose, callbacks, validation_split, validation_data, shuffle, class_weight, sample_weight, initial_epoch, steps_per_epoch, validation_steps, validation_batch_size, validation_freq, max_queue_size, workers, use_multiprocessing)\u001b[0m\n\u001b[1;32m   1781\u001b[0m                         ):\n\u001b[1;32m   1782\u001b[0m                             \u001b[0mcallbacks\u001b[0m\u001b[0;34m.\u001b[0m\u001b[0mon_train_batch_begin\u001b[0m\u001b[0;34m(\u001b[0m\u001b[0mstep\u001b[0m\u001b[0;34m)\u001b[0m\u001b[0;34m\u001b[0m\u001b[0;34m\u001b[0m\u001b[0m\n\u001b[0;32m-> 1783\u001b[0;31m                             \u001b[0mtmp_logs\u001b[0m \u001b[0;34m=\u001b[0m \u001b[0mself\u001b[0m\u001b[0;34m.\u001b[0m\u001b[0mtrain_function\u001b[0m\u001b[0;34m(\u001b[0m\u001b[0miterator\u001b[0m\u001b[0;34m)\u001b[0m\u001b[0;34m\u001b[0m\u001b[0;34m\u001b[0m\u001b[0m\n\u001b[0m\u001b[1;32m   1784\u001b[0m                             \u001b[0;32mif\u001b[0m \u001b[0mdata_handler\u001b[0m\u001b[0;34m.\u001b[0m\u001b[0mshould_sync\u001b[0m\u001b[0;34m:\u001b[0m\u001b[0;34m\u001b[0m\u001b[0;34m\u001b[0m\u001b[0m\n\u001b[1;32m   1785\u001b[0m                                 \u001b[0mcontext\u001b[0m\u001b[0;34m.\u001b[0m\u001b[0masync_wait\u001b[0m\u001b[0;34m(\u001b[0m\u001b[0;34m)\u001b[0m\u001b[0;34m\u001b[0m\u001b[0;34m\u001b[0m\u001b[0m\n",
            "\u001b[0;32m/usr/local/lib/python3.10/dist-packages/tensorflow/python/util/traceback_utils.py\u001b[0m in \u001b[0;36merror_handler\u001b[0;34m(*args, **kwargs)\u001b[0m\n\u001b[1;32m    148\u001b[0m     \u001b[0mfiltered_tb\u001b[0m \u001b[0;34m=\u001b[0m \u001b[0;32mNone\u001b[0m\u001b[0;34m\u001b[0m\u001b[0;34m\u001b[0m\u001b[0m\n\u001b[1;32m    149\u001b[0m     \u001b[0;32mtry\u001b[0m\u001b[0;34m:\u001b[0m\u001b[0;34m\u001b[0m\u001b[0;34m\u001b[0m\u001b[0m\n\u001b[0;32m--> 150\u001b[0;31m       \u001b[0;32mreturn\u001b[0m \u001b[0mfn\u001b[0m\u001b[0;34m(\u001b[0m\u001b[0;34m*\u001b[0m\u001b[0margs\u001b[0m\u001b[0;34m,\u001b[0m \u001b[0;34m**\u001b[0m\u001b[0mkwargs\u001b[0m\u001b[0;34m)\u001b[0m\u001b[0;34m\u001b[0m\u001b[0;34m\u001b[0m\u001b[0m\n\u001b[0m\u001b[1;32m    151\u001b[0m     \u001b[0;32mexcept\u001b[0m \u001b[0mException\u001b[0m \u001b[0;32mas\u001b[0m \u001b[0me\u001b[0m\u001b[0;34m:\u001b[0m\u001b[0;34m\u001b[0m\u001b[0;34m\u001b[0m\u001b[0m\n\u001b[1;32m    152\u001b[0m       \u001b[0mfiltered_tb\u001b[0m \u001b[0;34m=\u001b[0m \u001b[0m_process_traceback_frames\u001b[0m\u001b[0;34m(\u001b[0m\u001b[0me\u001b[0m\u001b[0;34m.\u001b[0m\u001b[0m__traceback__\u001b[0m\u001b[0;34m)\u001b[0m\u001b[0;34m\u001b[0m\u001b[0;34m\u001b[0m\u001b[0m\n",
            "\u001b[0;32m/usr/local/lib/python3.10/dist-packages/tensorflow/python/eager/polymorphic_function/polymorphic_function.py\u001b[0m in \u001b[0;36m__call__\u001b[0;34m(self, *args, **kwds)\u001b[0m\n\u001b[1;32m    829\u001b[0m \u001b[0;34m\u001b[0m\u001b[0m\n\u001b[1;32m    830\u001b[0m       \u001b[0;32mwith\u001b[0m \u001b[0mOptionalXlaContext\u001b[0m\u001b[0;34m(\u001b[0m\u001b[0mself\u001b[0m\u001b[0;34m.\u001b[0m\u001b[0m_jit_compile\u001b[0m\u001b[0;34m)\u001b[0m\u001b[0;34m:\u001b[0m\u001b[0;34m\u001b[0m\u001b[0;34m\u001b[0m\u001b[0m\n\u001b[0;32m--> 831\u001b[0;31m         \u001b[0mresult\u001b[0m \u001b[0;34m=\u001b[0m \u001b[0mself\u001b[0m\u001b[0;34m.\u001b[0m\u001b[0m_call\u001b[0m\u001b[0;34m(\u001b[0m\u001b[0;34m*\u001b[0m\u001b[0margs\u001b[0m\u001b[0;34m,\u001b[0m \u001b[0;34m**\u001b[0m\u001b[0mkwds\u001b[0m\u001b[0;34m)\u001b[0m\u001b[0;34m\u001b[0m\u001b[0;34m\u001b[0m\u001b[0m\n\u001b[0m\u001b[1;32m    832\u001b[0m \u001b[0;34m\u001b[0m\u001b[0m\n\u001b[1;32m    833\u001b[0m       \u001b[0mnew_tracing_count\u001b[0m \u001b[0;34m=\u001b[0m \u001b[0mself\u001b[0m\u001b[0;34m.\u001b[0m\u001b[0mexperimental_get_tracing_count\u001b[0m\u001b[0;34m(\u001b[0m\u001b[0;34m)\u001b[0m\u001b[0;34m\u001b[0m\u001b[0;34m\u001b[0m\u001b[0m\n",
            "\u001b[0;32m/usr/local/lib/python3.10/dist-packages/tensorflow/python/eager/polymorphic_function/polymorphic_function.py\u001b[0m in \u001b[0;36m_call\u001b[0;34m(self, *args, **kwds)\u001b[0m\n\u001b[1;32m    865\u001b[0m       \u001b[0;31m# In this case we have created variables on the first call, so we run the\u001b[0m\u001b[0;34m\u001b[0m\u001b[0;34m\u001b[0m\u001b[0m\n\u001b[1;32m    866\u001b[0m       \u001b[0;31m# defunned version which is guaranteed to never create variables.\u001b[0m\u001b[0;34m\u001b[0m\u001b[0;34m\u001b[0m\u001b[0m\n\u001b[0;32m--> 867\u001b[0;31m       return tracing_compilation.call_function(\n\u001b[0m\u001b[1;32m    868\u001b[0m           \u001b[0margs\u001b[0m\u001b[0;34m,\u001b[0m \u001b[0mkwds\u001b[0m\u001b[0;34m,\u001b[0m \u001b[0mself\u001b[0m\u001b[0;34m.\u001b[0m\u001b[0m_no_variable_creation_config\u001b[0m\u001b[0;34m\u001b[0m\u001b[0;34m\u001b[0m\u001b[0m\n\u001b[1;32m    869\u001b[0m       )\n",
            "\u001b[0;32m/usr/local/lib/python3.10/dist-packages/tensorflow/python/eager/polymorphic_function/tracing_compilation.py\u001b[0m in \u001b[0;36mcall_function\u001b[0;34m(args, kwargs, tracing_options)\u001b[0m\n\u001b[1;32m    137\u001b[0m   \u001b[0mbound_args\u001b[0m \u001b[0;34m=\u001b[0m \u001b[0mfunction\u001b[0m\u001b[0;34m.\u001b[0m\u001b[0mfunction_type\u001b[0m\u001b[0;34m.\u001b[0m\u001b[0mbind\u001b[0m\u001b[0;34m(\u001b[0m\u001b[0;34m*\u001b[0m\u001b[0margs\u001b[0m\u001b[0;34m,\u001b[0m \u001b[0;34m**\u001b[0m\u001b[0mkwargs\u001b[0m\u001b[0;34m)\u001b[0m\u001b[0;34m\u001b[0m\u001b[0;34m\u001b[0m\u001b[0m\n\u001b[1;32m    138\u001b[0m   \u001b[0mflat_inputs\u001b[0m \u001b[0;34m=\u001b[0m \u001b[0mfunction\u001b[0m\u001b[0;34m.\u001b[0m\u001b[0mfunction_type\u001b[0m\u001b[0;34m.\u001b[0m\u001b[0munpack_inputs\u001b[0m\u001b[0;34m(\u001b[0m\u001b[0mbound_args\u001b[0m\u001b[0;34m)\u001b[0m\u001b[0;34m\u001b[0m\u001b[0;34m\u001b[0m\u001b[0m\n\u001b[0;32m--> 139\u001b[0;31m   return function._call_flat(  # pylint: disable=protected-access\n\u001b[0m\u001b[1;32m    140\u001b[0m       \u001b[0mflat_inputs\u001b[0m\u001b[0;34m,\u001b[0m \u001b[0mcaptured_inputs\u001b[0m\u001b[0;34m=\u001b[0m\u001b[0mfunction\u001b[0m\u001b[0;34m.\u001b[0m\u001b[0mcaptured_inputs\u001b[0m\u001b[0;34m\u001b[0m\u001b[0;34m\u001b[0m\u001b[0m\n\u001b[1;32m    141\u001b[0m   )\n",
            "\u001b[0;32m/usr/local/lib/python3.10/dist-packages/tensorflow/python/eager/polymorphic_function/concrete_function.py\u001b[0m in \u001b[0;36m_call_flat\u001b[0;34m(self, tensor_inputs, captured_inputs)\u001b[0m\n\u001b[1;32m   1262\u001b[0m         and executing_eagerly):\n\u001b[1;32m   1263\u001b[0m       \u001b[0;31m# No tape is watching; skip to running the function.\u001b[0m\u001b[0;34m\u001b[0m\u001b[0;34m\u001b[0m\u001b[0m\n\u001b[0;32m-> 1264\u001b[0;31m       \u001b[0;32mreturn\u001b[0m \u001b[0mself\u001b[0m\u001b[0;34m.\u001b[0m\u001b[0m_inference_function\u001b[0m\u001b[0;34m.\u001b[0m\u001b[0mflat_call\u001b[0m\u001b[0;34m(\u001b[0m\u001b[0margs\u001b[0m\u001b[0;34m)\u001b[0m\u001b[0;34m\u001b[0m\u001b[0;34m\u001b[0m\u001b[0m\n\u001b[0m\u001b[1;32m   1265\u001b[0m     forward_backward = self._select_forward_and_backward_functions(\n\u001b[1;32m   1266\u001b[0m         \u001b[0margs\u001b[0m\u001b[0;34m,\u001b[0m\u001b[0;34m\u001b[0m\u001b[0;34m\u001b[0m\u001b[0m\n",
            "\u001b[0;32m/usr/local/lib/python3.10/dist-packages/tensorflow/python/eager/polymorphic_function/atomic_function.py\u001b[0m in \u001b[0;36mflat_call\u001b[0;34m(self, args)\u001b[0m\n\u001b[1;32m    215\u001b[0m   \u001b[0;32mdef\u001b[0m \u001b[0mflat_call\u001b[0m\u001b[0;34m(\u001b[0m\u001b[0mself\u001b[0m\u001b[0;34m,\u001b[0m \u001b[0margs\u001b[0m\u001b[0;34m:\u001b[0m \u001b[0mSequence\u001b[0m\u001b[0;34m[\u001b[0m\u001b[0mcore\u001b[0m\u001b[0;34m.\u001b[0m\u001b[0mTensor\u001b[0m\u001b[0;34m]\u001b[0m\u001b[0;34m)\u001b[0m \u001b[0;34m->\u001b[0m \u001b[0mAny\u001b[0m\u001b[0;34m:\u001b[0m\u001b[0;34m\u001b[0m\u001b[0;34m\u001b[0m\u001b[0m\n\u001b[1;32m    216\u001b[0m     \u001b[0;34m\"\"\"Calls with tensor inputs and returns the structured output.\"\"\"\u001b[0m\u001b[0;34m\u001b[0m\u001b[0;34m\u001b[0m\u001b[0m\n\u001b[0;32m--> 217\u001b[0;31m     \u001b[0mflat_outputs\u001b[0m \u001b[0;34m=\u001b[0m \u001b[0mself\u001b[0m\u001b[0;34m(\u001b[0m\u001b[0;34m*\u001b[0m\u001b[0margs\u001b[0m\u001b[0;34m)\u001b[0m\u001b[0;34m\u001b[0m\u001b[0;34m\u001b[0m\u001b[0m\n\u001b[0m\u001b[1;32m    218\u001b[0m     \u001b[0;32mreturn\u001b[0m \u001b[0mself\u001b[0m\u001b[0;34m.\u001b[0m\u001b[0mfunction_type\u001b[0m\u001b[0;34m.\u001b[0m\u001b[0mpack_output\u001b[0m\u001b[0;34m(\u001b[0m\u001b[0mflat_outputs\u001b[0m\u001b[0;34m)\u001b[0m\u001b[0;34m\u001b[0m\u001b[0;34m\u001b[0m\u001b[0m\n\u001b[1;32m    219\u001b[0m \u001b[0;34m\u001b[0m\u001b[0m\n",
            "\u001b[0;32m/usr/local/lib/python3.10/dist-packages/tensorflow/python/eager/polymorphic_function/atomic_function.py\u001b[0m in \u001b[0;36m__call__\u001b[0;34m(self, *args)\u001b[0m\n\u001b[1;32m    250\u001b[0m         \u001b[0;32mwith\u001b[0m \u001b[0mrecord\u001b[0m\u001b[0;34m.\u001b[0m\u001b[0mstop_recording\u001b[0m\u001b[0;34m(\u001b[0m\u001b[0;34m)\u001b[0m\u001b[0;34m:\u001b[0m\u001b[0;34m\u001b[0m\u001b[0;34m\u001b[0m\u001b[0m\n\u001b[1;32m    251\u001b[0m           \u001b[0;32mif\u001b[0m \u001b[0mself\u001b[0m\u001b[0;34m.\u001b[0m\u001b[0m_bound_context\u001b[0m\u001b[0;34m.\u001b[0m\u001b[0mexecuting_eagerly\u001b[0m\u001b[0;34m(\u001b[0m\u001b[0;34m)\u001b[0m\u001b[0;34m:\u001b[0m\u001b[0;34m\u001b[0m\u001b[0;34m\u001b[0m\u001b[0m\n\u001b[0;32m--> 252\u001b[0;31m             outputs = self._bound_context.call_function(\n\u001b[0m\u001b[1;32m    253\u001b[0m                 \u001b[0mself\u001b[0m\u001b[0;34m.\u001b[0m\u001b[0mname\u001b[0m\u001b[0;34m,\u001b[0m\u001b[0;34m\u001b[0m\u001b[0;34m\u001b[0m\u001b[0m\n\u001b[1;32m    254\u001b[0m                 \u001b[0mlist\u001b[0m\u001b[0;34m(\u001b[0m\u001b[0margs\u001b[0m\u001b[0;34m)\u001b[0m\u001b[0;34m,\u001b[0m\u001b[0;34m\u001b[0m\u001b[0;34m\u001b[0m\u001b[0m\n",
            "\u001b[0;32m/usr/local/lib/python3.10/dist-packages/tensorflow/python/eager/context.py\u001b[0m in \u001b[0;36mcall_function\u001b[0;34m(self, name, tensor_inputs, num_outputs)\u001b[0m\n\u001b[1;32m   1477\u001b[0m     \u001b[0mcancellation_context\u001b[0m \u001b[0;34m=\u001b[0m \u001b[0mcancellation\u001b[0m\u001b[0;34m.\u001b[0m\u001b[0mcontext\u001b[0m\u001b[0;34m(\u001b[0m\u001b[0;34m)\u001b[0m\u001b[0;34m\u001b[0m\u001b[0;34m\u001b[0m\u001b[0m\n\u001b[1;32m   1478\u001b[0m     \u001b[0;32mif\u001b[0m \u001b[0mcancellation_context\u001b[0m \u001b[0;32mis\u001b[0m \u001b[0;32mNone\u001b[0m\u001b[0;34m:\u001b[0m\u001b[0;34m\u001b[0m\u001b[0;34m\u001b[0m\u001b[0m\n\u001b[0;32m-> 1479\u001b[0;31m       outputs = execute.execute(\n\u001b[0m\u001b[1;32m   1480\u001b[0m           \u001b[0mname\u001b[0m\u001b[0;34m.\u001b[0m\u001b[0mdecode\u001b[0m\u001b[0;34m(\u001b[0m\u001b[0;34m\"utf-8\"\u001b[0m\u001b[0;34m)\u001b[0m\u001b[0;34m,\u001b[0m\u001b[0;34m\u001b[0m\u001b[0;34m\u001b[0m\u001b[0m\n\u001b[1;32m   1481\u001b[0m           \u001b[0mnum_outputs\u001b[0m\u001b[0;34m=\u001b[0m\u001b[0mnum_outputs\u001b[0m\u001b[0;34m,\u001b[0m\u001b[0;34m\u001b[0m\u001b[0;34m\u001b[0m\u001b[0m\n",
            "\u001b[0;32m/usr/local/lib/python3.10/dist-packages/tensorflow/python/eager/execute.py\u001b[0m in \u001b[0;36mquick_execute\u001b[0;34m(op_name, num_outputs, inputs, attrs, ctx, name)\u001b[0m\n\u001b[1;32m     58\u001b[0m         \u001b[0;32mfor\u001b[0m \u001b[0mt\u001b[0m \u001b[0;32min\u001b[0m \u001b[0minputs\u001b[0m\u001b[0;34m\u001b[0m\u001b[0;34m\u001b[0m\u001b[0m\n\u001b[1;32m     59\u001b[0m     ]\n\u001b[0;32m---> 60\u001b[0;31m     tensors = pywrap_tfe.TFE_Py_Execute(ctx._handle, device_name, op_name,\n\u001b[0m\u001b[1;32m     61\u001b[0m                                         inputs, attrs, num_outputs)\n\u001b[1;32m     62\u001b[0m   \u001b[0;32mexcept\u001b[0m \u001b[0mcore\u001b[0m\u001b[0;34m.\u001b[0m\u001b[0m_NotOkStatusException\u001b[0m \u001b[0;32mas\u001b[0m \u001b[0me\u001b[0m\u001b[0;34m:\u001b[0m\u001b[0;34m\u001b[0m\u001b[0;34m\u001b[0m\u001b[0m\n",
            "\u001b[0;31mKeyboardInterrupt\u001b[0m: "
          ]
        }
      ]
    },
    {
      "cell_type": "code",
      "source": [
        "y_pred = model_sc.predict(X_test)\n",
        "y_pred_binary = (y_pred > 0.5).astype(int)\n",
        "accuracy = accuracy_score(y_test, y_pred_binary)\n"
      ],
      "metadata": {
        "colab": {
          "base_uri": "https://localhost:8080/"
        },
        "id": "kOd69Lh3EEdF",
        "outputId": "d84fb79e-d8d8-4ff9-9d38-d56618f76472"
      },
      "execution_count": null,
      "outputs": [
        {
          "output_type": "stream",
          "name": "stdout",
          "text": [
            "65625/65625 [==============================] - 110s 2ms/step\n"
          ]
        }
      ]
    },
    {
      "cell_type": "code",
      "source": [
        "accuracy"
      ],
      "metadata": {
        "colab": {
          "base_uri": "https://localhost:8080/"
        },
        "id": "OjlSNUaoVTUS",
        "outputId": "e476dd6a-00e9-41dc-a043-271d3794a737"
      },
      "execution_count": null,
      "outputs": [
        {
          "output_type": "execute_result",
          "data": {
            "text/plain": [
              "0.8679138095238095"
            ]
          },
          "metadata": {},
          "execution_count": 13
        }
      ]
    },
    {
      "cell_type": "markdown",
      "source": [
        "# Bigger Batch_size of 1000"
      ],
      "metadata": {
        "id": "aXg_por7EHE-"
      }
    },
    {
      "cell_type": "code",
      "source": [
        "model_sc_moreLayers=tf.keras.Sequential()\n",
        "model_sc_moreLayers.add(layers.Dense(100,activation='relu'))\n",
        "model_sc_moreLayers.add(layers.Dense(50,activation='relu'))\n",
        "model_sc_moreLayers.add(layers.Dropout(.3))\n",
        "model_sc_moreLayers.add(layers.Dense(30,activation='relu'))\n",
        "model_sc_moreLayers.add(layers.Dense(1,activation='sigmoid'))\n",
        "\n",
        "model_sc_moreLayers.compile(optimizer=tf.keras.optimizers.Adam(),\n",
        "                loss=tf.keras.losses.binary_crossentropy,\n",
        "                 metrics=['accuracy'])\n",
        "\n",
        "model_sc_moreLayers.fit(X_train, y_train, epochs=25, batch_size=1000, verbose=2)"
      ],
      "metadata": {
        "id": "ywBlhR9REFLL",
        "colab": {
          "base_uri": "https://localhost:8080/"
        },
        "outputId": "007b7ec3-af7c-47eb-8b5f-2b3c872365cf"
      },
      "execution_count": 7,
      "outputs": [
        {
          "output_type": "stream",
          "name": "stdout",
          "text": [
            "Epoch 1/25\n",
            "4900/4900 - 22s - loss: 0.2953 - accuracy: 0.8639 - 22s/epoch - 5ms/step\n",
            "Epoch 2/25\n",
            "4900/4900 - 16s - loss: 0.2782 - accuracy: 0.8735 - 16s/epoch - 3ms/step\n",
            "Epoch 3/25\n",
            "4900/4900 - 14s - loss: 0.2734 - accuracy: 0.8762 - 14s/epoch - 3ms/step\n",
            "Epoch 4/25\n",
            "4900/4900 - 15s - loss: 0.2710 - accuracy: 0.8775 - 15s/epoch - 3ms/step\n",
            "Epoch 5/25\n",
            "4900/4900 - 14s - loss: 0.2694 - accuracy: 0.8785 - 14s/epoch - 3ms/step\n",
            "Epoch 6/25\n",
            "4900/4900 - 14s - loss: 0.2684 - accuracy: 0.8789 - 14s/epoch - 3ms/step\n",
            "Epoch 7/25\n",
            "4900/4900 - 14s - loss: 0.2678 - accuracy: 0.8793 - 14s/epoch - 3ms/step\n",
            "Epoch 8/25\n",
            "4900/4900 - 14s - loss: 0.2672 - accuracy: 0.8796 - 14s/epoch - 3ms/step\n",
            "Epoch 9/25\n",
            "4900/4900 - 14s - loss: 0.2667 - accuracy: 0.8798 - 14s/epoch - 3ms/step\n",
            "Epoch 10/25\n",
            "4900/4900 - 15s - loss: 0.2664 - accuracy: 0.8799 - 15s/epoch - 3ms/step\n",
            "Epoch 11/25\n",
            "4900/4900 - 14s - loss: 0.2661 - accuracy: 0.8802 - 14s/epoch - 3ms/step\n",
            "Epoch 12/25\n",
            "4900/4900 - 14s - loss: 0.2659 - accuracy: 0.8802 - 14s/epoch - 3ms/step\n",
            "Epoch 13/25\n",
            "4900/4900 - 14s - loss: 0.2656 - accuracy: 0.8803 - 14s/epoch - 3ms/step\n",
            "Epoch 14/25\n",
            "4900/4900 - 14s - loss: 0.2654 - accuracy: 0.8805 - 14s/epoch - 3ms/step\n",
            "Epoch 15/25\n",
            "4900/4900 - 14s - loss: 0.2652 - accuracy: 0.8806 - 14s/epoch - 3ms/step\n",
            "Epoch 16/25\n",
            "4900/4900 - 16s - loss: 0.2649 - accuracy: 0.8807 - 16s/epoch - 3ms/step\n",
            "Epoch 17/25\n",
            "4900/4900 - 14s - loss: 0.2648 - accuracy: 0.8808 - 14s/epoch - 3ms/step\n",
            "Epoch 18/25\n",
            "4900/4900 - 14s - loss: 0.2646 - accuracy: 0.8809 - 14s/epoch - 3ms/step\n",
            "Epoch 19/25\n",
            "4900/4900 - 14s - loss: 0.2645 - accuracy: 0.8810 - 14s/epoch - 3ms/step\n",
            "Epoch 20/25\n",
            "4900/4900 - 14s - loss: 0.2644 - accuracy: 0.8810 - 14s/epoch - 3ms/step\n",
            "Epoch 21/25\n",
            "4900/4900 - 14s - loss: 0.2642 - accuracy: 0.8811 - 14s/epoch - 3ms/step\n",
            "Epoch 22/25\n",
            "4900/4900 - 14s - loss: 0.2641 - accuracy: 0.8812 - 14s/epoch - 3ms/step\n",
            "Epoch 23/25\n",
            "4900/4900 - 14s - loss: 0.2640 - accuracy: 0.8812 - 14s/epoch - 3ms/step\n",
            "Epoch 24/25\n",
            "4900/4900 - 14s - loss: 0.2639 - accuracy: 0.8813 - 14s/epoch - 3ms/step\n",
            "Epoch 25/25\n",
            "4900/4900 - 14s - loss: 0.2638 - accuracy: 0.8814 - 14s/epoch - 3ms/step\n"
          ]
        },
        {
          "output_type": "execute_result",
          "data": {
            "text/plain": [
              "<keras.src.callbacks.History at 0x7fec33523bb0>"
            ]
          },
          "metadata": {},
          "execution_count": 7
        }
      ]
    },
    {
      "cell_type": "code",
      "source": [
        "y_pred = model_sc_moreLayers.predict(X_test)\n",
        "y_pred_binary = (y_pred > 0.5).astype(int)\n",
        "accuracy = accuracy_score(y_test, y_pred_binary)\n"
      ],
      "metadata": {
        "colab": {
          "base_uri": "https://localhost:8080/"
        },
        "id": "RdWt8U8AYtl2",
        "outputId": "686e34f6-f5bf-40b7-e1f9-aa5d18a7de2c"
      },
      "execution_count": 8,
      "outputs": [
        {
          "output_type": "stream",
          "name": "stdout",
          "text": [
            "65625/65625 [==============================] - 118s 2ms/step\n"
          ]
        }
      ]
    },
    {
      "cell_type": "code",
      "source": [
        "accuracy"
      ],
      "metadata": {
        "colab": {
          "base_uri": "https://localhost:8080/"
        },
        "id": "Bc9lDpHbZlSb",
        "outputId": "d9a68732-9c9f-41b1-8855-eb7090f9fa05"
      },
      "execution_count": 9,
      "outputs": [
        {
          "output_type": "execute_result",
          "data": {
            "text/plain": [
              "0.8800957142857143"
            ]
          },
          "metadata": {},
          "execution_count": 9
        }
      ]
    },
    {
      "cell_type": "code",
      "source": [],
      "metadata": {
        "id": "GeCWPHSwZnWF"
      },
      "execution_count": null,
      "outputs": []
    },
    {
      "cell_type": "code",
      "source": [
        "model_sc_changeNumLayers=tf.keras.Sequential()\n",
        "model_sc_changeNumLayers.add(layers.Dense(100,activation='relu'))\n",
        "model_sc_changeNumLayers.add(layers.Dense(20,activation='relu'))\n",
        "model_sc_changeNumLayers.add(layers.Dropout(.3))\n",
        "model_sc_changeNumLayers.add(layers.Dense(80,activation='relu'))\n",
        "model_sc_changeNumLayers.add(layers.Dense(1,activation='sigmoid'))\n",
        "\n",
        "model_sc_changeNumLayers.compile(optimizer=tf.keras.optimizers.Adam(),\n",
        "                loss=tf.keras.losses.binary_crossentropy,\n",
        "                 metrics=['accuracy'])\n",
        "\n",
        "model_sc_changeNumLayers.fit(X_train, y_train, epochs=25, batch_size=1000, verbose=2)"
      ],
      "metadata": {
        "colab": {
          "base_uri": "https://localhost:8080/"
        },
        "id": "Hw1mnPyOYrb3",
        "outputId": "c99edb75-bd41-415d-d0cf-a84dfa98b5bb"
      },
      "execution_count": 14,
      "outputs": [
        {
          "output_type": "stream",
          "name": "stdout",
          "text": [
            "Epoch 1/25\n",
            "4900/4900 - 17s - loss: 0.2983 - accuracy: 0.8618 - 17s/epoch - 3ms/step\n",
            "Epoch 2/25\n",
            "4900/4900 - 15s - loss: 0.2807 - accuracy: 0.8715 - 15s/epoch - 3ms/step\n",
            "Epoch 3/25\n",
            "4900/4900 - 14s - loss: 0.2762 - accuracy: 0.8741 - 14s/epoch - 3ms/step\n",
            "Epoch 4/25\n",
            "4900/4900 - 14s - loss: 0.2738 - accuracy: 0.8755 - 14s/epoch - 3ms/step\n",
            "Epoch 5/25\n",
            "4900/4900 - 14s - loss: 0.2722 - accuracy: 0.8765 - 14s/epoch - 3ms/step\n",
            "Epoch 6/25\n",
            "4900/4900 - 14s - loss: 0.2712 - accuracy: 0.8770 - 14s/epoch - 3ms/step\n",
            "Epoch 7/25\n",
            "4900/4900 - 14s - loss: 0.2703 - accuracy: 0.8775 - 14s/epoch - 3ms/step\n",
            "Epoch 8/25\n",
            "4900/4900 - 14s - loss: 0.2696 - accuracy: 0.8779 - 14s/epoch - 3ms/step\n",
            "Epoch 9/25\n",
            "4900/4900 - 15s - loss: 0.2691 - accuracy: 0.8781 - 15s/epoch - 3ms/step\n",
            "Epoch 10/25\n",
            "4900/4900 - 15s - loss: 0.2686 - accuracy: 0.8783 - 15s/epoch - 3ms/step\n",
            "Epoch 11/25\n",
            "4900/4900 - 14s - loss: 0.2682 - accuracy: 0.8786 - 14s/epoch - 3ms/step\n",
            "Epoch 12/25\n",
            "4900/4900 - 14s - loss: 0.2679 - accuracy: 0.8788 - 14s/epoch - 3ms/step\n",
            "Epoch 13/25\n",
            "4900/4900 - 14s - loss: 0.2676 - accuracy: 0.8790 - 14s/epoch - 3ms/step\n",
            "Epoch 14/25\n",
            "4900/4900 - 14s - loss: 0.2674 - accuracy: 0.8790 - 14s/epoch - 3ms/step\n",
            "Epoch 15/25\n",
            "4900/4900 - 14s - loss: 0.2671 - accuracy: 0.8792 - 14s/epoch - 3ms/step\n",
            "Epoch 16/25\n",
            "4900/4900 - 14s - loss: 0.2668 - accuracy: 0.8794 - 14s/epoch - 3ms/step\n",
            "Epoch 17/25\n",
            "4900/4900 - 14s - loss: 0.2667 - accuracy: 0.8794 - 14s/epoch - 3ms/step\n",
            "Epoch 18/25\n",
            "4900/4900 - 15s - loss: 0.2664 - accuracy: 0.8796 - 15s/epoch - 3ms/step\n",
            "Epoch 19/25\n",
            "4900/4900 - 14s - loss: 0.2663 - accuracy: 0.8797 - 14s/epoch - 3ms/step\n",
            "Epoch 20/25\n",
            "4900/4900 - 14s - loss: 0.2661 - accuracy: 0.8798 - 14s/epoch - 3ms/step\n",
            "Epoch 21/25\n",
            "4900/4900 - 15s - loss: 0.2660 - accuracy: 0.8799 - 15s/epoch - 3ms/step\n",
            "Epoch 22/25\n",
            "4900/4900 - 14s - loss: 0.2658 - accuracy: 0.8799 - 14s/epoch - 3ms/step\n",
            "Epoch 23/25\n",
            "4900/4900 - 14s - loss: 0.2657 - accuracy: 0.8800 - 14s/epoch - 3ms/step\n",
            "Epoch 24/25\n",
            "4900/4900 - 14s - loss: 0.2655 - accuracy: 0.8801 - 14s/epoch - 3ms/step\n",
            "Epoch 25/25\n",
            "4900/4900 - 14s - loss: 0.2655 - accuracy: 0.8801 - 14s/epoch - 3ms/step\n"
          ]
        },
        {
          "output_type": "execute_result",
          "data": {
            "text/plain": [
              "<keras.src.callbacks.History at 0x7febd8158190>"
            ]
          },
          "metadata": {},
          "execution_count": 14
        }
      ]
    },
    {
      "cell_type": "code",
      "source": [
        "y_pred = model_sc_changeNumLayers.predict(X_test)\n",
        "y_pred_binary = (y_pred > 0.5).astype(int)\n",
        "accuracy = accuracy_score(y_test, y_pred_binary)\n",
        "accuracy"
      ],
      "metadata": {
        "colab": {
          "base_uri": "https://localhost:8080/"
        },
        "id": "r4O7YbGpbg_P",
        "outputId": "25c7dd87-3ad8-4675-e7da-cf2b4f690580"
      },
      "execution_count": 15,
      "outputs": [
        {
          "output_type": "stream",
          "name": "stdout",
          "text": [
            "65625/65625 [==============================] - 118s 2ms/step\n"
          ]
        },
        {
          "output_type": "execute_result",
          "data": {
            "text/plain": [
              "0.8714128571428571"
            ]
          },
          "metadata": {},
          "execution_count": 15
        }
      ]
    }
  ]
}